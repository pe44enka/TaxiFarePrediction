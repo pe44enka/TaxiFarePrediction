{
  "nbformat": 4,
  "nbformat_minor": 0,
  "metadata": {
    "colab": {
      "provenance": [],
      "authorship_tag": "ABX9TyPi+vLlXT3D0yf5cTzge4nG",
      "include_colab_link": true
    },
    "kernelspec": {
      "name": "python3",
      "display_name": "Python 3"
    },
    "language_info": {
      "name": "python"
    }
  },
  "cells": [
    {
      "cell_type": "markdown",
      "metadata": {
        "id": "view-in-github",
        "colab_type": "text"
      },
      "source": [
        "<a href=\"https://colab.research.google.com/github/pe44enka/TaxiFarePrediction/blob/master/TaxiFarePrediction.ipynb\" target=\"_parent\"><img src=\"https://colab.research.google.com/assets/colab-badge.svg\" alt=\"Open In Colab\"/></a>"
      ]
    },
    {
      "cell_type": "markdown",
      "source": [
        "# **NYC Taxi Fare Prediction**"
      ],
      "metadata": {
        "id": "pNVnG0mL7Wa9"
      }
    },
    {
      "cell_type": "markdown",
      "source": [
        "![](https://static.vecteezy.com/system/resources/previews/000/118/272/original/free-new-york-taxi-watercolor-vector.jpg)"
      ],
      "metadata": {
        "id": "OxAUeX_a7r-3"
      }
    },
    {
      "cell_type": "markdown",
      "source": [
        "\n",
        "### **Objectives**\n",
        "\n",
        "Imagine you are in Big Apple. New to town and have no clue how to get from Central park to Empire State Building. After some useless attemps and short fair buttle you finally got your cab. But hey! How much is it gonna cost you in this crazy city?\n",
        "\n",
        "\n",
        "---\n",
        "\n",
        "### **Goal of the project**\n",
        "To predict the fare amount for a taxi ride in New York City given the pickup and dropoff locations.\n",
        "\n",
        "### **Data**\n",
        "[New York City Taxi Fare Prediction](https://www.kaggle.com/competitions/new-york-city-taxi-fare-prediction) dataset available at Kaggle as part of competition.\n",
        "\n",
        "The dataset contains the following fields:\n",
        "\n",
        "Field name | Description\n",
        "--- |--- \n",
        "*key* | identifier for each trip\n",
        "*fare_amount* | the cost of each trip in usd\n",
        "*pickup_datetime* | date and time when the meter was engaged\n",
        "*passenger_count* | the number of passengers in the vehicle (driver entered value)\n",
        "*pickup_longitude* | the longitude where the meter was engaged\n",
        "*pickup_latitude* | the latitude where the meter was engaged\n",
        "*dropoff_longitude* | the longitude where the meter was disengaged\n",
        "*dropoff_latitude* | the latitude where the meter was disengaged\n",
        "\n",
        "### **Techniques**\n",
        "In this project we will use:\n",
        "* **Data preprocessing**: SelectFromModel, SimpleImputer, OneHotEncoder, StandardScaler, ColumnTransformer, pandas.get_dummies\n",
        "* **ML algorihms**: LinearRegression, DecisionTreeRegressor RandomForestRegressor, GradientBoostingRegressor, XGBRegressor \n",
        "* **Hyperparameter turning:** GridSearchCV\n",
        "* **Model training/applying:** Pipeline, tran_test_split\n",
        "\n",
        "\n",
        "---"
      ],
      "metadata": {
        "id": "1rE9XKT17sbg"
      }
    },
    {
      "cell_type": "markdown",
      "source": [
        "# Load Libraries"
      ],
      "metadata": {
        "id": "VeRmScxxAG_R"
      }
    },
    {
      "cell_type": "code",
      "execution_count": 1,
      "metadata": {
        "id": "fz-pcQmN5M1j"
      },
      "outputs": [],
      "source": [
        "import pandas as pd\n",
        "import numpy as np\n",
        "import matplotlib.pyplot as plt\n",
        "import seaborn as sns\n",
        "import datetime as dt\n",
        "from geopy.distance import great_circle"
      ]
    },
    {
      "cell_type": "markdown",
      "source": [
        "# Load Data"
      ],
      "metadata": {
        "id": "HYYpLxwMASlo"
      }
    },
    {
      "cell_type": "code",
      "source": [
        "raw_df = pd.read_csv('https://raw.githubusercontent.com/pe44enka/TaxiFarePrediction/master/data/train.csv')\n",
        "print('raw_df.shape: ', raw_df.shape)\n",
        "raw_df.head()"
      ],
      "metadata": {
        "colab": {
          "base_uri": "https://localhost:8080/",
          "height": 224
        },
        "id": "yILVRhLh6fKB",
        "outputId": "fa5bbbe1-4202-4719-8a58-fc7aa701b6eb"
      },
      "execution_count": 56,
      "outputs": [
        {
          "output_type": "stream",
          "name": "stdout",
          "text": [
            "raw_df.shape:  (1048575, 8)\n"
          ]
        },
        {
          "output_type": "execute_result",
          "data": {
            "text/plain": [
              "       key  fare_amount          pickup_datetime  pickup_longitude  \\\n",
              "0  26:21.0          4.5  2009-06-15 17:26:21 UTC        -73.844311   \n",
              "1  52:16.0         16.9  2010-01-05 16:52:16 UTC        -74.016048   \n",
              "2  35:00.0          5.7  2011-08-18 00:35:00 UTC        -73.982738   \n",
              "3  30:42.0          7.7  2012-04-21 04:30:42 UTC        -73.987130   \n",
              "4  51:00.0          5.3  2010-03-09 07:51:00 UTC        -73.968095   \n",
              "\n",
              "   pickup_latitude  dropoff_longitude  dropoff_latitude  passenger_count  \n",
              "0        40.721319         -73.841610         40.712278                1  \n",
              "1        40.711303         -73.979268         40.782004                1  \n",
              "2        40.761270         -73.991242         40.750562                2  \n",
              "3        40.733143         -73.991567         40.758092                1  \n",
              "4        40.768008         -73.956655         40.783762                1  "
            ],
            "text/html": [
              "\n",
              "  <div id=\"df-5b6268fa-ec9f-4867-85c7-ce7ba5faab9d\">\n",
              "    <div class=\"colab-df-container\">\n",
              "      <div>\n",
              "<style scoped>\n",
              "    .dataframe tbody tr th:only-of-type {\n",
              "        vertical-align: middle;\n",
              "    }\n",
              "\n",
              "    .dataframe tbody tr th {\n",
              "        vertical-align: top;\n",
              "    }\n",
              "\n",
              "    .dataframe thead th {\n",
              "        text-align: right;\n",
              "    }\n",
              "</style>\n",
              "<table border=\"1\" class=\"dataframe\">\n",
              "  <thead>\n",
              "    <tr style=\"text-align: right;\">\n",
              "      <th></th>\n",
              "      <th>key</th>\n",
              "      <th>fare_amount</th>\n",
              "      <th>pickup_datetime</th>\n",
              "      <th>pickup_longitude</th>\n",
              "      <th>pickup_latitude</th>\n",
              "      <th>dropoff_longitude</th>\n",
              "      <th>dropoff_latitude</th>\n",
              "      <th>passenger_count</th>\n",
              "    </tr>\n",
              "  </thead>\n",
              "  <tbody>\n",
              "    <tr>\n",
              "      <th>0</th>\n",
              "      <td>26:21.0</td>\n",
              "      <td>4.5</td>\n",
              "      <td>2009-06-15 17:26:21 UTC</td>\n",
              "      <td>-73.844311</td>\n",
              "      <td>40.721319</td>\n",
              "      <td>-73.841610</td>\n",
              "      <td>40.712278</td>\n",
              "      <td>1</td>\n",
              "    </tr>\n",
              "    <tr>\n",
              "      <th>1</th>\n",
              "      <td>52:16.0</td>\n",
              "      <td>16.9</td>\n",
              "      <td>2010-01-05 16:52:16 UTC</td>\n",
              "      <td>-74.016048</td>\n",
              "      <td>40.711303</td>\n",
              "      <td>-73.979268</td>\n",
              "      <td>40.782004</td>\n",
              "      <td>1</td>\n",
              "    </tr>\n",
              "    <tr>\n",
              "      <th>2</th>\n",
              "      <td>35:00.0</td>\n",
              "      <td>5.7</td>\n",
              "      <td>2011-08-18 00:35:00 UTC</td>\n",
              "      <td>-73.982738</td>\n",
              "      <td>40.761270</td>\n",
              "      <td>-73.991242</td>\n",
              "      <td>40.750562</td>\n",
              "      <td>2</td>\n",
              "    </tr>\n",
              "    <tr>\n",
              "      <th>3</th>\n",
              "      <td>30:42.0</td>\n",
              "      <td>7.7</td>\n",
              "      <td>2012-04-21 04:30:42 UTC</td>\n",
              "      <td>-73.987130</td>\n",
              "      <td>40.733143</td>\n",
              "      <td>-73.991567</td>\n",
              "      <td>40.758092</td>\n",
              "      <td>1</td>\n",
              "    </tr>\n",
              "    <tr>\n",
              "      <th>4</th>\n",
              "      <td>51:00.0</td>\n",
              "      <td>5.3</td>\n",
              "      <td>2010-03-09 07:51:00 UTC</td>\n",
              "      <td>-73.968095</td>\n",
              "      <td>40.768008</td>\n",
              "      <td>-73.956655</td>\n",
              "      <td>40.783762</td>\n",
              "      <td>1</td>\n",
              "    </tr>\n",
              "  </tbody>\n",
              "</table>\n",
              "</div>\n",
              "      <button class=\"colab-df-convert\" onclick=\"convertToInteractive('df-5b6268fa-ec9f-4867-85c7-ce7ba5faab9d')\"\n",
              "              title=\"Convert this dataframe to an interactive table.\"\n",
              "              style=\"display:none;\">\n",
              "        \n",
              "  <svg xmlns=\"http://www.w3.org/2000/svg\" height=\"24px\"viewBox=\"0 0 24 24\"\n",
              "       width=\"24px\">\n",
              "    <path d=\"M0 0h24v24H0V0z\" fill=\"none\"/>\n",
              "    <path d=\"M18.56 5.44l.94 2.06.94-2.06 2.06-.94-2.06-.94-.94-2.06-.94 2.06-2.06.94zm-11 1L8.5 8.5l.94-2.06 2.06-.94-2.06-.94L8.5 2.5l-.94 2.06-2.06.94zm10 10l.94 2.06.94-2.06 2.06-.94-2.06-.94-.94-2.06-.94 2.06-2.06.94z\"/><path d=\"M17.41 7.96l-1.37-1.37c-.4-.4-.92-.59-1.43-.59-.52 0-1.04.2-1.43.59L10.3 9.45l-7.72 7.72c-.78.78-.78 2.05 0 2.83L4 21.41c.39.39.9.59 1.41.59.51 0 1.02-.2 1.41-.59l7.78-7.78 2.81-2.81c.8-.78.8-2.07 0-2.86zM5.41 20L4 18.59l7.72-7.72 1.47 1.35L5.41 20z\"/>\n",
              "  </svg>\n",
              "      </button>\n",
              "      \n",
              "  <style>\n",
              "    .colab-df-container {\n",
              "      display:flex;\n",
              "      flex-wrap:wrap;\n",
              "      gap: 12px;\n",
              "    }\n",
              "\n",
              "    .colab-df-convert {\n",
              "      background-color: #E8F0FE;\n",
              "      border: none;\n",
              "      border-radius: 50%;\n",
              "      cursor: pointer;\n",
              "      display: none;\n",
              "      fill: #1967D2;\n",
              "      height: 32px;\n",
              "      padding: 0 0 0 0;\n",
              "      width: 32px;\n",
              "    }\n",
              "\n",
              "    .colab-df-convert:hover {\n",
              "      background-color: #E2EBFA;\n",
              "      box-shadow: 0px 1px 2px rgba(60, 64, 67, 0.3), 0px 1px 3px 1px rgba(60, 64, 67, 0.15);\n",
              "      fill: #174EA6;\n",
              "    }\n",
              "\n",
              "    [theme=dark] .colab-df-convert {\n",
              "      background-color: #3B4455;\n",
              "      fill: #D2E3FC;\n",
              "    }\n",
              "\n",
              "    [theme=dark] .colab-df-convert:hover {\n",
              "      background-color: #434B5C;\n",
              "      box-shadow: 0px 1px 3px 1px rgba(0, 0, 0, 0.15);\n",
              "      filter: drop-shadow(0px 1px 2px rgba(0, 0, 0, 0.3));\n",
              "      fill: #FFFFFF;\n",
              "    }\n",
              "  </style>\n",
              "\n",
              "      <script>\n",
              "        const buttonEl =\n",
              "          document.querySelector('#df-5b6268fa-ec9f-4867-85c7-ce7ba5faab9d button.colab-df-convert');\n",
              "        buttonEl.style.display =\n",
              "          google.colab.kernel.accessAllowed ? 'block' : 'none';\n",
              "\n",
              "        async function convertToInteractive(key) {\n",
              "          const element = document.querySelector('#df-5b6268fa-ec9f-4867-85c7-ce7ba5faab9d');\n",
              "          const dataTable =\n",
              "            await google.colab.kernel.invokeFunction('convertToInteractive',\n",
              "                                                     [key], {});\n",
              "          if (!dataTable) return;\n",
              "\n",
              "          const docLinkHtml = 'Like what you see? Visit the ' +\n",
              "            '<a target=\"_blank\" href=https://colab.research.google.com/notebooks/data_table.ipynb>data table notebook</a>'\n",
              "            + ' to learn more about interactive tables.';\n",
              "          element.innerHTML = '';\n",
              "          dataTable['output_type'] = 'display_data';\n",
              "          await google.colab.output.renderOutput(dataTable, element);\n",
              "          const docLink = document.createElement('div');\n",
              "          docLink.innerHTML = docLinkHtml;\n",
              "          element.appendChild(docLink);\n",
              "        }\n",
              "      </script>\n",
              "    </div>\n",
              "  </div>\n",
              "  "
            ]
          },
          "metadata": {},
          "execution_count": 56
        }
      ]
    },
    {
      "cell_type": "markdown",
      "source": [
        "# Data Cleaning"
      ],
      "metadata": {
        "id": "KAx1tM_vHCHP"
      }
    },
    {
      "cell_type": "markdown",
      "source": [
        "## Overview"
      ],
      "metadata": {
        "id": "AfNSUsumZ2bV"
      }
    },
    {
      "cell_type": "markdown",
      "source": [
        "\n",
        "Before playing with ML models and trying to predict anything let's get ourselves familiar with data we have.\n",
        "\n",
        "---\n",
        "\n"
      ],
      "metadata": {
        "id": "hIefYX52IFZI"
      }
    },
    {
      "cell_type": "code",
      "source": [
        "raw_df.info()"
      ],
      "metadata": {
        "colab": {
          "base_uri": "https://localhost:8080/"
        },
        "id": "3qEC0_3hC0UI",
        "outputId": "93698644-352a-4165-a634-ecd71efa3cfe"
      },
      "execution_count": 3,
      "outputs": [
        {
          "output_type": "stream",
          "name": "stdout",
          "text": [
            "<class 'pandas.core.frame.DataFrame'>\n",
            "RangeIndex: 1048575 entries, 0 to 1048574\n",
            "Data columns (total 8 columns):\n",
            " #   Column             Non-Null Count    Dtype  \n",
            "---  ------             --------------    -----  \n",
            " 0   key                1048575 non-null  object \n",
            " 1   fare_amount        1048575 non-null  float64\n",
            " 2   pickup_datetime    1048575 non-null  object \n",
            " 3   pickup_longitude   1048575 non-null  float64\n",
            " 4   pickup_latitude    1048575 non-null  float64\n",
            " 5   dropoff_longitude  1048565 non-null  float64\n",
            " 6   dropoff_latitude   1048565 non-null  float64\n",
            " 7   passenger_count    1048575 non-null  int64  \n",
            "dtypes: float64(5), int64(1), object(2)\n",
            "memory usage: 64.0+ MB\n"
          ]
        }
      ]
    },
    {
      "cell_type": "markdown",
      "source": [
        "\n",
        "---\n",
        "\n",
        "**Notes:** there are mixed categorical and numerical features as well as missing values in the data\n",
        "\n",
        "**Conclusion:** need to get rid of missing values and to deal with categorical data\n",
        "\n",
        "---\n",
        "\n"
      ],
      "metadata": {
        "id": "UJ27-b6oInhB"
      }
    },
    {
      "cell_type": "markdown",
      "source": [
        "## Missing Values"
      ],
      "metadata": {
        "id": "lLjSTe8MI46u"
      }
    },
    {
      "cell_type": "markdown",
      "source": [
        "Let's have a look on features with missing values.\n",
        "\n",
        "---"
      ],
      "metadata": {
        "id": "pJoG-BIHI9QD"
      }
    },
    {
      "cell_type": "code",
      "source": [
        "raw_df[raw_df.columns[raw_df.isnull().sum().values>0]].isna().sum()"
      ],
      "metadata": {
        "colab": {
          "base_uri": "https://localhost:8080/"
        },
        "id": "aR-tBIg8I4Y0",
        "outputId": "cf351b2b-bae9-4555-c343-3e352aa85ef4"
      },
      "execution_count": 4,
      "outputs": [
        {
          "output_type": "execute_result",
          "data": {
            "text/plain": [
              "dropoff_longitude    10\n",
              "dropoff_latitude     10\n",
              "dtype: int64"
            ]
          },
          "metadata": {},
          "execution_count": 4
        }
      ]
    },
    {
      "cell_type": "markdown",
      "source": [
        "\n",
        "\n",
        "---\n",
        "\n",
        "As we can see ```dropoff_longitude``` and ```dropoff_latitude``` have missing values.\n",
        "As long as it's unavailable to fill these gaps with any known values and amount of missing values is not high in comparison with all entities in the data (<0.001%), I will just skip these entities with dropping the whole row. \n",
        "\n",
        "\n",
        "---\n",
        "\n"
      ],
      "metadata": {
        "id": "x1vQtooGJ7Ot"
      }
    },
    {
      "cell_type": "code",
      "source": [
        "df = raw_df.dropna(axis=0) #drop rows with NaN\n",
        "df.reset_index(drop=True, inplace=True) #reset index after dropping rows\n",
        "df.isnull().sum()"
      ],
      "metadata": {
        "colab": {
          "base_uri": "https://localhost:8080/"
        },
        "id": "r5egQ1_6Ag8k",
        "outputId": "40911ec0-3956-4707-d461-b4bd4736fcae"
      },
      "execution_count": 5,
      "outputs": [
        {
          "output_type": "execute_result",
          "data": {
            "text/plain": [
              "key                  0\n",
              "fare_amount          0\n",
              "pickup_datetime      0\n",
              "pickup_longitude     0\n",
              "pickup_latitude      0\n",
              "dropoff_longitude    0\n",
              "dropoff_latitude     0\n",
              "passenger_count      0\n",
              "dtype: int64"
            ]
          },
          "metadata": {},
          "execution_count": 5
        }
      ]
    },
    {
      "cell_type": "code",
      "source": [
        "print('df.shape: ', df.shape)\n",
        "df.head()"
      ],
      "metadata": {
        "colab": {
          "base_uri": "https://localhost:8080/",
          "height": 224
        },
        "id": "BUtydjHVNkO0",
        "outputId": "a52a8427-10f0-43d8-a4c7-44afd822c20c"
      },
      "execution_count": 6,
      "outputs": [
        {
          "output_type": "stream",
          "name": "stdout",
          "text": [
            "df.shape:  (1048565, 8)\n"
          ]
        },
        {
          "output_type": "execute_result",
          "data": {
            "text/plain": [
              "       key  fare_amount          pickup_datetime  pickup_longitude  \\\n",
              "0  26:21.0          4.5  2009-06-15 17:26:21 UTC        -73.844311   \n",
              "1  52:16.0         16.9  2010-01-05 16:52:16 UTC        -74.016048   \n",
              "2  35:00.0          5.7  2011-08-18 00:35:00 UTC        -73.982738   \n",
              "3  30:42.0          7.7  2012-04-21 04:30:42 UTC        -73.987130   \n",
              "4  51:00.0          5.3  2010-03-09 07:51:00 UTC        -73.968095   \n",
              "\n",
              "   pickup_latitude  dropoff_longitude  dropoff_latitude  passenger_count  \n",
              "0        40.721319         -73.841610         40.712278                1  \n",
              "1        40.711303         -73.979268         40.782004                1  \n",
              "2        40.761270         -73.991242         40.750562                2  \n",
              "3        40.733143         -73.991567         40.758092                1  \n",
              "4        40.768008         -73.956655         40.783762                1  "
            ],
            "text/html": [
              "\n",
              "  <div id=\"df-82e7423f-c6b5-48fe-a7af-2b59dcb6b15a\">\n",
              "    <div class=\"colab-df-container\">\n",
              "      <div>\n",
              "<style scoped>\n",
              "    .dataframe tbody tr th:only-of-type {\n",
              "        vertical-align: middle;\n",
              "    }\n",
              "\n",
              "    .dataframe tbody tr th {\n",
              "        vertical-align: top;\n",
              "    }\n",
              "\n",
              "    .dataframe thead th {\n",
              "        text-align: right;\n",
              "    }\n",
              "</style>\n",
              "<table border=\"1\" class=\"dataframe\">\n",
              "  <thead>\n",
              "    <tr style=\"text-align: right;\">\n",
              "      <th></th>\n",
              "      <th>key</th>\n",
              "      <th>fare_amount</th>\n",
              "      <th>pickup_datetime</th>\n",
              "      <th>pickup_longitude</th>\n",
              "      <th>pickup_latitude</th>\n",
              "      <th>dropoff_longitude</th>\n",
              "      <th>dropoff_latitude</th>\n",
              "      <th>passenger_count</th>\n",
              "    </tr>\n",
              "  </thead>\n",
              "  <tbody>\n",
              "    <tr>\n",
              "      <th>0</th>\n",
              "      <td>26:21.0</td>\n",
              "      <td>4.5</td>\n",
              "      <td>2009-06-15 17:26:21 UTC</td>\n",
              "      <td>-73.844311</td>\n",
              "      <td>40.721319</td>\n",
              "      <td>-73.841610</td>\n",
              "      <td>40.712278</td>\n",
              "      <td>1</td>\n",
              "    </tr>\n",
              "    <tr>\n",
              "      <th>1</th>\n",
              "      <td>52:16.0</td>\n",
              "      <td>16.9</td>\n",
              "      <td>2010-01-05 16:52:16 UTC</td>\n",
              "      <td>-74.016048</td>\n",
              "      <td>40.711303</td>\n",
              "      <td>-73.979268</td>\n",
              "      <td>40.782004</td>\n",
              "      <td>1</td>\n",
              "    </tr>\n",
              "    <tr>\n",
              "      <th>2</th>\n",
              "      <td>35:00.0</td>\n",
              "      <td>5.7</td>\n",
              "      <td>2011-08-18 00:35:00 UTC</td>\n",
              "      <td>-73.982738</td>\n",
              "      <td>40.761270</td>\n",
              "      <td>-73.991242</td>\n",
              "      <td>40.750562</td>\n",
              "      <td>2</td>\n",
              "    </tr>\n",
              "    <tr>\n",
              "      <th>3</th>\n",
              "      <td>30:42.0</td>\n",
              "      <td>7.7</td>\n",
              "      <td>2012-04-21 04:30:42 UTC</td>\n",
              "      <td>-73.987130</td>\n",
              "      <td>40.733143</td>\n",
              "      <td>-73.991567</td>\n",
              "      <td>40.758092</td>\n",
              "      <td>1</td>\n",
              "    </tr>\n",
              "    <tr>\n",
              "      <th>4</th>\n",
              "      <td>51:00.0</td>\n",
              "      <td>5.3</td>\n",
              "      <td>2010-03-09 07:51:00 UTC</td>\n",
              "      <td>-73.968095</td>\n",
              "      <td>40.768008</td>\n",
              "      <td>-73.956655</td>\n",
              "      <td>40.783762</td>\n",
              "      <td>1</td>\n",
              "    </tr>\n",
              "  </tbody>\n",
              "</table>\n",
              "</div>\n",
              "      <button class=\"colab-df-convert\" onclick=\"convertToInteractive('df-82e7423f-c6b5-48fe-a7af-2b59dcb6b15a')\"\n",
              "              title=\"Convert this dataframe to an interactive table.\"\n",
              "              style=\"display:none;\">\n",
              "        \n",
              "  <svg xmlns=\"http://www.w3.org/2000/svg\" height=\"24px\"viewBox=\"0 0 24 24\"\n",
              "       width=\"24px\">\n",
              "    <path d=\"M0 0h24v24H0V0z\" fill=\"none\"/>\n",
              "    <path d=\"M18.56 5.44l.94 2.06.94-2.06 2.06-.94-2.06-.94-.94-2.06-.94 2.06-2.06.94zm-11 1L8.5 8.5l.94-2.06 2.06-.94-2.06-.94L8.5 2.5l-.94 2.06-2.06.94zm10 10l.94 2.06.94-2.06 2.06-.94-2.06-.94-.94-2.06-.94 2.06-2.06.94z\"/><path d=\"M17.41 7.96l-1.37-1.37c-.4-.4-.92-.59-1.43-.59-.52 0-1.04.2-1.43.59L10.3 9.45l-7.72 7.72c-.78.78-.78 2.05 0 2.83L4 21.41c.39.39.9.59 1.41.59.51 0 1.02-.2 1.41-.59l7.78-7.78 2.81-2.81c.8-.78.8-2.07 0-2.86zM5.41 20L4 18.59l7.72-7.72 1.47 1.35L5.41 20z\"/>\n",
              "  </svg>\n",
              "      </button>\n",
              "      \n",
              "  <style>\n",
              "    .colab-df-container {\n",
              "      display:flex;\n",
              "      flex-wrap:wrap;\n",
              "      gap: 12px;\n",
              "    }\n",
              "\n",
              "    .colab-df-convert {\n",
              "      background-color: #E8F0FE;\n",
              "      border: none;\n",
              "      border-radius: 50%;\n",
              "      cursor: pointer;\n",
              "      display: none;\n",
              "      fill: #1967D2;\n",
              "      height: 32px;\n",
              "      padding: 0 0 0 0;\n",
              "      width: 32px;\n",
              "    }\n",
              "\n",
              "    .colab-df-convert:hover {\n",
              "      background-color: #E2EBFA;\n",
              "      box-shadow: 0px 1px 2px rgba(60, 64, 67, 0.3), 0px 1px 3px 1px rgba(60, 64, 67, 0.15);\n",
              "      fill: #174EA6;\n",
              "    }\n",
              "\n",
              "    [theme=dark] .colab-df-convert {\n",
              "      background-color: #3B4455;\n",
              "      fill: #D2E3FC;\n",
              "    }\n",
              "\n",
              "    [theme=dark] .colab-df-convert:hover {\n",
              "      background-color: #434B5C;\n",
              "      box-shadow: 0px 1px 3px 1px rgba(0, 0, 0, 0.15);\n",
              "      filter: drop-shadow(0px 1px 2px rgba(0, 0, 0, 0.3));\n",
              "      fill: #FFFFFF;\n",
              "    }\n",
              "  </style>\n",
              "\n",
              "      <script>\n",
              "        const buttonEl =\n",
              "          document.querySelector('#df-82e7423f-c6b5-48fe-a7af-2b59dcb6b15a button.colab-df-convert');\n",
              "        buttonEl.style.display =\n",
              "          google.colab.kernel.accessAllowed ? 'block' : 'none';\n",
              "\n",
              "        async function convertToInteractive(key) {\n",
              "          const element = document.querySelector('#df-82e7423f-c6b5-48fe-a7af-2b59dcb6b15a');\n",
              "          const dataTable =\n",
              "            await google.colab.kernel.invokeFunction('convertToInteractive',\n",
              "                                                     [key], {});\n",
              "          if (!dataTable) return;\n",
              "\n",
              "          const docLinkHtml = 'Like what you see? Visit the ' +\n",
              "            '<a target=\"_blank\" href=https://colab.research.google.com/notebooks/data_table.ipynb>data table notebook</a>'\n",
              "            + ' to learn more about interactive tables.';\n",
              "          element.innerHTML = '';\n",
              "          dataTable['output_type'] = 'display_data';\n",
              "          await google.colab.output.renderOutput(dataTable, element);\n",
              "          const docLink = document.createElement('div');\n",
              "          docLink.innerHTML = docLinkHtml;\n",
              "          element.appendChild(docLink);\n",
              "        }\n",
              "      </script>\n",
              "    </div>\n",
              "  </div>\n",
              "  "
            ]
          },
          "metadata": {},
          "execution_count": 6
        }
      ]
    },
    {
      "cell_type": "code",
      "source": [
        "df[df.columns[df.isnull().sum().values>0]].isna().sum()"
      ],
      "metadata": {
        "colab": {
          "base_uri": "https://localhost:8080/"
        },
        "id": "I-I4e8-LibZj",
        "outputId": "5c5cbf08-8824-4590-b1e9-12fbdb90a1b5"
      },
      "execution_count": 7,
      "outputs": [
        {
          "output_type": "execute_result",
          "data": {
            "text/plain": [
              "Series([], dtype: float64)"
            ]
          },
          "metadata": {},
          "execution_count": 7
        }
      ]
    },
    {
      "cell_type": "markdown",
      "source": [
        "\n",
        "\n",
        "---\n",
        "\n",
        "There is no missing values in the data.\n",
        "\n",
        "---\n",
        "\n"
      ],
      "metadata": {
        "id": "6yB0lTV4icxd"
      }
    },
    {
      "cell_type": "markdown",
      "source": [
        "## Coordinate Columns Values"
      ],
      "metadata": {
        "id": "d3ElRyElcwQM"
      }
    },
    {
      "cell_type": "markdown",
      "source": [
        "Before getting distance of rides out of coordinate columns (```'pickup_latitude```, ```pickup_longitude```, ```dropoff_latitude``` and ```dropoff_longitude```) we need to check if their values lie in range (-90, 90) degrees. Let's check descriptive statistic on these columns.\n",
        "\n",
        "---"
      ],
      "metadata": {
        "id": "FUrmndRRoaq2"
      }
    },
    {
      "cell_type": "code",
      "source": [
        "df[['pickup_latitude', 'pickup_longitude', 'dropoff_latitude', 'dropoff_longitude']].describe()"
      ],
      "metadata": {
        "colab": {
          "base_uri": "https://localhost:8080/",
          "height": 300
        },
        "id": "BNVUYzsgnroo",
        "outputId": "b8f8e05b-f308-4e4a-dc84-c519c23fd202"
      },
      "execution_count": 8,
      "outputs": [
        {
          "output_type": "execute_result",
          "data": {
            "text/plain": [
              "       pickup_latitude  pickup_longitude  dropoff_latitude  dropoff_longitude\n",
              "count     1.048565e+06      1.048565e+06      1.048565e+06       1.048565e+06\n",
              "mean      3.993097e+01     -7.252729e+01      3.992496e+01      -7.252750e+01\n",
              "std       7.725744e+00      1.200783e+01      8.529585e+00       1.141154e+01\n",
              "min      -3.116285e+03     -3.377681e+03     -3.114339e+03      -3.383297e+03\n",
              "25%       4.073496e+01     -7.399207e+01      4.073406e+01      -7.399138e+01\n",
              "50%       4.075267e+01     -7.398180e+01      4.075318e+01      -7.398014e+01\n",
              "75%       4.076714e+01     -7.396711e+01      4.076812e+01      -7.396367e+01\n",
              "max       2.621628e+03      2.522271e+03      1.989728e+03       1.717003e+03"
            ],
            "text/html": [
              "\n",
              "  <div id=\"df-02712c85-2b7b-47e8-80eb-f27798d74545\">\n",
              "    <div class=\"colab-df-container\">\n",
              "      <div>\n",
              "<style scoped>\n",
              "    .dataframe tbody tr th:only-of-type {\n",
              "        vertical-align: middle;\n",
              "    }\n",
              "\n",
              "    .dataframe tbody tr th {\n",
              "        vertical-align: top;\n",
              "    }\n",
              "\n",
              "    .dataframe thead th {\n",
              "        text-align: right;\n",
              "    }\n",
              "</style>\n",
              "<table border=\"1\" class=\"dataframe\">\n",
              "  <thead>\n",
              "    <tr style=\"text-align: right;\">\n",
              "      <th></th>\n",
              "      <th>pickup_latitude</th>\n",
              "      <th>pickup_longitude</th>\n",
              "      <th>dropoff_latitude</th>\n",
              "      <th>dropoff_longitude</th>\n",
              "    </tr>\n",
              "  </thead>\n",
              "  <tbody>\n",
              "    <tr>\n",
              "      <th>count</th>\n",
              "      <td>1.048565e+06</td>\n",
              "      <td>1.048565e+06</td>\n",
              "      <td>1.048565e+06</td>\n",
              "      <td>1.048565e+06</td>\n",
              "    </tr>\n",
              "    <tr>\n",
              "      <th>mean</th>\n",
              "      <td>3.993097e+01</td>\n",
              "      <td>-7.252729e+01</td>\n",
              "      <td>3.992496e+01</td>\n",
              "      <td>-7.252750e+01</td>\n",
              "    </tr>\n",
              "    <tr>\n",
              "      <th>std</th>\n",
              "      <td>7.725744e+00</td>\n",
              "      <td>1.200783e+01</td>\n",
              "      <td>8.529585e+00</td>\n",
              "      <td>1.141154e+01</td>\n",
              "    </tr>\n",
              "    <tr>\n",
              "      <th>min</th>\n",
              "      <td>-3.116285e+03</td>\n",
              "      <td>-3.377681e+03</td>\n",
              "      <td>-3.114339e+03</td>\n",
              "      <td>-3.383297e+03</td>\n",
              "    </tr>\n",
              "    <tr>\n",
              "      <th>25%</th>\n",
              "      <td>4.073496e+01</td>\n",
              "      <td>-7.399207e+01</td>\n",
              "      <td>4.073406e+01</td>\n",
              "      <td>-7.399138e+01</td>\n",
              "    </tr>\n",
              "    <tr>\n",
              "      <th>50%</th>\n",
              "      <td>4.075267e+01</td>\n",
              "      <td>-7.398180e+01</td>\n",
              "      <td>4.075318e+01</td>\n",
              "      <td>-7.398014e+01</td>\n",
              "    </tr>\n",
              "    <tr>\n",
              "      <th>75%</th>\n",
              "      <td>4.076714e+01</td>\n",
              "      <td>-7.396711e+01</td>\n",
              "      <td>4.076812e+01</td>\n",
              "      <td>-7.396367e+01</td>\n",
              "    </tr>\n",
              "    <tr>\n",
              "      <th>max</th>\n",
              "      <td>2.621628e+03</td>\n",
              "      <td>2.522271e+03</td>\n",
              "      <td>1.989728e+03</td>\n",
              "      <td>1.717003e+03</td>\n",
              "    </tr>\n",
              "  </tbody>\n",
              "</table>\n",
              "</div>\n",
              "      <button class=\"colab-df-convert\" onclick=\"convertToInteractive('df-02712c85-2b7b-47e8-80eb-f27798d74545')\"\n",
              "              title=\"Convert this dataframe to an interactive table.\"\n",
              "              style=\"display:none;\">\n",
              "        \n",
              "  <svg xmlns=\"http://www.w3.org/2000/svg\" height=\"24px\"viewBox=\"0 0 24 24\"\n",
              "       width=\"24px\">\n",
              "    <path d=\"M0 0h24v24H0V0z\" fill=\"none\"/>\n",
              "    <path d=\"M18.56 5.44l.94 2.06.94-2.06 2.06-.94-2.06-.94-.94-2.06-.94 2.06-2.06.94zm-11 1L8.5 8.5l.94-2.06 2.06-.94-2.06-.94L8.5 2.5l-.94 2.06-2.06.94zm10 10l.94 2.06.94-2.06 2.06-.94-2.06-.94-.94-2.06-.94 2.06-2.06.94z\"/><path d=\"M17.41 7.96l-1.37-1.37c-.4-.4-.92-.59-1.43-.59-.52 0-1.04.2-1.43.59L10.3 9.45l-7.72 7.72c-.78.78-.78 2.05 0 2.83L4 21.41c.39.39.9.59 1.41.59.51 0 1.02-.2 1.41-.59l7.78-7.78 2.81-2.81c.8-.78.8-2.07 0-2.86zM5.41 20L4 18.59l7.72-7.72 1.47 1.35L5.41 20z\"/>\n",
              "  </svg>\n",
              "      </button>\n",
              "      \n",
              "  <style>\n",
              "    .colab-df-container {\n",
              "      display:flex;\n",
              "      flex-wrap:wrap;\n",
              "      gap: 12px;\n",
              "    }\n",
              "\n",
              "    .colab-df-convert {\n",
              "      background-color: #E8F0FE;\n",
              "      border: none;\n",
              "      border-radius: 50%;\n",
              "      cursor: pointer;\n",
              "      display: none;\n",
              "      fill: #1967D2;\n",
              "      height: 32px;\n",
              "      padding: 0 0 0 0;\n",
              "      width: 32px;\n",
              "    }\n",
              "\n",
              "    .colab-df-convert:hover {\n",
              "      background-color: #E2EBFA;\n",
              "      box-shadow: 0px 1px 2px rgba(60, 64, 67, 0.3), 0px 1px 3px 1px rgba(60, 64, 67, 0.15);\n",
              "      fill: #174EA6;\n",
              "    }\n",
              "\n",
              "    [theme=dark] .colab-df-convert {\n",
              "      background-color: #3B4455;\n",
              "      fill: #D2E3FC;\n",
              "    }\n",
              "\n",
              "    [theme=dark] .colab-df-convert:hover {\n",
              "      background-color: #434B5C;\n",
              "      box-shadow: 0px 1px 3px 1px rgba(0, 0, 0, 0.15);\n",
              "      filter: drop-shadow(0px 1px 2px rgba(0, 0, 0, 0.3));\n",
              "      fill: #FFFFFF;\n",
              "    }\n",
              "  </style>\n",
              "\n",
              "      <script>\n",
              "        const buttonEl =\n",
              "          document.querySelector('#df-02712c85-2b7b-47e8-80eb-f27798d74545 button.colab-df-convert');\n",
              "        buttonEl.style.display =\n",
              "          google.colab.kernel.accessAllowed ? 'block' : 'none';\n",
              "\n",
              "        async function convertToInteractive(key) {\n",
              "          const element = document.querySelector('#df-02712c85-2b7b-47e8-80eb-f27798d74545');\n",
              "          const dataTable =\n",
              "            await google.colab.kernel.invokeFunction('convertToInteractive',\n",
              "                                                     [key], {});\n",
              "          if (!dataTable) return;\n",
              "\n",
              "          const docLinkHtml = 'Like what you see? Visit the ' +\n",
              "            '<a target=\"_blank\" href=https://colab.research.google.com/notebooks/data_table.ipynb>data table notebook</a>'\n",
              "            + ' to learn more about interactive tables.';\n",
              "          element.innerHTML = '';\n",
              "          dataTable['output_type'] = 'display_data';\n",
              "          await google.colab.output.renderOutput(dataTable, element);\n",
              "          const docLink = document.createElement('div');\n",
              "          docLink.innerHTML = docLinkHtml;\n",
              "          element.appendChild(docLink);\n",
              "        }\n",
              "      </script>\n",
              "    </div>\n",
              "  </div>\n",
              "  "
            ]
          },
          "metadata": {},
          "execution_count": 8
        }
      ]
    },
    {
      "cell_type": "markdown",
      "source": [
        "\n",
        "---\n",
        "\n",
        "As we can see all coordinate columns have *min* and *max* values far away from -90 and 90 where they are supposed to be. Let's check how many entities have coordinates lower than -90 and higher than 90.\n",
        "\n",
        "---\n",
        "\n"
      ],
      "metadata": {
        "id": "dz3Mo9-WgIPo"
      }
    },
    {
      "cell_type": "code",
      "source": [
        "#concatenate parts of the data cutted accordingly to the conditions described above\n",
        "coor_df = pd.concat([df[df.pickup_latitude < - 90], df[df.pickup_latitude > 90],\n",
        "                     df[df.pickup_longitude < - 90], df[df.pickup_longitude > 90],\n",
        "                     df[df.dropoff_latitude < - 90], df[df.dropoff_latitude > 90],\n",
        "                     df[df.dropoff_longitude < - 90], df[df.dropoff_longitude > 90]\n",
        "                     ])\n",
        "coor_df = coor_df.drop_duplicates() #remove duplicated rows\n",
        "coor_df.shape"
      ],
      "metadata": {
        "colab": {
          "base_uri": "https://localhost:8080/"
        },
        "id": "RIuRbK3NEhVI",
        "outputId": "011d9bdb-cad8-46f0-d4fe-6b70878fb795"
      },
      "execution_count": 9,
      "outputs": [
        {
          "output_type": "execute_result",
          "data": {
            "text/plain": [
              "(49, 8)"
            ]
          },
          "metadata": {},
          "execution_count": 9
        }
      ]
    },
    {
      "cell_type": "markdown",
      "source": [
        "\n",
        "\n",
        "---\n",
        "\n",
        "There are a few values in coordinate columns that do not follow the condition. These amount is not high in comparison with all entities in the data (<0.005%), I will skip these entities with dropping the whole row.\n",
        "\n",
        "---\n",
        "\n"
      ],
      "metadata": {
        "id": "FQmrGvjIg9hJ"
      }
    },
    {
      "cell_type": "code",
      "source": [
        "df.drop(index=coor_df.index.to_list(), inplace=True)\n",
        "print('df.shape: ', df.shape)\n",
        "df.head()"
      ],
      "metadata": {
        "colab": {
          "base_uri": "https://localhost:8080/",
          "height": 224
        },
        "id": "q_p0sxDZdB-6",
        "outputId": "b9bae7d7-01b4-4b86-cf2a-33f99fc64fd3"
      },
      "execution_count": 10,
      "outputs": [
        {
          "output_type": "stream",
          "name": "stdout",
          "text": [
            "df.shape:  (1048516, 8)\n"
          ]
        },
        {
          "output_type": "execute_result",
          "data": {
            "text/plain": [
              "       key  fare_amount          pickup_datetime  pickup_longitude  \\\n",
              "0  26:21.0          4.5  2009-06-15 17:26:21 UTC        -73.844311   \n",
              "1  52:16.0         16.9  2010-01-05 16:52:16 UTC        -74.016048   \n",
              "2  35:00.0          5.7  2011-08-18 00:35:00 UTC        -73.982738   \n",
              "3  30:42.0          7.7  2012-04-21 04:30:42 UTC        -73.987130   \n",
              "4  51:00.0          5.3  2010-03-09 07:51:00 UTC        -73.968095   \n",
              "\n",
              "   pickup_latitude  dropoff_longitude  dropoff_latitude  passenger_count  \n",
              "0        40.721319         -73.841610         40.712278                1  \n",
              "1        40.711303         -73.979268         40.782004                1  \n",
              "2        40.761270         -73.991242         40.750562                2  \n",
              "3        40.733143         -73.991567         40.758092                1  \n",
              "4        40.768008         -73.956655         40.783762                1  "
            ],
            "text/html": [
              "\n",
              "  <div id=\"df-ca992835-d07f-4d4e-a025-5ee27aef69ed\">\n",
              "    <div class=\"colab-df-container\">\n",
              "      <div>\n",
              "<style scoped>\n",
              "    .dataframe tbody tr th:only-of-type {\n",
              "        vertical-align: middle;\n",
              "    }\n",
              "\n",
              "    .dataframe tbody tr th {\n",
              "        vertical-align: top;\n",
              "    }\n",
              "\n",
              "    .dataframe thead th {\n",
              "        text-align: right;\n",
              "    }\n",
              "</style>\n",
              "<table border=\"1\" class=\"dataframe\">\n",
              "  <thead>\n",
              "    <tr style=\"text-align: right;\">\n",
              "      <th></th>\n",
              "      <th>key</th>\n",
              "      <th>fare_amount</th>\n",
              "      <th>pickup_datetime</th>\n",
              "      <th>pickup_longitude</th>\n",
              "      <th>pickup_latitude</th>\n",
              "      <th>dropoff_longitude</th>\n",
              "      <th>dropoff_latitude</th>\n",
              "      <th>passenger_count</th>\n",
              "    </tr>\n",
              "  </thead>\n",
              "  <tbody>\n",
              "    <tr>\n",
              "      <th>0</th>\n",
              "      <td>26:21.0</td>\n",
              "      <td>4.5</td>\n",
              "      <td>2009-06-15 17:26:21 UTC</td>\n",
              "      <td>-73.844311</td>\n",
              "      <td>40.721319</td>\n",
              "      <td>-73.841610</td>\n",
              "      <td>40.712278</td>\n",
              "      <td>1</td>\n",
              "    </tr>\n",
              "    <tr>\n",
              "      <th>1</th>\n",
              "      <td>52:16.0</td>\n",
              "      <td>16.9</td>\n",
              "      <td>2010-01-05 16:52:16 UTC</td>\n",
              "      <td>-74.016048</td>\n",
              "      <td>40.711303</td>\n",
              "      <td>-73.979268</td>\n",
              "      <td>40.782004</td>\n",
              "      <td>1</td>\n",
              "    </tr>\n",
              "    <tr>\n",
              "      <th>2</th>\n",
              "      <td>35:00.0</td>\n",
              "      <td>5.7</td>\n",
              "      <td>2011-08-18 00:35:00 UTC</td>\n",
              "      <td>-73.982738</td>\n",
              "      <td>40.761270</td>\n",
              "      <td>-73.991242</td>\n",
              "      <td>40.750562</td>\n",
              "      <td>2</td>\n",
              "    </tr>\n",
              "    <tr>\n",
              "      <th>3</th>\n",
              "      <td>30:42.0</td>\n",
              "      <td>7.7</td>\n",
              "      <td>2012-04-21 04:30:42 UTC</td>\n",
              "      <td>-73.987130</td>\n",
              "      <td>40.733143</td>\n",
              "      <td>-73.991567</td>\n",
              "      <td>40.758092</td>\n",
              "      <td>1</td>\n",
              "    </tr>\n",
              "    <tr>\n",
              "      <th>4</th>\n",
              "      <td>51:00.0</td>\n",
              "      <td>5.3</td>\n",
              "      <td>2010-03-09 07:51:00 UTC</td>\n",
              "      <td>-73.968095</td>\n",
              "      <td>40.768008</td>\n",
              "      <td>-73.956655</td>\n",
              "      <td>40.783762</td>\n",
              "      <td>1</td>\n",
              "    </tr>\n",
              "  </tbody>\n",
              "</table>\n",
              "</div>\n",
              "      <button class=\"colab-df-convert\" onclick=\"convertToInteractive('df-ca992835-d07f-4d4e-a025-5ee27aef69ed')\"\n",
              "              title=\"Convert this dataframe to an interactive table.\"\n",
              "              style=\"display:none;\">\n",
              "        \n",
              "  <svg xmlns=\"http://www.w3.org/2000/svg\" height=\"24px\"viewBox=\"0 0 24 24\"\n",
              "       width=\"24px\">\n",
              "    <path d=\"M0 0h24v24H0V0z\" fill=\"none\"/>\n",
              "    <path d=\"M18.56 5.44l.94 2.06.94-2.06 2.06-.94-2.06-.94-.94-2.06-.94 2.06-2.06.94zm-11 1L8.5 8.5l.94-2.06 2.06-.94-2.06-.94L8.5 2.5l-.94 2.06-2.06.94zm10 10l.94 2.06.94-2.06 2.06-.94-2.06-.94-.94-2.06-.94 2.06-2.06.94z\"/><path d=\"M17.41 7.96l-1.37-1.37c-.4-.4-.92-.59-1.43-.59-.52 0-1.04.2-1.43.59L10.3 9.45l-7.72 7.72c-.78.78-.78 2.05 0 2.83L4 21.41c.39.39.9.59 1.41.59.51 0 1.02-.2 1.41-.59l7.78-7.78 2.81-2.81c.8-.78.8-2.07 0-2.86zM5.41 20L4 18.59l7.72-7.72 1.47 1.35L5.41 20z\"/>\n",
              "  </svg>\n",
              "      </button>\n",
              "      \n",
              "  <style>\n",
              "    .colab-df-container {\n",
              "      display:flex;\n",
              "      flex-wrap:wrap;\n",
              "      gap: 12px;\n",
              "    }\n",
              "\n",
              "    .colab-df-convert {\n",
              "      background-color: #E8F0FE;\n",
              "      border: none;\n",
              "      border-radius: 50%;\n",
              "      cursor: pointer;\n",
              "      display: none;\n",
              "      fill: #1967D2;\n",
              "      height: 32px;\n",
              "      padding: 0 0 0 0;\n",
              "      width: 32px;\n",
              "    }\n",
              "\n",
              "    .colab-df-convert:hover {\n",
              "      background-color: #E2EBFA;\n",
              "      box-shadow: 0px 1px 2px rgba(60, 64, 67, 0.3), 0px 1px 3px 1px rgba(60, 64, 67, 0.15);\n",
              "      fill: #174EA6;\n",
              "    }\n",
              "\n",
              "    [theme=dark] .colab-df-convert {\n",
              "      background-color: #3B4455;\n",
              "      fill: #D2E3FC;\n",
              "    }\n",
              "\n",
              "    [theme=dark] .colab-df-convert:hover {\n",
              "      background-color: #434B5C;\n",
              "      box-shadow: 0px 1px 3px 1px rgba(0, 0, 0, 0.15);\n",
              "      filter: drop-shadow(0px 1px 2px rgba(0, 0, 0, 0.3));\n",
              "      fill: #FFFFFF;\n",
              "    }\n",
              "  </style>\n",
              "\n",
              "      <script>\n",
              "        const buttonEl =\n",
              "          document.querySelector('#df-ca992835-d07f-4d4e-a025-5ee27aef69ed button.colab-df-convert');\n",
              "        buttonEl.style.display =\n",
              "          google.colab.kernel.accessAllowed ? 'block' : 'none';\n",
              "\n",
              "        async function convertToInteractive(key) {\n",
              "          const element = document.querySelector('#df-ca992835-d07f-4d4e-a025-5ee27aef69ed');\n",
              "          const dataTable =\n",
              "            await google.colab.kernel.invokeFunction('convertToInteractive',\n",
              "                                                     [key], {});\n",
              "          if (!dataTable) return;\n",
              "\n",
              "          const docLinkHtml = 'Like what you see? Visit the ' +\n",
              "            '<a target=\"_blank\" href=https://colab.research.google.com/notebooks/data_table.ipynb>data table notebook</a>'\n",
              "            + ' to learn more about interactive tables.';\n",
              "          element.innerHTML = '';\n",
              "          dataTable['output_type'] = 'display_data';\n",
              "          await google.colab.output.renderOutput(dataTable, element);\n",
              "          const docLink = document.createElement('div');\n",
              "          docLink.innerHTML = docLinkHtml;\n",
              "          element.appendChild(docLink);\n",
              "        }\n",
              "      </script>\n",
              "    </div>\n",
              "  </div>\n",
              "  "
            ]
          },
          "metadata": {},
          "execution_count": 10
        }
      ]
    },
    {
      "cell_type": "code",
      "source": [
        "df.describe()"
      ],
      "metadata": {
        "colab": {
          "base_uri": "https://localhost:8080/",
          "height": 300
        },
        "id": "0WVUXW62jTum",
        "outputId": "8818f411-3249-47e4-8f28-86c106e582cf"
      },
      "execution_count": 11,
      "outputs": [
        {
          "output_type": "execute_result",
          "data": {
            "text/plain": [
              "        fare_amount  pickup_longitude  pickup_latitude  dropoff_longitude  \\\n",
              "count  1.048516e+06      1.048516e+06     1.048516e+06       1.048516e+06   \n",
              "mean   1.134531e+01     -7.251788e+01     3.992727e+01      -7.251708e+01   \n",
              "std    9.819766e+00      1.039017e+01     6.086952e+00       1.039004e+01   \n",
              "min   -4.490000e+01     -8.943979e+01    -7.401659e+01      -8.680412e+01   \n",
              "25%    6.000000e+00     -7.399207e+01     4.073496e+01      -7.399138e+01   \n",
              "50%    8.500000e+00     -7.398180e+01     4.075267e+01      -7.398014e+01   \n",
              "75%    1.250000e+01     -7.396711e+01     4.076714e+01      -7.396367e+01   \n",
              "max    5.000000e+02      4.085036e+01     6.940000e+01       4.558162e+01   \n",
              "\n",
              "       dropoff_latitude  passenger_count  \n",
              "count      1.048516e+06     1.048516e+06  \n",
              "mean       3.992701e+01     1.684913e+00  \n",
              "std        6.089382e+00     1.323140e+00  \n",
              "min       -7.403520e+01     0.000000e+00  \n",
              "25%        4.073406e+01     1.000000e+00  \n",
              "50%        4.075318e+01     1.000000e+00  \n",
              "75%        4.076812e+01     2.000000e+00  \n",
              "max        8.151018e+01     2.080000e+02  "
            ],
            "text/html": [
              "\n",
              "  <div id=\"df-8964c73c-1794-4f38-bd57-758f2ee29215\">\n",
              "    <div class=\"colab-df-container\">\n",
              "      <div>\n",
              "<style scoped>\n",
              "    .dataframe tbody tr th:only-of-type {\n",
              "        vertical-align: middle;\n",
              "    }\n",
              "\n",
              "    .dataframe tbody tr th {\n",
              "        vertical-align: top;\n",
              "    }\n",
              "\n",
              "    .dataframe thead th {\n",
              "        text-align: right;\n",
              "    }\n",
              "</style>\n",
              "<table border=\"1\" class=\"dataframe\">\n",
              "  <thead>\n",
              "    <tr style=\"text-align: right;\">\n",
              "      <th></th>\n",
              "      <th>fare_amount</th>\n",
              "      <th>pickup_longitude</th>\n",
              "      <th>pickup_latitude</th>\n",
              "      <th>dropoff_longitude</th>\n",
              "      <th>dropoff_latitude</th>\n",
              "      <th>passenger_count</th>\n",
              "    </tr>\n",
              "  </thead>\n",
              "  <tbody>\n",
              "    <tr>\n",
              "      <th>count</th>\n",
              "      <td>1.048516e+06</td>\n",
              "      <td>1.048516e+06</td>\n",
              "      <td>1.048516e+06</td>\n",
              "      <td>1.048516e+06</td>\n",
              "      <td>1.048516e+06</td>\n",
              "      <td>1.048516e+06</td>\n",
              "    </tr>\n",
              "    <tr>\n",
              "      <th>mean</th>\n",
              "      <td>1.134531e+01</td>\n",
              "      <td>-7.251788e+01</td>\n",
              "      <td>3.992727e+01</td>\n",
              "      <td>-7.251708e+01</td>\n",
              "      <td>3.992701e+01</td>\n",
              "      <td>1.684913e+00</td>\n",
              "    </tr>\n",
              "    <tr>\n",
              "      <th>std</th>\n",
              "      <td>9.819766e+00</td>\n",
              "      <td>1.039017e+01</td>\n",
              "      <td>6.086952e+00</td>\n",
              "      <td>1.039004e+01</td>\n",
              "      <td>6.089382e+00</td>\n",
              "      <td>1.323140e+00</td>\n",
              "    </tr>\n",
              "    <tr>\n",
              "      <th>min</th>\n",
              "      <td>-4.490000e+01</td>\n",
              "      <td>-8.943979e+01</td>\n",
              "      <td>-7.401659e+01</td>\n",
              "      <td>-8.680412e+01</td>\n",
              "      <td>-7.403520e+01</td>\n",
              "      <td>0.000000e+00</td>\n",
              "    </tr>\n",
              "    <tr>\n",
              "      <th>25%</th>\n",
              "      <td>6.000000e+00</td>\n",
              "      <td>-7.399207e+01</td>\n",
              "      <td>4.073496e+01</td>\n",
              "      <td>-7.399138e+01</td>\n",
              "      <td>4.073406e+01</td>\n",
              "      <td>1.000000e+00</td>\n",
              "    </tr>\n",
              "    <tr>\n",
              "      <th>50%</th>\n",
              "      <td>8.500000e+00</td>\n",
              "      <td>-7.398180e+01</td>\n",
              "      <td>4.075267e+01</td>\n",
              "      <td>-7.398014e+01</td>\n",
              "      <td>4.075318e+01</td>\n",
              "      <td>1.000000e+00</td>\n",
              "    </tr>\n",
              "    <tr>\n",
              "      <th>75%</th>\n",
              "      <td>1.250000e+01</td>\n",
              "      <td>-7.396711e+01</td>\n",
              "      <td>4.076714e+01</td>\n",
              "      <td>-7.396367e+01</td>\n",
              "      <td>4.076812e+01</td>\n",
              "      <td>2.000000e+00</td>\n",
              "    </tr>\n",
              "    <tr>\n",
              "      <th>max</th>\n",
              "      <td>5.000000e+02</td>\n",
              "      <td>4.085036e+01</td>\n",
              "      <td>6.940000e+01</td>\n",
              "      <td>4.558162e+01</td>\n",
              "      <td>8.151018e+01</td>\n",
              "      <td>2.080000e+02</td>\n",
              "    </tr>\n",
              "  </tbody>\n",
              "</table>\n",
              "</div>\n",
              "      <button class=\"colab-df-convert\" onclick=\"convertToInteractive('df-8964c73c-1794-4f38-bd57-758f2ee29215')\"\n",
              "              title=\"Convert this dataframe to an interactive table.\"\n",
              "              style=\"display:none;\">\n",
              "        \n",
              "  <svg xmlns=\"http://www.w3.org/2000/svg\" height=\"24px\"viewBox=\"0 0 24 24\"\n",
              "       width=\"24px\">\n",
              "    <path d=\"M0 0h24v24H0V0z\" fill=\"none\"/>\n",
              "    <path d=\"M18.56 5.44l.94 2.06.94-2.06 2.06-.94-2.06-.94-.94-2.06-.94 2.06-2.06.94zm-11 1L8.5 8.5l.94-2.06 2.06-.94-2.06-.94L8.5 2.5l-.94 2.06-2.06.94zm10 10l.94 2.06.94-2.06 2.06-.94-2.06-.94-.94-2.06-.94 2.06-2.06.94z\"/><path d=\"M17.41 7.96l-1.37-1.37c-.4-.4-.92-.59-1.43-.59-.52 0-1.04.2-1.43.59L10.3 9.45l-7.72 7.72c-.78.78-.78 2.05 0 2.83L4 21.41c.39.39.9.59 1.41.59.51 0 1.02-.2 1.41-.59l7.78-7.78 2.81-2.81c.8-.78.8-2.07 0-2.86zM5.41 20L4 18.59l7.72-7.72 1.47 1.35L5.41 20z\"/>\n",
              "  </svg>\n",
              "      </button>\n",
              "      \n",
              "  <style>\n",
              "    .colab-df-container {\n",
              "      display:flex;\n",
              "      flex-wrap:wrap;\n",
              "      gap: 12px;\n",
              "    }\n",
              "\n",
              "    .colab-df-convert {\n",
              "      background-color: #E8F0FE;\n",
              "      border: none;\n",
              "      border-radius: 50%;\n",
              "      cursor: pointer;\n",
              "      display: none;\n",
              "      fill: #1967D2;\n",
              "      height: 32px;\n",
              "      padding: 0 0 0 0;\n",
              "      width: 32px;\n",
              "    }\n",
              "\n",
              "    .colab-df-convert:hover {\n",
              "      background-color: #E2EBFA;\n",
              "      box-shadow: 0px 1px 2px rgba(60, 64, 67, 0.3), 0px 1px 3px 1px rgba(60, 64, 67, 0.15);\n",
              "      fill: #174EA6;\n",
              "    }\n",
              "\n",
              "    [theme=dark] .colab-df-convert {\n",
              "      background-color: #3B4455;\n",
              "      fill: #D2E3FC;\n",
              "    }\n",
              "\n",
              "    [theme=dark] .colab-df-convert:hover {\n",
              "      background-color: #434B5C;\n",
              "      box-shadow: 0px 1px 3px 1px rgba(0, 0, 0, 0.15);\n",
              "      filter: drop-shadow(0px 1px 2px rgba(0, 0, 0, 0.3));\n",
              "      fill: #FFFFFF;\n",
              "    }\n",
              "  </style>\n",
              "\n",
              "      <script>\n",
              "        const buttonEl =\n",
              "          document.querySelector('#df-8964c73c-1794-4f38-bd57-758f2ee29215 button.colab-df-convert');\n",
              "        buttonEl.style.display =\n",
              "          google.colab.kernel.accessAllowed ? 'block' : 'none';\n",
              "\n",
              "        async function convertToInteractive(key) {\n",
              "          const element = document.querySelector('#df-8964c73c-1794-4f38-bd57-758f2ee29215');\n",
              "          const dataTable =\n",
              "            await google.colab.kernel.invokeFunction('convertToInteractive',\n",
              "                                                     [key], {});\n",
              "          if (!dataTable) return;\n",
              "\n",
              "          const docLinkHtml = 'Like what you see? Visit the ' +\n",
              "            '<a target=\"_blank\" href=https://colab.research.google.com/notebooks/data_table.ipynb>data table notebook</a>'\n",
              "            + ' to learn more about interactive tables.';\n",
              "          element.innerHTML = '';\n",
              "          dataTable['output_type'] = 'display_data';\n",
              "          await google.colab.output.renderOutput(dataTable, element);\n",
              "          const docLink = document.createElement('div');\n",
              "          docLink.innerHTML = docLinkHtml;\n",
              "          element.appendChild(docLink);\n",
              "        }\n",
              "      </script>\n",
              "    </div>\n",
              "  </div>\n",
              "  "
            ]
          },
          "metadata": {},
          "execution_count": 11
        }
      ]
    },
    {
      "cell_type": "markdown",
      "source": [
        "\n",
        "\n",
        "---\n",
        "All coordinates are in required range.\n",
        "\n",
        "Let's also check the data with null coordinates.\n",
        "\n",
        "---\n",
        "\n"
      ],
      "metadata": {
        "id": "qD-gfOr9YGgr"
      }
    },
    {
      "cell_type": "code",
      "source": [
        "null_coor_df = pd.concat([df[df.pickup_latitude == 0], df[df.pickup_longitude == 0],\n",
        "                          df[df.dropoff_latitude == 0], df[df.dropoff_longitude == 0]])\n",
        "                    \n",
        "null_coor_df = null_coor_df.drop_duplicates() #remove duplicated rows\n",
        "null_coor_df.shape"
      ],
      "metadata": {
        "colab": {
          "base_uri": "https://localhost:8080/"
        },
        "id": "XwcfHyVcUcVE",
        "outputId": "53f5e03f-c696-4949-c9a2-695254f42dd7"
      },
      "execution_count": 12,
      "outputs": [
        {
          "output_type": "execute_result",
          "data": {
            "text/plain": [
              "(20595, 8)"
            ]
          },
          "metadata": {},
          "execution_count": 12
        }
      ]
    },
    {
      "cell_type": "markdown",
      "source": [
        "\n",
        "\n",
        "---\n",
        "\n",
        "There are a lot of entities with zero coordinates what means that it brings us no information about the distance of particular rides and makes this entities senseless and potentially dangeroud for future model training as far as it can lead to wrong predictions. \n",
        "\n",
        "I will treat these zero values as missing values. There is no way I can find info and fill them with certain values. And although it's about 0.2% of the data I will drop them anyway to avoid wrong model training. \n",
        "\n",
        "---\n",
        "\n"
      ],
      "metadata": {
        "id": "V0G_sMZgYP-O"
      }
    },
    {
      "cell_type": "code",
      "source": [
        "df.drop(index=null_coor_df.index.to_list(), inplace=True)\n",
        "print('df.shape: ', df.shape)\n",
        "df.head()"
      ],
      "metadata": {
        "colab": {
          "base_uri": "https://localhost:8080/",
          "height": 224
        },
        "id": "i5GdR661cEKK",
        "outputId": "8114c6b5-ec28-4d78-8ef3-9dac491c14ef"
      },
      "execution_count": 13,
      "outputs": [
        {
          "output_type": "stream",
          "name": "stdout",
          "text": [
            "df.shape:  (1027921, 8)\n"
          ]
        },
        {
          "output_type": "execute_result",
          "data": {
            "text/plain": [
              "       key  fare_amount          pickup_datetime  pickup_longitude  \\\n",
              "0  26:21.0          4.5  2009-06-15 17:26:21 UTC        -73.844311   \n",
              "1  52:16.0         16.9  2010-01-05 16:52:16 UTC        -74.016048   \n",
              "2  35:00.0          5.7  2011-08-18 00:35:00 UTC        -73.982738   \n",
              "3  30:42.0          7.7  2012-04-21 04:30:42 UTC        -73.987130   \n",
              "4  51:00.0          5.3  2010-03-09 07:51:00 UTC        -73.968095   \n",
              "\n",
              "   pickup_latitude  dropoff_longitude  dropoff_latitude  passenger_count  \n",
              "0        40.721319         -73.841610         40.712278                1  \n",
              "1        40.711303         -73.979268         40.782004                1  \n",
              "2        40.761270         -73.991242         40.750562                2  \n",
              "3        40.733143         -73.991567         40.758092                1  \n",
              "4        40.768008         -73.956655         40.783762                1  "
            ],
            "text/html": [
              "\n",
              "  <div id=\"df-73d81faa-234f-4c6d-986a-4b4e34c25984\">\n",
              "    <div class=\"colab-df-container\">\n",
              "      <div>\n",
              "<style scoped>\n",
              "    .dataframe tbody tr th:only-of-type {\n",
              "        vertical-align: middle;\n",
              "    }\n",
              "\n",
              "    .dataframe tbody tr th {\n",
              "        vertical-align: top;\n",
              "    }\n",
              "\n",
              "    .dataframe thead th {\n",
              "        text-align: right;\n",
              "    }\n",
              "</style>\n",
              "<table border=\"1\" class=\"dataframe\">\n",
              "  <thead>\n",
              "    <tr style=\"text-align: right;\">\n",
              "      <th></th>\n",
              "      <th>key</th>\n",
              "      <th>fare_amount</th>\n",
              "      <th>pickup_datetime</th>\n",
              "      <th>pickup_longitude</th>\n",
              "      <th>pickup_latitude</th>\n",
              "      <th>dropoff_longitude</th>\n",
              "      <th>dropoff_latitude</th>\n",
              "      <th>passenger_count</th>\n",
              "    </tr>\n",
              "  </thead>\n",
              "  <tbody>\n",
              "    <tr>\n",
              "      <th>0</th>\n",
              "      <td>26:21.0</td>\n",
              "      <td>4.5</td>\n",
              "      <td>2009-06-15 17:26:21 UTC</td>\n",
              "      <td>-73.844311</td>\n",
              "      <td>40.721319</td>\n",
              "      <td>-73.841610</td>\n",
              "      <td>40.712278</td>\n",
              "      <td>1</td>\n",
              "    </tr>\n",
              "    <tr>\n",
              "      <th>1</th>\n",
              "      <td>52:16.0</td>\n",
              "      <td>16.9</td>\n",
              "      <td>2010-01-05 16:52:16 UTC</td>\n",
              "      <td>-74.016048</td>\n",
              "      <td>40.711303</td>\n",
              "      <td>-73.979268</td>\n",
              "      <td>40.782004</td>\n",
              "      <td>1</td>\n",
              "    </tr>\n",
              "    <tr>\n",
              "      <th>2</th>\n",
              "      <td>35:00.0</td>\n",
              "      <td>5.7</td>\n",
              "      <td>2011-08-18 00:35:00 UTC</td>\n",
              "      <td>-73.982738</td>\n",
              "      <td>40.761270</td>\n",
              "      <td>-73.991242</td>\n",
              "      <td>40.750562</td>\n",
              "      <td>2</td>\n",
              "    </tr>\n",
              "    <tr>\n",
              "      <th>3</th>\n",
              "      <td>30:42.0</td>\n",
              "      <td>7.7</td>\n",
              "      <td>2012-04-21 04:30:42 UTC</td>\n",
              "      <td>-73.987130</td>\n",
              "      <td>40.733143</td>\n",
              "      <td>-73.991567</td>\n",
              "      <td>40.758092</td>\n",
              "      <td>1</td>\n",
              "    </tr>\n",
              "    <tr>\n",
              "      <th>4</th>\n",
              "      <td>51:00.0</td>\n",
              "      <td>5.3</td>\n",
              "      <td>2010-03-09 07:51:00 UTC</td>\n",
              "      <td>-73.968095</td>\n",
              "      <td>40.768008</td>\n",
              "      <td>-73.956655</td>\n",
              "      <td>40.783762</td>\n",
              "      <td>1</td>\n",
              "    </tr>\n",
              "  </tbody>\n",
              "</table>\n",
              "</div>\n",
              "      <button class=\"colab-df-convert\" onclick=\"convertToInteractive('df-73d81faa-234f-4c6d-986a-4b4e34c25984')\"\n",
              "              title=\"Convert this dataframe to an interactive table.\"\n",
              "              style=\"display:none;\">\n",
              "        \n",
              "  <svg xmlns=\"http://www.w3.org/2000/svg\" height=\"24px\"viewBox=\"0 0 24 24\"\n",
              "       width=\"24px\">\n",
              "    <path d=\"M0 0h24v24H0V0z\" fill=\"none\"/>\n",
              "    <path d=\"M18.56 5.44l.94 2.06.94-2.06 2.06-.94-2.06-.94-.94-2.06-.94 2.06-2.06.94zm-11 1L8.5 8.5l.94-2.06 2.06-.94-2.06-.94L8.5 2.5l-.94 2.06-2.06.94zm10 10l.94 2.06.94-2.06 2.06-.94-2.06-.94-.94-2.06-.94 2.06-2.06.94z\"/><path d=\"M17.41 7.96l-1.37-1.37c-.4-.4-.92-.59-1.43-.59-.52 0-1.04.2-1.43.59L10.3 9.45l-7.72 7.72c-.78.78-.78 2.05 0 2.83L4 21.41c.39.39.9.59 1.41.59.51 0 1.02-.2 1.41-.59l7.78-7.78 2.81-2.81c.8-.78.8-2.07 0-2.86zM5.41 20L4 18.59l7.72-7.72 1.47 1.35L5.41 20z\"/>\n",
              "  </svg>\n",
              "      </button>\n",
              "      \n",
              "  <style>\n",
              "    .colab-df-container {\n",
              "      display:flex;\n",
              "      flex-wrap:wrap;\n",
              "      gap: 12px;\n",
              "    }\n",
              "\n",
              "    .colab-df-convert {\n",
              "      background-color: #E8F0FE;\n",
              "      border: none;\n",
              "      border-radius: 50%;\n",
              "      cursor: pointer;\n",
              "      display: none;\n",
              "      fill: #1967D2;\n",
              "      height: 32px;\n",
              "      padding: 0 0 0 0;\n",
              "      width: 32px;\n",
              "    }\n",
              "\n",
              "    .colab-df-convert:hover {\n",
              "      background-color: #E2EBFA;\n",
              "      box-shadow: 0px 1px 2px rgba(60, 64, 67, 0.3), 0px 1px 3px 1px rgba(60, 64, 67, 0.15);\n",
              "      fill: #174EA6;\n",
              "    }\n",
              "\n",
              "    [theme=dark] .colab-df-convert {\n",
              "      background-color: #3B4455;\n",
              "      fill: #D2E3FC;\n",
              "    }\n",
              "\n",
              "    [theme=dark] .colab-df-convert:hover {\n",
              "      background-color: #434B5C;\n",
              "      box-shadow: 0px 1px 3px 1px rgba(0, 0, 0, 0.15);\n",
              "      filter: drop-shadow(0px 1px 2px rgba(0, 0, 0, 0.3));\n",
              "      fill: #FFFFFF;\n",
              "    }\n",
              "  </style>\n",
              "\n",
              "      <script>\n",
              "        const buttonEl =\n",
              "          document.querySelector('#df-73d81faa-234f-4c6d-986a-4b4e34c25984 button.colab-df-convert');\n",
              "        buttonEl.style.display =\n",
              "          google.colab.kernel.accessAllowed ? 'block' : 'none';\n",
              "\n",
              "        async function convertToInteractive(key) {\n",
              "          const element = document.querySelector('#df-73d81faa-234f-4c6d-986a-4b4e34c25984');\n",
              "          const dataTable =\n",
              "            await google.colab.kernel.invokeFunction('convertToInteractive',\n",
              "                                                     [key], {});\n",
              "          if (!dataTable) return;\n",
              "\n",
              "          const docLinkHtml = 'Like what you see? Visit the ' +\n",
              "            '<a target=\"_blank\" href=https://colab.research.google.com/notebooks/data_table.ipynb>data table notebook</a>'\n",
              "            + ' to learn more about interactive tables.';\n",
              "          element.innerHTML = '';\n",
              "          dataTable['output_type'] = 'display_data';\n",
              "          await google.colab.output.renderOutput(dataTable, element);\n",
              "          const docLink = document.createElement('div');\n",
              "          docLink.innerHTML = docLinkHtml;\n",
              "          element.appendChild(docLink);\n",
              "        }\n",
              "      </script>\n",
              "    </div>\n",
              "  </div>\n",
              "  "
            ]
          },
          "metadata": {},
          "execution_count": 13
        }
      ]
    },
    {
      "cell_type": "code",
      "source": [
        "null_coor_df = pd.concat([df[df.pickup_latitude == 0], df[df.pickup_longitude == 0],\n",
        "                          df[df.dropoff_latitude == 0], df[df.dropoff_longitude == 0]])\n",
        "                    \n",
        "null_coor_df = null_coor_df.drop_duplicates() #remove duplicated rows\n",
        "null_coor_df.shape"
      ],
      "metadata": {
        "colab": {
          "base_uri": "https://localhost:8080/"
        },
        "id": "tSsoRSW8cd4Z",
        "outputId": "09eea238-ce33-4f3c-f180-5cd9fdb2e057"
      },
      "execution_count": 14,
      "outputs": [
        {
          "output_type": "execute_result",
          "data": {
            "text/plain": [
              "(0, 8)"
            ]
          },
          "metadata": {},
          "execution_count": 14
        }
      ]
    },
    {
      "cell_type": "markdown",
      "source": [
        "\n",
        "\n",
        "---\n",
        "\n",
        "No entities with zero coordinates left.\n",
        "\n",
        "---\n",
        "\n"
      ],
      "metadata": {
        "id": "g1cypz46cfLT"
      }
    },
    {
      "cell_type": "markdown",
      "source": [
        "## Feature Engineering"
      ],
      "metadata": {
        "id": "U8mG3bp_MWA0"
      }
    },
    {
      "cell_type": "markdown",
      "source": [
        "Let's transform data features to make them more useful for future modeling.\n",
        "\n",
        "---"
      ],
      "metadata": {
        "id": "4Yujfe8_M8O0"
      }
    },
    {
      "cell_type": "markdown",
      "source": [
        "### Columns Dropping"
      ],
      "metadata": {
        "id": "_yj-Dtkoj75n"
      }
    },
    {
      "cell_type": "markdown",
      "source": [
        "I will drop ```key``` column as far as it's just indicator of the ride and brings no useful info for further analysis and modeling.\n",
        "\n",
        "----"
      ],
      "metadata": {
        "id": "y14SpyXkkEcH"
      }
    },
    {
      "cell_type": "code",
      "source": [
        "df.drop(columns=['key'], inplace=True) #remove key column\n",
        "print('df.shape: ', df.shape)\n",
        "df.head()"
      ],
      "metadata": {
        "colab": {
          "base_uri": "https://localhost:8080/",
          "height": 224
        },
        "id": "J-00K4NiMgQu",
        "outputId": "00627971-7c3c-4ea0-cfc4-0d6869f11226"
      },
      "execution_count": 15,
      "outputs": [
        {
          "output_type": "stream",
          "name": "stdout",
          "text": [
            "df.shape:  (1027921, 7)\n"
          ]
        },
        {
          "output_type": "execute_result",
          "data": {
            "text/plain": [
              "   fare_amount          pickup_datetime  pickup_longitude  pickup_latitude  \\\n",
              "0          4.5  2009-06-15 17:26:21 UTC        -73.844311        40.721319   \n",
              "1         16.9  2010-01-05 16:52:16 UTC        -74.016048        40.711303   \n",
              "2          5.7  2011-08-18 00:35:00 UTC        -73.982738        40.761270   \n",
              "3          7.7  2012-04-21 04:30:42 UTC        -73.987130        40.733143   \n",
              "4          5.3  2010-03-09 07:51:00 UTC        -73.968095        40.768008   \n",
              "\n",
              "   dropoff_longitude  dropoff_latitude  passenger_count  \n",
              "0         -73.841610         40.712278                1  \n",
              "1         -73.979268         40.782004                1  \n",
              "2         -73.991242         40.750562                2  \n",
              "3         -73.991567         40.758092                1  \n",
              "4         -73.956655         40.783762                1  "
            ],
            "text/html": [
              "\n",
              "  <div id=\"df-6c90fd2b-109d-46a8-977a-86a530da873d\">\n",
              "    <div class=\"colab-df-container\">\n",
              "      <div>\n",
              "<style scoped>\n",
              "    .dataframe tbody tr th:only-of-type {\n",
              "        vertical-align: middle;\n",
              "    }\n",
              "\n",
              "    .dataframe tbody tr th {\n",
              "        vertical-align: top;\n",
              "    }\n",
              "\n",
              "    .dataframe thead th {\n",
              "        text-align: right;\n",
              "    }\n",
              "</style>\n",
              "<table border=\"1\" class=\"dataframe\">\n",
              "  <thead>\n",
              "    <tr style=\"text-align: right;\">\n",
              "      <th></th>\n",
              "      <th>fare_amount</th>\n",
              "      <th>pickup_datetime</th>\n",
              "      <th>pickup_longitude</th>\n",
              "      <th>pickup_latitude</th>\n",
              "      <th>dropoff_longitude</th>\n",
              "      <th>dropoff_latitude</th>\n",
              "      <th>passenger_count</th>\n",
              "    </tr>\n",
              "  </thead>\n",
              "  <tbody>\n",
              "    <tr>\n",
              "      <th>0</th>\n",
              "      <td>4.5</td>\n",
              "      <td>2009-06-15 17:26:21 UTC</td>\n",
              "      <td>-73.844311</td>\n",
              "      <td>40.721319</td>\n",
              "      <td>-73.841610</td>\n",
              "      <td>40.712278</td>\n",
              "      <td>1</td>\n",
              "    </tr>\n",
              "    <tr>\n",
              "      <th>1</th>\n",
              "      <td>16.9</td>\n",
              "      <td>2010-01-05 16:52:16 UTC</td>\n",
              "      <td>-74.016048</td>\n",
              "      <td>40.711303</td>\n",
              "      <td>-73.979268</td>\n",
              "      <td>40.782004</td>\n",
              "      <td>1</td>\n",
              "    </tr>\n",
              "    <tr>\n",
              "      <th>2</th>\n",
              "      <td>5.7</td>\n",
              "      <td>2011-08-18 00:35:00 UTC</td>\n",
              "      <td>-73.982738</td>\n",
              "      <td>40.761270</td>\n",
              "      <td>-73.991242</td>\n",
              "      <td>40.750562</td>\n",
              "      <td>2</td>\n",
              "    </tr>\n",
              "    <tr>\n",
              "      <th>3</th>\n",
              "      <td>7.7</td>\n",
              "      <td>2012-04-21 04:30:42 UTC</td>\n",
              "      <td>-73.987130</td>\n",
              "      <td>40.733143</td>\n",
              "      <td>-73.991567</td>\n",
              "      <td>40.758092</td>\n",
              "      <td>1</td>\n",
              "    </tr>\n",
              "    <tr>\n",
              "      <th>4</th>\n",
              "      <td>5.3</td>\n",
              "      <td>2010-03-09 07:51:00 UTC</td>\n",
              "      <td>-73.968095</td>\n",
              "      <td>40.768008</td>\n",
              "      <td>-73.956655</td>\n",
              "      <td>40.783762</td>\n",
              "      <td>1</td>\n",
              "    </tr>\n",
              "  </tbody>\n",
              "</table>\n",
              "</div>\n",
              "      <button class=\"colab-df-convert\" onclick=\"convertToInteractive('df-6c90fd2b-109d-46a8-977a-86a530da873d')\"\n",
              "              title=\"Convert this dataframe to an interactive table.\"\n",
              "              style=\"display:none;\">\n",
              "        \n",
              "  <svg xmlns=\"http://www.w3.org/2000/svg\" height=\"24px\"viewBox=\"0 0 24 24\"\n",
              "       width=\"24px\">\n",
              "    <path d=\"M0 0h24v24H0V0z\" fill=\"none\"/>\n",
              "    <path d=\"M18.56 5.44l.94 2.06.94-2.06 2.06-.94-2.06-.94-.94-2.06-.94 2.06-2.06.94zm-11 1L8.5 8.5l.94-2.06 2.06-.94-2.06-.94L8.5 2.5l-.94 2.06-2.06.94zm10 10l.94 2.06.94-2.06 2.06-.94-2.06-.94-.94-2.06-.94 2.06-2.06.94z\"/><path d=\"M17.41 7.96l-1.37-1.37c-.4-.4-.92-.59-1.43-.59-.52 0-1.04.2-1.43.59L10.3 9.45l-7.72 7.72c-.78.78-.78 2.05 0 2.83L4 21.41c.39.39.9.59 1.41.59.51 0 1.02-.2 1.41-.59l7.78-7.78 2.81-2.81c.8-.78.8-2.07 0-2.86zM5.41 20L4 18.59l7.72-7.72 1.47 1.35L5.41 20z\"/>\n",
              "  </svg>\n",
              "      </button>\n",
              "      \n",
              "  <style>\n",
              "    .colab-df-container {\n",
              "      display:flex;\n",
              "      flex-wrap:wrap;\n",
              "      gap: 12px;\n",
              "    }\n",
              "\n",
              "    .colab-df-convert {\n",
              "      background-color: #E8F0FE;\n",
              "      border: none;\n",
              "      border-radius: 50%;\n",
              "      cursor: pointer;\n",
              "      display: none;\n",
              "      fill: #1967D2;\n",
              "      height: 32px;\n",
              "      padding: 0 0 0 0;\n",
              "      width: 32px;\n",
              "    }\n",
              "\n",
              "    .colab-df-convert:hover {\n",
              "      background-color: #E2EBFA;\n",
              "      box-shadow: 0px 1px 2px rgba(60, 64, 67, 0.3), 0px 1px 3px 1px rgba(60, 64, 67, 0.15);\n",
              "      fill: #174EA6;\n",
              "    }\n",
              "\n",
              "    [theme=dark] .colab-df-convert {\n",
              "      background-color: #3B4455;\n",
              "      fill: #D2E3FC;\n",
              "    }\n",
              "\n",
              "    [theme=dark] .colab-df-convert:hover {\n",
              "      background-color: #434B5C;\n",
              "      box-shadow: 0px 1px 3px 1px rgba(0, 0, 0, 0.15);\n",
              "      filter: drop-shadow(0px 1px 2px rgba(0, 0, 0, 0.3));\n",
              "      fill: #FFFFFF;\n",
              "    }\n",
              "  </style>\n",
              "\n",
              "      <script>\n",
              "        const buttonEl =\n",
              "          document.querySelector('#df-6c90fd2b-109d-46a8-977a-86a530da873d button.colab-df-convert');\n",
              "        buttonEl.style.display =\n",
              "          google.colab.kernel.accessAllowed ? 'block' : 'none';\n",
              "\n",
              "        async function convertToInteractive(key) {\n",
              "          const element = document.querySelector('#df-6c90fd2b-109d-46a8-977a-86a530da873d');\n",
              "          const dataTable =\n",
              "            await google.colab.kernel.invokeFunction('convertToInteractive',\n",
              "                                                     [key], {});\n",
              "          if (!dataTable) return;\n",
              "\n",
              "          const docLinkHtml = 'Like what you see? Visit the ' +\n",
              "            '<a target=\"_blank\" href=https://colab.research.google.com/notebooks/data_table.ipynb>data table notebook</a>'\n",
              "            + ' to learn more about interactive tables.';\n",
              "          element.innerHTML = '';\n",
              "          dataTable['output_type'] = 'display_data';\n",
              "          await google.colab.output.renderOutput(dataTable, element);\n",
              "          const docLink = document.createElement('div');\n",
              "          docLink.innerHTML = docLinkHtml;\n",
              "          element.appendChild(docLink);\n",
              "        }\n",
              "      </script>\n",
              "    </div>\n",
              "  </div>\n",
              "  "
            ]
          },
          "metadata": {},
          "execution_count": 15
        }
      ]
    },
    {
      "cell_type": "markdown",
      "source": [
        "### Column Creating"
      ],
      "metadata": {
        "id": "JFHL1Ce7kyky"
      }
    },
    {
      "cell_type": "markdown",
      "source": [
        "#### Datetime Columns"
      ],
      "metadata": {
        "id": "0QG9S3snk6oY"
      }
    },
    {
      "cell_type": "markdown",
      "source": [
        "\n",
        "\n",
        "On next step I will parse ```pickup_datetime``` feature into several columns:\n",
        "* year\n",
        "* season\n",
        "* month_name\n",
        "* day\n",
        "* day_name\n",
        "* hour\n",
        "* rush hour (yes/no): 7am - 10 am, 3pm - 7pm\n",
        "\n",
        "By default all datetime based columns are considered as strings in pandas. So at first I will convert string to datetime data type and then extract from datetime object all information wI need.\n",
        "\n",
        "---\n",
        "\n"
      ],
      "metadata": {
        "id": "LQFxLgurhg3j"
      }
    },
    {
      "cell_type": "code",
      "source": [
        "df.pickup_datetime = pd.to_datetime(df.pickup_datetime)\n",
        "df.dtypes"
      ],
      "metadata": {
        "colab": {
          "base_uri": "https://localhost:8080/"
        },
        "id": "R8rmTbb9jF1O",
        "outputId": "5d32a0a1-c5a2-448c-9fbe-5d674b8705d2"
      },
      "execution_count": 16,
      "outputs": [
        {
          "output_type": "execute_result",
          "data": {
            "text/plain": [
              "fare_amount                      float64\n",
              "pickup_datetime      datetime64[ns, UTC]\n",
              "pickup_longitude                 float64\n",
              "pickup_latitude                  float64\n",
              "dropoff_longitude                float64\n",
              "dropoff_latitude                 float64\n",
              "passenger_count                    int64\n",
              "dtype: object"
            ]
          },
          "metadata": {},
          "execution_count": 16
        }
      ]
    },
    {
      "cell_type": "code",
      "source": [
        "df['year'] = df.pickup_datetime.dt.year #year\n",
        "\n",
        "#getting seasons for each entity\n",
        "seasons = ['Winter', 'Spring', 'Summer', 'Fall'] #season\n",
        "df['season'] = [seasons[i-1] for i in (df.pickup_datetime.dt.month%12// 3 + 1).values]\n",
        "\n",
        "df['month'] = df.pickup_datetime.dt.month_name() #month\n",
        "df['day'] = df.pickup_datetime.dt.day #day\n",
        "df['day_name'] = df.pickup_datetime.dt.day_name() #day name\n",
        "df['hour'] = df.pickup_datetime.dt.hour #hour\n",
        "\n",
        "#finding out if the ride was in rush hour (7am-10am, 3pm-7pm) or not\n",
        "rush_hour = []\n",
        "for i in df.hour.values:\n",
        "  if i in range(7,11):\n",
        "    rush_hour.append(1)\n",
        "  elif i in range(15,20):\n",
        "    rush_hour.append(1)\n",
        "  else:\n",
        "    rush_hour.append(0)\n",
        "df['rush_hour'] = rush_hour\n",
        "\n",
        "df.drop(columns=['pickup_datetime'], inplace=True) # drop donor column\n",
        "\n",
        "print('df.shape: ', df.shape)\n",
        "df.head()"
      ],
      "metadata": {
        "colab": {
          "base_uri": "https://localhost:8080/",
          "height": 224
        },
        "id": "oA6GBM5fkCJU",
        "outputId": "7a683906-f561-4422-b4bc-940fc216c3c4"
      },
      "execution_count": 17,
      "outputs": [
        {
          "output_type": "stream",
          "name": "stdout",
          "text": [
            "df.shape:  (1027921, 13)\n"
          ]
        },
        {
          "output_type": "execute_result",
          "data": {
            "text/plain": [
              "   fare_amount  pickup_longitude  pickup_latitude  dropoff_longitude  \\\n",
              "0          4.5        -73.844311        40.721319         -73.841610   \n",
              "1         16.9        -74.016048        40.711303         -73.979268   \n",
              "2          5.7        -73.982738        40.761270         -73.991242   \n",
              "3          7.7        -73.987130        40.733143         -73.991567   \n",
              "4          5.3        -73.968095        40.768008         -73.956655   \n",
              "\n",
              "   dropoff_latitude  passenger_count  year  season    month  day  day_name  \\\n",
              "0         40.712278                1  2009  Summer     June   15    Monday   \n",
              "1         40.782004                1  2010  Winter  January    5   Tuesday   \n",
              "2         40.750562                2  2011  Summer   August   18  Thursday   \n",
              "3         40.758092                1  2012  Spring    April   21  Saturday   \n",
              "4         40.783762                1  2010  Spring    March    9   Tuesday   \n",
              "\n",
              "   hour  rush_hour  \n",
              "0    17          1  \n",
              "1    16          1  \n",
              "2     0          0  \n",
              "3     4          0  \n",
              "4     7          1  "
            ],
            "text/html": [
              "\n",
              "  <div id=\"df-9e8f022b-15d5-4899-882f-1c06d17d0f15\">\n",
              "    <div class=\"colab-df-container\">\n",
              "      <div>\n",
              "<style scoped>\n",
              "    .dataframe tbody tr th:only-of-type {\n",
              "        vertical-align: middle;\n",
              "    }\n",
              "\n",
              "    .dataframe tbody tr th {\n",
              "        vertical-align: top;\n",
              "    }\n",
              "\n",
              "    .dataframe thead th {\n",
              "        text-align: right;\n",
              "    }\n",
              "</style>\n",
              "<table border=\"1\" class=\"dataframe\">\n",
              "  <thead>\n",
              "    <tr style=\"text-align: right;\">\n",
              "      <th></th>\n",
              "      <th>fare_amount</th>\n",
              "      <th>pickup_longitude</th>\n",
              "      <th>pickup_latitude</th>\n",
              "      <th>dropoff_longitude</th>\n",
              "      <th>dropoff_latitude</th>\n",
              "      <th>passenger_count</th>\n",
              "      <th>year</th>\n",
              "      <th>season</th>\n",
              "      <th>month</th>\n",
              "      <th>day</th>\n",
              "      <th>day_name</th>\n",
              "      <th>hour</th>\n",
              "      <th>rush_hour</th>\n",
              "    </tr>\n",
              "  </thead>\n",
              "  <tbody>\n",
              "    <tr>\n",
              "      <th>0</th>\n",
              "      <td>4.5</td>\n",
              "      <td>-73.844311</td>\n",
              "      <td>40.721319</td>\n",
              "      <td>-73.841610</td>\n",
              "      <td>40.712278</td>\n",
              "      <td>1</td>\n",
              "      <td>2009</td>\n",
              "      <td>Summer</td>\n",
              "      <td>June</td>\n",
              "      <td>15</td>\n",
              "      <td>Monday</td>\n",
              "      <td>17</td>\n",
              "      <td>1</td>\n",
              "    </tr>\n",
              "    <tr>\n",
              "      <th>1</th>\n",
              "      <td>16.9</td>\n",
              "      <td>-74.016048</td>\n",
              "      <td>40.711303</td>\n",
              "      <td>-73.979268</td>\n",
              "      <td>40.782004</td>\n",
              "      <td>1</td>\n",
              "      <td>2010</td>\n",
              "      <td>Winter</td>\n",
              "      <td>January</td>\n",
              "      <td>5</td>\n",
              "      <td>Tuesday</td>\n",
              "      <td>16</td>\n",
              "      <td>1</td>\n",
              "    </tr>\n",
              "    <tr>\n",
              "      <th>2</th>\n",
              "      <td>5.7</td>\n",
              "      <td>-73.982738</td>\n",
              "      <td>40.761270</td>\n",
              "      <td>-73.991242</td>\n",
              "      <td>40.750562</td>\n",
              "      <td>2</td>\n",
              "      <td>2011</td>\n",
              "      <td>Summer</td>\n",
              "      <td>August</td>\n",
              "      <td>18</td>\n",
              "      <td>Thursday</td>\n",
              "      <td>0</td>\n",
              "      <td>0</td>\n",
              "    </tr>\n",
              "    <tr>\n",
              "      <th>3</th>\n",
              "      <td>7.7</td>\n",
              "      <td>-73.987130</td>\n",
              "      <td>40.733143</td>\n",
              "      <td>-73.991567</td>\n",
              "      <td>40.758092</td>\n",
              "      <td>1</td>\n",
              "      <td>2012</td>\n",
              "      <td>Spring</td>\n",
              "      <td>April</td>\n",
              "      <td>21</td>\n",
              "      <td>Saturday</td>\n",
              "      <td>4</td>\n",
              "      <td>0</td>\n",
              "    </tr>\n",
              "    <tr>\n",
              "      <th>4</th>\n",
              "      <td>5.3</td>\n",
              "      <td>-73.968095</td>\n",
              "      <td>40.768008</td>\n",
              "      <td>-73.956655</td>\n",
              "      <td>40.783762</td>\n",
              "      <td>1</td>\n",
              "      <td>2010</td>\n",
              "      <td>Spring</td>\n",
              "      <td>March</td>\n",
              "      <td>9</td>\n",
              "      <td>Tuesday</td>\n",
              "      <td>7</td>\n",
              "      <td>1</td>\n",
              "    </tr>\n",
              "  </tbody>\n",
              "</table>\n",
              "</div>\n",
              "      <button class=\"colab-df-convert\" onclick=\"convertToInteractive('df-9e8f022b-15d5-4899-882f-1c06d17d0f15')\"\n",
              "              title=\"Convert this dataframe to an interactive table.\"\n",
              "              style=\"display:none;\">\n",
              "        \n",
              "  <svg xmlns=\"http://www.w3.org/2000/svg\" height=\"24px\"viewBox=\"0 0 24 24\"\n",
              "       width=\"24px\">\n",
              "    <path d=\"M0 0h24v24H0V0z\" fill=\"none\"/>\n",
              "    <path d=\"M18.56 5.44l.94 2.06.94-2.06 2.06-.94-2.06-.94-.94-2.06-.94 2.06-2.06.94zm-11 1L8.5 8.5l.94-2.06 2.06-.94-2.06-.94L8.5 2.5l-.94 2.06-2.06.94zm10 10l.94 2.06.94-2.06 2.06-.94-2.06-.94-.94-2.06-.94 2.06-2.06.94z\"/><path d=\"M17.41 7.96l-1.37-1.37c-.4-.4-.92-.59-1.43-.59-.52 0-1.04.2-1.43.59L10.3 9.45l-7.72 7.72c-.78.78-.78 2.05 0 2.83L4 21.41c.39.39.9.59 1.41.59.51 0 1.02-.2 1.41-.59l7.78-7.78 2.81-2.81c.8-.78.8-2.07 0-2.86zM5.41 20L4 18.59l7.72-7.72 1.47 1.35L5.41 20z\"/>\n",
              "  </svg>\n",
              "      </button>\n",
              "      \n",
              "  <style>\n",
              "    .colab-df-container {\n",
              "      display:flex;\n",
              "      flex-wrap:wrap;\n",
              "      gap: 12px;\n",
              "    }\n",
              "\n",
              "    .colab-df-convert {\n",
              "      background-color: #E8F0FE;\n",
              "      border: none;\n",
              "      border-radius: 50%;\n",
              "      cursor: pointer;\n",
              "      display: none;\n",
              "      fill: #1967D2;\n",
              "      height: 32px;\n",
              "      padding: 0 0 0 0;\n",
              "      width: 32px;\n",
              "    }\n",
              "\n",
              "    .colab-df-convert:hover {\n",
              "      background-color: #E2EBFA;\n",
              "      box-shadow: 0px 1px 2px rgba(60, 64, 67, 0.3), 0px 1px 3px 1px rgba(60, 64, 67, 0.15);\n",
              "      fill: #174EA6;\n",
              "    }\n",
              "\n",
              "    [theme=dark] .colab-df-convert {\n",
              "      background-color: #3B4455;\n",
              "      fill: #D2E3FC;\n",
              "    }\n",
              "\n",
              "    [theme=dark] .colab-df-convert:hover {\n",
              "      background-color: #434B5C;\n",
              "      box-shadow: 0px 1px 3px 1px rgba(0, 0, 0, 0.15);\n",
              "      filter: drop-shadow(0px 1px 2px rgba(0, 0, 0, 0.3));\n",
              "      fill: #FFFFFF;\n",
              "    }\n",
              "  </style>\n",
              "\n",
              "      <script>\n",
              "        const buttonEl =\n",
              "          document.querySelector('#df-9e8f022b-15d5-4899-882f-1c06d17d0f15 button.colab-df-convert');\n",
              "        buttonEl.style.display =\n",
              "          google.colab.kernel.accessAllowed ? 'block' : 'none';\n",
              "\n",
              "        async function convertToInteractive(key) {\n",
              "          const element = document.querySelector('#df-9e8f022b-15d5-4899-882f-1c06d17d0f15');\n",
              "          const dataTable =\n",
              "            await google.colab.kernel.invokeFunction('convertToInteractive',\n",
              "                                                     [key], {});\n",
              "          if (!dataTable) return;\n",
              "\n",
              "          const docLinkHtml = 'Like what you see? Visit the ' +\n",
              "            '<a target=\"_blank\" href=https://colab.research.google.com/notebooks/data_table.ipynb>data table notebook</a>'\n",
              "            + ' to learn more about interactive tables.';\n",
              "          element.innerHTML = '';\n",
              "          dataTable['output_type'] = 'display_data';\n",
              "          await google.colab.output.renderOutput(dataTable, element);\n",
              "          const docLink = document.createElement('div');\n",
              "          docLink.innerHTML = docLinkHtml;\n",
              "          element.appendChild(docLink);\n",
              "        }\n",
              "      </script>\n",
              "    </div>\n",
              "  </div>\n",
              "  "
            ]
          },
          "metadata": {},
          "execution_count": 17
        }
      ]
    },
    {
      "cell_type": "markdown",
      "source": [
        "#### Distance Column"
      ],
      "metadata": {
        "id": "lj7hrElAlMko"
      }
    },
    {
      "cell_type": "markdown",
      "source": [
        "\n",
        "\n",
        "One of the most important metrics influncing on the taxi ride fare is distance. To get it we will need to convert latitude and longitude of pick up and drop off into km.\n",
        "\n",
        "For this purpose I will use **Haversine (or great circle) distance** - the angular distance between two points on the surface of a sphere. The first coordinate of each point is assumed to be the latitude, the second is the longitude.\n",
        "\n",
        "If speaking on Python we can do it by defining a custom function or by using different libraries:\n",
        "* ```from geopy.distance import great_circle```\n",
        "* ```sklearn.neighbors```\n",
        "* ```from sklearn.metrics.pairwise import haversine_distances```\n",
        "\n",
        "\n",
        "In this project I will use ```geopy``` library. Let's check how it works on the first ride in the data.\n",
        "\n",
        "---\n",
        "\n"
      ],
      "metadata": {
        "id": "xzd_3PRTaroR"
      }
    },
    {
      "cell_type": "code",
      "source": [
        "coordA = [df.pickup_latitude.iloc[0], df.pickup_longitude.iloc[0]]\n",
        "coordB = [df.dropoff_latitude.iloc[0], df.dropoff_longitude.iloc[0]]\n",
        "print ('Distance is: {:.3f} km'.format(float(great_circle(coordA, coordB).kilometers)))"
      ],
      "metadata": {
        "colab": {
          "base_uri": "https://localhost:8080/"
        },
        "id": "WZiVFft7XWXS",
        "outputId": "165d4887-6748-4092-c574-ce6fd443e22e"
      },
      "execution_count": 18,
      "outputs": [
        {
          "output_type": "stream",
          "name": "stdout",
          "text": [
            "Distance is: 1.031 km\n"
          ]
        }
      ]
    },
    {
      "cell_type": "markdown",
      "source": [
        "\n",
        "\n",
        "---\n",
        "\n",
        "Now when I know how to count the distance for 1 entity I just need to put the code in loop and get the distance for each of them. Let's do it!\n",
        "\n",
        "---\n",
        "\n"
      ],
      "metadata": {
        "id": "FyWtNKJc_Gae"
      }
    },
    {
      "cell_type": "code",
      "source": [
        "distance = []\n",
        "for i in range(df.shape[0]):\n",
        "  coordA = [df.pickup_latitude.iloc[i], df.pickup_longitude.iloc[i]]\n",
        "  coordB = [df.dropoff_latitude.iloc[i], df.dropoff_longitude.iloc[i]]\n",
        "  distance.append(round(float(great_circle(coordA, coordB).kilometers), 3))\n",
        "\n",
        "df['distance'] = distance #create a column with distance for each ride\n",
        "#df.drop(columns=['pickup_longitude', 'pickup_latitude', 'dropoff_longitude', 'dropoff_latitude'], inplace=True) #drop donor columns\n",
        "\n",
        "print('df.shape: ', df.shape)\n",
        "df.head()"
      ],
      "metadata": {
        "colab": {
          "base_uri": "https://localhost:8080/",
          "height": 224
        },
        "id": "mFxkX5dHgOy8",
        "outputId": "b28a02d3-a7e4-4744-9f79-8495763fd4d6"
      },
      "execution_count": 19,
      "outputs": [
        {
          "output_type": "stream",
          "name": "stdout",
          "text": [
            "df.shape:  (1027921, 14)\n"
          ]
        },
        {
          "output_type": "execute_result",
          "data": {
            "text/plain": [
              "   fare_amount  pickup_longitude  pickup_latitude  dropoff_longitude  \\\n",
              "0          4.5        -73.844311        40.721319         -73.841610   \n",
              "1         16.9        -74.016048        40.711303         -73.979268   \n",
              "2          5.7        -73.982738        40.761270         -73.991242   \n",
              "3          7.7        -73.987130        40.733143         -73.991567   \n",
              "4          5.3        -73.968095        40.768008         -73.956655   \n",
              "\n",
              "   dropoff_latitude  passenger_count  year  season    month  day  day_name  \\\n",
              "0         40.712278                1  2009  Summer     June   15    Monday   \n",
              "1         40.782004                1  2010  Winter  January    5   Tuesday   \n",
              "2         40.750562                2  2011  Summer   August   18  Thursday   \n",
              "3         40.758092                1  2012  Spring    April   21  Saturday   \n",
              "4         40.783762                1  2010  Spring    March    9   Tuesday   \n",
              "\n",
              "   hour  rush_hour  distance  \n",
              "0    17          1     1.031  \n",
              "1    16          1     8.450  \n",
              "2     0          0     1.390  \n",
              "3     4          0     2.799  \n",
              "4     7          1     1.999  "
            ],
            "text/html": [
              "\n",
              "  <div id=\"df-521e01f5-007e-4a4c-ab4b-0fd1c334f53d\">\n",
              "    <div class=\"colab-df-container\">\n",
              "      <div>\n",
              "<style scoped>\n",
              "    .dataframe tbody tr th:only-of-type {\n",
              "        vertical-align: middle;\n",
              "    }\n",
              "\n",
              "    .dataframe tbody tr th {\n",
              "        vertical-align: top;\n",
              "    }\n",
              "\n",
              "    .dataframe thead th {\n",
              "        text-align: right;\n",
              "    }\n",
              "</style>\n",
              "<table border=\"1\" class=\"dataframe\">\n",
              "  <thead>\n",
              "    <tr style=\"text-align: right;\">\n",
              "      <th></th>\n",
              "      <th>fare_amount</th>\n",
              "      <th>pickup_longitude</th>\n",
              "      <th>pickup_latitude</th>\n",
              "      <th>dropoff_longitude</th>\n",
              "      <th>dropoff_latitude</th>\n",
              "      <th>passenger_count</th>\n",
              "      <th>year</th>\n",
              "      <th>season</th>\n",
              "      <th>month</th>\n",
              "      <th>day</th>\n",
              "      <th>day_name</th>\n",
              "      <th>hour</th>\n",
              "      <th>rush_hour</th>\n",
              "      <th>distance</th>\n",
              "    </tr>\n",
              "  </thead>\n",
              "  <tbody>\n",
              "    <tr>\n",
              "      <th>0</th>\n",
              "      <td>4.5</td>\n",
              "      <td>-73.844311</td>\n",
              "      <td>40.721319</td>\n",
              "      <td>-73.841610</td>\n",
              "      <td>40.712278</td>\n",
              "      <td>1</td>\n",
              "      <td>2009</td>\n",
              "      <td>Summer</td>\n",
              "      <td>June</td>\n",
              "      <td>15</td>\n",
              "      <td>Monday</td>\n",
              "      <td>17</td>\n",
              "      <td>1</td>\n",
              "      <td>1.031</td>\n",
              "    </tr>\n",
              "    <tr>\n",
              "      <th>1</th>\n",
              "      <td>16.9</td>\n",
              "      <td>-74.016048</td>\n",
              "      <td>40.711303</td>\n",
              "      <td>-73.979268</td>\n",
              "      <td>40.782004</td>\n",
              "      <td>1</td>\n",
              "      <td>2010</td>\n",
              "      <td>Winter</td>\n",
              "      <td>January</td>\n",
              "      <td>5</td>\n",
              "      <td>Tuesday</td>\n",
              "      <td>16</td>\n",
              "      <td>1</td>\n",
              "      <td>8.450</td>\n",
              "    </tr>\n",
              "    <tr>\n",
              "      <th>2</th>\n",
              "      <td>5.7</td>\n",
              "      <td>-73.982738</td>\n",
              "      <td>40.761270</td>\n",
              "      <td>-73.991242</td>\n",
              "      <td>40.750562</td>\n",
              "      <td>2</td>\n",
              "      <td>2011</td>\n",
              "      <td>Summer</td>\n",
              "      <td>August</td>\n",
              "      <td>18</td>\n",
              "      <td>Thursday</td>\n",
              "      <td>0</td>\n",
              "      <td>0</td>\n",
              "      <td>1.390</td>\n",
              "    </tr>\n",
              "    <tr>\n",
              "      <th>3</th>\n",
              "      <td>7.7</td>\n",
              "      <td>-73.987130</td>\n",
              "      <td>40.733143</td>\n",
              "      <td>-73.991567</td>\n",
              "      <td>40.758092</td>\n",
              "      <td>1</td>\n",
              "      <td>2012</td>\n",
              "      <td>Spring</td>\n",
              "      <td>April</td>\n",
              "      <td>21</td>\n",
              "      <td>Saturday</td>\n",
              "      <td>4</td>\n",
              "      <td>0</td>\n",
              "      <td>2.799</td>\n",
              "    </tr>\n",
              "    <tr>\n",
              "      <th>4</th>\n",
              "      <td>5.3</td>\n",
              "      <td>-73.968095</td>\n",
              "      <td>40.768008</td>\n",
              "      <td>-73.956655</td>\n",
              "      <td>40.783762</td>\n",
              "      <td>1</td>\n",
              "      <td>2010</td>\n",
              "      <td>Spring</td>\n",
              "      <td>March</td>\n",
              "      <td>9</td>\n",
              "      <td>Tuesday</td>\n",
              "      <td>7</td>\n",
              "      <td>1</td>\n",
              "      <td>1.999</td>\n",
              "    </tr>\n",
              "  </tbody>\n",
              "</table>\n",
              "</div>\n",
              "      <button class=\"colab-df-convert\" onclick=\"convertToInteractive('df-521e01f5-007e-4a4c-ab4b-0fd1c334f53d')\"\n",
              "              title=\"Convert this dataframe to an interactive table.\"\n",
              "              style=\"display:none;\">\n",
              "        \n",
              "  <svg xmlns=\"http://www.w3.org/2000/svg\" height=\"24px\"viewBox=\"0 0 24 24\"\n",
              "       width=\"24px\">\n",
              "    <path d=\"M0 0h24v24H0V0z\" fill=\"none\"/>\n",
              "    <path d=\"M18.56 5.44l.94 2.06.94-2.06 2.06-.94-2.06-.94-.94-2.06-.94 2.06-2.06.94zm-11 1L8.5 8.5l.94-2.06 2.06-.94-2.06-.94L8.5 2.5l-.94 2.06-2.06.94zm10 10l.94 2.06.94-2.06 2.06-.94-2.06-.94-.94-2.06-.94 2.06-2.06.94z\"/><path d=\"M17.41 7.96l-1.37-1.37c-.4-.4-.92-.59-1.43-.59-.52 0-1.04.2-1.43.59L10.3 9.45l-7.72 7.72c-.78.78-.78 2.05 0 2.83L4 21.41c.39.39.9.59 1.41.59.51 0 1.02-.2 1.41-.59l7.78-7.78 2.81-2.81c.8-.78.8-2.07 0-2.86zM5.41 20L4 18.59l7.72-7.72 1.47 1.35L5.41 20z\"/>\n",
              "  </svg>\n",
              "      </button>\n",
              "      \n",
              "  <style>\n",
              "    .colab-df-container {\n",
              "      display:flex;\n",
              "      flex-wrap:wrap;\n",
              "      gap: 12px;\n",
              "    }\n",
              "\n",
              "    .colab-df-convert {\n",
              "      background-color: #E8F0FE;\n",
              "      border: none;\n",
              "      border-radius: 50%;\n",
              "      cursor: pointer;\n",
              "      display: none;\n",
              "      fill: #1967D2;\n",
              "      height: 32px;\n",
              "      padding: 0 0 0 0;\n",
              "      width: 32px;\n",
              "    }\n",
              "\n",
              "    .colab-df-convert:hover {\n",
              "      background-color: #E2EBFA;\n",
              "      box-shadow: 0px 1px 2px rgba(60, 64, 67, 0.3), 0px 1px 3px 1px rgba(60, 64, 67, 0.15);\n",
              "      fill: #174EA6;\n",
              "    }\n",
              "\n",
              "    [theme=dark] .colab-df-convert {\n",
              "      background-color: #3B4455;\n",
              "      fill: #D2E3FC;\n",
              "    }\n",
              "\n",
              "    [theme=dark] .colab-df-convert:hover {\n",
              "      background-color: #434B5C;\n",
              "      box-shadow: 0px 1px 3px 1px rgba(0, 0, 0, 0.15);\n",
              "      filter: drop-shadow(0px 1px 2px rgba(0, 0, 0, 0.3));\n",
              "      fill: #FFFFFF;\n",
              "    }\n",
              "  </style>\n",
              "\n",
              "      <script>\n",
              "        const buttonEl =\n",
              "          document.querySelector('#df-521e01f5-007e-4a4c-ab4b-0fd1c334f53d button.colab-df-convert');\n",
              "        buttonEl.style.display =\n",
              "          google.colab.kernel.accessAllowed ? 'block' : 'none';\n",
              "\n",
              "        async function convertToInteractive(key) {\n",
              "          const element = document.querySelector('#df-521e01f5-007e-4a4c-ab4b-0fd1c334f53d');\n",
              "          const dataTable =\n",
              "            await google.colab.kernel.invokeFunction('convertToInteractive',\n",
              "                                                     [key], {});\n",
              "          if (!dataTable) return;\n",
              "\n",
              "          const docLinkHtml = 'Like what you see? Visit the ' +\n",
              "            '<a target=\"_blank\" href=https://colab.research.google.com/notebooks/data_table.ipynb>data table notebook</a>'\n",
              "            + ' to learn more about interactive tables.';\n",
              "          element.innerHTML = '';\n",
              "          dataTable['output_type'] = 'display_data';\n",
              "          await google.colab.output.renderOutput(dataTable, element);\n",
              "          const docLink = document.createElement('div');\n",
              "          docLink.innerHTML = docLinkHtml;\n",
              "          element.appendChild(docLink);\n",
              "        }\n",
              "      </script>\n",
              "    </div>\n",
              "  </div>\n",
              "  "
            ]
          },
          "metadata": {},
          "execution_count": 19
        }
      ]
    },
    {
      "cell_type": "markdown",
      "source": [
        "## Pre-processing Data"
      ],
      "metadata": {
        "id": "mE3L81lgnGRy"
      }
    },
    {
      "cell_type": "markdown",
      "source": [
        "### Overview"
      ],
      "metadata": {
        "id": "KzddL50umh8p"
      }
    },
    {
      "cell_type": "markdown",
      "source": [
        "Once I've done with feature creating it's time to explore the data.\n",
        "\n",
        "---"
      ],
      "metadata": {
        "id": "w_jW2unSaK_4"
      }
    },
    {
      "cell_type": "code",
      "source": [
        "df.describe(include='all')"
      ],
      "metadata": {
        "colab": {
          "base_uri": "https://localhost:8080/",
          "height": 394
        },
        "id": "Dfz7wh2hnNa3",
        "outputId": "d098270c-8d4f-40ae-c60f-7c2545572380"
      },
      "execution_count": 20,
      "outputs": [
        {
          "output_type": "execute_result",
          "data": {
            "text/plain": [
              "         fare_amount  pickup_longitude  pickup_latitude  dropoff_longitude  \\\n",
              "count   1.027921e+06      1.027921e+06     1.027921e+06       1.027921e+06   \n",
              "unique           NaN               NaN              NaN                NaN   \n",
              "top              NaN               NaN              NaN                NaN   \n",
              "freq             NaN               NaN              NaN                NaN   \n",
              "mean    1.133004e+01     -7.390644e+01     4.068914e+01      -7.390595e+01   \n",
              "std     9.746336e+00      2.721070e+00     2.600426e+00       2.716004e+00   \n",
              "min    -4.490000e+01     -8.061666e+01    -7.401659e+01      -8.680412e+01   \n",
              "25%     6.000000e+00     -7.399228e+01     4.073653e+01      -7.399157e+01   \n",
              "50%     8.500000e+00     -7.398208e+01     4.075336e+01      -7.398058e+01   \n",
              "75%     1.250000e+01     -7.396829e+01     4.076755e+01      -7.396528e+01   \n",
              "max     5.000000e+02      4.085036e+01     6.940000e+01       4.558162e+01   \n",
              "\n",
              "        dropoff_latitude  passenger_count          year   season    month  \\\n",
              "count       1.027921e+06     1.027921e+06  1.027921e+06  1027921  1027921   \n",
              "unique               NaN              NaN           NaN        4       12   \n",
              "top                  NaN              NaN           NaN   Spring      May   \n",
              "freq                 NaN              NaN           NaN   287226    96323   \n",
              "mean        4.068934e+01     1.685244e+00  2.011739e+03      NaN      NaN   \n",
              "std         2.601251e+00     1.307981e+00  1.862741e+00      NaN      NaN   \n",
              "min        -7.403520e+01     0.000000e+00  2.009000e+03      NaN      NaN   \n",
              "25%         4.073553e+01     1.000000e+00  2.010000e+03      NaN      NaN   \n",
              "50%         4.075386e+01     1.000000e+00  2.012000e+03      NaN      NaN   \n",
              "75%         4.076841e+01     2.000000e+00  2.013000e+03      NaN      NaN   \n",
              "max         5.578333e+01     9.000000e+00  2.015000e+03      NaN      NaN   \n",
              "\n",
              "                 day day_name          hour     rush_hour      distance  \n",
              "count   1.027921e+06  1027921  1.027921e+06  1.027921e+06  1.027921e+06  \n",
              "unique           NaN        7           NaN           NaN           NaN  \n",
              "top              NaN   Friday           NaN           NaN           NaN  \n",
              "freq             NaN   158583           NaN           NaN           NaN  \n",
              "mean    1.569820e+01      NaN  1.350912e+01  4.353185e-01  4.395170e+00  \n",
              "std     8.680878e+00      NaN  6.511469e+00  4.957989e-01  7.550311e+01  \n",
              "min     1.000000e+00      NaN  0.000000e+00  0.000000e+00  0.000000e+00  \n",
              "25%     8.000000e+00      NaN  9.000000e+00  0.000000e+00  1.254000e+00  \n",
              "50%     1.600000e+01      NaN  1.400000e+01  0.000000e+00  2.153000e+00  \n",
              "75%     2.300000e+01      NaN  1.900000e+01  1.000000e+00  3.918000e+00  \n",
              "max     3.100000e+01      NaN  2.300000e+01  1.000000e+00  1.259472e+04  "
            ],
            "text/html": [
              "\n",
              "  <div id=\"df-5fb6d199-b973-457e-824a-771e278d421d\">\n",
              "    <div class=\"colab-df-container\">\n",
              "      <div>\n",
              "<style scoped>\n",
              "    .dataframe tbody tr th:only-of-type {\n",
              "        vertical-align: middle;\n",
              "    }\n",
              "\n",
              "    .dataframe tbody tr th {\n",
              "        vertical-align: top;\n",
              "    }\n",
              "\n",
              "    .dataframe thead th {\n",
              "        text-align: right;\n",
              "    }\n",
              "</style>\n",
              "<table border=\"1\" class=\"dataframe\">\n",
              "  <thead>\n",
              "    <tr style=\"text-align: right;\">\n",
              "      <th></th>\n",
              "      <th>fare_amount</th>\n",
              "      <th>pickup_longitude</th>\n",
              "      <th>pickup_latitude</th>\n",
              "      <th>dropoff_longitude</th>\n",
              "      <th>dropoff_latitude</th>\n",
              "      <th>passenger_count</th>\n",
              "      <th>year</th>\n",
              "      <th>season</th>\n",
              "      <th>month</th>\n",
              "      <th>day</th>\n",
              "      <th>day_name</th>\n",
              "      <th>hour</th>\n",
              "      <th>rush_hour</th>\n",
              "      <th>distance</th>\n",
              "    </tr>\n",
              "  </thead>\n",
              "  <tbody>\n",
              "    <tr>\n",
              "      <th>count</th>\n",
              "      <td>1.027921e+06</td>\n",
              "      <td>1.027921e+06</td>\n",
              "      <td>1.027921e+06</td>\n",
              "      <td>1.027921e+06</td>\n",
              "      <td>1.027921e+06</td>\n",
              "      <td>1.027921e+06</td>\n",
              "      <td>1.027921e+06</td>\n",
              "      <td>1027921</td>\n",
              "      <td>1027921</td>\n",
              "      <td>1.027921e+06</td>\n",
              "      <td>1027921</td>\n",
              "      <td>1.027921e+06</td>\n",
              "      <td>1.027921e+06</td>\n",
              "      <td>1.027921e+06</td>\n",
              "    </tr>\n",
              "    <tr>\n",
              "      <th>unique</th>\n",
              "      <td>NaN</td>\n",
              "      <td>NaN</td>\n",
              "      <td>NaN</td>\n",
              "      <td>NaN</td>\n",
              "      <td>NaN</td>\n",
              "      <td>NaN</td>\n",
              "      <td>NaN</td>\n",
              "      <td>4</td>\n",
              "      <td>12</td>\n",
              "      <td>NaN</td>\n",
              "      <td>7</td>\n",
              "      <td>NaN</td>\n",
              "      <td>NaN</td>\n",
              "      <td>NaN</td>\n",
              "    </tr>\n",
              "    <tr>\n",
              "      <th>top</th>\n",
              "      <td>NaN</td>\n",
              "      <td>NaN</td>\n",
              "      <td>NaN</td>\n",
              "      <td>NaN</td>\n",
              "      <td>NaN</td>\n",
              "      <td>NaN</td>\n",
              "      <td>NaN</td>\n",
              "      <td>Spring</td>\n",
              "      <td>May</td>\n",
              "      <td>NaN</td>\n",
              "      <td>Friday</td>\n",
              "      <td>NaN</td>\n",
              "      <td>NaN</td>\n",
              "      <td>NaN</td>\n",
              "    </tr>\n",
              "    <tr>\n",
              "      <th>freq</th>\n",
              "      <td>NaN</td>\n",
              "      <td>NaN</td>\n",
              "      <td>NaN</td>\n",
              "      <td>NaN</td>\n",
              "      <td>NaN</td>\n",
              "      <td>NaN</td>\n",
              "      <td>NaN</td>\n",
              "      <td>287226</td>\n",
              "      <td>96323</td>\n",
              "      <td>NaN</td>\n",
              "      <td>158583</td>\n",
              "      <td>NaN</td>\n",
              "      <td>NaN</td>\n",
              "      <td>NaN</td>\n",
              "    </tr>\n",
              "    <tr>\n",
              "      <th>mean</th>\n",
              "      <td>1.133004e+01</td>\n",
              "      <td>-7.390644e+01</td>\n",
              "      <td>4.068914e+01</td>\n",
              "      <td>-7.390595e+01</td>\n",
              "      <td>4.068934e+01</td>\n",
              "      <td>1.685244e+00</td>\n",
              "      <td>2.011739e+03</td>\n",
              "      <td>NaN</td>\n",
              "      <td>NaN</td>\n",
              "      <td>1.569820e+01</td>\n",
              "      <td>NaN</td>\n",
              "      <td>1.350912e+01</td>\n",
              "      <td>4.353185e-01</td>\n",
              "      <td>4.395170e+00</td>\n",
              "    </tr>\n",
              "    <tr>\n",
              "      <th>std</th>\n",
              "      <td>9.746336e+00</td>\n",
              "      <td>2.721070e+00</td>\n",
              "      <td>2.600426e+00</td>\n",
              "      <td>2.716004e+00</td>\n",
              "      <td>2.601251e+00</td>\n",
              "      <td>1.307981e+00</td>\n",
              "      <td>1.862741e+00</td>\n",
              "      <td>NaN</td>\n",
              "      <td>NaN</td>\n",
              "      <td>8.680878e+00</td>\n",
              "      <td>NaN</td>\n",
              "      <td>6.511469e+00</td>\n",
              "      <td>4.957989e-01</td>\n",
              "      <td>7.550311e+01</td>\n",
              "    </tr>\n",
              "    <tr>\n",
              "      <th>min</th>\n",
              "      <td>-4.490000e+01</td>\n",
              "      <td>-8.061666e+01</td>\n",
              "      <td>-7.401659e+01</td>\n",
              "      <td>-8.680412e+01</td>\n",
              "      <td>-7.403520e+01</td>\n",
              "      <td>0.000000e+00</td>\n",
              "      <td>2.009000e+03</td>\n",
              "      <td>NaN</td>\n",
              "      <td>NaN</td>\n",
              "      <td>1.000000e+00</td>\n",
              "      <td>NaN</td>\n",
              "      <td>0.000000e+00</td>\n",
              "      <td>0.000000e+00</td>\n",
              "      <td>0.000000e+00</td>\n",
              "    </tr>\n",
              "    <tr>\n",
              "      <th>25%</th>\n",
              "      <td>6.000000e+00</td>\n",
              "      <td>-7.399228e+01</td>\n",
              "      <td>4.073653e+01</td>\n",
              "      <td>-7.399157e+01</td>\n",
              "      <td>4.073553e+01</td>\n",
              "      <td>1.000000e+00</td>\n",
              "      <td>2.010000e+03</td>\n",
              "      <td>NaN</td>\n",
              "      <td>NaN</td>\n",
              "      <td>8.000000e+00</td>\n",
              "      <td>NaN</td>\n",
              "      <td>9.000000e+00</td>\n",
              "      <td>0.000000e+00</td>\n",
              "      <td>1.254000e+00</td>\n",
              "    </tr>\n",
              "    <tr>\n",
              "      <th>50%</th>\n",
              "      <td>8.500000e+00</td>\n",
              "      <td>-7.398208e+01</td>\n",
              "      <td>4.075336e+01</td>\n",
              "      <td>-7.398058e+01</td>\n",
              "      <td>4.075386e+01</td>\n",
              "      <td>1.000000e+00</td>\n",
              "      <td>2.012000e+03</td>\n",
              "      <td>NaN</td>\n",
              "      <td>NaN</td>\n",
              "      <td>1.600000e+01</td>\n",
              "      <td>NaN</td>\n",
              "      <td>1.400000e+01</td>\n",
              "      <td>0.000000e+00</td>\n",
              "      <td>2.153000e+00</td>\n",
              "    </tr>\n",
              "    <tr>\n",
              "      <th>75%</th>\n",
              "      <td>1.250000e+01</td>\n",
              "      <td>-7.396829e+01</td>\n",
              "      <td>4.076755e+01</td>\n",
              "      <td>-7.396528e+01</td>\n",
              "      <td>4.076841e+01</td>\n",
              "      <td>2.000000e+00</td>\n",
              "      <td>2.013000e+03</td>\n",
              "      <td>NaN</td>\n",
              "      <td>NaN</td>\n",
              "      <td>2.300000e+01</td>\n",
              "      <td>NaN</td>\n",
              "      <td>1.900000e+01</td>\n",
              "      <td>1.000000e+00</td>\n",
              "      <td>3.918000e+00</td>\n",
              "    </tr>\n",
              "    <tr>\n",
              "      <th>max</th>\n",
              "      <td>5.000000e+02</td>\n",
              "      <td>4.085036e+01</td>\n",
              "      <td>6.940000e+01</td>\n",
              "      <td>4.558162e+01</td>\n",
              "      <td>5.578333e+01</td>\n",
              "      <td>9.000000e+00</td>\n",
              "      <td>2.015000e+03</td>\n",
              "      <td>NaN</td>\n",
              "      <td>NaN</td>\n",
              "      <td>3.100000e+01</td>\n",
              "      <td>NaN</td>\n",
              "      <td>2.300000e+01</td>\n",
              "      <td>1.000000e+00</td>\n",
              "      <td>1.259472e+04</td>\n",
              "    </tr>\n",
              "  </tbody>\n",
              "</table>\n",
              "</div>\n",
              "      <button class=\"colab-df-convert\" onclick=\"convertToInteractive('df-5fb6d199-b973-457e-824a-771e278d421d')\"\n",
              "              title=\"Convert this dataframe to an interactive table.\"\n",
              "              style=\"display:none;\">\n",
              "        \n",
              "  <svg xmlns=\"http://www.w3.org/2000/svg\" height=\"24px\"viewBox=\"0 0 24 24\"\n",
              "       width=\"24px\">\n",
              "    <path d=\"M0 0h24v24H0V0z\" fill=\"none\"/>\n",
              "    <path d=\"M18.56 5.44l.94 2.06.94-2.06 2.06-.94-2.06-.94-.94-2.06-.94 2.06-2.06.94zm-11 1L8.5 8.5l.94-2.06 2.06-.94-2.06-.94L8.5 2.5l-.94 2.06-2.06.94zm10 10l.94 2.06.94-2.06 2.06-.94-2.06-.94-.94-2.06-.94 2.06-2.06.94z\"/><path d=\"M17.41 7.96l-1.37-1.37c-.4-.4-.92-.59-1.43-.59-.52 0-1.04.2-1.43.59L10.3 9.45l-7.72 7.72c-.78.78-.78 2.05 0 2.83L4 21.41c.39.39.9.59 1.41.59.51 0 1.02-.2 1.41-.59l7.78-7.78 2.81-2.81c.8-.78.8-2.07 0-2.86zM5.41 20L4 18.59l7.72-7.72 1.47 1.35L5.41 20z\"/>\n",
              "  </svg>\n",
              "      </button>\n",
              "      \n",
              "  <style>\n",
              "    .colab-df-container {\n",
              "      display:flex;\n",
              "      flex-wrap:wrap;\n",
              "      gap: 12px;\n",
              "    }\n",
              "\n",
              "    .colab-df-convert {\n",
              "      background-color: #E8F0FE;\n",
              "      border: none;\n",
              "      border-radius: 50%;\n",
              "      cursor: pointer;\n",
              "      display: none;\n",
              "      fill: #1967D2;\n",
              "      height: 32px;\n",
              "      padding: 0 0 0 0;\n",
              "      width: 32px;\n",
              "    }\n",
              "\n",
              "    .colab-df-convert:hover {\n",
              "      background-color: #E2EBFA;\n",
              "      box-shadow: 0px 1px 2px rgba(60, 64, 67, 0.3), 0px 1px 3px 1px rgba(60, 64, 67, 0.15);\n",
              "      fill: #174EA6;\n",
              "    }\n",
              "\n",
              "    [theme=dark] .colab-df-convert {\n",
              "      background-color: #3B4455;\n",
              "      fill: #D2E3FC;\n",
              "    }\n",
              "\n",
              "    [theme=dark] .colab-df-convert:hover {\n",
              "      background-color: #434B5C;\n",
              "      box-shadow: 0px 1px 3px 1px rgba(0, 0, 0, 0.15);\n",
              "      filter: drop-shadow(0px 1px 2px rgba(0, 0, 0, 0.3));\n",
              "      fill: #FFFFFF;\n",
              "    }\n",
              "  </style>\n",
              "\n",
              "      <script>\n",
              "        const buttonEl =\n",
              "          document.querySelector('#df-5fb6d199-b973-457e-824a-771e278d421d button.colab-df-convert');\n",
              "        buttonEl.style.display =\n",
              "          google.colab.kernel.accessAllowed ? 'block' : 'none';\n",
              "\n",
              "        async function convertToInteractive(key) {\n",
              "          const element = document.querySelector('#df-5fb6d199-b973-457e-824a-771e278d421d');\n",
              "          const dataTable =\n",
              "            await google.colab.kernel.invokeFunction('convertToInteractive',\n",
              "                                                     [key], {});\n",
              "          if (!dataTable) return;\n",
              "\n",
              "          const docLinkHtml = 'Like what you see? Visit the ' +\n",
              "            '<a target=\"_blank\" href=https://colab.research.google.com/notebooks/data_table.ipynb>data table notebook</a>'\n",
              "            + ' to learn more about interactive tables.';\n",
              "          element.innerHTML = '';\n",
              "          dataTable['output_type'] = 'display_data';\n",
              "          await google.colab.output.renderOutput(dataTable, element);\n",
              "          const docLink = document.createElement('div');\n",
              "          docLink.innerHTML = docLinkHtml;\n",
              "          element.appendChild(docLink);\n",
              "        }\n",
              "      </script>\n",
              "    </div>\n",
              "  </div>\n",
              "  "
            ]
          },
          "metadata": {},
          "execution_count": 20
        }
      ]
    },
    {
      "cell_type": "markdown",
      "source": [
        "---\n",
        "\n",
        "**Notes:** \n",
        "* target column ```fare_amount``` \n",
        "  * *min* value is negative. That means that some entities in the data has negative price for taxi ride what is an obvious error and can lead to wrong training of the model\n",
        "  * *max* value is pretty high and we should put some attention on it\n",
        "* ```passenger_count``` column *min* is zero and *max* is 9 passengers both of which are impossible\n",
        "* ```distance``` column: \n",
        "  * *min* value is zero what is senseless\n",
        "  * *max* value is really huge distances (12595km ~  distance from Anchorage, Alaska to Santiago de Chile, Chile by air! and obviously can't be covered by car)\n",
        "\n",
        "**Conclusion:** closely observe\n",
        "* ```fare_amount``` column to deal with negative values, check max fares and probable zero values\n",
        "* ```passenger_count``` column to check that number of passengers per cab is realistic\n",
        "* ```distance``` column to check for zero and huge values\n",
        "\n",
        "---"
      ],
      "metadata": {
        "id": "RHLrUCQmnYEc"
      }
    },
    {
      "cell_type": "markdown",
      "source": [
        "### Target Feature Values"
      ],
      "metadata": {
        "id": "aWm_TC3IYMn6"
      }
    },
    {
      "cell_type": "markdown",
      "source": [
        "\n",
        "As it was mentioned earlier, we need to get rid of negative values in the target column ```fare_amount```. We also should check if there is any zero values in the target column as far as it brings no info for the future model and can be counted and treated as missing values.\n",
        "\n",
        "\n",
        "---"
      ],
      "metadata": {
        "id": "4DWrQ78oYZ-q"
      }
    },
    {
      "cell_type": "code",
      "source": [
        "df.fare_amount.describe()"
      ],
      "metadata": {
        "colab": {
          "base_uri": "https://localhost:8080/"
        },
        "id": "K0m1u-byYiZ8",
        "outputId": "10240df9-f508-41f3-ad9e-cdef6de0409b"
      },
      "execution_count": 21,
      "outputs": [
        {
          "output_type": "execute_result",
          "data": {
            "text/plain": [
              "count    1.027921e+06\n",
              "mean     1.133004e+01\n",
              "std      9.746336e+00\n",
              "min     -4.490000e+01\n",
              "25%      6.000000e+00\n",
              "50%      8.500000e+00\n",
              "75%      1.250000e+01\n",
              "max      5.000000e+02\n",
              "Name: fare_amount, dtype: float64"
            ]
          },
          "metadata": {},
          "execution_count": 21
        }
      ]
    },
    {
      "cell_type": "code",
      "source": [
        "df[df.fare_amount<=0].shape #amount of negative and zero values for fare_amount column"
      ],
      "metadata": {
        "colab": {
          "base_uri": "https://localhost:8080/"
        },
        "id": "uG0CUlw7ctB9",
        "outputId": "9a6e98f8-88c9-4b50-f2ba-8a8a83d9d34e"
      },
      "execution_count": 22,
      "outputs": [
        {
          "output_type": "execute_result",
          "data": {
            "text/plain": [
              "(60, 14)"
            ]
          },
          "metadata": {},
          "execution_count": 22
        }
      ]
    },
    {
      "cell_type": "markdown",
      "source": [
        "---\n",
        "\n",
        "As we can see there are some negative and zero values in ```fare_amount``` column. These amount is not high in comparison with all entities in the data (~0.006%), I will skip these entities with dropping the whole row.\n",
        "\n",
        "---"
      ],
      "metadata": {
        "id": "HW3CCjh7eCKl"
      }
    },
    {
      "cell_type": "code",
      "source": [
        "df = df[df.fare_amount>0]\n",
        "print('df.shape: ', df.shape)\n",
        "df.head()"
      ],
      "metadata": {
        "colab": {
          "base_uri": "https://localhost:8080/",
          "height": 224
        },
        "id": "ZRsJEG9idzy6",
        "outputId": "afae488c-4867-450f-eddc-6e3b38138d2d"
      },
      "execution_count": 23,
      "outputs": [
        {
          "output_type": "stream",
          "name": "stdout",
          "text": [
            "df.shape:  (1027861, 14)\n"
          ]
        },
        {
          "output_type": "execute_result",
          "data": {
            "text/plain": [
              "   fare_amount  pickup_longitude  pickup_latitude  dropoff_longitude  \\\n",
              "0          4.5        -73.844311        40.721319         -73.841610   \n",
              "1         16.9        -74.016048        40.711303         -73.979268   \n",
              "2          5.7        -73.982738        40.761270         -73.991242   \n",
              "3          7.7        -73.987130        40.733143         -73.991567   \n",
              "4          5.3        -73.968095        40.768008         -73.956655   \n",
              "\n",
              "   dropoff_latitude  passenger_count  year  season    month  day  day_name  \\\n",
              "0         40.712278                1  2009  Summer     June   15    Monday   \n",
              "1         40.782004                1  2010  Winter  January    5   Tuesday   \n",
              "2         40.750562                2  2011  Summer   August   18  Thursday   \n",
              "3         40.758092                1  2012  Spring    April   21  Saturday   \n",
              "4         40.783762                1  2010  Spring    March    9   Tuesday   \n",
              "\n",
              "   hour  rush_hour  distance  \n",
              "0    17          1     1.031  \n",
              "1    16          1     8.450  \n",
              "2     0          0     1.390  \n",
              "3     4          0     2.799  \n",
              "4     7          1     1.999  "
            ],
            "text/html": [
              "\n",
              "  <div id=\"df-492177d4-3f61-43d7-a1b6-65b0fa789a62\">\n",
              "    <div class=\"colab-df-container\">\n",
              "      <div>\n",
              "<style scoped>\n",
              "    .dataframe tbody tr th:only-of-type {\n",
              "        vertical-align: middle;\n",
              "    }\n",
              "\n",
              "    .dataframe tbody tr th {\n",
              "        vertical-align: top;\n",
              "    }\n",
              "\n",
              "    .dataframe thead th {\n",
              "        text-align: right;\n",
              "    }\n",
              "</style>\n",
              "<table border=\"1\" class=\"dataframe\">\n",
              "  <thead>\n",
              "    <tr style=\"text-align: right;\">\n",
              "      <th></th>\n",
              "      <th>fare_amount</th>\n",
              "      <th>pickup_longitude</th>\n",
              "      <th>pickup_latitude</th>\n",
              "      <th>dropoff_longitude</th>\n",
              "      <th>dropoff_latitude</th>\n",
              "      <th>passenger_count</th>\n",
              "      <th>year</th>\n",
              "      <th>season</th>\n",
              "      <th>month</th>\n",
              "      <th>day</th>\n",
              "      <th>day_name</th>\n",
              "      <th>hour</th>\n",
              "      <th>rush_hour</th>\n",
              "      <th>distance</th>\n",
              "    </tr>\n",
              "  </thead>\n",
              "  <tbody>\n",
              "    <tr>\n",
              "      <th>0</th>\n",
              "      <td>4.5</td>\n",
              "      <td>-73.844311</td>\n",
              "      <td>40.721319</td>\n",
              "      <td>-73.841610</td>\n",
              "      <td>40.712278</td>\n",
              "      <td>1</td>\n",
              "      <td>2009</td>\n",
              "      <td>Summer</td>\n",
              "      <td>June</td>\n",
              "      <td>15</td>\n",
              "      <td>Monday</td>\n",
              "      <td>17</td>\n",
              "      <td>1</td>\n",
              "      <td>1.031</td>\n",
              "    </tr>\n",
              "    <tr>\n",
              "      <th>1</th>\n",
              "      <td>16.9</td>\n",
              "      <td>-74.016048</td>\n",
              "      <td>40.711303</td>\n",
              "      <td>-73.979268</td>\n",
              "      <td>40.782004</td>\n",
              "      <td>1</td>\n",
              "      <td>2010</td>\n",
              "      <td>Winter</td>\n",
              "      <td>January</td>\n",
              "      <td>5</td>\n",
              "      <td>Tuesday</td>\n",
              "      <td>16</td>\n",
              "      <td>1</td>\n",
              "      <td>8.450</td>\n",
              "    </tr>\n",
              "    <tr>\n",
              "      <th>2</th>\n",
              "      <td>5.7</td>\n",
              "      <td>-73.982738</td>\n",
              "      <td>40.761270</td>\n",
              "      <td>-73.991242</td>\n",
              "      <td>40.750562</td>\n",
              "      <td>2</td>\n",
              "      <td>2011</td>\n",
              "      <td>Summer</td>\n",
              "      <td>August</td>\n",
              "      <td>18</td>\n",
              "      <td>Thursday</td>\n",
              "      <td>0</td>\n",
              "      <td>0</td>\n",
              "      <td>1.390</td>\n",
              "    </tr>\n",
              "    <tr>\n",
              "      <th>3</th>\n",
              "      <td>7.7</td>\n",
              "      <td>-73.987130</td>\n",
              "      <td>40.733143</td>\n",
              "      <td>-73.991567</td>\n",
              "      <td>40.758092</td>\n",
              "      <td>1</td>\n",
              "      <td>2012</td>\n",
              "      <td>Spring</td>\n",
              "      <td>April</td>\n",
              "      <td>21</td>\n",
              "      <td>Saturday</td>\n",
              "      <td>4</td>\n",
              "      <td>0</td>\n",
              "      <td>2.799</td>\n",
              "    </tr>\n",
              "    <tr>\n",
              "      <th>4</th>\n",
              "      <td>5.3</td>\n",
              "      <td>-73.968095</td>\n",
              "      <td>40.768008</td>\n",
              "      <td>-73.956655</td>\n",
              "      <td>40.783762</td>\n",
              "      <td>1</td>\n",
              "      <td>2010</td>\n",
              "      <td>Spring</td>\n",
              "      <td>March</td>\n",
              "      <td>9</td>\n",
              "      <td>Tuesday</td>\n",
              "      <td>7</td>\n",
              "      <td>1</td>\n",
              "      <td>1.999</td>\n",
              "    </tr>\n",
              "  </tbody>\n",
              "</table>\n",
              "</div>\n",
              "      <button class=\"colab-df-convert\" onclick=\"convertToInteractive('df-492177d4-3f61-43d7-a1b6-65b0fa789a62')\"\n",
              "              title=\"Convert this dataframe to an interactive table.\"\n",
              "              style=\"display:none;\">\n",
              "        \n",
              "  <svg xmlns=\"http://www.w3.org/2000/svg\" height=\"24px\"viewBox=\"0 0 24 24\"\n",
              "       width=\"24px\">\n",
              "    <path d=\"M0 0h24v24H0V0z\" fill=\"none\"/>\n",
              "    <path d=\"M18.56 5.44l.94 2.06.94-2.06 2.06-.94-2.06-.94-.94-2.06-.94 2.06-2.06.94zm-11 1L8.5 8.5l.94-2.06 2.06-.94-2.06-.94L8.5 2.5l-.94 2.06-2.06.94zm10 10l.94 2.06.94-2.06 2.06-.94-2.06-.94-.94-2.06-.94 2.06-2.06.94z\"/><path d=\"M17.41 7.96l-1.37-1.37c-.4-.4-.92-.59-1.43-.59-.52 0-1.04.2-1.43.59L10.3 9.45l-7.72 7.72c-.78.78-.78 2.05 0 2.83L4 21.41c.39.39.9.59 1.41.59.51 0 1.02-.2 1.41-.59l7.78-7.78 2.81-2.81c.8-.78.8-2.07 0-2.86zM5.41 20L4 18.59l7.72-7.72 1.47 1.35L5.41 20z\"/>\n",
              "  </svg>\n",
              "      </button>\n",
              "      \n",
              "  <style>\n",
              "    .colab-df-container {\n",
              "      display:flex;\n",
              "      flex-wrap:wrap;\n",
              "      gap: 12px;\n",
              "    }\n",
              "\n",
              "    .colab-df-convert {\n",
              "      background-color: #E8F0FE;\n",
              "      border: none;\n",
              "      border-radius: 50%;\n",
              "      cursor: pointer;\n",
              "      display: none;\n",
              "      fill: #1967D2;\n",
              "      height: 32px;\n",
              "      padding: 0 0 0 0;\n",
              "      width: 32px;\n",
              "    }\n",
              "\n",
              "    .colab-df-convert:hover {\n",
              "      background-color: #E2EBFA;\n",
              "      box-shadow: 0px 1px 2px rgba(60, 64, 67, 0.3), 0px 1px 3px 1px rgba(60, 64, 67, 0.15);\n",
              "      fill: #174EA6;\n",
              "    }\n",
              "\n",
              "    [theme=dark] .colab-df-convert {\n",
              "      background-color: #3B4455;\n",
              "      fill: #D2E3FC;\n",
              "    }\n",
              "\n",
              "    [theme=dark] .colab-df-convert:hover {\n",
              "      background-color: #434B5C;\n",
              "      box-shadow: 0px 1px 3px 1px rgba(0, 0, 0, 0.15);\n",
              "      filter: drop-shadow(0px 1px 2px rgba(0, 0, 0, 0.3));\n",
              "      fill: #FFFFFF;\n",
              "    }\n",
              "  </style>\n",
              "\n",
              "      <script>\n",
              "        const buttonEl =\n",
              "          document.querySelector('#df-492177d4-3f61-43d7-a1b6-65b0fa789a62 button.colab-df-convert');\n",
              "        buttonEl.style.display =\n",
              "          google.colab.kernel.accessAllowed ? 'block' : 'none';\n",
              "\n",
              "        async function convertToInteractive(key) {\n",
              "          const element = document.querySelector('#df-492177d4-3f61-43d7-a1b6-65b0fa789a62');\n",
              "          const dataTable =\n",
              "            await google.colab.kernel.invokeFunction('convertToInteractive',\n",
              "                                                     [key], {});\n",
              "          if (!dataTable) return;\n",
              "\n",
              "          const docLinkHtml = 'Like what you see? Visit the ' +\n",
              "            '<a target=\"_blank\" href=https://colab.research.google.com/notebooks/data_table.ipynb>data table notebook</a>'\n",
              "            + ' to learn more about interactive tables.';\n",
              "          element.innerHTML = '';\n",
              "          dataTable['output_type'] = 'display_data';\n",
              "          await google.colab.output.renderOutput(dataTable, element);\n",
              "          const docLink = document.createElement('div');\n",
              "          docLink.innerHTML = docLinkHtml;\n",
              "          element.appendChild(docLink);\n",
              "        }\n",
              "      </script>\n",
              "    </div>\n",
              "  </div>\n",
              "  "
            ]
          },
          "metadata": {},
          "execution_count": 23
        }
      ]
    },
    {
      "cell_type": "code",
      "source": [
        "df[df.fare_amount<=0].shape"
      ],
      "metadata": {
        "colab": {
          "base_uri": "https://localhost:8080/"
        },
        "id": "Vey93OaYgkeI",
        "outputId": "b8d5e2af-f0f7-4dff-ed05-0b1ff794e421"
      },
      "execution_count": 24,
      "outputs": [
        {
          "output_type": "execute_result",
          "data": {
            "text/plain": [
              "(0, 14)"
            ]
          },
          "metadata": {},
          "execution_count": 24
        }
      ]
    },
    {
      "cell_type": "markdown",
      "source": [
        "\n",
        "\n",
        "---\n",
        "\n",
        "No entities with negative or null ride price left.\n",
        "\n",
        "Let's now check distribution of ```fare_amount```. For this I will create 2 plots: distribution plot and boxplot.\n",
        "\n",
        "---\n",
        "\n"
      ],
      "metadata": {
        "id": "h4sax7Bidnk9"
      }
    },
    {
      "cell_type": "code",
      "source": [
        "plt.figure(figsize=(15,5))\n",
        "\n",
        "plt.subplot(121)\n",
        "sns.distplot(df.fare_amount, bins=50) #displot\n",
        "plt.title('Distribution of Fare Amount', fontweight='bold')\n",
        "plt.xlabel('Fare Amount', size=12, fontweight='bold')\n",
        "plt.ylabel('Density', fontweight='bold')\n",
        "\n",
        "plt.subplot(122)\n",
        "sns.boxplot(y='fare_amount', data=df) #boxplot\n",
        "plt.title('Boxplot of Fare Amount', fontweight='bold')\n",
        "plt.ylabel('Fare Amount', fontweight='bold')\n",
        "\n",
        "plt.show()"
      ],
      "metadata": {
        "colab": {
          "base_uri": "https://localhost:8080/",
          "height": 408
        },
        "id": "n7Eanb8iowIE",
        "outputId": "8122331b-d345-4761-9ad9-feb061115590"
      },
      "execution_count": 25,
      "outputs": [
        {
          "output_type": "stream",
          "name": "stderr",
          "text": [
            "/usr/local/lib/python3.8/dist-packages/seaborn/distributions.py:2619: FutureWarning: `distplot` is a deprecated function and will be removed in a future version. Please adapt your code to use either `displot` (a figure-level function with similar flexibility) or `histplot` (an axes-level function for histograms).\n",
            "  warnings.warn(msg, FutureWarning)\n"
          ]
        },
        {
          "output_type": "display_data",
          "data": {
            "text/plain": [
              "<Figure size 1080x360 with 2 Axes>"
            ],
            "image/png": "[encoded data removed]"
          },
          "metadata": {
            "needs_background": "light"
          }
        }
      ]
    },
    {
      "cell_type": "markdown",
      "source": [
        "\n",
        "\n",
        "---\n",
        "\n",
        "As we can see on plots data is highly skewed and have lots of outliers which can mistake model training and lead to incorrect predictions. To avoid this I will drop all values (and connected to them entities) that are out of 99%-percentile (<1% od the data).\n",
        "\n",
        "---\n",
        "\n"
      ],
      "metadata": {
        "id": "Rpa6inLmp213"
      }
    },
    {
      "cell_type": "code",
      "source": [
        "df.fare_amount.quantile(0.99)"
      ],
      "metadata": {
        "colab": {
          "base_uri": "https://localhost:8080/"
        },
        "id": "-qDYTZk8pgEh",
        "outputId": "f50c2dff-cabc-4753-b47e-a40f473bc895"
      },
      "execution_count": 27,
      "outputs": [
        {
          "output_type": "execute_result",
          "data": {
            "text/plain": [
              "52.0"
            ]
          },
          "metadata": {},
          "execution_count": 27
        }
      ]
    },
    {
      "cell_type": "code",
      "source": [
        "df[df.fare_amount>52]"
      ],
      "metadata": {
        "colab": {
          "base_uri": "https://localhost:8080/",
          "height": 424
        },
        "id": "sBUUJqVjdJuP",
        "outputId": "b883caaa-a7e5-40ff-9ebb-75eaa8f0d77b"
      },
      "execution_count": 28,
      "outputs": [
        {
          "output_type": "execute_result",
          "data": {
            "text/plain": [
              "         fare_amount  pickup_longitude  pickup_latitude  dropoff_longitude  \\\n",
              "35             58.00        -73.983330        40.738720         -73.933197   \n",
              "147            52.50        -73.982265        40.762062         -73.768550   \n",
              "286            57.33        -73.781127        40.645007         -73.981802   \n",
              "315            52.83        -73.873054        40.774086         -73.982727   \n",
              "437            57.33        -73.790250        40.643705         -74.002270   \n",
              "...              ...               ...              ...                ...   \n",
              "1048345       173.33        -73.939250        40.849593         -74.014327   \n",
              "1048395        57.33        -73.782801        40.644262         -73.976173   \n",
              "1048418        53.00        -73.997411        40.751417         -74.023589   \n",
              "1048451        57.33        -73.783657        40.648617         -73.987400   \n",
              "1048535        53.00        -73.983100        40.726653         -74.032012   \n",
              "\n",
              "         dropoff_latitude  passenger_count  year  season     month  day  \\\n",
              "35              40.847225                1  2015  Winter   January   11   \n",
              "147             40.675135                1  2014  Spring       May   13   \n",
              "286             40.762515                1  2013  Summer      June   14   \n",
              "315             40.771496                1  2015  Spring     March   19   \n",
              "437             40.734542                1  2014  Spring       May   12   \n",
              "...                   ...              ...   ...     ...       ...  ...   \n",
              "1048345         40.903090                1  2014  Spring     March    2   \n",
              "1048395         40.748916                2  2014  Winter  December   13   \n",
              "1048418         40.780699                1  2011  Summer      July   31   \n",
              "1048451         40.759342                1  2014    Fall  November   27   \n",
              "1048535         40.753082                1  2011  Spring     April    8   \n",
              "\n",
              "         day_name  hour  rush_hour  distance  \n",
              "35         Sunday     3          0    12.782  \n",
              "147       Tuesday    22          0    20.441  \n",
              "286        Friday    17          1    21.375  \n",
              "315      Thursday    12          0     9.240  \n",
              "437        Monday    23          0    20.533  \n",
              "...           ...   ...        ...       ...  \n",
              "1048345    Sunday    13          0     8.674  \n",
              "1048395  Saturday    17          1    20.030  \n",
              "1048418    Sunday    15          1     3.932  \n",
              "1048451  Thursday    16          1    21.132  \n",
              "1048535    Friday     1          0     5.061  \n",
              "\n",
              "[10125 rows x 14 columns]"
            ],
            "text/html": [
              "\n",
              "  <div id=\"df-b0347516-27e0-4ca2-873f-d22d98b6e182\">\n",
              "    <div class=\"colab-df-container\">\n",
              "      <div>\n",
              "<style scoped>\n",
              "    .dataframe tbody tr th:only-of-type {\n",
              "        vertical-align: middle;\n",
              "    }\n",
              "\n",
              "    .dataframe tbody tr th {\n",
              "        vertical-align: top;\n",
              "    }\n",
              "\n",
              "    .dataframe thead th {\n",
              "        text-align: right;\n",
              "    }\n",
              "</style>\n",
              "<table border=\"1\" class=\"dataframe\">\n",
              "  <thead>\n",
              "    <tr style=\"text-align: right;\">\n",
              "      <th></th>\n",
              "      <th>fare_amount</th>\n",
              "      <th>pickup_longitude</th>\n",
              "      <th>pickup_latitude</th>\n",
              "      <th>dropoff_longitude</th>\n",
              "      <th>dropoff_latitude</th>\n",
              "      <th>passenger_count</th>\n",
              "      <th>year</th>\n",
              "      <th>season</th>\n",
              "      <th>month</th>\n",
              "      <th>day</th>\n",
              "      <th>day_name</th>\n",
              "      <th>hour</th>\n",
              "      <th>rush_hour</th>\n",
              "      <th>distance</th>\n",
              "    </tr>\n",
              "  </thead>\n",
              "  <tbody>\n",
              "    <tr>\n",
              "      <th>35</th>\n",
              "      <td>58.00</td>\n",
              "      <td>-73.983330</td>\n",
              "      <td>40.738720</td>\n",
              "      <td>-73.933197</td>\n",
              "      <td>40.847225</td>\n",
              "      <td>1</td>\n",
              "      <td>2015</td>\n",
              "      <td>Winter</td>\n",
              "      <td>January</td>\n",
              "      <td>11</td>\n",
              "      <td>Sunday</td>\n",
              "      <td>3</td>\n",
              "      <td>0</td>\n",
              "      <td>12.782</td>\n",
              "    </tr>\n",
              "    <tr>\n",
              "      <th>147</th>\n",
              "      <td>52.50</td>\n",
              "      <td>-73.982265</td>\n",
              "      <td>40.762062</td>\n",
              "      <td>-73.768550</td>\n",
              "      <td>40.675135</td>\n",
              "      <td>1</td>\n",
              "      <td>2014</td>\n",
              "      <td>Spring</td>\n",
              "      <td>May</td>\n",
              "      <td>13</td>\n",
              "      <td>Tuesday</td>\n",
              "      <td>22</td>\n",
              "      <td>0</td>\n",
              "      <td>20.441</td>\n",
              "    </tr>\n",
              "    <tr>\n",
              "      <th>286</th>\n",
              "      <td>57.33</td>\n",
              "      <td>-73.781127</td>\n",
              "      <td>40.645007</td>\n",
              "      <td>-73.981802</td>\n",
              "      <td>40.762515</td>\n",
              "      <td>1</td>\n",
              "      <td>2013</td>\n",
              "      <td>Summer</td>\n",
              "      <td>June</td>\n",
              "      <td>14</td>\n",
              "      <td>Friday</td>\n",
              "      <td>17</td>\n",
              "      <td>1</td>\n",
              "      <td>21.375</td>\n",
              "    </tr>\n",
              "    <tr>\n",
              "      <th>315</th>\n",
              "      <td>52.83</td>\n",
              "      <td>-73.873054</td>\n",
              "      <td>40.774086</td>\n",
              "      <td>-73.982727</td>\n",
              "      <td>40.771496</td>\n",
              "      <td>1</td>\n",
              "      <td>2015</td>\n",
              "      <td>Spring</td>\n",
              "      <td>March</td>\n",
              "      <td>19</td>\n",
              "      <td>Thursday</td>\n",
              "      <td>12</td>\n",
              "      <td>0</td>\n",
              "      <td>9.240</td>\n",
              "    </tr>\n",
              "    <tr>\n",
              "      <th>437</th>\n",
              "      <td>57.33</td>\n",
              "      <td>-73.790250</td>\n",
              "      <td>40.643705</td>\n",
              "      <td>-74.002270</td>\n",
              "      <td>40.734542</td>\n",
              "      <td>1</td>\n",
              "      <td>2014</td>\n",
              "      <td>Spring</td>\n",
              "      <td>May</td>\n",
              "      <td>12</td>\n",
              "      <td>Monday</td>\n",
              "      <td>23</td>\n",
              "      <td>0</td>\n",
              "      <td>20.533</td>\n",
              "    </tr>\n",
              "    <tr>\n",
              "      <th>...</th>\n",
              "      <td>...</td>\n",
              "      <td>...</td>\n",
              "      <td>...</td>\n",
              "      <td>...</td>\n",
              "      <td>...</td>\n",
              "      <td>...</td>\n",
              "      <td>...</td>\n",
              "      <td>...</td>\n",
              "      <td>...</td>\n",
              "      <td>...</td>\n",
              "      <td>...</td>\n",
              "      <td>...</td>\n",
              "      <td>...</td>\n",
              "      <td>...</td>\n",
              "    </tr>\n",
              "    <tr>\n",
              "      <th>1048345</th>\n",
              "      <td>173.33</td>\n",
              "      <td>-73.939250</td>\n",
              "      <td>40.849593</td>\n",
              "      <td>-74.014327</td>\n",
              "      <td>40.903090</td>\n",
              "      <td>1</td>\n",
              "      <td>2014</td>\n",
              "      <td>Spring</td>\n",
              "      <td>March</td>\n",
              "      <td>2</td>\n",
              "      <td>Sunday</td>\n",
              "      <td>13</td>\n",
              "      <td>0</td>\n",
              "      <td>8.674</td>\n",
              "    </tr>\n",
              "    <tr>\n",
              "      <th>1048395</th>\n",
              "      <td>57.33</td>\n",
              "      <td>-73.782801</td>\n",
              "      <td>40.644262</td>\n",
              "      <td>-73.976173</td>\n",
              "      <td>40.748916</td>\n",
              "      <td>2</td>\n",
              "      <td>2014</td>\n",
              "      <td>Winter</td>\n",
              "      <td>December</td>\n",
              "      <td>13</td>\n",
              "      <td>Saturday</td>\n",
              "      <td>17</td>\n",
              "      <td>1</td>\n",
              "      <td>20.030</td>\n",
              "    </tr>\n",
              "    <tr>\n",
              "      <th>1048418</th>\n",
              "      <td>53.00</td>\n",
              "      <td>-73.997411</td>\n",
              "      <td>40.751417</td>\n",
              "      <td>-74.023589</td>\n",
              "      <td>40.780699</td>\n",
              "      <td>1</td>\n",
              "      <td>2011</td>\n",
              "      <td>Summer</td>\n",
              "      <td>July</td>\n",
              "      <td>31</td>\n",
              "      <td>Sunday</td>\n",
              "      <td>15</td>\n",
              "      <td>1</td>\n",
              "      <td>3.932</td>\n",
              "    </tr>\n",
              "    <tr>\n",
              "      <th>1048451</th>\n",
              "      <td>57.33</td>\n",
              "      <td>-73.783657</td>\n",
              "      <td>40.648617</td>\n",
              "      <td>-73.987400</td>\n",
              "      <td>40.759342</td>\n",
              "      <td>1</td>\n",
              "      <td>2014</td>\n",
              "      <td>Fall</td>\n",
              "      <td>November</td>\n",
              "      <td>27</td>\n",
              "      <td>Thursday</td>\n",
              "      <td>16</td>\n",
              "      <td>1</td>\n",
              "      <td>21.132</td>\n",
              "    </tr>\n",
              "    <tr>\n",
              "      <th>1048535</th>\n",
              "      <td>53.00</td>\n",
              "      <td>-73.983100</td>\n",
              "      <td>40.726653</td>\n",
              "      <td>-74.032012</td>\n",
              "      <td>40.753082</td>\n",
              "      <td>1</td>\n",
              "      <td>2011</td>\n",
              "      <td>Spring</td>\n",
              "      <td>April</td>\n",
              "      <td>8</td>\n",
              "      <td>Friday</td>\n",
              "      <td>1</td>\n",
              "      <td>0</td>\n",
              "      <td>5.061</td>\n",
              "    </tr>\n",
              "  </tbody>\n",
              "</table>\n",
              "<p>10125 rows × 14 columns</p>\n",
              "</div>\n",
              "      <button class=\"colab-df-convert\" onclick=\"convertToInteractive('df-b0347516-27e0-4ca2-873f-d22d98b6e182')\"\n",
              "              title=\"Convert this dataframe to an interactive table.\"\n",
              "              style=\"display:none;\">\n",
              "        \n",
              "  <svg xmlns=\"http://www.w3.org/2000/svg\" height=\"24px\"viewBox=\"0 0 24 24\"\n",
              "       width=\"24px\">\n",
              "    <path d=\"M0 0h24v24H0V0z\" fill=\"none\"/>\n",
              "    <path d=\"M18.56 5.44l.94 2.06.94-2.06 2.06-.94-2.06-.94-.94-2.06-.94 2.06-2.06.94zm-11 1L8.5 8.5l.94-2.06 2.06-.94-2.06-.94L8.5 2.5l-.94 2.06-2.06.94zm10 10l.94 2.06.94-2.06 2.06-.94-2.06-.94-.94-2.06-.94 2.06-2.06.94z\"/><path d=\"M17.41 7.96l-1.37-1.37c-.4-.4-.92-.59-1.43-.59-.52 0-1.04.2-1.43.59L10.3 9.45l-7.72 7.72c-.78.78-.78 2.05 0 2.83L4 21.41c.39.39.9.59 1.41.59.51 0 1.02-.2 1.41-.59l7.78-7.78 2.81-2.81c.8-.78.8-2.07 0-2.86zM5.41 20L4 18.59l7.72-7.72 1.47 1.35L5.41 20z\"/>\n",
              "  </svg>\n",
              "      </button>\n",
              "      \n",
              "  <style>\n",
              "    .colab-df-container {\n",
              "      display:flex;\n",
              "      flex-wrap:wrap;\n",
              "      gap: 12px;\n",
              "    }\n",
              "\n",
              "    .colab-df-convert {\n",
              "      background-color: #E8F0FE;\n",
              "      border: none;\n",
              "      border-radius: 50%;\n",
              "      cursor: pointer;\n",
              "      display: none;\n",
              "      fill: #1967D2;\n",
              "      height: 32px;\n",
              "      padding: 0 0 0 0;\n",
              "      width: 32px;\n",
              "    }\n",
              "\n",
              "    .colab-df-convert:hover {\n",
              "      background-color: #E2EBFA;\n",
              "      box-shadow: 0px 1px 2px rgba(60, 64, 67, 0.3), 0px 1px 3px 1px rgba(60, 64, 67, 0.15);\n",
              "      fill: #174EA6;\n",
              "    }\n",
              "\n",
              "    [theme=dark] .colab-df-convert {\n",
              "      background-color: #3B4455;\n",
              "      fill: #D2E3FC;\n",
              "    }\n",
              "\n",
              "    [theme=dark] .colab-df-convert:hover {\n",
              "      background-color: #434B5C;\n",
              "      box-shadow: 0px 1px 3px 1px rgba(0, 0, 0, 0.15);\n",
              "      filter: drop-shadow(0px 1px 2px rgba(0, 0, 0, 0.3));\n",
              "      fill: #FFFFFF;\n",
              "    }\n",
              "  </style>\n",
              "\n",
              "      <script>\n",
              "        const buttonEl =\n",
              "          document.querySelector('#df-b0347516-27e0-4ca2-873f-d22d98b6e182 button.colab-df-convert');\n",
              "        buttonEl.style.display =\n",
              "          google.colab.kernel.accessAllowed ? 'block' : 'none';\n",
              "\n",
              "        async function convertToInteractive(key) {\n",
              "          const element = document.querySelector('#df-b0347516-27e0-4ca2-873f-d22d98b6e182');\n",
              "          const dataTable =\n",
              "            await google.colab.kernel.invokeFunction('convertToInteractive',\n",
              "                                                     [key], {});\n",
              "          if (!dataTable) return;\n",
              "\n",
              "          const docLinkHtml = 'Like what you see? Visit the ' +\n",
              "            '<a target=\"_blank\" href=https://colab.research.google.com/notebooks/data_table.ipynb>data table notebook</a>'\n",
              "            + ' to learn more about interactive tables.';\n",
              "          element.innerHTML = '';\n",
              "          dataTable['output_type'] = 'display_data';\n",
              "          await google.colab.output.renderOutput(dataTable, element);\n",
              "          const docLink = document.createElement('div');\n",
              "          docLink.innerHTML = docLinkHtml;\n",
              "          element.appendChild(docLink);\n",
              "        }\n",
              "      </script>\n",
              "    </div>\n",
              "  </div>\n",
              "  "
            ]
          },
          "metadata": {},
          "execution_count": 28
        }
      ]
    },
    {
      "cell_type": "code",
      "source": [
        "df.drop(index=df[df.fare_amount>52].index.to_list(), inplace=True)\n",
        "print('df.shape: ', df.shape)\n",
        "df.head()"
      ],
      "metadata": {
        "colab": {
          "base_uri": "https://localhost:8080/",
          "height": 224
        },
        "id": "3hJeEDToeqjL",
        "outputId": "7495a2b6-89d8-44d4-e85e-ac1190c2aafb"
      },
      "execution_count": 29,
      "outputs": [
        {
          "output_type": "stream",
          "name": "stdout",
          "text": [
            "df.shape:  (1017736, 14)\n"
          ]
        },
        {
          "output_type": "execute_result",
          "data": {
            "text/plain": [
              "   fare_amount  pickup_longitude  pickup_latitude  dropoff_longitude  \\\n",
              "0          4.5        -73.844311        40.721319         -73.841610   \n",
              "1         16.9        -74.016048        40.711303         -73.979268   \n",
              "2          5.7        -73.982738        40.761270         -73.991242   \n",
              "3          7.7        -73.987130        40.733143         -73.991567   \n",
              "4          5.3        -73.968095        40.768008         -73.956655   \n",
              "\n",
              "   dropoff_latitude  passenger_count  year  season    month  day  day_name  \\\n",
              "0         40.712278                1  2009  Summer     June   15    Monday   \n",
              "1         40.782004                1  2010  Winter  January    5   Tuesday   \n",
              "2         40.750562                2  2011  Summer   August   18  Thursday   \n",
              "3         40.758092                1  2012  Spring    April   21  Saturday   \n",
              "4         40.783762                1  2010  Spring    March    9   Tuesday   \n",
              "\n",
              "   hour  rush_hour  distance  \n",
              "0    17          1     1.031  \n",
              "1    16          1     8.450  \n",
              "2     0          0     1.390  \n",
              "3     4          0     2.799  \n",
              "4     7          1     1.999  "
            ],
            "text/html": [
              "\n",
              "  <div id=\"df-1e423697-e947-46ad-b048-1dc221ce682f\">\n",
              "    <div class=\"colab-df-container\">\n",
              "      <div>\n",
              "<style scoped>\n",
              "    .dataframe tbody tr th:only-of-type {\n",
              "        vertical-align: middle;\n",
              "    }\n",
              "\n",
              "    .dataframe tbody tr th {\n",
              "        vertical-align: top;\n",
              "    }\n",
              "\n",
              "    .dataframe thead th {\n",
              "        text-align: right;\n",
              "    }\n",
              "</style>\n",
              "<table border=\"1\" class=\"dataframe\">\n",
              "  <thead>\n",
              "    <tr style=\"text-align: right;\">\n",
              "      <th></th>\n",
              "      <th>fare_amount</th>\n",
              "      <th>pickup_longitude</th>\n",
              "      <th>pickup_latitude</th>\n",
              "      <th>dropoff_longitude</th>\n",
              "      <th>dropoff_latitude</th>\n",
              "      <th>passenger_count</th>\n",
              "      <th>year</th>\n",
              "      <th>season</th>\n",
              "      <th>month</th>\n",
              "      <th>day</th>\n",
              "      <th>day_name</th>\n",
              "      <th>hour</th>\n",
              "      <th>rush_hour</th>\n",
              "      <th>distance</th>\n",
              "    </tr>\n",
              "  </thead>\n",
              "  <tbody>\n",
              "    <tr>\n",
              "      <th>0</th>\n",
              "      <td>4.5</td>\n",
              "      <td>-73.844311</td>\n",
              "      <td>40.721319</td>\n",
              "      <td>-73.841610</td>\n",
              "      <td>40.712278</td>\n",
              "      <td>1</td>\n",
              "      <td>2009</td>\n",
              "      <td>Summer</td>\n",
              "      <td>June</td>\n",
              "      <td>15</td>\n",
              "      <td>Monday</td>\n",
              "      <td>17</td>\n",
              "      <td>1</td>\n",
              "      <td>1.031</td>\n",
              "    </tr>\n",
              "    <tr>\n",
              "      <th>1</th>\n",
              "      <td>16.9</td>\n",
              "      <td>-74.016048</td>\n",
              "      <td>40.711303</td>\n",
              "      <td>-73.979268</td>\n",
              "      <td>40.782004</td>\n",
              "      <td>1</td>\n",
              "      <td>2010</td>\n",
              "      <td>Winter</td>\n",
              "      <td>January</td>\n",
              "      <td>5</td>\n",
              "      <td>Tuesday</td>\n",
              "      <td>16</td>\n",
              "      <td>1</td>\n",
              "      <td>8.450</td>\n",
              "    </tr>\n",
              "    <tr>\n",
              "      <th>2</th>\n",
              "      <td>5.7</td>\n",
              "      <td>-73.982738</td>\n",
              "      <td>40.761270</td>\n",
              "      <td>-73.991242</td>\n",
              "      <td>40.750562</td>\n",
              "      <td>2</td>\n",
              "      <td>2011</td>\n",
              "      <td>Summer</td>\n",
              "      <td>August</td>\n",
              "      <td>18</td>\n",
              "      <td>Thursday</td>\n",
              "      <td>0</td>\n",
              "      <td>0</td>\n",
              "      <td>1.390</td>\n",
              "    </tr>\n",
              "    <tr>\n",
              "      <th>3</th>\n",
              "      <td>7.7</td>\n",
              "      <td>-73.987130</td>\n",
              "      <td>40.733143</td>\n",
              "      <td>-73.991567</td>\n",
              "      <td>40.758092</td>\n",
              "      <td>1</td>\n",
              "      <td>2012</td>\n",
              "      <td>Spring</td>\n",
              "      <td>April</td>\n",
              "      <td>21</td>\n",
              "      <td>Saturday</td>\n",
              "      <td>4</td>\n",
              "      <td>0</td>\n",
              "      <td>2.799</td>\n",
              "    </tr>\n",
              "    <tr>\n",
              "      <th>4</th>\n",
              "      <td>5.3</td>\n",
              "      <td>-73.968095</td>\n",
              "      <td>40.768008</td>\n",
              "      <td>-73.956655</td>\n",
              "      <td>40.783762</td>\n",
              "      <td>1</td>\n",
              "      <td>2010</td>\n",
              "      <td>Spring</td>\n",
              "      <td>March</td>\n",
              "      <td>9</td>\n",
              "      <td>Tuesday</td>\n",
              "      <td>7</td>\n",
              "      <td>1</td>\n",
              "      <td>1.999</td>\n",
              "    </tr>\n",
              "  </tbody>\n",
              "</table>\n",
              "</div>\n",
              "      <button class=\"colab-df-convert\" onclick=\"convertToInteractive('df-1e423697-e947-46ad-b048-1dc221ce682f')\"\n",
              "              title=\"Convert this dataframe to an interactive table.\"\n",
              "              style=\"display:none;\">\n",
              "        \n",
              "  <svg xmlns=\"http://www.w3.org/2000/svg\" height=\"24px\"viewBox=\"0 0 24 24\"\n",
              "       width=\"24px\">\n",
              "    <path d=\"M0 0h24v24H0V0z\" fill=\"none\"/>\n",
              "    <path d=\"M18.56 5.44l.94 2.06.94-2.06 2.06-.94-2.06-.94-.94-2.06-.94 2.06-2.06.94zm-11 1L8.5 8.5l.94-2.06 2.06-.94-2.06-.94L8.5 2.5l-.94 2.06-2.06.94zm10 10l.94 2.06.94-2.06 2.06-.94-2.06-.94-.94-2.06-.94 2.06-2.06.94z\"/><path d=\"M17.41 7.96l-1.37-1.37c-.4-.4-.92-.59-1.43-.59-.52 0-1.04.2-1.43.59L10.3 9.45l-7.72 7.72c-.78.78-.78 2.05 0 2.83L4 21.41c.39.39.9.59 1.41.59.51 0 1.02-.2 1.41-.59l7.78-7.78 2.81-2.81c.8-.78.8-2.07 0-2.86zM5.41 20L4 18.59l7.72-7.72 1.47 1.35L5.41 20z\"/>\n",
              "  </svg>\n",
              "      </button>\n",
              "      \n",
              "  <style>\n",
              "    .colab-df-container {\n",
              "      display:flex;\n",
              "      flex-wrap:wrap;\n",
              "      gap: 12px;\n",
              "    }\n",
              "\n",
              "    .colab-df-convert {\n",
              "      background-color: #E8F0FE;\n",
              "      border: none;\n",
              "      border-radius: 50%;\n",
              "      cursor: pointer;\n",
              "      display: none;\n",
              "      fill: #1967D2;\n",
              "      height: 32px;\n",
              "      padding: 0 0 0 0;\n",
              "      width: 32px;\n",
              "    }\n",
              "\n",
              "    .colab-df-convert:hover {\n",
              "      background-color: #E2EBFA;\n",
              "      box-shadow: 0px 1px 2px rgba(60, 64, 67, 0.3), 0px 1px 3px 1px rgba(60, 64, 67, 0.15);\n",
              "      fill: #174EA6;\n",
              "    }\n",
              "\n",
              "    [theme=dark] .colab-df-convert {\n",
              "      background-color: #3B4455;\n",
              "      fill: #D2E3FC;\n",
              "    }\n",
              "\n",
              "    [theme=dark] .colab-df-convert:hover {\n",
              "      background-color: #434B5C;\n",
              "      box-shadow: 0px 1px 3px 1px rgba(0, 0, 0, 0.15);\n",
              "      filter: drop-shadow(0px 1px 2px rgba(0, 0, 0, 0.3));\n",
              "      fill: #FFFFFF;\n",
              "    }\n",
              "  </style>\n",
              "\n",
              "      <script>\n",
              "        const buttonEl =\n",
              "          document.querySelector('#df-1e423697-e947-46ad-b048-1dc221ce682f button.colab-df-convert');\n",
              "        buttonEl.style.display =\n",
              "          google.colab.kernel.accessAllowed ? 'block' : 'none';\n",
              "\n",
              "        async function convertToInteractive(key) {\n",
              "          const element = document.querySelector('#df-1e423697-e947-46ad-b048-1dc221ce682f');\n",
              "          const dataTable =\n",
              "            await google.colab.kernel.invokeFunction('convertToInteractive',\n",
              "                                                     [key], {});\n",
              "          if (!dataTable) return;\n",
              "\n",
              "          const docLinkHtml = 'Like what you see? Visit the ' +\n",
              "            '<a target=\"_blank\" href=https://colab.research.google.com/notebooks/data_table.ipynb>data table notebook</a>'\n",
              "            + ' to learn more about interactive tables.';\n",
              "          element.innerHTML = '';\n",
              "          dataTable['output_type'] = 'display_data';\n",
              "          await google.colab.output.renderOutput(dataTable, element);\n",
              "          const docLink = document.createElement('div');\n",
              "          docLink.innerHTML = docLinkHtml;\n",
              "          element.appendChild(docLink);\n",
              "        }\n",
              "      </script>\n",
              "    </div>\n",
              "  </div>\n",
              "  "
            ]
          },
          "metadata": {},
          "execution_count": 29
        }
      ]
    },
    {
      "cell_type": "code",
      "source": [
        "df.fare_amount.describe()"
      ],
      "metadata": {
        "colab": {
          "base_uri": "https://localhost:8080/"
        },
        "id": "YLhhIgTUfH0j",
        "outputId": "cee07096-97c8-41af-e719-ab79f173c420"
      },
      "execution_count": 30,
      "outputs": [
        {
          "output_type": "execute_result",
          "data": {
            "text/plain": [
              "count    1.017736e+06\n",
              "mean     1.080909e+01\n",
              "std      7.996781e+00\n",
              "min      1.000000e-02\n",
              "25%      6.000000e+00\n",
              "50%      8.500000e+00\n",
              "75%      1.250000e+01\n",
              "max      5.200000e+01\n",
              "Name: fare_amount, dtype: float64"
            ]
          },
          "metadata": {},
          "execution_count": 30
        }
      ]
    },
    {
      "cell_type": "markdown",
      "source": [
        "\n",
        "\n",
        "---\n",
        "\n",
        "Now *min* of ```fare_amount``` is $0.01 what is still pretty low and seems erroneous. \n",
        "\n",
        "---\n",
        "\n"
      ],
      "metadata": {
        "id": "3hhV6_8Bffh3"
      }
    },
    {
      "cell_type": "code",
      "source": [
        "df[df.fare_amount<1]"
      ],
      "metadata": {
        "colab": {
          "base_uri": "https://localhost:8080/",
          "height": 332
        },
        "id": "TM2m4BlLfPXo",
        "outputId": "bc049e08-febb-48df-a9e9-752a27e2f261"
      },
      "execution_count": 31,
      "outputs": [
        {
          "output_type": "execute_result",
          "data": {
            "text/plain": [
              "         fare_amount  pickup_longitude  pickup_latitude  dropoff_longitude  \\\n",
              "2780            0.01        -73.939041        40.713963         -73.941673   \n",
              "90010           0.01        -73.980331        40.770535         -73.981911   \n",
              "194168          0.01        -73.890549        40.719757         -73.842293   \n",
              "217966          0.01        -73.997398        40.725941         -73.997421   \n",
              "281140          0.01        -73.757896        40.927608         -73.757896   \n",
              "671865          0.01        -73.980535        40.779988         -73.970821   \n",
              "843937          0.01        -73.996124        40.753342         -73.998871   \n",
              "1030274         0.01        -73.972466        40.786537         -73.972473   \n",
              "1046329         0.01        -73.977928        40.783142         -73.977936   \n",
              "\n",
              "         dropoff_latitude  passenger_count  year  season     month  day  \\\n",
              "2780            40.713997                1  2015  Spring       May    1   \n",
              "90010           40.771503                1  2015  Winter  February   19   \n",
              "194168          40.668804                2  2015  Winter  February   27   \n",
              "217966          40.725983                1  2015  Winter   January   14   \n",
              "281140          40.927605                1  2015  Spring     April   13   \n",
              "671865          40.793403                1  2010  Winter  February    2   \n",
              "843937          40.755047                1  2015  Spring     March   29   \n",
              "1030274         40.786541                1  2015  Spring     March   17   \n",
              "1046329         40.783180                2  2015  Winter   January    5   \n",
              "\n",
              "          day_name  hour  rush_hour  distance  \n",
              "2780        Friday    15          1     0.222  \n",
              "90010     Thursday     6          0     0.171  \n",
              "194168      Friday    15          1     6.975  \n",
              "217966   Wednesday    16          1     0.005  \n",
              "281140      Monday    21          0     0.000  \n",
              "671865     Tuesday    17          1     1.701  \n",
              "843937      Sunday    10          1     0.299  \n",
              "1030274    Tuesday    23          0     0.001  \n",
              "1046329     Monday    21          0     0.004  "
            ],
            "text/html": [
              "\n",
              "  <div id=\"df-c9c63ab8-b755-4715-a379-687fcf03814c\">\n",
              "    <div class=\"colab-df-container\">\n",
              "      <div>\n",
              "<style scoped>\n",
              "    .dataframe tbody tr th:only-of-type {\n",
              "        vertical-align: middle;\n",
              "    }\n",
              "\n",
              "    .dataframe tbody tr th {\n",
              "        vertical-align: top;\n",
              "    }\n",
              "\n",
              "    .dataframe thead th {\n",
              "        text-align: right;\n",
              "    }\n",
              "</style>\n",
              "<table border=\"1\" class=\"dataframe\">\n",
              "  <thead>\n",
              "    <tr style=\"text-align: right;\">\n",
              "      <th></th>\n",
              "      <th>fare_amount</th>\n",
              "      <th>pickup_longitude</th>\n",
              "      <th>pickup_latitude</th>\n",
              "      <th>dropoff_longitude</th>\n",
              "      <th>dropoff_latitude</th>\n",
              "      <th>passenger_count</th>\n",
              "      <th>year</th>\n",
              "      <th>season</th>\n",
              "      <th>month</th>\n",
              "      <th>day</th>\n",
              "      <th>day_name</th>\n",
              "      <th>hour</th>\n",
              "      <th>rush_hour</th>\n",
              "      <th>distance</th>\n",
              "    </tr>\n",
              "  </thead>\n",
              "  <tbody>\n",
              "    <tr>\n",
              "      <th>2780</th>\n",
              "      <td>0.01</td>\n",
              "      <td>-73.939041</td>\n",
              "      <td>40.713963</td>\n",
              "      <td>-73.941673</td>\n",
              "      <td>40.713997</td>\n",
              "      <td>1</td>\n",
              "      <td>2015</td>\n",
              "      <td>Spring</td>\n",
              "      <td>May</td>\n",
              "      <td>1</td>\n",
              "      <td>Friday</td>\n",
              "      <td>15</td>\n",
              "      <td>1</td>\n",
              "      <td>0.222</td>\n",
              "    </tr>\n",
              "    <tr>\n",
              "      <th>90010</th>\n",
              "      <td>0.01</td>\n",
              "      <td>-73.980331</td>\n",
              "      <td>40.770535</td>\n",
              "      <td>-73.981911</td>\n",
              "      <td>40.771503</td>\n",
              "      <td>1</td>\n",
              "      <td>2015</td>\n",
              "      <td>Winter</td>\n",
              "      <td>February</td>\n",
              "      <td>19</td>\n",
              "      <td>Thursday</td>\n",
              "      <td>6</td>\n",
              "      <td>0</td>\n",
              "      <td>0.171</td>\n",
              "    </tr>\n",
              "    <tr>\n",
              "      <th>194168</th>\n",
              "      <td>0.01</td>\n",
              "      <td>-73.890549</td>\n",
              "      <td>40.719757</td>\n",
              "      <td>-73.842293</td>\n",
              "      <td>40.668804</td>\n",
              "      <td>2</td>\n",
              "      <td>2015</td>\n",
              "      <td>Winter</td>\n",
              "      <td>February</td>\n",
              "      <td>27</td>\n",
              "      <td>Friday</td>\n",
              "      <td>15</td>\n",
              "      <td>1</td>\n",
              "      <td>6.975</td>\n",
              "    </tr>\n",
              "    <tr>\n",
              "      <th>217966</th>\n",
              "      <td>0.01</td>\n",
              "      <td>-73.997398</td>\n",
              "      <td>40.725941</td>\n",
              "      <td>-73.997421</td>\n",
              "      <td>40.725983</td>\n",
              "      <td>1</td>\n",
              "      <td>2015</td>\n",
              "      <td>Winter</td>\n",
              "      <td>January</td>\n",
              "      <td>14</td>\n",
              "      <td>Wednesday</td>\n",
              "      <td>16</td>\n",
              "      <td>1</td>\n",
              "      <td>0.005</td>\n",
              "    </tr>\n",
              "    <tr>\n",
              "      <th>281140</th>\n",
              "      <td>0.01</td>\n",
              "      <td>-73.757896</td>\n",
              "      <td>40.927608</td>\n",
              "      <td>-73.757896</td>\n",
              "      <td>40.927605</td>\n",
              "      <td>1</td>\n",
              "      <td>2015</td>\n",
              "      <td>Spring</td>\n",
              "      <td>April</td>\n",
              "      <td>13</td>\n",
              "      <td>Monday</td>\n",
              "      <td>21</td>\n",
              "      <td>0</td>\n",
              "      <td>0.000</td>\n",
              "    </tr>\n",
              "    <tr>\n",
              "      <th>671865</th>\n",
              "      <td>0.01</td>\n",
              "      <td>-73.980535</td>\n",
              "      <td>40.779988</td>\n",
              "      <td>-73.970821</td>\n",
              "      <td>40.793403</td>\n",
              "      <td>1</td>\n",
              "      <td>2010</td>\n",
              "      <td>Winter</td>\n",
              "      <td>February</td>\n",
              "      <td>2</td>\n",
              "      <td>Tuesday</td>\n",
              "      <td>17</td>\n",
              "      <td>1</td>\n",
              "      <td>1.701</td>\n",
              "    </tr>\n",
              "    <tr>\n",
              "      <th>843937</th>\n",
              "      <td>0.01</td>\n",
              "      <td>-73.996124</td>\n",
              "      <td>40.753342</td>\n",
              "      <td>-73.998871</td>\n",
              "      <td>40.755047</td>\n",
              "      <td>1</td>\n",
              "      <td>2015</td>\n",
              "      <td>Spring</td>\n",
              "      <td>March</td>\n",
              "      <td>29</td>\n",
              "      <td>Sunday</td>\n",
              "      <td>10</td>\n",
              "      <td>1</td>\n",
              "      <td>0.299</td>\n",
              "    </tr>\n",
              "    <tr>\n",
              "      <th>1030274</th>\n",
              "      <td>0.01</td>\n",
              "      <td>-73.972466</td>\n",
              "      <td>40.786537</td>\n",
              "      <td>-73.972473</td>\n",
              "      <td>40.786541</td>\n",
              "      <td>1</td>\n",
              "      <td>2015</td>\n",
              "      <td>Spring</td>\n",
              "      <td>March</td>\n",
              "      <td>17</td>\n",
              "      <td>Tuesday</td>\n",
              "      <td>23</td>\n",
              "      <td>0</td>\n",
              "      <td>0.001</td>\n",
              "    </tr>\n",
              "    <tr>\n",
              "      <th>1046329</th>\n",
              "      <td>0.01</td>\n",
              "      <td>-73.977928</td>\n",
              "      <td>40.783142</td>\n",
              "      <td>-73.977936</td>\n",
              "      <td>40.783180</td>\n",
              "      <td>2</td>\n",
              "      <td>2015</td>\n",
              "      <td>Winter</td>\n",
              "      <td>January</td>\n",
              "      <td>5</td>\n",
              "      <td>Monday</td>\n",
              "      <td>21</td>\n",
              "      <td>0</td>\n",
              "      <td>0.004</td>\n",
              "    </tr>\n",
              "  </tbody>\n",
              "</table>\n",
              "</div>\n",
              "      <button class=\"colab-df-convert\" onclick=\"convertToInteractive('df-c9c63ab8-b755-4715-a379-687fcf03814c')\"\n",
              "              title=\"Convert this dataframe to an interactive table.\"\n",
              "              style=\"display:none;\">\n",
              "        \n",
              "  <svg xmlns=\"http://www.w3.org/2000/svg\" height=\"24px\"viewBox=\"0 0 24 24\"\n",
              "       width=\"24px\">\n",
              "    <path d=\"M0 0h24v24H0V0z\" fill=\"none\"/>\n",
              "    <path d=\"M18.56 5.44l.94 2.06.94-2.06 2.06-.94-2.06-.94-.94-2.06-.94 2.06-2.06.94zm-11 1L8.5 8.5l.94-2.06 2.06-.94-2.06-.94L8.5 2.5l-.94 2.06-2.06.94zm10 10l.94 2.06.94-2.06 2.06-.94-2.06-.94-.94-2.06-.94 2.06-2.06.94z\"/><path d=\"M17.41 7.96l-1.37-1.37c-.4-.4-.92-.59-1.43-.59-.52 0-1.04.2-1.43.59L10.3 9.45l-7.72 7.72c-.78.78-.78 2.05 0 2.83L4 21.41c.39.39.9.59 1.41.59.51 0 1.02-.2 1.41-.59l7.78-7.78 2.81-2.81c.8-.78.8-2.07 0-2.86zM5.41 20L4 18.59l7.72-7.72 1.47 1.35L5.41 20z\"/>\n",
              "  </svg>\n",
              "      </button>\n",
              "      \n",
              "  <style>\n",
              "    .colab-df-container {\n",
              "      display:flex;\n",
              "      flex-wrap:wrap;\n",
              "      gap: 12px;\n",
              "    }\n",
              "\n",
              "    .colab-df-convert {\n",
              "      background-color: #E8F0FE;\n",
              "      border: none;\n",
              "      border-radius: 50%;\n",
              "      cursor: pointer;\n",
              "      display: none;\n",
              "      fill: #1967D2;\n",
              "      height: 32px;\n",
              "      padding: 0 0 0 0;\n",
              "      width: 32px;\n",
              "    }\n",
              "\n",
              "    .colab-df-convert:hover {\n",
              "      background-color: #E2EBFA;\n",
              "      box-shadow: 0px 1px 2px rgba(60, 64, 67, 0.3), 0px 1px 3px 1px rgba(60, 64, 67, 0.15);\n",
              "      fill: #174EA6;\n",
              "    }\n",
              "\n",
              "    [theme=dark] .colab-df-convert {\n",
              "      background-color: #3B4455;\n",
              "      fill: #D2E3FC;\n",
              "    }\n",
              "\n",
              "    [theme=dark] .colab-df-convert:hover {\n",
              "      background-color: #434B5C;\n",
              "      box-shadow: 0px 1px 3px 1px rgba(0, 0, 0, 0.15);\n",
              "      filter: drop-shadow(0px 1px 2px rgba(0, 0, 0, 0.3));\n",
              "      fill: #FFFFFF;\n",
              "    }\n",
              "  </style>\n",
              "\n",
              "      <script>\n",
              "        const buttonEl =\n",
              "          document.querySelector('#df-c9c63ab8-b755-4715-a379-687fcf03814c button.colab-df-convert');\n",
              "        buttonEl.style.display =\n",
              "          google.colab.kernel.accessAllowed ? 'block' : 'none';\n",
              "\n",
              "        async function convertToInteractive(key) {\n",
              "          const element = document.querySelector('#df-c9c63ab8-b755-4715-a379-687fcf03814c');\n",
              "          const dataTable =\n",
              "            await google.colab.kernel.invokeFunction('convertToInteractive',\n",
              "                                                     [key], {});\n",
              "          if (!dataTable) return;\n",
              "\n",
              "          const docLinkHtml = 'Like what you see? Visit the ' +\n",
              "            '<a target=\"_blank\" href=https://colab.research.google.com/notebooks/data_table.ipynb>data table notebook</a>'\n",
              "            + ' to learn more about interactive tables.';\n",
              "          element.innerHTML = '';\n",
              "          dataTable['output_type'] = 'display_data';\n",
              "          await google.colab.output.renderOutput(dataTable, element);\n",
              "          const docLink = document.createElement('div');\n",
              "          docLink.innerHTML = docLinkHtml;\n",
              "          element.appendChild(docLink);\n",
              "        }\n",
              "      </script>\n",
              "    </div>\n",
              "  </div>\n",
              "  "
            ]
          },
          "metadata": {},
          "execution_count": 31
        }
      ]
    },
    {
      "cell_type": "markdown",
      "source": [
        "\n",
        "\n",
        "---\n",
        "\n",
        "There are also not so many entities with this ```fare_amount``` value, so I will drop them as well.\n",
        "\n",
        "---\n",
        "\n"
      ],
      "metadata": {
        "id": "uqNuyRwzgfFF"
      }
    },
    {
      "cell_type": "code",
      "source": [
        "df.drop(index=df[df.fare_amount<1].index.to_list(), inplace=True)\n",
        "print('df.shape: ', df.shape)\n",
        "df.head()"
      ],
      "metadata": {
        "colab": {
          "base_uri": "https://localhost:8080/",
          "height": 224
        },
        "id": "01YjJpTFguxq",
        "outputId": "ffc1ae86-b326-47bd-9215-f1c60aef1e0e"
      },
      "execution_count": 32,
      "outputs": [
        {
          "output_type": "stream",
          "name": "stdout",
          "text": [
            "df.shape:  (1017727, 14)\n"
          ]
        },
        {
          "output_type": "execute_result",
          "data": {
            "text/plain": [
              "   fare_amount  pickup_longitude  pickup_latitude  dropoff_longitude  \\\n",
              "0          4.5        -73.844311        40.721319         -73.841610   \n",
              "1         16.9        -74.016048        40.711303         -73.979268   \n",
              "2          5.7        -73.982738        40.761270         -73.991242   \n",
              "3          7.7        -73.987130        40.733143         -73.991567   \n",
              "4          5.3        -73.968095        40.768008         -73.956655   \n",
              "\n",
              "   dropoff_latitude  passenger_count  year  season    month  day  day_name  \\\n",
              "0         40.712278                1  2009  Summer     June   15    Monday   \n",
              "1         40.782004                1  2010  Winter  January    5   Tuesday   \n",
              "2         40.750562                2  2011  Summer   August   18  Thursday   \n",
              "3         40.758092                1  2012  Spring    April   21  Saturday   \n",
              "4         40.783762                1  2010  Spring    March    9   Tuesday   \n",
              "\n",
              "   hour  rush_hour  distance  \n",
              "0    17          1     1.031  \n",
              "1    16          1     8.450  \n",
              "2     0          0     1.390  \n",
              "3     4          0     2.799  \n",
              "4     7          1     1.999  "
            ],
            "text/html": [
              "\n",
              "  <div id=\"df-fa245e22-2e4a-44b0-a53f-b9207aecbef6\">\n",
              "    <div class=\"colab-df-container\">\n",
              "      <div>\n",
              "<style scoped>\n",
              "    .dataframe tbody tr th:only-of-type {\n",
              "        vertical-align: middle;\n",
              "    }\n",
              "\n",
              "    .dataframe tbody tr th {\n",
              "        vertical-align: top;\n",
              "    }\n",
              "\n",
              "    .dataframe thead th {\n",
              "        text-align: right;\n",
              "    }\n",
              "</style>\n",
              "<table border=\"1\" class=\"dataframe\">\n",
              "  <thead>\n",
              "    <tr style=\"text-align: right;\">\n",
              "      <th></th>\n",
              "      <th>fare_amount</th>\n",
              "      <th>pickup_longitude</th>\n",
              "      <th>pickup_latitude</th>\n",
              "      <th>dropoff_longitude</th>\n",
              "      <th>dropoff_latitude</th>\n",
              "      <th>passenger_count</th>\n",
              "      <th>year</th>\n",
              "      <th>season</th>\n",
              "      <th>month</th>\n",
              "      <th>day</th>\n",
              "      <th>day_name</th>\n",
              "      <th>hour</th>\n",
              "      <th>rush_hour</th>\n",
              "      <th>distance</th>\n",
              "    </tr>\n",
              "  </thead>\n",
              "  <tbody>\n",
              "    <tr>\n",
              "      <th>0</th>\n",
              "      <td>4.5</td>\n",
              "      <td>-73.844311</td>\n",
              "      <td>40.721319</td>\n",
              "      <td>-73.841610</td>\n",
              "      <td>40.712278</td>\n",
              "      <td>1</td>\n",
              "      <td>2009</td>\n",
              "      <td>Summer</td>\n",
              "      <td>June</td>\n",
              "      <td>15</td>\n",
              "      <td>Monday</td>\n",
              "      <td>17</td>\n",
              "      <td>1</td>\n",
              "      <td>1.031</td>\n",
              "    </tr>\n",
              "    <tr>\n",
              "      <th>1</th>\n",
              "      <td>16.9</td>\n",
              "      <td>-74.016048</td>\n",
              "      <td>40.711303</td>\n",
              "      <td>-73.979268</td>\n",
              "      <td>40.782004</td>\n",
              "      <td>1</td>\n",
              "      <td>2010</td>\n",
              "      <td>Winter</td>\n",
              "      <td>January</td>\n",
              "      <td>5</td>\n",
              "      <td>Tuesday</td>\n",
              "      <td>16</td>\n",
              "      <td>1</td>\n",
              "      <td>8.450</td>\n",
              "    </tr>\n",
              "    <tr>\n",
              "      <th>2</th>\n",
              "      <td>5.7</td>\n",
              "      <td>-73.982738</td>\n",
              "      <td>40.761270</td>\n",
              "      <td>-73.991242</td>\n",
              "      <td>40.750562</td>\n",
              "      <td>2</td>\n",
              "      <td>2011</td>\n",
              "      <td>Summer</td>\n",
              "      <td>August</td>\n",
              "      <td>18</td>\n",
              "      <td>Thursday</td>\n",
              "      <td>0</td>\n",
              "      <td>0</td>\n",
              "      <td>1.390</td>\n",
              "    </tr>\n",
              "    <tr>\n",
              "      <th>3</th>\n",
              "      <td>7.7</td>\n",
              "      <td>-73.987130</td>\n",
              "      <td>40.733143</td>\n",
              "      <td>-73.991567</td>\n",
              "      <td>40.758092</td>\n",
              "      <td>1</td>\n",
              "      <td>2012</td>\n",
              "      <td>Spring</td>\n",
              "      <td>April</td>\n",
              "      <td>21</td>\n",
              "      <td>Saturday</td>\n",
              "      <td>4</td>\n",
              "      <td>0</td>\n",
              "      <td>2.799</td>\n",
              "    </tr>\n",
              "    <tr>\n",
              "      <th>4</th>\n",
              "      <td>5.3</td>\n",
              "      <td>-73.968095</td>\n",
              "      <td>40.768008</td>\n",
              "      <td>-73.956655</td>\n",
              "      <td>40.783762</td>\n",
              "      <td>1</td>\n",
              "      <td>2010</td>\n",
              "      <td>Spring</td>\n",
              "      <td>March</td>\n",
              "      <td>9</td>\n",
              "      <td>Tuesday</td>\n",
              "      <td>7</td>\n",
              "      <td>1</td>\n",
              "      <td>1.999</td>\n",
              "    </tr>\n",
              "  </tbody>\n",
              "</table>\n",
              "</div>\n",
              "      <button class=\"colab-df-convert\" onclick=\"convertToInteractive('df-fa245e22-2e4a-44b0-a53f-b9207aecbef6')\"\n",
              "              title=\"Convert this dataframe to an interactive table.\"\n",
              "              style=\"display:none;\">\n",
              "        \n",
              "  <svg xmlns=\"http://www.w3.org/2000/svg\" height=\"24px\"viewBox=\"0 0 24 24\"\n",
              "       width=\"24px\">\n",
              "    <path d=\"M0 0h24v24H0V0z\" fill=\"none\"/>\n",
              "    <path d=\"M18.56 5.44l.94 2.06.94-2.06 2.06-.94-2.06-.94-.94-2.06-.94 2.06-2.06.94zm-11 1L8.5 8.5l.94-2.06 2.06-.94-2.06-.94L8.5 2.5l-.94 2.06-2.06.94zm10 10l.94 2.06.94-2.06 2.06-.94-2.06-.94-.94-2.06-.94 2.06-2.06.94z\"/><path d=\"M17.41 7.96l-1.37-1.37c-.4-.4-.92-.59-1.43-.59-.52 0-1.04.2-1.43.59L10.3 9.45l-7.72 7.72c-.78.78-.78 2.05 0 2.83L4 21.41c.39.39.9.59 1.41.59.51 0 1.02-.2 1.41-.59l7.78-7.78 2.81-2.81c.8-.78.8-2.07 0-2.86zM5.41 20L4 18.59l7.72-7.72 1.47 1.35L5.41 20z\"/>\n",
              "  </svg>\n",
              "      </button>\n",
              "      \n",
              "  <style>\n",
              "    .colab-df-container {\n",
              "      display:flex;\n",
              "      flex-wrap:wrap;\n",
              "      gap: 12px;\n",
              "    }\n",
              "\n",
              "    .colab-df-convert {\n",
              "      background-color: #E8F0FE;\n",
              "      border: none;\n",
              "      border-radius: 50%;\n",
              "      cursor: pointer;\n",
              "      display: none;\n",
              "      fill: #1967D2;\n",
              "      height: 32px;\n",
              "      padding: 0 0 0 0;\n",
              "      width: 32px;\n",
              "    }\n",
              "\n",
              "    .colab-df-convert:hover {\n",
              "      background-color: #E2EBFA;\n",
              "      box-shadow: 0px 1px 2px rgba(60, 64, 67, 0.3), 0px 1px 3px 1px rgba(60, 64, 67, 0.15);\n",
              "      fill: #174EA6;\n",
              "    }\n",
              "\n",
              "    [theme=dark] .colab-df-convert {\n",
              "      background-color: #3B4455;\n",
              "      fill: #D2E3FC;\n",
              "    }\n",
              "\n",
              "    [theme=dark] .colab-df-convert:hover {\n",
              "      background-color: #434B5C;\n",
              "      box-shadow: 0px 1px 3px 1px rgba(0, 0, 0, 0.15);\n",
              "      filter: drop-shadow(0px 1px 2px rgba(0, 0, 0, 0.3));\n",
              "      fill: #FFFFFF;\n",
              "    }\n",
              "  </style>\n",
              "\n",
              "      <script>\n",
              "        const buttonEl =\n",
              "          document.querySelector('#df-fa245e22-2e4a-44b0-a53f-b9207aecbef6 button.colab-df-convert');\n",
              "        buttonEl.style.display =\n",
              "          google.colab.kernel.accessAllowed ? 'block' : 'none';\n",
              "\n",
              "        async function convertToInteractive(key) {\n",
              "          const element = document.querySelector('#df-fa245e22-2e4a-44b0-a53f-b9207aecbef6');\n",
              "          const dataTable =\n",
              "            await google.colab.kernel.invokeFunction('convertToInteractive',\n",
              "                                                     [key], {});\n",
              "          if (!dataTable) return;\n",
              "\n",
              "          const docLinkHtml = 'Like what you see? Visit the ' +\n",
              "            '<a target=\"_blank\" href=https://colab.research.google.com/notebooks/data_table.ipynb>data table notebook</a>'\n",
              "            + ' to learn more about interactive tables.';\n",
              "          element.innerHTML = '';\n",
              "          dataTable['output_type'] = 'display_data';\n",
              "          await google.colab.output.renderOutput(dataTable, element);\n",
              "          const docLink = document.createElement('div');\n",
              "          docLink.innerHTML = docLinkHtml;\n",
              "          element.appendChild(docLink);\n",
              "        }\n",
              "      </script>\n",
              "    </div>\n",
              "  </div>\n",
              "  "
            ]
          },
          "metadata": {},
          "execution_count": 32
        }
      ]
    },
    {
      "cell_type": "code",
      "source": [
        "df.fare_amount.describe()"
      ],
      "metadata": {
        "colab": {
          "base_uri": "https://localhost:8080/"
        },
        "id": "JrVXddU5g2Y5",
        "outputId": "d81f1602-5f25-4f13-dc84-02213b9d66e6"
      },
      "execution_count": 58,
      "outputs": [
        {
          "output_type": "execute_result",
          "data": {
            "text/plain": [
              "count    1.017727e+06\n",
              "mean     1.080918e+01\n",
              "std      7.996751e+00\n",
              "min      2.500000e+00\n",
              "25%      6.000000e+00\n",
              "50%      8.500000e+00\n",
              "75%      1.250000e+01\n",
              "max      5.200000e+01\n",
              "Name: fare_amount, dtype: float64"
            ]
          },
          "metadata": {},
          "execution_count": 58
        }
      ]
    },
    {
      "cell_type": "code",
      "source": [
        "plt.figure(figsize=(15,5))\n",
        "\n",
        "plt.subplot(121)\n",
        "sns.distplot(df.fare_amount, bins=50) #displot\n",
        "plt.title('Distribution of Fare Amount', fontweight='bold')\n",
        "plt.xlabel('Fare Amount', size=12, fontweight='bold')\n",
        "plt.ylabel('Density', fontweight='bold')\n",
        "\n",
        "plt.subplot(122)\n",
        "sns.boxplot(y='fare_amount', data=df) #boxplot\n",
        "plt.title('Boxplot of Fare Amount', fontweight='bold')\n",
        "plt.ylabel('Fare Amount', fontweight='bold')\n",
        "\n",
        "plt.show()"
      ],
      "metadata": {
        "colab": {
          "base_uri": "https://localhost:8080/",
          "height": 408
        },
        "id": "1m8O_PXOu7io",
        "outputId": "ecfb0d61-f07a-4afd-d17e-53ce233e75a7"
      },
      "execution_count": 33,
      "outputs": [
        {
          "output_type": "stream",
          "name": "stderr",
          "text": [
            "/usr/local/lib/python3.8/dist-packages/seaborn/distributions.py:2619: FutureWarning: `distplot` is a deprecated function and will be removed in a future version. Please adapt your code to use either `displot` (a figure-level function with similar flexibility) or `histplot` (an axes-level function for histograms).\n",
            "  warnings.warn(msg, FutureWarning)\n"
          ]
        },
        {
          "output_type": "display_data",
          "data": {
            "text/plain": [
              "<Figure size 1080x360 with 2 Axes>"
            ],
            "image/png": "[encoded data removed]"
          },
          "metadata": {
            "needs_background": "light"
          }
        }
      ]
    },
    {
      "cell_type": "markdown",
      "source": [
        "\n",
        "\n",
        "---\n",
        "\n",
        "Finally, ```fare_amount``` distribution looks realistic.\n",
        "\n",
        "---\n",
        "\n",
        "\n",
        "\n"
      ],
      "metadata": {
        "id": "o0f8XMZIg4pF"
      }
    },
    {
      "cell_type": "markdown",
      "source": [
        "### Passenger_count Feature Values"
      ],
      "metadata": {
        "id": "4S67Ob0OAujq"
      }
    },
    {
      "cell_type": "markdown",
      "source": [
        "Let's check how many unique values ```passenger_count``` column has.\n",
        "\n",
        "---"
      ],
      "metadata": {
        "id": "kvRREE8LA9xG"
      }
    },
    {
      "cell_type": "code",
      "source": [
        "df.passenger_count.unique()"
      ],
      "metadata": {
        "colab": {
          "base_uri": "https://localhost:8080/"
        },
        "id": "_lsbK5ZNA-nw",
        "outputId": "e985f5b7-b319-4f03-ff33-38a118faa5b3"
      },
      "execution_count": 34,
      "outputs": [
        {
          "output_type": "execute_result",
          "data": {
            "text/plain": [
              "array([1, 2, 3, 6, 5, 4, 0])"
            ]
          },
          "metadata": {},
          "execution_count": 34
        }
      ]
    },
    {
      "cell_type": "markdown",
      "source": [
        "---\n",
        "\n",
        "With assumption that the largest car that can work in taxi is a mini van with 6 possible passengers, I can determine that ```passenger_count``` column should have values in range (1,6).\n",
        "\n",
        "As shown the data has 2 additional number of passengers: 0 and 9. Let's see how many entities have these values.\n",
        "\n",
        "---"
      ],
      "metadata": {
        "id": "majvBB5pBUX3"
      }
    },
    {
      "cell_type": "code",
      "source": [
        "print('0 passengers: {}\\n9 passengers: {}'.format(df[df.passenger_count==0].shape[0], df[df.passenger_count==9].shape[0]))"
      ],
      "metadata": {
        "colab": {
          "base_uri": "https://localhost:8080/"
        },
        "id": "3Gz6KD3vCi7E",
        "outputId": "5cd0861f-a518-46d3-8011-e489e7ac22fe"
      },
      "execution_count": 35,
      "outputs": [
        {
          "output_type": "stream",
          "name": "stdout",
          "text": [
            "0 passengers: 3635\n",
            "9 passengers: 0\n"
          ]
        }
      ]
    },
    {
      "cell_type": "markdown",
      "source": [
        "\n",
        "\n",
        "\n",
        "---\n",
        "\n",
        "As shown there are just 1 entity with more passengers than 6, we can drop this entity.\n",
        "\n",
        "But there are a lot entities with 0 passengers. As long as taxi ride can't be without a passenger, we will place 1 passenger to each of those rides.\n",
        "\n",
        "---\n",
        "\n"
      ],
      "metadata": {
        "id": "8W6GOg6KC_3i"
      }
    },
    {
      "cell_type": "code",
      "source": [
        "df = df[df.passenger_count<7] #drop rows with passenger_count > 6\n",
        "df.passenger_count.replace(0,1, inplace=True) #replacing 0 with 1\n",
        "\n",
        "print('df.shape: ', df.shape)\n",
        "df.head()"
      ],
      "metadata": {
        "colab": {
          "base_uri": "https://localhost:8080/",
          "height": 224
        },
        "id": "a-tIZNOhDnNx",
        "outputId": "97c8d8b5-a65b-4f91-e583-d0666f84f5e7"
      },
      "execution_count": 36,
      "outputs": [
        {
          "output_type": "stream",
          "name": "stdout",
          "text": [
            "df.shape:  (1017727, 14)\n"
          ]
        },
        {
          "output_type": "execute_result",
          "data": {
            "text/plain": [
              "   fare_amount  pickup_longitude  pickup_latitude  dropoff_longitude  \\\n",
              "0          4.5        -73.844311        40.721319         -73.841610   \n",
              "1         16.9        -74.016048        40.711303         -73.979268   \n",
              "2          5.7        -73.982738        40.761270         -73.991242   \n",
              "3          7.7        -73.987130        40.733143         -73.991567   \n",
              "4          5.3        -73.968095        40.768008         -73.956655   \n",
              "\n",
              "   dropoff_latitude  passenger_count  year  season    month  day  day_name  \\\n",
              "0         40.712278                1  2009  Summer     June   15    Monday   \n",
              "1         40.782004                1  2010  Winter  January    5   Tuesday   \n",
              "2         40.750562                2  2011  Summer   August   18  Thursday   \n",
              "3         40.758092                1  2012  Spring    April   21  Saturday   \n",
              "4         40.783762                1  2010  Spring    March    9   Tuesday   \n",
              "\n",
              "   hour  rush_hour  distance  \n",
              "0    17          1     1.031  \n",
              "1    16          1     8.450  \n",
              "2     0          0     1.390  \n",
              "3     4          0     2.799  \n",
              "4     7          1     1.999  "
            ],
            "text/html": [
              "\n",
              "  <div id=\"df-1643f099-e3c6-4603-9de3-f3cd1d935cc5\">\n",
              "    <div class=\"colab-df-container\">\n",
              "      <div>\n",
              "<style scoped>\n",
              "    .dataframe tbody tr th:only-of-type {\n",
              "        vertical-align: middle;\n",
              "    }\n",
              "\n",
              "    .dataframe tbody tr th {\n",
              "        vertical-align: top;\n",
              "    }\n",
              "\n",
              "    .dataframe thead th {\n",
              "        text-align: right;\n",
              "    }\n",
              "</style>\n",
              "<table border=\"1\" class=\"dataframe\">\n",
              "  <thead>\n",
              "    <tr style=\"text-align: right;\">\n",
              "      <th></th>\n",
              "      <th>fare_amount</th>\n",
              "      <th>pickup_longitude</th>\n",
              "      <th>pickup_latitude</th>\n",
              "      <th>dropoff_longitude</th>\n",
              "      <th>dropoff_latitude</th>\n",
              "      <th>passenger_count</th>\n",
              "      <th>year</th>\n",
              "      <th>season</th>\n",
              "      <th>month</th>\n",
              "      <th>day</th>\n",
              "      <th>day_name</th>\n",
              "      <th>hour</th>\n",
              "      <th>rush_hour</th>\n",
              "      <th>distance</th>\n",
              "    </tr>\n",
              "  </thead>\n",
              "  <tbody>\n",
              "    <tr>\n",
              "      <th>0</th>\n",
              "      <td>4.5</td>\n",
              "      <td>-73.844311</td>\n",
              "      <td>40.721319</td>\n",
              "      <td>-73.841610</td>\n",
              "      <td>40.712278</td>\n",
              "      <td>1</td>\n",
              "      <td>2009</td>\n",
              "      <td>Summer</td>\n",
              "      <td>June</td>\n",
              "      <td>15</td>\n",
              "      <td>Monday</td>\n",
              "      <td>17</td>\n",
              "      <td>1</td>\n",
              "      <td>1.031</td>\n",
              "    </tr>\n",
              "    <tr>\n",
              "      <th>1</th>\n",
              "      <td>16.9</td>\n",
              "      <td>-74.016048</td>\n",
              "      <td>40.711303</td>\n",
              "      <td>-73.979268</td>\n",
              "      <td>40.782004</td>\n",
              "      <td>1</td>\n",
              "      <td>2010</td>\n",
              "      <td>Winter</td>\n",
              "      <td>January</td>\n",
              "      <td>5</td>\n",
              "      <td>Tuesday</td>\n",
              "      <td>16</td>\n",
              "      <td>1</td>\n",
              "      <td>8.450</td>\n",
              "    </tr>\n",
              "    <tr>\n",
              "      <th>2</th>\n",
              "      <td>5.7</td>\n",
              "      <td>-73.982738</td>\n",
              "      <td>40.761270</td>\n",
              "      <td>-73.991242</td>\n",
              "      <td>40.750562</td>\n",
              "      <td>2</td>\n",
              "      <td>2011</td>\n",
              "      <td>Summer</td>\n",
              "      <td>August</td>\n",
              "      <td>18</td>\n",
              "      <td>Thursday</td>\n",
              "      <td>0</td>\n",
              "      <td>0</td>\n",
              "      <td>1.390</td>\n",
              "    </tr>\n",
              "    <tr>\n",
              "      <th>3</th>\n",
              "      <td>7.7</td>\n",
              "      <td>-73.987130</td>\n",
              "      <td>40.733143</td>\n",
              "      <td>-73.991567</td>\n",
              "      <td>40.758092</td>\n",
              "      <td>1</td>\n",
              "      <td>2012</td>\n",
              "      <td>Spring</td>\n",
              "      <td>April</td>\n",
              "      <td>21</td>\n",
              "      <td>Saturday</td>\n",
              "      <td>4</td>\n",
              "      <td>0</td>\n",
              "      <td>2.799</td>\n",
              "    </tr>\n",
              "    <tr>\n",
              "      <th>4</th>\n",
              "      <td>5.3</td>\n",
              "      <td>-73.968095</td>\n",
              "      <td>40.768008</td>\n",
              "      <td>-73.956655</td>\n",
              "      <td>40.783762</td>\n",
              "      <td>1</td>\n",
              "      <td>2010</td>\n",
              "      <td>Spring</td>\n",
              "      <td>March</td>\n",
              "      <td>9</td>\n",
              "      <td>Tuesday</td>\n",
              "      <td>7</td>\n",
              "      <td>1</td>\n",
              "      <td>1.999</td>\n",
              "    </tr>\n",
              "  </tbody>\n",
              "</table>\n",
              "</div>\n",
              "      <button class=\"colab-df-convert\" onclick=\"convertToInteractive('df-1643f099-e3c6-4603-9de3-f3cd1d935cc5')\"\n",
              "              title=\"Convert this dataframe to an interactive table.\"\n",
              "              style=\"display:none;\">\n",
              "        \n",
              "  <svg xmlns=\"http://www.w3.org/2000/svg\" height=\"24px\"viewBox=\"0 0 24 24\"\n",
              "       width=\"24px\">\n",
              "    <path d=\"M0 0h24v24H0V0z\" fill=\"none\"/>\n",
              "    <path d=\"M18.56 5.44l.94 2.06.94-2.06 2.06-.94-2.06-.94-.94-2.06-.94 2.06-2.06.94zm-11 1L8.5 8.5l.94-2.06 2.06-.94-2.06-.94L8.5 2.5l-.94 2.06-2.06.94zm10 10l.94 2.06.94-2.06 2.06-.94-2.06-.94-.94-2.06-.94 2.06-2.06.94z\"/><path d=\"M17.41 7.96l-1.37-1.37c-.4-.4-.92-.59-1.43-.59-.52 0-1.04.2-1.43.59L10.3 9.45l-7.72 7.72c-.78.78-.78 2.05 0 2.83L4 21.41c.39.39.9.59 1.41.59.51 0 1.02-.2 1.41-.59l7.78-7.78 2.81-2.81c.8-.78.8-2.07 0-2.86zM5.41 20L4 18.59l7.72-7.72 1.47 1.35L5.41 20z\"/>\n",
              "  </svg>\n",
              "      </button>\n",
              "      \n",
              "  <style>\n",
              "    .colab-df-container {\n",
              "      display:flex;\n",
              "      flex-wrap:wrap;\n",
              "      gap: 12px;\n",
              "    }\n",
              "\n",
              "    .colab-df-convert {\n",
              "      background-color: #E8F0FE;\n",
              "      border: none;\n",
              "      border-radius: 50%;\n",
              "      cursor: pointer;\n",
              "      display: none;\n",
              "      fill: #1967D2;\n",
              "      height: 32px;\n",
              "      padding: 0 0 0 0;\n",
              "      width: 32px;\n",
              "    }\n",
              "\n",
              "    .colab-df-convert:hover {\n",
              "      background-color: #E2EBFA;\n",
              "      box-shadow: 0px 1px 2px rgba(60, 64, 67, 0.3), 0px 1px 3px 1px rgba(60, 64, 67, 0.15);\n",
              "      fill: #174EA6;\n",
              "    }\n",
              "\n",
              "    [theme=dark] .colab-df-convert {\n",
              "      background-color: #3B4455;\n",
              "      fill: #D2E3FC;\n",
              "    }\n",
              "\n",
              "    [theme=dark] .colab-df-convert:hover {\n",
              "      background-color: #434B5C;\n",
              "      box-shadow: 0px 1px 3px 1px rgba(0, 0, 0, 0.15);\n",
              "      filter: drop-shadow(0px 1px 2px rgba(0, 0, 0, 0.3));\n",
              "      fill: #FFFFFF;\n",
              "    }\n",
              "  </style>\n",
              "\n",
              "      <script>\n",
              "        const buttonEl =\n",
              "          document.querySelector('#df-1643f099-e3c6-4603-9de3-f3cd1d935cc5 button.colab-df-convert');\n",
              "        buttonEl.style.display =\n",
              "          google.colab.kernel.accessAllowed ? 'block' : 'none';\n",
              "\n",
              "        async function convertToInteractive(key) {\n",
              "          const element = document.querySelector('#df-1643f099-e3c6-4603-9de3-f3cd1d935cc5');\n",
              "          const dataTable =\n",
              "            await google.colab.kernel.invokeFunction('convertToInteractive',\n",
              "                                                     [key], {});\n",
              "          if (!dataTable) return;\n",
              "\n",
              "          const docLinkHtml = 'Like what you see? Visit the ' +\n",
              "            '<a target=\"_blank\" href=https://colab.research.google.com/notebooks/data_table.ipynb>data table notebook</a>'\n",
              "            + ' to learn more about interactive tables.';\n",
              "          element.innerHTML = '';\n",
              "          dataTable['output_type'] = 'display_data';\n",
              "          await google.colab.output.renderOutput(dataTable, element);\n",
              "          const docLink = document.createElement('div');\n",
              "          docLink.innerHTML = docLinkHtml;\n",
              "          element.appendChild(docLink);\n",
              "        }\n",
              "      </script>\n",
              "    </div>\n",
              "  </div>\n",
              "  "
            ]
          },
          "metadata": {},
          "execution_count": 36
        }
      ]
    },
    {
      "cell_type": "code",
      "source": [
        "df.passenger_count.describe()"
      ],
      "metadata": {
        "colab": {
          "base_uri": "https://localhost:8080/"
        },
        "id": "mS8eH1bADgEy",
        "outputId": "a22d032e-e888-426d-f47e-2cc4423f4b4b"
      },
      "execution_count": 37,
      "outputs": [
        {
          "output_type": "execute_result",
          "data": {
            "text/plain": [
              "count    1.017727e+06\n",
              "mean     1.688273e+00\n",
              "std      1.304443e+00\n",
              "min      1.000000e+00\n",
              "25%      1.000000e+00\n",
              "50%      1.000000e+00\n",
              "75%      2.000000e+00\n",
              "max      6.000000e+00\n",
              "Name: passenger_count, dtype: float64"
            ]
          },
          "metadata": {},
          "execution_count": 37
        }
      ]
    },
    {
      "cell_type": "markdown",
      "source": [
        "\n",
        "\n",
        "---\n",
        "\n",
        "```passenger_count``` column has *min* 1 passenger and *max* 6 passengers.\n",
        "\n",
        "---\n",
        "\n"
      ],
      "metadata": {
        "id": "hY3oWvhfEShX"
      }
    },
    {
      "cell_type": "markdown",
      "source": [
        "### Distance Feature Values"
      ],
      "metadata": {
        "id": "OfgTx8Nbrf5V"
      }
    },
    {
      "cell_type": "code",
      "source": [
        "df.distance.describe()"
      ],
      "metadata": {
        "colab": {
          "base_uri": "https://localhost:8080/"
        },
        "id": "CKnQxDlof072",
        "outputId": "36fb3f15-e020-47de-f12f-67b0046c33b1"
      },
      "execution_count": 38,
      "outputs": [
        {
          "output_type": "execute_result",
          "data": {
            "text/plain": [
              "count    1.017727e+06\n",
              "mean     4.260838e+00\n",
              "std      7.586353e+01\n",
              "min      0.000000e+00\n",
              "25%      1.248000e+00\n",
              "50%      2.135000e+00\n",
              "75%      3.842000e+00\n",
              "max      1.259472e+04\n",
              "Name: distance, dtype: float64"
            ]
          },
          "metadata": {},
          "execution_count": 38
        }
      ]
    },
    {
      "cell_type": "markdown",
      "source": [
        "\n",
        "\n",
        "---\n",
        "\n",
        "After checking ```distance``` column distribution it's easy to see that there are some zero values and some really huge values. What makes me think there are some mistaken coordinates in the data which shouldn't be used in model training. That's why I will drop entities connected with them.\n",
        "\n",
        "\n",
        "Let's start with huge distances. For this we need to define the edge after which the distance is way to big for taxi ride. Let's look at 99.9% percentile of ```distance``` column.\n",
        "\n",
        "---\n",
        "\n"
      ],
      "metadata": {
        "id": "4GAiJA9chrxF"
      }
    },
    {
      "cell_type": "code",
      "source": [
        "df.distance.quantile(.999)"
      ],
      "metadata": {
        "colab": {
          "base_uri": "https://localhost:8080/"
        },
        "id": "pR2I-Okvglgs",
        "outputId": "65f71c14-e5c3-4c83-9389-060e7b549a50"
      },
      "execution_count": 39,
      "outputs": [
        {
          "output_type": "execute_result",
          "data": {
            "text/plain": [
              "23.009274000000094"
            ]
          },
          "metadata": {},
          "execution_count": 39
        }
      ]
    },
    {
      "cell_type": "code",
      "source": [
        "df[df.distance>df.distance.quantile(.999)].shape"
      ],
      "metadata": {
        "colab": {
          "base_uri": "https://localhost:8080/"
        },
        "id": "yUrBCgKQ6hZ8",
        "outputId": "83da08fc-49a6-42d6-dcfb-36b49dfdc8db"
      },
      "execution_count": 40,
      "outputs": [
        {
          "output_type": "execute_result",
          "data": {
            "text/plain": [
              "(1018, 14)"
            ]
          },
          "metadata": {},
          "execution_count": 40
        }
      ]
    },
    {
      "cell_type": "markdown",
      "source": [
        "\n",
        "\n",
        "---\n",
        "\n",
        "The entities with distances out of 99.9%-percentile I will consider as outliers and skip them (0.1% of the data).\n",
        "\n",
        "---\n",
        "\n"
      ],
      "metadata": {
        "id": "Et4FVvDm6u3X"
      }
    },
    {
      "cell_type": "code",
      "source": [
        "df = df[df.distance<=df.distance.quantile(.999)]\n",
        "print('df.shape: ', df.shape)"
      ],
      "metadata": {
        "colab": {
          "base_uri": "https://localhost:8080/"
        },
        "id": "6MsNS_45t81O",
        "outputId": "62e0ec5b-b9ba-4bb5-83c2-d985702e446a"
      },
      "execution_count": 41,
      "outputs": [
        {
          "output_type": "stream",
          "name": "stdout",
          "text": [
            "df.shape:  (1016709, 14)\n"
          ]
        }
      ]
    },
    {
      "cell_type": "markdown",
      "source": [
        "\n",
        "\n",
        "---\n",
        "\n",
        "Now let's deal with zero values in ```distance``` column. \n",
        "\n",
        "---\n",
        "\n"
      ],
      "metadata": {
        "id": "f-enF1cqvJ5B"
      }
    },
    {
      "cell_type": "code",
      "source": [
        "df[df.distance==0].shape"
      ],
      "metadata": {
        "colab": {
          "base_uri": "https://localhost:8080/"
        },
        "id": "ExmiXa-FwlSF",
        "outputId": "6438fc7b-c453-489b-b3fc-1954f4031deb"
      },
      "execution_count": 42,
      "outputs": [
        {
          "output_type": "execute_result",
          "data": {
            "text/plain": [
              "(11198, 14)"
            ]
          },
          "metadata": {},
          "execution_count": 42
        }
      ]
    },
    {
      "cell_type": "code",
      "source": [
        "df[df.distance==0][['fare_amount', 'distance']].head()"
      ],
      "metadata": {
        "colab": {
          "base_uri": "https://localhost:8080/",
          "height": 206
        },
        "id": "Xtuy4EKTv4N5",
        "outputId": "6e91d79d-555b-4ea4-8a4f-953b376042ae"
      },
      "execution_count": 43,
      "outputs": [
        {
          "output_type": "execute_result",
          "data": {
            "text/plain": [
              "     fare_amount  distance\n",
              "105         52.0       0.0\n",
              "191          6.5       0.0\n",
              "270          7.5       0.0\n",
              "290          6.9       0.0\n",
              "396         12.0       0.0"
            ],
            "text/html": [
              "\n",
              "  <div id=\"df-408056d3-aad5-4c45-a2dd-27dbcb8dc3ee\">\n",
              "    <div class=\"colab-df-container\">\n",
              "      <div>\n",
              "<style scoped>\n",
              "    .dataframe tbody tr th:only-of-type {\n",
              "        vertical-align: middle;\n",
              "    }\n",
              "\n",
              "    .dataframe tbody tr th {\n",
              "        vertical-align: top;\n",
              "    }\n",
              "\n",
              "    .dataframe thead th {\n",
              "        text-align: right;\n",
              "    }\n",
              "</style>\n",
              "<table border=\"1\" class=\"dataframe\">\n",
              "  <thead>\n",
              "    <tr style=\"text-align: right;\">\n",
              "      <th></th>\n",
              "      <th>fare_amount</th>\n",
              "      <th>distance</th>\n",
              "    </tr>\n",
              "  </thead>\n",
              "  <tbody>\n",
              "    <tr>\n",
              "      <th>105</th>\n",
              "      <td>52.0</td>\n",
              "      <td>0.0</td>\n",
              "    </tr>\n",
              "    <tr>\n",
              "      <th>191</th>\n",
              "      <td>6.5</td>\n",
              "      <td>0.0</td>\n",
              "    </tr>\n",
              "    <tr>\n",
              "      <th>270</th>\n",
              "      <td>7.5</td>\n",
              "      <td>0.0</td>\n",
              "    </tr>\n",
              "    <tr>\n",
              "      <th>290</th>\n",
              "      <td>6.9</td>\n",
              "      <td>0.0</td>\n",
              "    </tr>\n",
              "    <tr>\n",
              "      <th>396</th>\n",
              "      <td>12.0</td>\n",
              "      <td>0.0</td>\n",
              "    </tr>\n",
              "  </tbody>\n",
              "</table>\n",
              "</div>\n",
              "      <button class=\"colab-df-convert\" onclick=\"convertToInteractive('df-408056d3-aad5-4c45-a2dd-27dbcb8dc3ee')\"\n",
              "              title=\"Convert this dataframe to an interactive table.\"\n",
              "              style=\"display:none;\">\n",
              "        \n",
              "  <svg xmlns=\"http://www.w3.org/2000/svg\" height=\"24px\"viewBox=\"0 0 24 24\"\n",
              "       width=\"24px\">\n",
              "    <path d=\"M0 0h24v24H0V0z\" fill=\"none\"/>\n",
              "    <path d=\"M18.56 5.44l.94 2.06.94-2.06 2.06-.94-2.06-.94-.94-2.06-.94 2.06-2.06.94zm-11 1L8.5 8.5l.94-2.06 2.06-.94-2.06-.94L8.5 2.5l-.94 2.06-2.06.94zm10 10l.94 2.06.94-2.06 2.06-.94-2.06-.94-.94-2.06-.94 2.06-2.06.94z\"/><path d=\"M17.41 7.96l-1.37-1.37c-.4-.4-.92-.59-1.43-.59-.52 0-1.04.2-1.43.59L10.3 9.45l-7.72 7.72c-.78.78-.78 2.05 0 2.83L4 21.41c.39.39.9.59 1.41.59.51 0 1.02-.2 1.41-.59l7.78-7.78 2.81-2.81c.8-.78.8-2.07 0-2.86zM5.41 20L4 18.59l7.72-7.72 1.47 1.35L5.41 20z\"/>\n",
              "  </svg>\n",
              "      </button>\n",
              "      \n",
              "  <style>\n",
              "    .colab-df-container {\n",
              "      display:flex;\n",
              "      flex-wrap:wrap;\n",
              "      gap: 12px;\n",
              "    }\n",
              "\n",
              "    .colab-df-convert {\n",
              "      background-color: #E8F0FE;\n",
              "      border: none;\n",
              "      border-radius: 50%;\n",
              "      cursor: pointer;\n",
              "      display: none;\n",
              "      fill: #1967D2;\n",
              "      height: 32px;\n",
              "      padding: 0 0 0 0;\n",
              "      width: 32px;\n",
              "    }\n",
              "\n",
              "    .colab-df-convert:hover {\n",
              "      background-color: #E2EBFA;\n",
              "      box-shadow: 0px 1px 2px rgba(60, 64, 67, 0.3), 0px 1px 3px 1px rgba(60, 64, 67, 0.15);\n",
              "      fill: #174EA6;\n",
              "    }\n",
              "\n",
              "    [theme=dark] .colab-df-convert {\n",
              "      background-color: #3B4455;\n",
              "      fill: #D2E3FC;\n",
              "    }\n",
              "\n",
              "    [theme=dark] .colab-df-convert:hover {\n",
              "      background-color: #434B5C;\n",
              "      box-shadow: 0px 1px 3px 1px rgba(0, 0, 0, 0.15);\n",
              "      filter: drop-shadow(0px 1px 2px rgba(0, 0, 0, 0.3));\n",
              "      fill: #FFFFFF;\n",
              "    }\n",
              "  </style>\n",
              "\n",
              "      <script>\n",
              "        const buttonEl =\n",
              "          document.querySelector('#df-408056d3-aad5-4c45-a2dd-27dbcb8dc3ee button.colab-df-convert');\n",
              "        buttonEl.style.display =\n",
              "          google.colab.kernel.accessAllowed ? 'block' : 'none';\n",
              "\n",
              "        async function convertToInteractive(key) {\n",
              "          const element = document.querySelector('#df-408056d3-aad5-4c45-a2dd-27dbcb8dc3ee');\n",
              "          const dataTable =\n",
              "            await google.colab.kernel.invokeFunction('convertToInteractive',\n",
              "                                                     [key], {});\n",
              "          if (!dataTable) return;\n",
              "\n",
              "          const docLinkHtml = 'Like what you see? Visit the ' +\n",
              "            '<a target=\"_blank\" href=https://colab.research.google.com/notebooks/data_table.ipynb>data table notebook</a>'\n",
              "            + ' to learn more about interactive tables.';\n",
              "          element.innerHTML = '';\n",
              "          dataTable['output_type'] = 'display_data';\n",
              "          await google.colab.output.renderOutput(dataTable, element);\n",
              "          const docLink = document.createElement('div');\n",
              "          docLink.innerHTML = docLinkHtml;\n",
              "          element.appendChild(docLink);\n",
              "        }\n",
              "      </script>\n",
              "    </div>\n",
              "  </div>\n",
              "  "
            ]
          },
          "metadata": {},
          "execution_count": 43
        }
      ]
    },
    {
      "cell_type": "markdown",
      "source": [
        "\n",
        "\n",
        "---\n",
        "\n",
        "As shown there are rides with zero distance but not zero fare amount. That's why I can make an assumption that data was colllected not correctly. As long as I can't get info to fill these gaps from any source and this can influent future model I will drop the whole entity connected to particular zero (about 1% of the data).\n",
        "\n",
        "---\n",
        "\n"
      ],
      "metadata": {
        "id": "7KKSYTB9waxG"
      }
    },
    {
      "cell_type": "code",
      "source": [
        "df = df[df.distance > 0]\n",
        "print('df.shape: ', df.shape)\n",
        "df.head()"
      ],
      "metadata": {
        "colab": {
          "base_uri": "https://localhost:8080/",
          "height": 224
        },
        "id": "c8m23jLev7c7",
        "outputId": "beca4516-20d2-4961-9b23-4afaccc179f2"
      },
      "execution_count": 44,
      "outputs": [
        {
          "output_type": "stream",
          "name": "stdout",
          "text": [
            "df.shape:  (1005511, 14)\n"
          ]
        },
        {
          "output_type": "execute_result",
          "data": {
            "text/plain": [
              "   fare_amount  pickup_longitude  pickup_latitude  dropoff_longitude  \\\n",
              "0          4.5        -73.844311        40.721319         -73.841610   \n",
              "1         16.9        -74.016048        40.711303         -73.979268   \n",
              "2          5.7        -73.982738        40.761270         -73.991242   \n",
              "3          7.7        -73.987130        40.733143         -73.991567   \n",
              "4          5.3        -73.968095        40.768008         -73.956655   \n",
              "\n",
              "   dropoff_latitude  passenger_count  year  season    month  day  day_name  \\\n",
              "0         40.712278                1  2009  Summer     June   15    Monday   \n",
              "1         40.782004                1  2010  Winter  January    5   Tuesday   \n",
              "2         40.750562                2  2011  Summer   August   18  Thursday   \n",
              "3         40.758092                1  2012  Spring    April   21  Saturday   \n",
              "4         40.783762                1  2010  Spring    March    9   Tuesday   \n",
              "\n",
              "   hour  rush_hour  distance  \n",
              "0    17          1     1.031  \n",
              "1    16          1     8.450  \n",
              "2     0          0     1.390  \n",
              "3     4          0     2.799  \n",
              "4     7          1     1.999  "
            ],
            "text/html": [
              "\n",
              "  <div id=\"df-603db89c-1900-4cff-8cc0-02c5a851beea\">\n",
              "    <div class=\"colab-df-container\">\n",
              "      <div>\n",
              "<style scoped>\n",
              "    .dataframe tbody tr th:only-of-type {\n",
              "        vertical-align: middle;\n",
              "    }\n",
              "\n",
              "    .dataframe tbody tr th {\n",
              "        vertical-align: top;\n",
              "    }\n",
              "\n",
              "    .dataframe thead th {\n",
              "        text-align: right;\n",
              "    }\n",
              "</style>\n",
              "<table border=\"1\" class=\"dataframe\">\n",
              "  <thead>\n",
              "    <tr style=\"text-align: right;\">\n",
              "      <th></th>\n",
              "      <th>fare_amount</th>\n",
              "      <th>pickup_longitude</th>\n",
              "      <th>pickup_latitude</th>\n",
              "      <th>dropoff_longitude</th>\n",
              "      <th>dropoff_latitude</th>\n",
              "      <th>passenger_count</th>\n",
              "      <th>year</th>\n",
              "      <th>season</th>\n",
              "      <th>month</th>\n",
              "      <th>day</th>\n",
              "      <th>day_name</th>\n",
              "      <th>hour</th>\n",
              "      <th>rush_hour</th>\n",
              "      <th>distance</th>\n",
              "    </tr>\n",
              "  </thead>\n",
              "  <tbody>\n",
              "    <tr>\n",
              "      <th>0</th>\n",
              "      <td>4.5</td>\n",
              "      <td>-73.844311</td>\n",
              "      <td>40.721319</td>\n",
              "      <td>-73.841610</td>\n",
              "      <td>40.712278</td>\n",
              "      <td>1</td>\n",
              "      <td>2009</td>\n",
              "      <td>Summer</td>\n",
              "      <td>June</td>\n",
              "      <td>15</td>\n",
              "      <td>Monday</td>\n",
              "      <td>17</td>\n",
              "      <td>1</td>\n",
              "      <td>1.031</td>\n",
              "    </tr>\n",
              "    <tr>\n",
              "      <th>1</th>\n",
              "      <td>16.9</td>\n",
              "      <td>-74.016048</td>\n",
              "      <td>40.711303</td>\n",
              "      <td>-73.979268</td>\n",
              "      <td>40.782004</td>\n",
              "      <td>1</td>\n",
              "      <td>2010</td>\n",
              "      <td>Winter</td>\n",
              "      <td>January</td>\n",
              "      <td>5</td>\n",
              "      <td>Tuesday</td>\n",
              "      <td>16</td>\n",
              "      <td>1</td>\n",
              "      <td>8.450</td>\n",
              "    </tr>\n",
              "    <tr>\n",
              "      <th>2</th>\n",
              "      <td>5.7</td>\n",
              "      <td>-73.982738</td>\n",
              "      <td>40.761270</td>\n",
              "      <td>-73.991242</td>\n",
              "      <td>40.750562</td>\n",
              "      <td>2</td>\n",
              "      <td>2011</td>\n",
              "      <td>Summer</td>\n",
              "      <td>August</td>\n",
              "      <td>18</td>\n",
              "      <td>Thursday</td>\n",
              "      <td>0</td>\n",
              "      <td>0</td>\n",
              "      <td>1.390</td>\n",
              "    </tr>\n",
              "    <tr>\n",
              "      <th>3</th>\n",
              "      <td>7.7</td>\n",
              "      <td>-73.987130</td>\n",
              "      <td>40.733143</td>\n",
              "      <td>-73.991567</td>\n",
              "      <td>40.758092</td>\n",
              "      <td>1</td>\n",
              "      <td>2012</td>\n",
              "      <td>Spring</td>\n",
              "      <td>April</td>\n",
              "      <td>21</td>\n",
              "      <td>Saturday</td>\n",
              "      <td>4</td>\n",
              "      <td>0</td>\n",
              "      <td>2.799</td>\n",
              "    </tr>\n",
              "    <tr>\n",
              "      <th>4</th>\n",
              "      <td>5.3</td>\n",
              "      <td>-73.968095</td>\n",
              "      <td>40.768008</td>\n",
              "      <td>-73.956655</td>\n",
              "      <td>40.783762</td>\n",
              "      <td>1</td>\n",
              "      <td>2010</td>\n",
              "      <td>Spring</td>\n",
              "      <td>March</td>\n",
              "      <td>9</td>\n",
              "      <td>Tuesday</td>\n",
              "      <td>7</td>\n",
              "      <td>1</td>\n",
              "      <td>1.999</td>\n",
              "    </tr>\n",
              "  </tbody>\n",
              "</table>\n",
              "</div>\n",
              "      <button class=\"colab-df-convert\" onclick=\"convertToInteractive('df-603db89c-1900-4cff-8cc0-02c5a851beea')\"\n",
              "              title=\"Convert this dataframe to an interactive table.\"\n",
              "              style=\"display:none;\">\n",
              "        \n",
              "  <svg xmlns=\"http://www.w3.org/2000/svg\" height=\"24px\"viewBox=\"0 0 24 24\"\n",
              "       width=\"24px\">\n",
              "    <path d=\"M0 0h24v24H0V0z\" fill=\"none\"/>\n",
              "    <path d=\"M18.56 5.44l.94 2.06.94-2.06 2.06-.94-2.06-.94-.94-2.06-.94 2.06-2.06.94zm-11 1L8.5 8.5l.94-2.06 2.06-.94-2.06-.94L8.5 2.5l-.94 2.06-2.06.94zm10 10l.94 2.06.94-2.06 2.06-.94-2.06-.94-.94-2.06-.94 2.06-2.06.94z\"/><path d=\"M17.41 7.96l-1.37-1.37c-.4-.4-.92-.59-1.43-.59-.52 0-1.04.2-1.43.59L10.3 9.45l-7.72 7.72c-.78.78-.78 2.05 0 2.83L4 21.41c.39.39.9.59 1.41.59.51 0 1.02-.2 1.41-.59l7.78-7.78 2.81-2.81c.8-.78.8-2.07 0-2.86zM5.41 20L4 18.59l7.72-7.72 1.47 1.35L5.41 20z\"/>\n",
              "  </svg>\n",
              "      </button>\n",
              "      \n",
              "  <style>\n",
              "    .colab-df-container {\n",
              "      display:flex;\n",
              "      flex-wrap:wrap;\n",
              "      gap: 12px;\n",
              "    }\n",
              "\n",
              "    .colab-df-convert {\n",
              "      background-color: #E8F0FE;\n",
              "      border: none;\n",
              "      border-radius: 50%;\n",
              "      cursor: pointer;\n",
              "      display: none;\n",
              "      fill: #1967D2;\n",
              "      height: 32px;\n",
              "      padding: 0 0 0 0;\n",
              "      width: 32px;\n",
              "    }\n",
              "\n",
              "    .colab-df-convert:hover {\n",
              "      background-color: #E2EBFA;\n",
              "      box-shadow: 0px 1px 2px rgba(60, 64, 67, 0.3), 0px 1px 3px 1px rgba(60, 64, 67, 0.15);\n",
              "      fill: #174EA6;\n",
              "    }\n",
              "\n",
              "    [theme=dark] .colab-df-convert {\n",
              "      background-color: #3B4455;\n",
              "      fill: #D2E3FC;\n",
              "    }\n",
              "\n",
              "    [theme=dark] .colab-df-convert:hover {\n",
              "      background-color: #434B5C;\n",
              "      box-shadow: 0px 1px 3px 1px rgba(0, 0, 0, 0.15);\n",
              "      filter: drop-shadow(0px 1px 2px rgba(0, 0, 0, 0.3));\n",
              "      fill: #FFFFFF;\n",
              "    }\n",
              "  </style>\n",
              "\n",
              "      <script>\n",
              "        const buttonEl =\n",
              "          document.querySelector('#df-603db89c-1900-4cff-8cc0-02c5a851beea button.colab-df-convert');\n",
              "        buttonEl.style.display =\n",
              "          google.colab.kernel.accessAllowed ? 'block' : 'none';\n",
              "\n",
              "        async function convertToInteractive(key) {\n",
              "          const element = document.querySelector('#df-603db89c-1900-4cff-8cc0-02c5a851beea');\n",
              "          const dataTable =\n",
              "            await google.colab.kernel.invokeFunction('convertToInteractive',\n",
              "                                                     [key], {});\n",
              "          if (!dataTable) return;\n",
              "\n",
              "          const docLinkHtml = 'Like what you see? Visit the ' +\n",
              "            '<a target=\"_blank\" href=https://colab.research.google.com/notebooks/data_table.ipynb>data table notebook</a>'\n",
              "            + ' to learn more about interactive tables.';\n",
              "          element.innerHTML = '';\n",
              "          dataTable['output_type'] = 'display_data';\n",
              "          await google.colab.output.renderOutput(dataTable, element);\n",
              "          const docLink = document.createElement('div');\n",
              "          docLink.innerHTML = docLinkHtml;\n",
              "          element.appendChild(docLink);\n",
              "        }\n",
              "      </script>\n",
              "    </div>\n",
              "  </div>\n",
              "  "
            ]
          },
          "metadata": {},
          "execution_count": 44
        }
      ]
    },
    {
      "cell_type": "code",
      "source": [
        "df.distance.describe()"
      ],
      "metadata": {
        "colab": {
          "base_uri": "https://localhost:8080/"
        },
        "id": "iqmn-DgXxguP",
        "outputId": "a7e7a5d9-1734-4e0d-c820-25792b5e3429"
      },
      "execution_count": 45,
      "outputs": [
        {
          "output_type": "execute_result",
          "data": {
            "text/plain": [
              "count    1.005511e+06\n",
              "mean     3.194144e+00\n",
              "std      3.182424e+00\n",
              "min      1.000000e-03\n",
              "25%      1.273000e+00\n",
              "50%      2.157000e+00\n",
              "75%      3.866000e+00\n",
              "max      2.300900e+01\n",
              "Name: distance, dtype: float64"
            ]
          },
          "metadata": {},
          "execution_count": 45
        }
      ]
    },
    {
      "cell_type": "markdown",
      "source": [
        "\n",
        "\n",
        "---\n",
        "\n",
        "*min* value is still pretty low (1 meter). Taxi ride with distance less than at least 100m  doesn't make sense and seems erroneous. And as tradition, I will drop these entities (~0.2%).\n",
        "\n",
        "---\n",
        "\n"
      ],
      "metadata": {
        "id": "MrE4Sc0ck07S"
      }
    },
    {
      "cell_type": "code",
      "source": [
        "df[df.distance<0.01].shape"
      ],
      "metadata": {
        "colab": {
          "base_uri": "https://localhost:8080/"
        },
        "id": "L9t2c4jT8uMx",
        "outputId": "6ce029af-ba2d-4590-8919-b78f74cc23c1"
      },
      "execution_count": 46,
      "outputs": [
        {
          "output_type": "execute_result",
          "data": {
            "text/plain": [
              "(1722, 14)"
            ]
          },
          "metadata": {},
          "execution_count": 46
        }
      ]
    },
    {
      "cell_type": "code",
      "source": [
        "df.drop(index=df[df.distance<0.01].index.to_list(), inplace=True)\n",
        "print('df.shape: ', df.shape)\n",
        "df.head()"
      ],
      "metadata": {
        "colab": {
          "base_uri": "https://localhost:8080/",
          "height": 224
        },
        "id": "TEYIW7GQlqd9",
        "outputId": "eb7b846c-d584-4a60-820c-7f39951782cb"
      },
      "execution_count": 47,
      "outputs": [
        {
          "output_type": "stream",
          "name": "stdout",
          "text": [
            "df.shape:  (1003789, 14)\n"
          ]
        },
        {
          "output_type": "execute_result",
          "data": {
            "text/plain": [
              "   fare_amount  pickup_longitude  pickup_latitude  dropoff_longitude  \\\n",
              "0          4.5        -73.844311        40.721319         -73.841610   \n",
              "1         16.9        -74.016048        40.711303         -73.979268   \n",
              "2          5.7        -73.982738        40.761270         -73.991242   \n",
              "3          7.7        -73.987130        40.733143         -73.991567   \n",
              "4          5.3        -73.968095        40.768008         -73.956655   \n",
              "\n",
              "   dropoff_latitude  passenger_count  year  season    month  day  day_name  \\\n",
              "0         40.712278                1  2009  Summer     June   15    Monday   \n",
              "1         40.782004                1  2010  Winter  January    5   Tuesday   \n",
              "2         40.750562                2  2011  Summer   August   18  Thursday   \n",
              "3         40.758092                1  2012  Spring    April   21  Saturday   \n",
              "4         40.783762                1  2010  Spring    March    9   Tuesday   \n",
              "\n",
              "   hour  rush_hour  distance  \n",
              "0    17          1     1.031  \n",
              "1    16          1     8.450  \n",
              "2     0          0     1.390  \n",
              "3     4          0     2.799  \n",
              "4     7          1     1.999  "
            ],
            "text/html": [
              "\n",
              "  <div id=\"df-bace2a5b-11e0-4ab3-8269-673d47266dc4\">\n",
              "    <div class=\"colab-df-container\">\n",
              "      <div>\n",
              "<style scoped>\n",
              "    .dataframe tbody tr th:only-of-type {\n",
              "        vertical-align: middle;\n",
              "    }\n",
              "\n",
              "    .dataframe tbody tr th {\n",
              "        vertical-align: top;\n",
              "    }\n",
              "\n",
              "    .dataframe thead th {\n",
              "        text-align: right;\n",
              "    }\n",
              "</style>\n",
              "<table border=\"1\" class=\"dataframe\">\n",
              "  <thead>\n",
              "    <tr style=\"text-align: right;\">\n",
              "      <th></th>\n",
              "      <th>fare_amount</th>\n",
              "      <th>pickup_longitude</th>\n",
              "      <th>pickup_latitude</th>\n",
              "      <th>dropoff_longitude</th>\n",
              "      <th>dropoff_latitude</th>\n",
              "      <th>passenger_count</th>\n",
              "      <th>year</th>\n",
              "      <th>season</th>\n",
              "      <th>month</th>\n",
              "      <th>day</th>\n",
              "      <th>day_name</th>\n",
              "      <th>hour</th>\n",
              "      <th>rush_hour</th>\n",
              "      <th>distance</th>\n",
              "    </tr>\n",
              "  </thead>\n",
              "  <tbody>\n",
              "    <tr>\n",
              "      <th>0</th>\n",
              "      <td>4.5</td>\n",
              "      <td>-73.844311</td>\n",
              "      <td>40.721319</td>\n",
              "      <td>-73.841610</td>\n",
              "      <td>40.712278</td>\n",
              "      <td>1</td>\n",
              "      <td>2009</td>\n",
              "      <td>Summer</td>\n",
              "      <td>June</td>\n",
              "      <td>15</td>\n",
              "      <td>Monday</td>\n",
              "      <td>17</td>\n",
              "      <td>1</td>\n",
              "      <td>1.031</td>\n",
              "    </tr>\n",
              "    <tr>\n",
              "      <th>1</th>\n",
              "      <td>16.9</td>\n",
              "      <td>-74.016048</td>\n",
              "      <td>40.711303</td>\n",
              "      <td>-73.979268</td>\n",
              "      <td>40.782004</td>\n",
              "      <td>1</td>\n",
              "      <td>2010</td>\n",
              "      <td>Winter</td>\n",
              "      <td>January</td>\n",
              "      <td>5</td>\n",
              "      <td>Tuesday</td>\n",
              "      <td>16</td>\n",
              "      <td>1</td>\n",
              "      <td>8.450</td>\n",
              "    </tr>\n",
              "    <tr>\n",
              "      <th>2</th>\n",
              "      <td>5.7</td>\n",
              "      <td>-73.982738</td>\n",
              "      <td>40.761270</td>\n",
              "      <td>-73.991242</td>\n",
              "      <td>40.750562</td>\n",
              "      <td>2</td>\n",
              "      <td>2011</td>\n",
              "      <td>Summer</td>\n",
              "      <td>August</td>\n",
              "      <td>18</td>\n",
              "      <td>Thursday</td>\n",
              "      <td>0</td>\n",
              "      <td>0</td>\n",
              "      <td>1.390</td>\n",
              "    </tr>\n",
              "    <tr>\n",
              "      <th>3</th>\n",
              "      <td>7.7</td>\n",
              "      <td>-73.987130</td>\n",
              "      <td>40.733143</td>\n",
              "      <td>-73.991567</td>\n",
              "      <td>40.758092</td>\n",
              "      <td>1</td>\n",
              "      <td>2012</td>\n",
              "      <td>Spring</td>\n",
              "      <td>April</td>\n",
              "      <td>21</td>\n",
              "      <td>Saturday</td>\n",
              "      <td>4</td>\n",
              "      <td>0</td>\n",
              "      <td>2.799</td>\n",
              "    </tr>\n",
              "    <tr>\n",
              "      <th>4</th>\n",
              "      <td>5.3</td>\n",
              "      <td>-73.968095</td>\n",
              "      <td>40.768008</td>\n",
              "      <td>-73.956655</td>\n",
              "      <td>40.783762</td>\n",
              "      <td>1</td>\n",
              "      <td>2010</td>\n",
              "      <td>Spring</td>\n",
              "      <td>March</td>\n",
              "      <td>9</td>\n",
              "      <td>Tuesday</td>\n",
              "      <td>7</td>\n",
              "      <td>1</td>\n",
              "      <td>1.999</td>\n",
              "    </tr>\n",
              "  </tbody>\n",
              "</table>\n",
              "</div>\n",
              "      <button class=\"colab-df-convert\" onclick=\"convertToInteractive('df-bace2a5b-11e0-4ab3-8269-673d47266dc4')\"\n",
              "              title=\"Convert this dataframe to an interactive table.\"\n",
              "              style=\"display:none;\">\n",
              "        \n",
              "  <svg xmlns=\"http://www.w3.org/2000/svg\" height=\"24px\"viewBox=\"0 0 24 24\"\n",
              "       width=\"24px\">\n",
              "    <path d=\"M0 0h24v24H0V0z\" fill=\"none\"/>\n",
              "    <path d=\"M18.56 5.44l.94 2.06.94-2.06 2.06-.94-2.06-.94-.94-2.06-.94 2.06-2.06.94zm-11 1L8.5 8.5l.94-2.06 2.06-.94-2.06-.94L8.5 2.5l-.94 2.06-2.06.94zm10 10l.94 2.06.94-2.06 2.06-.94-2.06-.94-.94-2.06-.94 2.06-2.06.94z\"/><path d=\"M17.41 7.96l-1.37-1.37c-.4-.4-.92-.59-1.43-.59-.52 0-1.04.2-1.43.59L10.3 9.45l-7.72 7.72c-.78.78-.78 2.05 0 2.83L4 21.41c.39.39.9.59 1.41.59.51 0 1.02-.2 1.41-.59l7.78-7.78 2.81-2.81c.8-.78.8-2.07 0-2.86zM5.41 20L4 18.59l7.72-7.72 1.47 1.35L5.41 20z\"/>\n",
              "  </svg>\n",
              "      </button>\n",
              "      \n",
              "  <style>\n",
              "    .colab-df-container {\n",
              "      display:flex;\n",
              "      flex-wrap:wrap;\n",
              "      gap: 12px;\n",
              "    }\n",
              "\n",
              "    .colab-df-convert {\n",
              "      background-color: #E8F0FE;\n",
              "      border: none;\n",
              "      border-radius: 50%;\n",
              "      cursor: pointer;\n",
              "      display: none;\n",
              "      fill: #1967D2;\n",
              "      height: 32px;\n",
              "      padding: 0 0 0 0;\n",
              "      width: 32px;\n",
              "    }\n",
              "\n",
              "    .colab-df-convert:hover {\n",
              "      background-color: #E2EBFA;\n",
              "      box-shadow: 0px 1px 2px rgba(60, 64, 67, 0.3), 0px 1px 3px 1px rgba(60, 64, 67, 0.15);\n",
              "      fill: #174EA6;\n",
              "    }\n",
              "\n",
              "    [theme=dark] .colab-df-convert {\n",
              "      background-color: #3B4455;\n",
              "      fill: #D2E3FC;\n",
              "    }\n",
              "\n",
              "    [theme=dark] .colab-df-convert:hover {\n",
              "      background-color: #434B5C;\n",
              "      box-shadow: 0px 1px 3px 1px rgba(0, 0, 0, 0.15);\n",
              "      filter: drop-shadow(0px 1px 2px rgba(0, 0, 0, 0.3));\n",
              "      fill: #FFFFFF;\n",
              "    }\n",
              "  </style>\n",
              "\n",
              "      <script>\n",
              "        const buttonEl =\n",
              "          document.querySelector('#df-bace2a5b-11e0-4ab3-8269-673d47266dc4 button.colab-df-convert');\n",
              "        buttonEl.style.display =\n",
              "          google.colab.kernel.accessAllowed ? 'block' : 'none';\n",
              "\n",
              "        async function convertToInteractive(key) {\n",
              "          const element = document.querySelector('#df-bace2a5b-11e0-4ab3-8269-673d47266dc4');\n",
              "          const dataTable =\n",
              "            await google.colab.kernel.invokeFunction('convertToInteractive',\n",
              "                                                     [key], {});\n",
              "          if (!dataTable) return;\n",
              "\n",
              "          const docLinkHtml = 'Like what you see? Visit the ' +\n",
              "            '<a target=\"_blank\" href=https://colab.research.google.com/notebooks/data_table.ipynb>data table notebook</a>'\n",
              "            + ' to learn more about interactive tables.';\n",
              "          element.innerHTML = '';\n",
              "          dataTable['output_type'] = 'display_data';\n",
              "          await google.colab.output.renderOutput(dataTable, element);\n",
              "          const docLink = document.createElement('div');\n",
              "          docLink.innerHTML = docLinkHtml;\n",
              "          element.appendChild(docLink);\n",
              "        }\n",
              "      </script>\n",
              "    </div>\n",
              "  </div>\n",
              "  "
            ]
          },
          "metadata": {},
          "execution_count": 47
        }
      ]
    },
    {
      "cell_type": "code",
      "source": [
        "df.distance.describe()"
      ],
      "metadata": {
        "colab": {
          "base_uri": "https://localhost:8080/"
        },
        "id": "4pJzSG9882Ns",
        "outputId": "6e51a577-caea-4284-96ed-631ae61ec117"
      },
      "execution_count": 48,
      "outputs": [
        {
          "output_type": "execute_result",
          "data": {
            "text/plain": [
              "count    1.003789e+06\n",
              "mean     3.199617e+00\n",
              "std      3.182406e+00\n",
              "min      1.000000e-02\n",
              "25%      1.277000e+00\n",
              "50%      2.161000e+00\n",
              "75%      3.871000e+00\n",
              "max      2.300900e+01\n",
              "Name: distance, dtype: float64"
            ]
          },
          "metadata": {},
          "execution_count": 48
        }
      ]
    },
    {
      "cell_type": "markdown",
      "source": [
        "\n",
        "\n",
        "---\n",
        "\n",
        "Finally I don't have too low and too huge distance entities in the data.\n",
        "\n",
        "---\n",
        "\n"
      ],
      "metadata": {
        "id": "aK3DYDBcxlOg"
      }
    },
    {
      "cell_type": "markdown",
      "source": [
        "### Duplicates"
      ],
      "metadata": {
        "id": "HBESl0YlNo8A"
      }
    },
    {
      "cell_type": "markdown",
      "source": [
        "\n",
        "Also to avoid false influence on the result by same data, let's check it on duplicates.\n",
        "\n",
        "---"
      ],
      "metadata": {
        "id": "DGH3t1VXNvhx"
      }
    },
    {
      "cell_type": "code",
      "source": [
        "df.nunique() #Count number of distinct elements in specified axis"
      ],
      "metadata": {
        "colab": {
          "base_uri": "https://localhost:8080/"
        },
        "id": "Z70_ago2O1AX",
        "outputId": "11f213a8-ab04-4714-c4d6-54473a7d292b"
      },
      "execution_count": 49,
      "outputs": [
        {
          "output_type": "execute_result",
          "data": {
            "text/plain": [
              "fare_amount            1140\n",
              "pickup_longitude     110144\n",
              "pickup_latitude      143270\n",
              "dropoff_longitude    130295\n",
              "dropoff_latitude     169358\n",
              "passenger_count           6\n",
              "year                      7\n",
              "season                    4\n",
              "month                    12\n",
              "day                      31\n",
              "day_name                  7\n",
              "hour                     24\n",
              "rush_hour                 2\n",
              "distance              21274\n",
              "dtype: int64"
            ]
          },
          "metadata": {},
          "execution_count": 49
        }
      ]
    },
    {
      "cell_type": "code",
      "source": [
        "df.duplicated().sum() #count sum of  boolean Series denoting duplicate rows"
      ],
      "metadata": {
        "colab": {
          "base_uri": "https://localhost:8080/"
        },
        "id": "d-6e3GQsPYT1",
        "outputId": "2f755293-9696-4b0e-9d66-fc005b665e22"
      },
      "execution_count": 50,
      "outputs": [
        {
          "output_type": "execute_result",
          "data": {
            "text/plain": [
              "0"
            ]
          },
          "metadata": {},
          "execution_count": 50
        }
      ]
    },
    {
      "cell_type": "markdown",
      "source": [
        "\n",
        "\n",
        "---\n",
        "\n",
        "There is no duplicated rows in the data.\n",
        "\n",
        "---\n",
        "\n"
      ],
      "metadata": {
        "id": "fFtPpbohQIa9"
      }
    },
    {
      "cell_type": "markdown",
      "source": [
        "## Results"
      ],
      "metadata": {
        "id": "FfEZmjoRynlg"
      }
    },
    {
      "cell_type": "markdown",
      "source": [
        "\n",
        "\n",
        "During cleaning process I dropped some data. Let's check how much.\n",
        "\n",
        "---\n",
        "\n"
      ],
      "metadata": {
        "id": "aerSwSPlysDf"
      }
    },
    {
      "cell_type": "code",
      "source": [
        "percent = 100-(df.shape[0]*100/raw_df.shape[0])\n",
        "print('Cleaning process dicreased data on {:.2f}%'.format(percent))"
      ],
      "metadata": {
        "colab": {
          "base_uri": "https://localhost:8080/"
        },
        "id": "MC5X2RP0zdeV",
        "outputId": "76dc6d8a-38cd-468e-8144-345a5132439a"
      },
      "execution_count": 60,
      "outputs": [
        {
          "output_type": "stream",
          "name": "stdout",
          "text": [
            "Cleaning process dicreased data on 4.27%\n"
          ]
        }
      ]
    },
    {
      "cell_type": "markdown",
      "source": [
        "\n",
        "\n",
        "---\n",
        "\n",
        "With all my data manipulation I lost less than 5% of data. But at the same time I got clean data to train future model. So it's acceptable for this project, but probably not acceptable for another one.\n",
        "\n",
        "---\n",
        "\n"
      ],
      "metadata": {
        "id": "_gd1YOfq0BtB"
      }
    },
    {
      "cell_type": "markdown",
      "source": [
        "## Save Clean Data"
      ],
      "metadata": {
        "id": "eo4KZRnWnEzp"
      }
    },
    {
      "cell_type": "markdown",
      "source": [
        "After finishing process of cleaning data let's save the result to avoid repeating the whole thing in the future.\n",
        "\n",
        "---"
      ],
      "metadata": {
        "id": "N09obIIPnfJe"
      }
    },
    {
      "cell_type": "code",
      "source": [
        "#save df\n",
        "df.to_csv('clean_train.csv', index=False)"
      ],
      "metadata": {
        "id": "j0m2GOxYlsbc"
      },
      "execution_count": 51,
      "outputs": []
    },
    {
      "cell_type": "markdown",
      "source": [
        "## Feature Extracting Function"
      ],
      "metadata": {
        "id": "xmFhHgqD4SDf"
      }
    },
    {
      "cell_type": "markdown",
      "source": [
        "After creating and training model we will have to apply it on the test data to get predictions. To do so we will need to convert test data  to the same format as we did with train data. For this purpose lets create a function that will do it for us:\n",
        "* drop ```key``` column\n",
        "* convert ```pickup_datetime``` into datetime data type\n",
        "* create ```year```, ```season```, ```month```, ```day```, ```day_name```, ```hour```, ```rush_hour``` out of ```pickup_datetime```\n",
        "* create ```distance``` column out of coordinate columns\n",
        "\n",
        "---"
      ],
      "metadata": {
        "id": "Av4sLyFB4aqp"
      }
    },
    {
      "cell_type": "code",
      "source": [
        "def clean_data(df):\n",
        "\n",
        "  df.drop(columns = ['key'], inplace=True) #drop key column\n",
        "\n",
        "  df.pickup_datetime = pd.to_datetime(df.pickup_datetime) #convert dtype to datetime\n",
        "\n",
        "  #creating year, season, month, day, day_name, hour columns\n",
        "  df['year'] = df.pickup_datetime.dt.year #year\n",
        "  seasons = ['Winter', 'Spring', 'Summer', 'Fall'] \n",
        "  df['season'] = [seasons[i-1] for i in (df.pickup_datetime.dt.month%12// 3 + 1).values] #season\n",
        "  df['month'] = df.pickup_datetime.dt.month_name() #month\n",
        "  df['day'] = df.pickup_datetime.dt.day #day\n",
        "  df['day_name'] = df.pickup_datetime.dt.day_name() #day name\n",
        "  df['hour'] = df.pickup_datetime.dt.hour #hour\n",
        "  \n",
        "  #creating rush hour column\n",
        "  rush_hour = []\n",
        "  for i in df.hour.values:\n",
        "    if i in range(7,11):\n",
        "      rush_hour.append(1)\n",
        "    elif i in range(15,20):\n",
        "      rush_hour.append(1)\n",
        "    else:\n",
        "      rush_hour.append(0)\n",
        "  df['rush_hour'] = rush_hour # rush hour\n",
        "  \n",
        "  df.drop(columns=['pickup_datetime'], inplace=True) # drop donor pickup_datetime column\n",
        "\n",
        "  #creating distance column\n",
        "  distance = []\n",
        "  for i in range(df.shape[0]):\n",
        "    coordA = [df.pickup_latitude.iloc[i], df.pickup_longitude.iloc[i]]\n",
        "    coordB = [df.dropoff_latitude.iloc[i], df.dropoff_longitude.iloc[i]]\n",
        "    distance.append(round(float(great_circle(coordA, coordB).kilometers), 3))  \n",
        "  df['distance'] = distance #create a column with distance for each ride\n",
        "  \n",
        "  df.drop(columns=['pickup_longitude', 'pickup_latitude', 'dropoff_longitude', 'dropoff_latitude'], inplace=True) #drop donor columns\n",
        "\n",
        "  return df"
      ],
      "metadata": {
        "id": "3Mx5rjaS5P82"
      },
      "execution_count": 215,
      "outputs": []
    },
    {
      "cell_type": "markdown",
      "source": [
        "# Eploratory Data Analysis & Feature Selection"
      ],
      "metadata": {
        "id": "LrPw_G6eoMto"
      }
    },
    {
      "cell_type": "markdown",
      "source": [
        "## Load cleaned data"
      ],
      "metadata": {
        "id": "7KVEiunyzFu0"
      }
    },
    {
      "cell_type": "code",
      "source": [
        "df = pd.read_csv('https://raw.githubusercontent.com/pe44enka/TaxiFarePrediction/master/data/clean_train.csv')\n",
        "print('df.shape: ', df.shape)\n",
        "df.head()"
      ],
      "metadata": {
        "colab": {
          "base_uri": "https://localhost:8080/",
          "height": 224
        },
        "id": "9BrZyq3nzFLH",
        "outputId": "f714253b-cac5-47ee-d234-aa744c0cbad1"
      },
      "execution_count": 52,
      "outputs": [
        {
          "output_type": "stream",
          "name": "stdout",
          "text": [
            "df.shape:  (1003789, 14)\n"
          ]
        },
        {
          "output_type": "execute_result",
          "data": {
            "text/plain": [
              "   fare_amount  pickup_longitude  pickup_latitude  dropoff_longitude  \\\n",
              "0          4.5        -73.844311        40.721319         -73.841610   \n",
              "1         16.9        -74.016048        40.711303         -73.979268   \n",
              "2          5.7        -73.982738        40.761270         -73.991242   \n",
              "3          7.7        -73.987130        40.733143         -73.991567   \n",
              "4          5.3        -73.968095        40.768008         -73.956655   \n",
              "\n",
              "   dropoff_latitude  passenger_count  year  season    month  day  day_name  \\\n",
              "0         40.712278                1  2009  Summer     June   15    Monday   \n",
              "1         40.782004                1  2010  Winter  January    5   Tuesday   \n",
              "2         40.750562                2  2011  Summer   August   18  Thursday   \n",
              "3         40.758092                1  2012  Spring    April   21  Saturday   \n",
              "4         40.783762                1  2010  Spring    March    9   Tuesday   \n",
              "\n",
              "   hour  rush_hour  distance  \n",
              "0    17          1     1.031  \n",
              "1    16          1     8.450  \n",
              "2     0          0     1.390  \n",
              "3     4          0     2.799  \n",
              "4     7          1     1.999  "
            ],
            "text/html": [
              "\n",
              "  <div id=\"df-90efeb3e-ec23-4795-9fbd-9c3da334b2ec\">\n",
              "    <div class=\"colab-df-container\">\n",
              "      <div>\n",
              "<style scoped>\n",
              "    .dataframe tbody tr th:only-of-type {\n",
              "        vertical-align: middle;\n",
              "    }\n",
              "\n",
              "    .dataframe tbody tr th {\n",
              "        vertical-align: top;\n",
              "    }\n",
              "\n",
              "    .dataframe thead th {\n",
              "        text-align: right;\n",
              "    }\n",
              "</style>\n",
              "<table border=\"1\" class=\"dataframe\">\n",
              "  <thead>\n",
              "    <tr style=\"text-align: right;\">\n",
              "      <th></th>\n",
              "      <th>fare_amount</th>\n",
              "      <th>pickup_longitude</th>\n",
              "      <th>pickup_latitude</th>\n",
              "      <th>dropoff_longitude</th>\n",
              "      <th>dropoff_latitude</th>\n",
              "      <th>passenger_count</th>\n",
              "      <th>year</th>\n",
              "      <th>season</th>\n",
              "      <th>month</th>\n",
              "      <th>day</th>\n",
              "      <th>day_name</th>\n",
              "      <th>hour</th>\n",
              "      <th>rush_hour</th>\n",
              "      <th>distance</th>\n",
              "    </tr>\n",
              "  </thead>\n",
              "  <tbody>\n",
              "    <tr>\n",
              "      <th>0</th>\n",
              "      <td>4.5</td>\n",
              "      <td>-73.844311</td>\n",
              "      <td>40.721319</td>\n",
              "      <td>-73.841610</td>\n",
              "      <td>40.712278</td>\n",
              "      <td>1</td>\n",
              "      <td>2009</td>\n",
              "      <td>Summer</td>\n",
              "      <td>June</td>\n",
              "      <td>15</td>\n",
              "      <td>Monday</td>\n",
              "      <td>17</td>\n",
              "      <td>1</td>\n",
              "      <td>1.031</td>\n",
              "    </tr>\n",
              "    <tr>\n",
              "      <th>1</th>\n",
              "      <td>16.9</td>\n",
              "      <td>-74.016048</td>\n",
              "      <td>40.711303</td>\n",
              "      <td>-73.979268</td>\n",
              "      <td>40.782004</td>\n",
              "      <td>1</td>\n",
              "      <td>2010</td>\n",
              "      <td>Winter</td>\n",
              "      <td>January</td>\n",
              "      <td>5</td>\n",
              "      <td>Tuesday</td>\n",
              "      <td>16</td>\n",
              "      <td>1</td>\n",
              "      <td>8.450</td>\n",
              "    </tr>\n",
              "    <tr>\n",
              "      <th>2</th>\n",
              "      <td>5.7</td>\n",
              "      <td>-73.982738</td>\n",
              "      <td>40.761270</td>\n",
              "      <td>-73.991242</td>\n",
              "      <td>40.750562</td>\n",
              "      <td>2</td>\n",
              "      <td>2011</td>\n",
              "      <td>Summer</td>\n",
              "      <td>August</td>\n",
              "      <td>18</td>\n",
              "      <td>Thursday</td>\n",
              "      <td>0</td>\n",
              "      <td>0</td>\n",
              "      <td>1.390</td>\n",
              "    </tr>\n",
              "    <tr>\n",
              "      <th>3</th>\n",
              "      <td>7.7</td>\n",
              "      <td>-73.987130</td>\n",
              "      <td>40.733143</td>\n",
              "      <td>-73.991567</td>\n",
              "      <td>40.758092</td>\n",
              "      <td>1</td>\n",
              "      <td>2012</td>\n",
              "      <td>Spring</td>\n",
              "      <td>April</td>\n",
              "      <td>21</td>\n",
              "      <td>Saturday</td>\n",
              "      <td>4</td>\n",
              "      <td>0</td>\n",
              "      <td>2.799</td>\n",
              "    </tr>\n",
              "    <tr>\n",
              "      <th>4</th>\n",
              "      <td>5.3</td>\n",
              "      <td>-73.968095</td>\n",
              "      <td>40.768008</td>\n",
              "      <td>-73.956655</td>\n",
              "      <td>40.783762</td>\n",
              "      <td>1</td>\n",
              "      <td>2010</td>\n",
              "      <td>Spring</td>\n",
              "      <td>March</td>\n",
              "      <td>9</td>\n",
              "      <td>Tuesday</td>\n",
              "      <td>7</td>\n",
              "      <td>1</td>\n",
              "      <td>1.999</td>\n",
              "    </tr>\n",
              "  </tbody>\n",
              "</table>\n",
              "</div>\n",
              "      <button class=\"colab-df-convert\" onclick=\"convertToInteractive('df-90efeb3e-ec23-4795-9fbd-9c3da334b2ec')\"\n",
              "              title=\"Convert this dataframe to an interactive table.\"\n",
              "              style=\"display:none;\">\n",
              "        \n",
              "  <svg xmlns=\"http://www.w3.org/2000/svg\" height=\"24px\"viewBox=\"0 0 24 24\"\n",
              "       width=\"24px\">\n",
              "    <path d=\"M0 0h24v24H0V0z\" fill=\"none\"/>\n",
              "    <path d=\"M18.56 5.44l.94 2.06.94-2.06 2.06-.94-2.06-.94-.94-2.06-.94 2.06-2.06.94zm-11 1L8.5 8.5l.94-2.06 2.06-.94-2.06-.94L8.5 2.5l-.94 2.06-2.06.94zm10 10l.94 2.06.94-2.06 2.06-.94-2.06-.94-.94-2.06-.94 2.06-2.06.94z\"/><path d=\"M17.41 7.96l-1.37-1.37c-.4-.4-.92-.59-1.43-.59-.52 0-1.04.2-1.43.59L10.3 9.45l-7.72 7.72c-.78.78-.78 2.05 0 2.83L4 21.41c.39.39.9.59 1.41.59.51 0 1.02-.2 1.41-.59l7.78-7.78 2.81-2.81c.8-.78.8-2.07 0-2.86zM5.41 20L4 18.59l7.72-7.72 1.47 1.35L5.41 20z\"/>\n",
              "  </svg>\n",
              "      </button>\n",
              "      \n",
              "  <style>\n",
              "    .colab-df-container {\n",
              "      display:flex;\n",
              "      flex-wrap:wrap;\n",
              "      gap: 12px;\n",
              "    }\n",
              "\n",
              "    .colab-df-convert {\n",
              "      background-color: #E8F0FE;\n",
              "      border: none;\n",
              "      border-radius: 50%;\n",
              "      cursor: pointer;\n",
              "      display: none;\n",
              "      fill: #1967D2;\n",
              "      height: 32px;\n",
              "      padding: 0 0 0 0;\n",
              "      width: 32px;\n",
              "    }\n",
              "\n",
              "    .colab-df-convert:hover {\n",
              "      background-color: #E2EBFA;\n",
              "      box-shadow: 0px 1px 2px rgba(60, 64, 67, 0.3), 0px 1px 3px 1px rgba(60, 64, 67, 0.15);\n",
              "      fill: #174EA6;\n",
              "    }\n",
              "\n",
              "    [theme=dark] .colab-df-convert {\n",
              "      background-color: #3B4455;\n",
              "      fill: #D2E3FC;\n",
              "    }\n",
              "\n",
              "    [theme=dark] .colab-df-convert:hover {\n",
              "      background-color: #434B5C;\n",
              "      box-shadow: 0px 1px 3px 1px rgba(0, 0, 0, 0.15);\n",
              "      filter: drop-shadow(0px 1px 2px rgba(0, 0, 0, 0.3));\n",
              "      fill: #FFFFFF;\n",
              "    }\n",
              "  </style>\n",
              "\n",
              "      <script>\n",
              "        const buttonEl =\n",
              "          document.querySelector('#df-90efeb3e-ec23-4795-9fbd-9c3da334b2ec button.colab-df-convert');\n",
              "        buttonEl.style.display =\n",
              "          google.colab.kernel.accessAllowed ? 'block' : 'none';\n",
              "\n",
              "        async function convertToInteractive(key) {\n",
              "          const element = document.querySelector('#df-90efeb3e-ec23-4795-9fbd-9c3da334b2ec');\n",
              "          const dataTable =\n",
              "            await google.colab.kernel.invokeFunction('convertToInteractive',\n",
              "                                                     [key], {});\n",
              "          if (!dataTable) return;\n",
              "\n",
              "          const docLinkHtml = 'Like what you see? Visit the ' +\n",
              "            '<a target=\"_blank\" href=https://colab.research.google.com/notebooks/data_table.ipynb>data table notebook</a>'\n",
              "            + ' to learn more about interactive tables.';\n",
              "          element.innerHTML = '';\n",
              "          dataTable['output_type'] = 'display_data';\n",
              "          await google.colab.output.renderOutput(dataTable, element);\n",
              "          const docLink = document.createElement('div');\n",
              "          docLink.innerHTML = docLinkHtml;\n",
              "          element.appendChild(docLink);\n",
              "        }\n",
              "      </script>\n",
              "    </div>\n",
              "  </div>\n",
              "  "
            ]
          },
          "metadata": {},
          "execution_count": 52
        }
      ]
    },
    {
      "cell_type": "code",
      "source": [
        "1003789*100/1048575"
      ],
      "metadata": {
        "colab": {
          "base_uri": "https://localhost:8080/"
        },
        "id": "5atD5mdyxZHf",
        "outputId": "088d8804-5e6c-4a73-f19c-c1a7c63fe3cc"
      },
      "execution_count": 55,
      "outputs": [
        {
          "output_type": "execute_result",
          "data": {
            "text/plain": [
              "95.72887013327612"
            ]
          },
          "metadata": {},
          "execution_count": 55
        }
      ]
    },
    {
      "cell_type": "code",
      "source": [
        "df.dtypes"
      ],
      "metadata": {
        "colab": {
          "base_uri": "https://localhost:8080/"
        },
        "id": "uumC65hUC6Lg",
        "outputId": "c73203bd-13d9-4eb5-9305-3c343ea7cdc9"
      },
      "execution_count": 53,
      "outputs": [
        {
          "output_type": "execute_result",
          "data": {
            "text/plain": [
              "fare_amount          float64\n",
              "pickup_longitude     float64\n",
              "pickup_latitude      float64\n",
              "dropoff_longitude    float64\n",
              "dropoff_latitude     float64\n",
              "passenger_count        int64\n",
              "year                   int64\n",
              "season                object\n",
              "month                 object\n",
              "day                    int64\n",
              "day_name              object\n",
              "hour                   int64\n",
              "rush_hour              int64\n",
              "distance             float64\n",
              "dtype: object"
            ]
          },
          "metadata": {},
          "execution_count": 53
        }
      ]
    },
    {
      "cell_type": "code",
      "source": [
        "df.describe(include='all')"
      ],
      "metadata": {
        "colab": {
          "base_uri": "https://localhost:8080/",
          "height": 394
        },
        "id": "kOcJo0nJCU_8",
        "outputId": "347d43d4-8895-4512-8a67-a7da7b86ec88"
      },
      "execution_count": 54,
      "outputs": [
        {
          "output_type": "execute_result",
          "data": {
            "text/plain": [
              "         fare_amount  pickup_longitude  pickup_latitude  dropoff_longitude  \\\n",
              "count   1.003789e+06      1.003789e+06     1.003789e+06       1.003789e+06   \n",
              "unique           NaN               NaN              NaN                NaN   \n",
              "top              NaN               NaN              NaN                NaN   \n",
              "freq             NaN               NaN              NaN                NaN   \n",
              "mean    1.079709e+01     -7.391353e+01     4.069095e+01      -7.391195e+01   \n",
              "std     7.905266e+00      2.642752e+00     2.585414e+00       2.642761e+00   \n",
              "min     2.500000e+00     -7.949826e+01    -7.401659e+01      -7.948642e+01   \n",
              "25%     6.000000e+00     -7.399234e+01     4.073681e+01      -7.399156e+01   \n",
              "50%     8.500000e+00     -7.398217e+01     4.075352e+01      -7.398064e+01   \n",
              "75%     1.250000e+01     -7.396876e+01     4.076765e+01      -7.396572e+01   \n",
              "max     5.200000e+01      4.085036e+01     4.408134e+01       4.085103e+01   \n",
              "\n",
              "        dropoff_latitude  passenger_count          year   season    month  \\\n",
              "count       1.003789e+06     1.003789e+06  1.003789e+06  1003789  1003789   \n",
              "unique               NaN              NaN           NaN        4       12   \n",
              "top                  NaN              NaN           NaN   Spring      May   \n",
              "freq                 NaN              NaN           NaN   280502    94017   \n",
              "mean        4.069123e+01     1.688702e+00  2.011732e+03      NaN      NaN   \n",
              "std         2.585378e+00     1.304582e+00  1.862240e+00      NaN      NaN   \n",
              "min        -7.401663e+01     1.000000e+00  2.009000e+03      NaN      NaN   \n",
              "25%         4.073594e+01     1.000000e+00  2.010000e+03      NaN      NaN   \n",
              "50%         4.075401e+01     1.000000e+00  2.012000e+03      NaN      NaN   \n",
              "75%         4.076845e+01     2.000000e+00  2.013000e+03      NaN      NaN   \n",
              "max         4.407763e+01     6.000000e+00  2.015000e+03      NaN      NaN   \n",
              "\n",
              "                 day day_name          hour     rush_hour      distance  \n",
              "count   1.003789e+06  1003789  1.003789e+06  1.003789e+06  1.003789e+06  \n",
              "unique           NaN        7           NaN           NaN           NaN  \n",
              "top              NaN   Friday           NaN           NaN           NaN  \n",
              "freq             NaN   154888           NaN           NaN           NaN  \n",
              "mean    1.569589e+01      NaN  1.351508e+01  4.351163e-01  3.199617e+00  \n",
              "std     8.682251e+00      NaN  6.516849e+00  4.957725e-01  3.182406e+00  \n",
              "min     1.000000e+00      NaN  0.000000e+00  0.000000e+00  1.000000e-02  \n",
              "25%     8.000000e+00      NaN  9.000000e+00  0.000000e+00  1.277000e+00  \n",
              "50%     1.600000e+01      NaN  1.400000e+01  0.000000e+00  2.161000e+00  \n",
              "75%     2.300000e+01      NaN  1.900000e+01  1.000000e+00  3.871000e+00  \n",
              "max     3.100000e+01      NaN  2.300000e+01  1.000000e+00  2.300900e+01  "
            ],
            "text/html": [
              "\n",
              "  <div id=\"df-e4b333d5-d0dd-4d5d-86cf-a4ba4fa91ea6\">\n",
              "    <div class=\"colab-df-container\">\n",
              "      <div>\n",
              "<style scoped>\n",
              "    .dataframe tbody tr th:only-of-type {\n",
              "        vertical-align: middle;\n",
              "    }\n",
              "\n",
              "    .dataframe tbody tr th {\n",
              "        vertical-align: top;\n",
              "    }\n",
              "\n",
              "    .dataframe thead th {\n",
              "        text-align: right;\n",
              "    }\n",
              "</style>\n",
              "<table border=\"1\" class=\"dataframe\">\n",
              "  <thead>\n",
              "    <tr style=\"text-align: right;\">\n",
              "      <th></th>\n",
              "      <th>fare_amount</th>\n",
              "      <th>pickup_longitude</th>\n",
              "      <th>pickup_latitude</th>\n",
              "      <th>dropoff_longitude</th>\n",
              "      <th>dropoff_latitude</th>\n",
              "      <th>passenger_count</th>\n",
              "      <th>year</th>\n",
              "      <th>season</th>\n",
              "      <th>month</th>\n",
              "      <th>day</th>\n",
              "      <th>day_name</th>\n",
              "      <th>hour</th>\n",
              "      <th>rush_hour</th>\n",
              "      <th>distance</th>\n",
              "    </tr>\n",
              "  </thead>\n",
              "  <tbody>\n",
              "    <tr>\n",
              "      <th>count</th>\n",
              "      <td>1.003789e+06</td>\n",
              "      <td>1.003789e+06</td>\n",
              "      <td>1.003789e+06</td>\n",
              "      <td>1.003789e+06</td>\n",
              "      <td>1.003789e+06</td>\n",
              "      <td>1.003789e+06</td>\n",
              "      <td>1.003789e+06</td>\n",
              "      <td>1003789</td>\n",
              "      <td>1003789</td>\n",
              "      <td>1.003789e+06</td>\n",
              "      <td>1003789</td>\n",
              "      <td>1.003789e+06</td>\n",
              "      <td>1.003789e+06</td>\n",
              "      <td>1.003789e+06</td>\n",
              "    </tr>\n",
              "    <tr>\n",
              "      <th>unique</th>\n",
              "      <td>NaN</td>\n",
              "      <td>NaN</td>\n",
              "      <td>NaN</td>\n",
              "      <td>NaN</td>\n",
              "      <td>NaN</td>\n",
              "      <td>NaN</td>\n",
              "      <td>NaN</td>\n",
              "      <td>4</td>\n",
              "      <td>12</td>\n",
              "      <td>NaN</td>\n",
              "      <td>7</td>\n",
              "      <td>NaN</td>\n",
              "      <td>NaN</td>\n",
              "      <td>NaN</td>\n",
              "    </tr>\n",
              "    <tr>\n",
              "      <th>top</th>\n",
              "      <td>NaN</td>\n",
              "      <td>NaN</td>\n",
              "      <td>NaN</td>\n",
              "      <td>NaN</td>\n",
              "      <td>NaN</td>\n",
              "      <td>NaN</td>\n",
              "      <td>NaN</td>\n",
              "      <td>Spring</td>\n",
              "      <td>May</td>\n",
              "      <td>NaN</td>\n",
              "      <td>Friday</td>\n",
              "      <td>NaN</td>\n",
              "      <td>NaN</td>\n",
              "      <td>NaN</td>\n",
              "    </tr>\n",
              "    <tr>\n",
              "      <th>freq</th>\n",
              "      <td>NaN</td>\n",
              "      <td>NaN</td>\n",
              "      <td>NaN</td>\n",
              "      <td>NaN</td>\n",
              "      <td>NaN</td>\n",
              "      <td>NaN</td>\n",
              "      <td>NaN</td>\n",
              "      <td>280502</td>\n",
              "      <td>94017</td>\n",
              "      <td>NaN</td>\n",
              "      <td>154888</td>\n",
              "      <td>NaN</td>\n",
              "      <td>NaN</td>\n",
              "      <td>NaN</td>\n",
              "    </tr>\n",
              "    <tr>\n",
              "      <th>mean</th>\n",
              "      <td>1.079709e+01</td>\n",
              "      <td>-7.391353e+01</td>\n",
              "      <td>4.069095e+01</td>\n",
              "      <td>-7.391195e+01</td>\n",
              "      <td>4.069123e+01</td>\n",
              "      <td>1.688702e+00</td>\n",
              "      <td>2.011732e+03</td>\n",
              "      <td>NaN</td>\n",
              "      <td>NaN</td>\n",
              "      <td>1.569589e+01</td>\n",
              "      <td>NaN</td>\n",
              "      <td>1.351508e+01</td>\n",
              "      <td>4.351163e-01</td>\n",
              "      <td>3.199617e+00</td>\n",
              "    </tr>\n",
              "    <tr>\n",
              "      <th>std</th>\n",
              "      <td>7.905266e+00</td>\n",
              "      <td>2.642752e+00</td>\n",
              "      <td>2.585414e+00</td>\n",
              "      <td>2.642761e+00</td>\n",
              "      <td>2.585378e+00</td>\n",
              "      <td>1.304582e+00</td>\n",
              "      <td>1.862240e+00</td>\n",
              "      <td>NaN</td>\n",
              "      <td>NaN</td>\n",
              "      <td>8.682251e+00</td>\n",
              "      <td>NaN</td>\n",
              "      <td>6.516849e+00</td>\n",
              "      <td>4.957725e-01</td>\n",
              "      <td>3.182406e+00</td>\n",
              "    </tr>\n",
              "    <tr>\n",
              "      <th>min</th>\n",
              "      <td>2.500000e+00</td>\n",
              "      <td>-7.949826e+01</td>\n",
              "      <td>-7.401659e+01</td>\n",
              "      <td>-7.948642e+01</td>\n",
              "      <td>-7.401663e+01</td>\n",
              "      <td>1.000000e+00</td>\n",
              "      <td>2.009000e+03</td>\n",
              "      <td>NaN</td>\n",
              "      <td>NaN</td>\n",
              "      <td>1.000000e+00</td>\n",
              "      <td>NaN</td>\n",
              "      <td>0.000000e+00</td>\n",
              "      <td>0.000000e+00</td>\n",
              "      <td>1.000000e-02</td>\n",
              "    </tr>\n",
              "    <tr>\n",
              "      <th>25%</th>\n",
              "      <td>6.000000e+00</td>\n",
              "      <td>-7.399234e+01</td>\n",
              "      <td>4.073681e+01</td>\n",
              "      <td>-7.399156e+01</td>\n",
              "      <td>4.073594e+01</td>\n",
              "      <td>1.000000e+00</td>\n",
              "      <td>2.010000e+03</td>\n",
              "      <td>NaN</td>\n",
              "      <td>NaN</td>\n",
              "      <td>8.000000e+00</td>\n",
              "      <td>NaN</td>\n",
              "      <td>9.000000e+00</td>\n",
              "      <td>0.000000e+00</td>\n",
              "      <td>1.277000e+00</td>\n",
              "    </tr>\n",
              "    <tr>\n",
              "      <th>50%</th>\n",
              "      <td>8.500000e+00</td>\n",
              "      <td>-7.398217e+01</td>\n",
              "      <td>4.075352e+01</td>\n",
              "      <td>-7.398064e+01</td>\n",
              "      <td>4.075401e+01</td>\n",
              "      <td>1.000000e+00</td>\n",
              "      <td>2.012000e+03</td>\n",
              "      <td>NaN</td>\n",
              "      <td>NaN</td>\n",
              "      <td>1.600000e+01</td>\n",
              "      <td>NaN</td>\n",
              "      <td>1.400000e+01</td>\n",
              "      <td>0.000000e+00</td>\n",
              "      <td>2.161000e+00</td>\n",
              "    </tr>\n",
              "    <tr>\n",
              "      <th>75%</th>\n",
              "      <td>1.250000e+01</td>\n",
              "      <td>-7.396876e+01</td>\n",
              "      <td>4.076765e+01</td>\n",
              "      <td>-7.396572e+01</td>\n",
              "      <td>4.076845e+01</td>\n",
              "      <td>2.000000e+00</td>\n",
              "      <td>2.013000e+03</td>\n",
              "      <td>NaN</td>\n",
              "      <td>NaN</td>\n",
              "      <td>2.300000e+01</td>\n",
              "      <td>NaN</td>\n",
              "      <td>1.900000e+01</td>\n",
              "      <td>1.000000e+00</td>\n",
              "      <td>3.871000e+00</td>\n",
              "    </tr>\n",
              "    <tr>\n",
              "      <th>max</th>\n",
              "      <td>5.200000e+01</td>\n",
              "      <td>4.085036e+01</td>\n",
              "      <td>4.408134e+01</td>\n",
              "      <td>4.085103e+01</td>\n",
              "      <td>4.407763e+01</td>\n",
              "      <td>6.000000e+00</td>\n",
              "      <td>2.015000e+03</td>\n",
              "      <td>NaN</td>\n",
              "      <td>NaN</td>\n",
              "      <td>3.100000e+01</td>\n",
              "      <td>NaN</td>\n",
              "      <td>2.300000e+01</td>\n",
              "      <td>1.000000e+00</td>\n",
              "      <td>2.300900e+01</td>\n",
              "    </tr>\n",
              "  </tbody>\n",
              "</table>\n",
              "</div>\n",
              "      <button class=\"colab-df-convert\" onclick=\"convertToInteractive('df-e4b333d5-d0dd-4d5d-86cf-a4ba4fa91ea6')\"\n",
              "              title=\"Convert this dataframe to an interactive table.\"\n",
              "              style=\"display:none;\">\n",
              "        \n",
              "  <svg xmlns=\"http://www.w3.org/2000/svg\" height=\"24px\"viewBox=\"0 0 24 24\"\n",
              "       width=\"24px\">\n",
              "    <path d=\"M0 0h24v24H0V0z\" fill=\"none\"/>\n",
              "    <path d=\"M18.56 5.44l.94 2.06.94-2.06 2.06-.94-2.06-.94-.94-2.06-.94 2.06-2.06.94zm-11 1L8.5 8.5l.94-2.06 2.06-.94-2.06-.94L8.5 2.5l-.94 2.06-2.06.94zm10 10l.94 2.06.94-2.06 2.06-.94-2.06-.94-.94-2.06-.94 2.06-2.06.94z\"/><path d=\"M17.41 7.96l-1.37-1.37c-.4-.4-.92-.59-1.43-.59-.52 0-1.04.2-1.43.59L10.3 9.45l-7.72 7.72c-.78.78-.78 2.05 0 2.83L4 21.41c.39.39.9.59 1.41.59.51 0 1.02-.2 1.41-.59l7.78-7.78 2.81-2.81c.8-.78.8-2.07 0-2.86zM5.41 20L4 18.59l7.72-7.72 1.47 1.35L5.41 20z\"/>\n",
              "  </svg>\n",
              "      </button>\n",
              "      \n",
              "  <style>\n",
              "    .colab-df-container {\n",
              "      display:flex;\n",
              "      flex-wrap:wrap;\n",
              "      gap: 12px;\n",
              "    }\n",
              "\n",
              "    .colab-df-convert {\n",
              "      background-color: #E8F0FE;\n",
              "      border: none;\n",
              "      border-radius: 50%;\n",
              "      cursor: pointer;\n",
              "      display: none;\n",
              "      fill: #1967D2;\n",
              "      height: 32px;\n",
              "      padding: 0 0 0 0;\n",
              "      width: 32px;\n",
              "    }\n",
              "\n",
              "    .colab-df-convert:hover {\n",
              "      background-color: #E2EBFA;\n",
              "      box-shadow: 0px 1px 2px rgba(60, 64, 67, 0.3), 0px 1px 3px 1px rgba(60, 64, 67, 0.15);\n",
              "      fill: #174EA6;\n",
              "    }\n",
              "\n",
              "    [theme=dark] .colab-df-convert {\n",
              "      background-color: #3B4455;\n",
              "      fill: #D2E3FC;\n",
              "    }\n",
              "\n",
              "    [theme=dark] .colab-df-convert:hover {\n",
              "      background-color: #434B5C;\n",
              "      box-shadow: 0px 1px 3px 1px rgba(0, 0, 0, 0.15);\n",
              "      filter: drop-shadow(0px 1px 2px rgba(0, 0, 0, 0.3));\n",
              "      fill: #FFFFFF;\n",
              "    }\n",
              "  </style>\n",
              "\n",
              "      <script>\n",
              "        const buttonEl =\n",
              "          document.querySelector('#df-e4b333d5-d0dd-4d5d-86cf-a4ba4fa91ea6 button.colab-df-convert');\n",
              "        buttonEl.style.display =\n",
              "          google.colab.kernel.accessAllowed ? 'block' : 'none';\n",
              "\n",
              "        async function convertToInteractive(key) {\n",
              "          const element = document.querySelector('#df-e4b333d5-d0dd-4d5d-86cf-a4ba4fa91ea6');\n",
              "          const dataTable =\n",
              "            await google.colab.kernel.invokeFunction('convertToInteractive',\n",
              "                                                     [key], {});\n",
              "          if (!dataTable) return;\n",
              "\n",
              "          const docLinkHtml = 'Like what you see? Visit the ' +\n",
              "            '<a target=\"_blank\" href=https://colab.research.google.com/notebooks/data_table.ipynb>data table notebook</a>'\n",
              "            + ' to learn more about interactive tables.';\n",
              "          element.innerHTML = '';\n",
              "          dataTable['output_type'] = 'display_data';\n",
              "          await google.colab.output.renderOutput(dataTable, element);\n",
              "          const docLink = document.createElement('div');\n",
              "          docLink.innerHTML = docLinkHtml;\n",
              "          element.appendChild(docLink);\n",
              "        }\n",
              "      </script>\n",
              "    </div>\n",
              "  </div>\n",
              "  "
            ]
          },
          "metadata": {},
          "execution_count": 54
        }
      ]
    },
    {
      "cell_type": "markdown",
      "source": [
        "## Summorize Data"
      ],
      "metadata": {
        "id": "AeNwgF3VA8c9"
      }
    },
    {
      "cell_type": "markdown",
      "source": [
        "### Target Feature"
      ],
      "metadata": {
        "id": "vMGJGXJjmLCA"
      }
    },
    {
      "cell_type": "code",
      "source": [
        "plt.figure(figsize=(10,7))\n",
        "sns.distplot(df[df.fare_amount<50].fare_amount)\n",
        "\n",
        "plt.show()"
      ],
      "metadata": {
        "colab": {
          "base_uri": "https://localhost:8080/",
          "height": 498
        },
        "id": "P1wYHUzRmOtx",
        "outputId": "670326ed-dff9-4e04-d22e-65005de37b16"
      },
      "execution_count": 12,
      "outputs": [
        {
          "output_type": "stream",
          "name": "stderr",
          "text": [
            "/usr/local/lib/python3.8/dist-packages/seaborn/distributions.py:2619: FutureWarning: `distplot` is a deprecated function and will be removed in a future version. Please adapt your code to use either `displot` (a figure-level function with similar flexibility) or `histplot` (an axes-level function for histograms).\n",
            "  warnings.warn(msg, FutureWarning)\n"
          ]
        },
        {
          "output_type": "display_data",
          "data": {
            "text/plain": [
              "<Figure size 720x504 with 1 Axes>"
            ],
            "image/png": "[encoded data removed]"
          },
          "metadata": {
            "needs_background": "light"
          }
        }
      ]
    },
    {
      "cell_type": "markdown",
      "source": [
        "###Passenger_count column\n"
      ],
      "metadata": {
        "id": "nCQNyNAPeACU"
      }
    },
    {
      "cell_type": "code",
      "source": [
        "df.passenger_count.value_counts()"
      ],
      "metadata": {
        "colab": {
          "base_uri": "https://localhost:8080/"
        },
        "id": "uyd6EAqMXqR3",
        "outputId": "bdb0101c-1f27-4737-e708-3abcb63a9517"
      },
      "execution_count": 285,
      "outputs": [
        {
          "output_type": "execute_result",
          "data": {
            "text/plain": [
              "1    703490\n",
              "2    150575\n",
              "5     71542\n",
              "3     44461\n",
              "4     21735\n",
              "6     21564\n",
              "Name: passenger_count, dtype: int64"
            ]
          },
          "metadata": {},
          "execution_count": 285
        }
      ]
    },
    {
      "cell_type": "code",
      "source": [
        "#passenger_count distribution\n",
        "plt.figure(figsize=(20,10))\n",
        "\n",
        "plt.subplot(221)\n",
        "sns.countplot(x='passenger_count', data=df)\n",
        "plt.title('Frequency Distribution of Passenger Count', fontweight='bold')\n",
        "plt.xlabel('No of Passengers', size=12, fontweight='bold')\n",
        "plt.ylabel('Frequency', fontweight='bold')\n",
        "\n",
        "plt.subplot(222)\n",
        "sns.boxplot(x='passenger_count', data=df, color='pink', showmeans=True, \n",
        "            meanprops={\"marker\":\"o\", \"markerfacecolor\":\"Red\", \"markeredgecolor\":\"black\",\"markersize\":\"10\"})\n",
        "plt.title('Boxplot of Passenger Count', fontweight='bold')\n",
        "plt.xlabel('No of Passengers', size=12, fontweight='bold')\n",
        "\n",
        "\n",
        "plt.show()"
      ],
      "metadata": {
        "colab": {
          "base_uri": "https://localhost:8080/",
          "height": 328
        },
        "id": "gU9CwTvteO1e",
        "outputId": "56b55ad7-3179-4e39-a574-f7351b163626"
      },
      "execution_count": 308,
      "outputs": [
        {
          "output_type": "display_data",
          "data": {
            "text/plain": [
              "<Figure size 1440x720 with 2 Axes>"
            ],
            "image/png": "[encoded data removed]"
          },
          "metadata": {
            "needs_background": "light"
          }
        }
      ]
    },
    {
      "cell_type": "markdown",
      "source": [
        "\n",
        "\n",
        "---\n",
        "\n",
        "**Notes:** \n",
        "* majority of rides are made by 1 passenger\n",
        "* rides with 4 and more passengers could be counted as outliers\n",
        "\n",
        "---\n",
        "\n"
      ],
      "metadata": {
        "id": "XVN72t4zgmuq"
      }
    },
    {
      "cell_type": "markdown",
      "source": [
        "#### Passenger Count vs Datetime columns"
      ],
      "metadata": {
        "id": "9_sFIBbDk7I3"
      }
    },
    {
      "cell_type": "code",
      "source": [
        "plt.figure(figsize=(20,10))\n",
        "\n",
        "#year\n",
        "plt.subplot(331)\n",
        "sns.barplot(x='year', y='passenger_count', data=df)\n",
        "plt.title('Passenger Count per Year', fontweight='bold')\n",
        "plt.xlabel('Year', size=12, fontweight='bold')\n",
        "plt.ylabel('Passenger Count', fontweight='bold')\n",
        "\n",
        "#season\n",
        "plt.subplot(332)\n",
        "sns.barplot(x='season', y='passenger_count', data=df, order=['Winter', 'Spring', 'Summer', 'Fall'])\n",
        "plt.title('Passenger Count per Season', fontweight='bold')\n",
        "plt.xlabel('Season', size=12, fontweight='bold')\n",
        "plt.ylabel('Passenger Count', fontweight='bold')\n",
        "\n",
        "#month\n",
        "plt.subplot(333)\n",
        "sns.barplot(x='month', y='passenger_count', data=df, order=['January', \"February\", 'March', 'April', 'May', 'June', 'July', 'August', 'September', 'October', 'November', 'December'])\n",
        "plt.title('Passenger Count per Month', fontweight='bold')\n",
        "plt.xlabel('month', size=12, fontweight='bold')\n",
        "plt.ylabel('Passenger Count', fontweight='bold')\n",
        "plt.xticks(rotation=45)\n",
        "\n",
        "#day\n",
        "plt.subplot(334)\n",
        "sns.barplot(x='day', y='passenger_count', data=df)\n",
        "plt.title('Passenger Count per Date', fontweight='bold')\n",
        "plt.xlabel('Date', size=12, fontweight='bold')\n",
        "plt.ylabel('Passenger Count', fontweight='bold')\n",
        "\n",
        "#day_name\n",
        "plt.subplot(335)\n",
        "sns.barplot(x='day_name', y='passenger_count', data=df, order=['Monday', 'Tuesday', 'Wednesday', 'Thursday', 'Friday', 'Saturday', 'Sunday'])\n",
        "plt.title('Passenger Count per Week Day', fontweight='bold')\n",
        "plt.xlabel('Week Day', size=12, fontweight='bold')\n",
        "plt.ylabel('Passenger Count', fontweight='bold')\n",
        "\n",
        "#hour\n",
        "plt.subplot(336)\n",
        "sns.barplot(x='hour', y='passenger_count', data=df)\n",
        "plt.title('Passenger Count per Hour', fontweight='bold')\n",
        "plt.xlabel('Hour', size=12, fontweight='bold')\n",
        "plt.ylabel('Passenger Count', fontweight='bold')\n",
        "\n",
        "plt.tight_layout() #to avoid overlay\n",
        "plt.show()"
      ],
      "metadata": {
        "colab": {
          "base_uri": "https://localhost:8080/",
          "height": 504
        },
        "id": "hTV9we_ylNcT",
        "outputId": "0239a4e2-9b32-456a-8595-2ecdb7c25f05"
      },
      "execution_count": 365,
      "outputs": [
        {
          "output_type": "display_data",
          "data": {
            "text/plain": [
              "<Figure size 1440x720 with 6 Axes>"
            ],
            "image/png": "[encoded data removed]"
          },
          "metadata": {
            "needs_background": "light"
          }
        }
      ]
    },
    {
      "cell_type": "markdown",
      "source": [
        "### Datetime columns"
      ],
      "metadata": {
        "id": "uZKq3luNK0Yn"
      }
    },
    {
      "cell_type": "code",
      "source": [
        "plt.figure(figsize=(22, 10))\n",
        "\n",
        "#year\n",
        "plt.subplot(331)\n",
        "sns.countplot(x=df.year)\n",
        "plt.title('Number of pick ups per Year', fontweight='bold')\n",
        "plt.xlabel('Year', size=12, fontweight='bold')\n",
        "plt.yticks([0, 40000, 80000, 120000, 160000])\n",
        "plt.ylabel('Total number of pick ups', fontweight='bold')\n",
        "\n",
        "#season\n",
        "plt.subplot(332)\n",
        "sns.countplot(x=df.season, order=['Winter', 'Spring', 'Summer', 'Fall'])\n",
        "plt.title('Number of pick ups per Season', size=15, fontweight='bold')\n",
        "plt.xlabel('Season', fontweight='bold')\n",
        "plt.ylabel('Total number of pick ups', fontweight='bold')\n",
        "\n",
        "#month\n",
        "plt.subplot(333)\n",
        "sns.countplot(x=df.month, order=['January', \"February\", 'March', 'April', 'May', 'June', 'July', 'August', 'September', 'October', 'November', 'December'])\n",
        "plt.title('Number of pick ups per Month', size=15, fontweight='bold')\n",
        "plt.xlabel('Month', fontweight='bold')\n",
        "plt.xticks(rotation=45)\n",
        "plt.ylabel('Total number of pick ups', fontweight='bold')\n",
        "\n",
        "#day_name\n",
        "plt.subplot(334)\n",
        "sns.countplot(x=df.day_name, order=['Monday', 'Tuesday', 'Wednesday', 'Thursday', 'Friday', 'Saturday', 'Sunday'])\n",
        "plt.title('Number of pick ups per Day of week', size=15, fontweight='bold')\n",
        "plt.xlabel('Day of week', fontweight='bold')\n",
        "plt.yticks([0, 50000, 100000, 150000])\n",
        "plt.ylabel('Total number of pick ups', fontweight='bold')\n",
        "\n",
        "#day\n",
        "plt.subplot(335)\n",
        "sns.countplot(x=df.day)\n",
        "plt.title('Number of pick ups per Date', size=15, fontweight='bold')\n",
        "plt.xlabel('Date', fontweight='bold')\n",
        "plt.yticks([0, 7000, 14000, 21000, 28000, 35000])\n",
        "plt.ylabel('Total number of pick ups', fontweight='bold')\n",
        "\n",
        "#hour\n",
        "plt.subplot(336)\n",
        "sns.countplot(x=df.hour)\n",
        "plt.title('Number of pick ups per Hour', size=15, fontweight='bold')\n",
        "plt.xlabel('Hour', fontweight='bold')\n",
        "plt.yticks([0, 15000, 30000, 45000, 60000])\n",
        "plt.ylabel('Total number of pick ups', fontweight='bold')\n",
        "\n",
        "plt.tight_layout() #to avoid overlay\n",
        "plt.show()"
      ],
      "metadata": {
        "colab": {
          "base_uri": "https://localhost:8080/",
          "height": 502
        },
        "id": "NjwlR8gQLYZz",
        "outputId": "6e001cfb-d055-48f9-f213-17bbbbc5e3ed"
      },
      "execution_count": 271,
      "outputs": [
        {
          "output_type": "display_data",
          "data": {
            "text/plain": [
              "<Figure size 1584x720 with 6 Axes>"
            ],
            "image/png": "[encoded data removed]"
          },
          "metadata": {
            "needs_background": "light"
          }
        }
      ]
    },
    {
      "cell_type": "code",
      "source": [
        "df[df.year==2015]['season'].value_counts()"
      ],
      "metadata": {
        "colab": {
          "base_uri": "https://localhost:8080/"
        },
        "id": "IQ5yWZvjM7gi",
        "outputId": "68e8e825-484e-40d2-ae63-b34b7d30b81a"
      },
      "execution_count": 277,
      "outputs": [
        {
          "output_type": "execute_result",
          "data": {
            "text/plain": [
              "Spring    36588\n",
              "Winter    23075\n",
              "Summer    11608\n",
              "Name: season, dtype: int64"
            ]
          },
          "metadata": {},
          "execution_count": 277
        }
      ]
    },
    {
      "cell_type": "markdown",
      "source": [
        "\n",
        "\n",
        "---\n",
        "\n",
        "**Notes:**\n",
        "* decrease of rides in 2015 is explained by lack of data for particular year (info about just 3/4 of the year exists)\n",
        "* in spring people take taxi rides more often\n",
        "* number of pick ups in first half of the year is higher than in the 2nd one\n",
        "* number of taxi rides made on Sunday and Monday is less than other days with peak on Friday\n",
        "* by the end of the month taxi usage decreases\n",
        "* morning rush hour (7am-10am) has much less taxi demand than expected, the highest number of pick ups is at evening (after 7pm)\n",
        "\n",
        "---\n",
        "\n"
      ],
      "metadata": {
        "id": "WwNUPZPqXEgN"
      }
    },
    {
      "cell_type": "markdown",
      "source": [
        "## Data Relationship"
      ],
      "metadata": {
        "id": "r6iCiO9al_Mg"
      }
    },
    {
      "cell_type": "markdown",
      "source": [
        "### Target Feature"
      ],
      "metadata": {
        "id": "RBQ_UqOKhGOb"
      }
    },
    {
      "cell_type": "markdown",
      "source": [
        "#### Fare Amount vs Datetime Columns"
      ],
      "metadata": {
        "id": "dXU7fX_tlU1o"
      }
    },
    {
      "cell_type": "code",
      "source": [
        "plt.figure(figsize=(20,10))\n",
        "\n",
        "#year\n",
        "plt.subplot(331)\n",
        "sns.barplot(x='year', y='fare_amount', data=df)\n",
        "plt.title('Fare Amount per Year', fontweight='bold')\n",
        "plt.xlabel('Year', size=12, fontweight='bold')\n",
        "plt.ylabel('Fare amount', fontweight='bold')\n",
        "\n",
        "#season\n",
        "plt.subplot(332)\n",
        "sns.barplot(x='season', y='fare_amount', data=df, order=['Winter', 'Spring', 'Summer', 'Fall'])\n",
        "plt.title('Fare Amount per Season', fontweight='bold')\n",
        "plt.xlabel('Season', size=12, fontweight='bold')\n",
        "plt.ylabel('Fare amount', fontweight='bold')\n",
        "\n",
        "#month\n",
        "plt.subplot(333)\n",
        "sns.barplot(x='month', y='fare_amount', data=df, order=['January', \"February\", 'March', 'April', 'May', 'June', 'July', 'August', 'September', 'October', 'November', 'December'])\n",
        "plt.title('Fare Amount per Month', fontweight='bold')\n",
        "plt.xlabel('month', size=12, fontweight='bold')\n",
        "plt.ylabel('Fare amount', fontweight='bold')\n",
        "plt.xticks(rotation=45)\n",
        "\n",
        "#day\n",
        "plt.subplot(334)\n",
        "sns.barplot(x='day', y='fare_amount', data=df)\n",
        "plt.title('Fare Amount per Date', fontweight='bold')\n",
        "plt.xlabel('Date', size=12, fontweight='bold')\n",
        "plt.ylabel('Fare amount', fontweight='bold')\n",
        "\n",
        "#day_name\n",
        "plt.subplot(335)\n",
        "sns.barplot(x='day_name', y='fare_amount', data=df, order=['Monday', 'Tuesday', 'Wednesday', 'Thursday', 'Friday', 'Saturday', 'Sunday'])\n",
        "plt.title('Fare Amount per Week Day', fontweight='bold')\n",
        "plt.xlabel('Week Day', size=12, fontweight='bold')\n",
        "plt.ylabel('Fare amount', fontweight='bold')\n",
        "\n",
        "#hour\n",
        "plt.subplot(336)\n",
        "sns.barplot(x='hour', y='fare_amount', data=df)\n",
        "plt.title('Fare Amount per Hour', fontweight='bold')\n",
        "plt.xlabel('Hour', size=12, fontweight='bold')\n",
        "plt.ylabel('Fare amount', fontweight='bold')\n",
        "\n",
        "plt.tight_layout() #to avoid overlay\n",
        "plt.show()"
      ],
      "metadata": {
        "colab": {
          "base_uri": "https://localhost:8080/",
          "height": 504
        },
        "id": "GFIaFu8Wlpl4",
        "outputId": "194dbe7d-51eb-4e3a-950b-d6f09edffdd9"
      },
      "execution_count": 364,
      "outputs": [
        {
          "output_type": "display_data",
          "data": {
            "text/plain": [
              "<Figure size 1440x720 with 6 Axes>"
            ],
            "image/png": "[encoded data removed]"
          },
          "metadata": {
            "needs_background": "light"
          }
        }
      ]
    },
    {
      "cell_type": "markdown",
      "source": [
        "\n",
        "\n",
        "---\n",
        "\n",
        "**Notes:** \n",
        "* fare amount increases through years, there is relatively big jump in prices between 2012 and 2013\n",
        "* there is nearly no difference in fare amount between seasons\n",
        "* there are some fluctuations in price between months\n",
        "\n",
        "---\n",
        "\n"
      ],
      "metadata": {
        "id": "HX2J_pryl8y-"
      }
    },
    {
      "cell_type": "code",
      "source": [],
      "metadata": {
        "id": "Op15VsadnzNL"
      },
      "execution_count": null,
      "outputs": []
    },
    {
      "cell_type": "markdown",
      "source": [
        "#### Fare Amount vs Passengers Count"
      ],
      "metadata": {
        "id": "LBzTYnX7hxl-"
      }
    },
    {
      "cell_type": "code",
      "source": [
        "plt.figure(figsize=(10,5))\n",
        "sns.boxplot(x='passenger_count', y='fare_amount', data=df)\n",
        "plt.title('Boxplot of Fare Amount per No of Passengers', fontweight='bold')\n",
        "plt.xlabel('No of Passengers', size=12, fontweight='bold')\n",
        "plt.ylabel('Fare amount', fontweight='bold')\n",
        "\n",
        "plt.show()"
      ],
      "metadata": {
        "colab": {
          "base_uri": "https://localhost:8080/",
          "height": 353
        },
        "id": "d-mkFXGvjOrp",
        "outputId": "152fc84b-fdd6-47fd-e90c-59d6d0b42f56"
      },
      "execution_count": 330,
      "outputs": [
        {
          "output_type": "display_data",
          "data": {
            "text/plain": [
              "<Figure size 720x360 with 1 Axes>"
            ],
            "image/png": "[encoded data removed]"
          },
          "metadata": {
            "needs_background": "light"
          }
        }
      ]
    },
    {
      "cell_type": "markdown",
      "source": [
        "\n",
        "\n",
        "---\n",
        "\n",
        "Let's have closer look by cutting majority of outliers.\n",
        "\n",
        "---\n",
        "\n"
      ],
      "metadata": {
        "id": "hiUDUrJEjTNc"
      }
    },
    {
      "cell_type": "code",
      "source": [
        "plt.figure(figsize=(10,7))\n",
        "sns.boxplot(x='passenger_count', y='fare_amount', data=df[df.fare_amount<24], showmeans=True, \n",
        "            meanprops={\"marker\":\"o\", \"markerfacecolor\":\"White\", \"markeredgecolor\":\"black\",\"markersize\":\"10\"})\n",
        "plt.title('Boxplot of Fare Amount per No of Passengers', fontweight='bold')\n",
        "plt.xlabel('No of Passengers', size=12, fontweight='bold')\n",
        "plt.ylabel('Fare amount', fontweight='bold')\n",
        "\n",
        "plt.show()"
      ],
      "metadata": {
        "colab": {
          "base_uri": "https://localhost:8080/",
          "height": 461
        },
        "id": "Za1u1ahdectO",
        "outputId": "aba7f677-6eb7-434a-9ee7-b2708f54ee43"
      },
      "execution_count": 318,
      "outputs": [
        {
          "output_type": "display_data",
          "data": {
            "text/plain": [
              "<Figure size 720x504 with 1 Axes>"
            ],
            "image/png": "[encoded data removed]"
          },
          "metadata": {
            "needs_background": "light"
          }
        }
      ]
    },
    {
      "cell_type": "markdown",
      "source": [
        "\n",
        "\n",
        "---\n",
        "\n",
        "**Note:** the mean fare amount as slightly higher when number of passengers is 6. But the total number of rides with 6 passengers are pretty low in comparison with other number of passengers.\n",
        "\n",
        "**Conclusion:** there is no significant variation of taxi fare between passenger number.\n",
        "\n",
        "---\n",
        "\n"
      ],
      "metadata": {
        "id": "Dn6moa29h_Dc"
      }
    },
    {
      "cell_type": "code",
      "source": [],
      "metadata": {
        "id": "isodbVXkhc7m"
      },
      "execution_count": null,
      "outputs": []
    }
  ]
}