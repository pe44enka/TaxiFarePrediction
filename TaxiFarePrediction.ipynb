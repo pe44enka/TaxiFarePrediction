{
  "nbformat": 4,
  "nbformat_minor": 0,
  "metadata": {
    "colab": {
      "provenance": [],
      "authorship_tag": "ABX9TyMTiYx9uIQ3RDqYqDO0Cbwy",
      "include_colab_link": true
    },
    "kernelspec": {
      "name": "python3",
      "display_name": "Python 3"
    },
    "language_info": {
      "name": "python"
    }
  },
  "cells": [
    {
      "cell_type": "markdown",
      "metadata": {
        "id": "view-in-github",
        "colab_type": "text"
      },
      "source": [
        "<a href=\"https://colab.research.google.com/github/pe44enka/TaxiFarePrediction/blob/master/TaxiFarePrediction.ipynb\" target=\"_parent\"><img src=\"https://colab.research.google.com/assets/colab-badge.svg\" alt=\"Open In Colab\"/></a>"
      ]
    },
    {
      "cell_type": "markdown",
      "source": [
        "# **NYC Taxi Fare Prediction**"
      ],
      "metadata": {
        "id": "pNVnG0mL7Wa9"
      }
    },
    {
      "cell_type": "markdown",
      "source": [
        "![](https://static.vecteezy.com/system/resources/previews/000/118/272/original/free-new-york-taxi-watercolor-vector.jpg)"
      ],
      "metadata": {
        "id": "OxAUeX_a7r-3"
      }
    },
    {
      "cell_type": "markdown",
      "source": [
        "\n",
        "### **Objectives**\n",
        "\n",
        "Imagine you are in Big Apple. New to town and have no clue how to get from Central park to Empire State Building. After some useless attemps and short fair buttle you finally got your cab. But hey! How much is it gonna cost you in this crazy city?\n",
        "\n",
        "\n",
        "---\n",
        "\n",
        "### **Goal of the project**\n",
        "To predict the fare amount for a taxi ride in New York City given the pickup and dropoff locations.\n",
        "\n",
        "### **Data**\n",
        "[New York City Taxi Fare Prediction](https://www.kaggle.com/competitions/new-york-city-taxi-fare-prediction) dataset available at Kaggle as part of competition.\n",
        "\n",
        "The dataset contains the following fields:\n",
        "\n",
        "Field name | Description\n",
        "--- |--- \n",
        "*key* | identifier for each trip\n",
        "*fare_amount* | the cost of each trip in usd\n",
        "*pickup_datetime* | date and time when the meter was engaged\n",
        "*passenger_count* | the number of passengers in the vehicle (driver entered value)\n",
        "*pickup_longitude* | the longitude where the meter was engaged\n",
        "*pickup_latitude* | the latitude where the meter was engaged\n",
        "*dropoff_longitude* | the longitude where the meter was disengaged\n",
        "*dropoff_latitude* | the latitude where the meter was disengaged\n",
        "\n",
        "### **Techniques**\n",
        "In this project we will use:\n",
        "* **Data preprocessing**: SelectFromModel, SimpleImputer, OneHotEncoder, StandardScaler, ColumnTransformer, pandas.get_dummies\n",
        "* **ML algorihms**: LinearRegression, DecisionTreeRegressor RandomForestRegressor, GradientBoostingRegressor, XGBRegressor \n",
        "* **Hyperparameter turning:** GridSearchCV\n",
        "* **Model training/applying:** Pipeline, tran_test_split\n",
        "\n",
        "\n",
        "---"
      ],
      "metadata": {
        "id": "1rE9XKT17sbg"
      }
    },
    {
      "cell_type": "markdown",
      "source": [
        "# Load Libraries"
      ],
      "metadata": {
        "id": "VeRmScxxAG_R"
      }
    },
    {
      "cell_type": "code",
      "execution_count": 120,
      "metadata": {
        "id": "fz-pcQmN5M1j"
      },
      "outputs": [],
      "source": [
        "import pandas as pd\n",
        "import numpy as np\n",
        "import matplotlib.pyplot as plt\n",
        "import seaborn as sns\n",
        "import datetime as dt\n",
        "from geopy.distance import great_circle"
      ]
    },
    {
      "cell_type": "markdown",
      "source": [
        "# Load Data"
      ],
      "metadata": {
        "id": "HYYpLxwMASlo"
      }
    },
    {
      "cell_type": "code",
      "source": [
        "raw_df = pd.read_csv('https://raw.githubusercontent.com/pe44enka/TaxiFarePrediction/master/data/train.csv')\n",
        "print('raw_df.shape: ', raw_df.shape)\n",
        "raw_df.head()"
      ],
      "metadata": {
        "colab": {
          "base_uri": "https://localhost:8080/",
          "height": 224
        },
        "id": "yILVRhLh6fKB",
        "outputId": "b9f7719a-1068-4c26-e510-456a30086d52"
      },
      "execution_count": 121,
      "outputs": [
        {
          "output_type": "stream",
          "name": "stdout",
          "text": [
            "raw_df.shape:  (1048575, 8)\n"
          ]
        },
        {
          "output_type": "execute_result",
          "data": {
            "text/plain": [
              "       key  fare_amount          pickup_datetime  pickup_longitude  \\\n",
              "0  26:21.0          4.5  2009-06-15 17:26:21 UTC        -73.844311   \n",
              "1  52:16.0         16.9  2010-01-05 16:52:16 UTC        -74.016048   \n",
              "2  35:00.0          5.7  2011-08-18 00:35:00 UTC        -73.982738   \n",
              "3  30:42.0          7.7  2012-04-21 04:30:42 UTC        -73.987130   \n",
              "4  51:00.0          5.3  2010-03-09 07:51:00 UTC        -73.968095   \n",
              "\n",
              "   pickup_latitude  dropoff_longitude  dropoff_latitude  passenger_count  \n",
              "0        40.721319         -73.841610         40.712278                1  \n",
              "1        40.711303         -73.979268         40.782004                1  \n",
              "2        40.761270         -73.991242         40.750562                2  \n",
              "3        40.733143         -73.991567         40.758092                1  \n",
              "4        40.768008         -73.956655         40.783762                1  "
            ],
            "text/html": [
              "\n",
              "  <div id=\"df-7679e2b5-59e3-4c38-b7df-4ea77c3b5028\">\n",
              "    <div class=\"colab-df-container\">\n",
              "      <div>\n",
              "<style scoped>\n",
              "    .dataframe tbody tr th:only-of-type {\n",
              "        vertical-align: middle;\n",
              "    }\n",
              "\n",
              "    .dataframe tbody tr th {\n",
              "        vertical-align: top;\n",
              "    }\n",
              "\n",
              "    .dataframe thead th {\n",
              "        text-align: right;\n",
              "    }\n",
              "</style>\n",
              "<table border=\"1\" class=\"dataframe\">\n",
              "  <thead>\n",
              "    <tr style=\"text-align: right;\">\n",
              "      <th></th>\n",
              "      <th>key</th>\n",
              "      <th>fare_amount</th>\n",
              "      <th>pickup_datetime</th>\n",
              "      <th>pickup_longitude</th>\n",
              "      <th>pickup_latitude</th>\n",
              "      <th>dropoff_longitude</th>\n",
              "      <th>dropoff_latitude</th>\n",
              "      <th>passenger_count</th>\n",
              "    </tr>\n",
              "  </thead>\n",
              "  <tbody>\n",
              "    <tr>\n",
              "      <th>0</th>\n",
              "      <td>26:21.0</td>\n",
              "      <td>4.5</td>\n",
              "      <td>2009-06-15 17:26:21 UTC</td>\n",
              "      <td>-73.844311</td>\n",
              "      <td>40.721319</td>\n",
              "      <td>-73.841610</td>\n",
              "      <td>40.712278</td>\n",
              "      <td>1</td>\n",
              "    </tr>\n",
              "    <tr>\n",
              "      <th>1</th>\n",
              "      <td>52:16.0</td>\n",
              "      <td>16.9</td>\n",
              "      <td>2010-01-05 16:52:16 UTC</td>\n",
              "      <td>-74.016048</td>\n",
              "      <td>40.711303</td>\n",
              "      <td>-73.979268</td>\n",
              "      <td>40.782004</td>\n",
              "      <td>1</td>\n",
              "    </tr>\n",
              "    <tr>\n",
              "      <th>2</th>\n",
              "      <td>35:00.0</td>\n",
              "      <td>5.7</td>\n",
              "      <td>2011-08-18 00:35:00 UTC</td>\n",
              "      <td>-73.982738</td>\n",
              "      <td>40.761270</td>\n",
              "      <td>-73.991242</td>\n",
              "      <td>40.750562</td>\n",
              "      <td>2</td>\n",
              "    </tr>\n",
              "    <tr>\n",
              "      <th>3</th>\n",
              "      <td>30:42.0</td>\n",
              "      <td>7.7</td>\n",
              "      <td>2012-04-21 04:30:42 UTC</td>\n",
              "      <td>-73.987130</td>\n",
              "      <td>40.733143</td>\n",
              "      <td>-73.991567</td>\n",
              "      <td>40.758092</td>\n",
              "      <td>1</td>\n",
              "    </tr>\n",
              "    <tr>\n",
              "      <th>4</th>\n",
              "      <td>51:00.0</td>\n",
              "      <td>5.3</td>\n",
              "      <td>2010-03-09 07:51:00 UTC</td>\n",
              "      <td>-73.968095</td>\n",
              "      <td>40.768008</td>\n",
              "      <td>-73.956655</td>\n",
              "      <td>40.783762</td>\n",
              "      <td>1</td>\n",
              "    </tr>\n",
              "  </tbody>\n",
              "</table>\n",
              "</div>\n",
              "      <button class=\"colab-df-convert\" onclick=\"convertToInteractive('df-7679e2b5-59e3-4c38-b7df-4ea77c3b5028')\"\n",
              "              title=\"Convert this dataframe to an interactive table.\"\n",
              "              style=\"display:none;\">\n",
              "        \n",
              "  <svg xmlns=\"http://www.w3.org/2000/svg\" height=\"24px\"viewBox=\"0 0 24 24\"\n",
              "       width=\"24px\">\n",
              "    <path d=\"M0 0h24v24H0V0z\" fill=\"none\"/>\n",
              "    <path d=\"M18.56 5.44l.94 2.06.94-2.06 2.06-.94-2.06-.94-.94-2.06-.94 2.06-2.06.94zm-11 1L8.5 8.5l.94-2.06 2.06-.94-2.06-.94L8.5 2.5l-.94 2.06-2.06.94zm10 10l.94 2.06.94-2.06 2.06-.94-2.06-.94-.94-2.06-.94 2.06-2.06.94z\"/><path d=\"M17.41 7.96l-1.37-1.37c-.4-.4-.92-.59-1.43-.59-.52 0-1.04.2-1.43.59L10.3 9.45l-7.72 7.72c-.78.78-.78 2.05 0 2.83L4 21.41c.39.39.9.59 1.41.59.51 0 1.02-.2 1.41-.59l7.78-7.78 2.81-2.81c.8-.78.8-2.07 0-2.86zM5.41 20L4 18.59l7.72-7.72 1.47 1.35L5.41 20z\"/>\n",
              "  </svg>\n",
              "      </button>\n",
              "      \n",
              "  <style>\n",
              "    .colab-df-container {\n",
              "      display:flex;\n",
              "      flex-wrap:wrap;\n",
              "      gap: 12px;\n",
              "    }\n",
              "\n",
              "    .colab-df-convert {\n",
              "      background-color: #E8F0FE;\n",
              "      border: none;\n",
              "      border-radius: 50%;\n",
              "      cursor: pointer;\n",
              "      display: none;\n",
              "      fill: #1967D2;\n",
              "      height: 32px;\n",
              "      padding: 0 0 0 0;\n",
              "      width: 32px;\n",
              "    }\n",
              "\n",
              "    .colab-df-convert:hover {\n",
              "      background-color: #E2EBFA;\n",
              "      box-shadow: 0px 1px 2px rgba(60, 64, 67, 0.3), 0px 1px 3px 1px rgba(60, 64, 67, 0.15);\n",
              "      fill: #174EA6;\n",
              "    }\n",
              "\n",
              "    [theme=dark] .colab-df-convert {\n",
              "      background-color: #3B4455;\n",
              "      fill: #D2E3FC;\n",
              "    }\n",
              "\n",
              "    [theme=dark] .colab-df-convert:hover {\n",
              "      background-color: #434B5C;\n",
              "      box-shadow: 0px 1px 3px 1px rgba(0, 0, 0, 0.15);\n",
              "      filter: drop-shadow(0px 1px 2px rgba(0, 0, 0, 0.3));\n",
              "      fill: #FFFFFF;\n",
              "    }\n",
              "  </style>\n",
              "\n",
              "      <script>\n",
              "        const buttonEl =\n",
              "          document.querySelector('#df-7679e2b5-59e3-4c38-b7df-4ea77c3b5028 button.colab-df-convert');\n",
              "        buttonEl.style.display =\n",
              "          google.colab.kernel.accessAllowed ? 'block' : 'none';\n",
              "\n",
              "        async function convertToInteractive(key) {\n",
              "          const element = document.querySelector('#df-7679e2b5-59e3-4c38-b7df-4ea77c3b5028');\n",
              "          const dataTable =\n",
              "            await google.colab.kernel.invokeFunction('convertToInteractive',\n",
              "                                                     [key], {});\n",
              "          if (!dataTable) return;\n",
              "\n",
              "          const docLinkHtml = 'Like what you see? Visit the ' +\n",
              "            '<a target=\"_blank\" href=https://colab.research.google.com/notebooks/data_table.ipynb>data table notebook</a>'\n",
              "            + ' to learn more about interactive tables.';\n",
              "          element.innerHTML = '';\n",
              "          dataTable['output_type'] = 'display_data';\n",
              "          await google.colab.output.renderOutput(dataTable, element);\n",
              "          const docLink = document.createElement('div');\n",
              "          docLink.innerHTML = docLinkHtml;\n",
              "          element.appendChild(docLink);\n",
              "        }\n",
              "      </script>\n",
              "    </div>\n",
              "  </div>\n",
              "  "
            ]
          },
          "metadata": {},
          "execution_count": 121
        }
      ]
    },
    {
      "cell_type": "markdown",
      "source": [
        "# Data Cleaning"
      ],
      "metadata": {
        "id": "KAx1tM_vHCHP"
      }
    },
    {
      "cell_type": "markdown",
      "source": [
        "## Overview"
      ],
      "metadata": {
        "id": "AfNSUsumZ2bV"
      }
    },
    {
      "cell_type": "markdown",
      "source": [
        "\n",
        "Before playing with ML models and trying to predict anything let's get ourselves familiar with data we have.\n",
        "\n",
        "---\n",
        "\n"
      ],
      "metadata": {
        "id": "hIefYX52IFZI"
      }
    },
    {
      "cell_type": "code",
      "source": [
        "raw_df.info()"
      ],
      "metadata": {
        "colab": {
          "base_uri": "https://localhost:8080/"
        },
        "id": "3qEC0_3hC0UI",
        "outputId": "0f161147-180f-49a9-acd4-e5bcc2f0acfc"
      },
      "execution_count": 122,
      "outputs": [
        {
          "output_type": "stream",
          "name": "stdout",
          "text": [
            "<class 'pandas.core.frame.DataFrame'>\n",
            "RangeIndex: 1048575 entries, 0 to 1048574\n",
            "Data columns (total 8 columns):\n",
            " #   Column             Non-Null Count    Dtype  \n",
            "---  ------             --------------    -----  \n",
            " 0   key                1048575 non-null  object \n",
            " 1   fare_amount        1048575 non-null  float64\n",
            " 2   pickup_datetime    1048575 non-null  object \n",
            " 3   pickup_longitude   1048575 non-null  float64\n",
            " 4   pickup_latitude    1048575 non-null  float64\n",
            " 5   dropoff_longitude  1048565 non-null  float64\n",
            " 6   dropoff_latitude   1048565 non-null  float64\n",
            " 7   passenger_count    1048575 non-null  int64  \n",
            "dtypes: float64(5), int64(1), object(2)\n",
            "memory usage: 64.0+ MB\n"
          ]
        }
      ]
    },
    {
      "cell_type": "markdown",
      "source": [
        "\n",
        "---\n",
        "\n",
        "**Notes:** there are mixed categorical and numerical features as well as missing values in the data\n",
        "\n",
        "**Conclusion:** need to get rid of missing values and to deal with categorical data\n",
        "\n",
        "---\n",
        "\n"
      ],
      "metadata": {
        "id": "UJ27-b6oInhB"
      }
    },
    {
      "cell_type": "markdown",
      "source": [
        "## Missing Values"
      ],
      "metadata": {
        "id": "lLjSTe8MI46u"
      }
    },
    {
      "cell_type": "markdown",
      "source": [
        "Let's have a look on features with missing values.\n",
        "\n",
        "---"
      ],
      "metadata": {
        "id": "pJoG-BIHI9QD"
      }
    },
    {
      "cell_type": "code",
      "source": [
        "raw_df[raw_df.columns[raw_df.isnull().sum().values>0]].isna().sum()"
      ],
      "metadata": {
        "colab": {
          "base_uri": "https://localhost:8080/"
        },
        "id": "aR-tBIg8I4Y0",
        "outputId": "e5186d54-8063-493a-d371-3306e43c4474"
      },
      "execution_count": 123,
      "outputs": [
        {
          "output_type": "execute_result",
          "data": {
            "text/plain": [
              "dropoff_longitude    10\n",
              "dropoff_latitude     10\n",
              "dtype: int64"
            ]
          },
          "metadata": {},
          "execution_count": 123
        }
      ]
    },
    {
      "cell_type": "markdown",
      "source": [
        "\n",
        "\n",
        "---\n",
        "\n",
        "As we can see ```dropoff_longitude``` and ```dropoff_latitude``` have missing values.\n",
        "As long as it's unavailable to fill these gaps with any known values and amount of missing values is not high in comparison with all entities in the data (<0.001%), I will just skip these entities with dropping the whole row. \n",
        "\n",
        "\n",
        "---\n",
        "\n"
      ],
      "metadata": {
        "id": "x1vQtooGJ7Ot"
      }
    },
    {
      "cell_type": "code",
      "source": [
        "df = raw_df.dropna(axis=0) #drop rows with NaN\n",
        "df.reset_index(drop=True, inplace=True) #reset index after dropping rows\n",
        "df.isnull().sum()"
      ],
      "metadata": {
        "colab": {
          "base_uri": "https://localhost:8080/"
        },
        "id": "r5egQ1_6Ag8k",
        "outputId": "d8141ba1-cf11-4213-9442-e7fd2aea101d"
      },
      "execution_count": 124,
      "outputs": [
        {
          "output_type": "execute_result",
          "data": {
            "text/plain": [
              "key                  0\n",
              "fare_amount          0\n",
              "pickup_datetime      0\n",
              "pickup_longitude     0\n",
              "pickup_latitude      0\n",
              "dropoff_longitude    0\n",
              "dropoff_latitude     0\n",
              "passenger_count      0\n",
              "dtype: int64"
            ]
          },
          "metadata": {},
          "execution_count": 124
        }
      ]
    },
    {
      "cell_type": "code",
      "source": [
        "print('df.shape: ', df.shape)\n",
        "df.head()"
      ],
      "metadata": {
        "colab": {
          "base_uri": "https://localhost:8080/",
          "height": 0
        },
        "id": "BUtydjHVNkO0",
        "outputId": "480a65c5-5a0c-422d-e903-2869a2cf4f70"
      },
      "execution_count": 125,
      "outputs": [
        {
          "output_type": "stream",
          "name": "stdout",
          "text": [
            "df.shape:  (1048565, 8)\n"
          ]
        },
        {
          "output_type": "execute_result",
          "data": {
            "text/plain": [
              "       key  fare_amount          pickup_datetime  pickup_longitude  \\\n",
              "0  26:21.0          4.5  2009-06-15 17:26:21 UTC        -73.844311   \n",
              "1  52:16.0         16.9  2010-01-05 16:52:16 UTC        -74.016048   \n",
              "2  35:00.0          5.7  2011-08-18 00:35:00 UTC        -73.982738   \n",
              "3  30:42.0          7.7  2012-04-21 04:30:42 UTC        -73.987130   \n",
              "4  51:00.0          5.3  2010-03-09 07:51:00 UTC        -73.968095   \n",
              "\n",
              "   pickup_latitude  dropoff_longitude  dropoff_latitude  passenger_count  \n",
              "0        40.721319         -73.841610         40.712278                1  \n",
              "1        40.711303         -73.979268         40.782004                1  \n",
              "2        40.761270         -73.991242         40.750562                2  \n",
              "3        40.733143         -73.991567         40.758092                1  \n",
              "4        40.768008         -73.956655         40.783762                1  "
            ],
            "text/html": [
              "\n",
              "  <div id=\"df-4758f4eb-bb2d-48a0-8703-0522e2cea37e\">\n",
              "    <div class=\"colab-df-container\">\n",
              "      <div>\n",
              "<style scoped>\n",
              "    .dataframe tbody tr th:only-of-type {\n",
              "        vertical-align: middle;\n",
              "    }\n",
              "\n",
              "    .dataframe tbody tr th {\n",
              "        vertical-align: top;\n",
              "    }\n",
              "\n",
              "    .dataframe thead th {\n",
              "        text-align: right;\n",
              "    }\n",
              "</style>\n",
              "<table border=\"1\" class=\"dataframe\">\n",
              "  <thead>\n",
              "    <tr style=\"text-align: right;\">\n",
              "      <th></th>\n",
              "      <th>key</th>\n",
              "      <th>fare_amount</th>\n",
              "      <th>pickup_datetime</th>\n",
              "      <th>pickup_longitude</th>\n",
              "      <th>pickup_latitude</th>\n",
              "      <th>dropoff_longitude</th>\n",
              "      <th>dropoff_latitude</th>\n",
              "      <th>passenger_count</th>\n",
              "    </tr>\n",
              "  </thead>\n",
              "  <tbody>\n",
              "    <tr>\n",
              "      <th>0</th>\n",
              "      <td>26:21.0</td>\n",
              "      <td>4.5</td>\n",
              "      <td>2009-06-15 17:26:21 UTC</td>\n",
              "      <td>-73.844311</td>\n",
              "      <td>40.721319</td>\n",
              "      <td>-73.841610</td>\n",
              "      <td>40.712278</td>\n",
              "      <td>1</td>\n",
              "    </tr>\n",
              "    <tr>\n",
              "      <th>1</th>\n",
              "      <td>52:16.0</td>\n",
              "      <td>16.9</td>\n",
              "      <td>2010-01-05 16:52:16 UTC</td>\n",
              "      <td>-74.016048</td>\n",
              "      <td>40.711303</td>\n",
              "      <td>-73.979268</td>\n",
              "      <td>40.782004</td>\n",
              "      <td>1</td>\n",
              "    </tr>\n",
              "    <tr>\n",
              "      <th>2</th>\n",
              "      <td>35:00.0</td>\n",
              "      <td>5.7</td>\n",
              "      <td>2011-08-18 00:35:00 UTC</td>\n",
              "      <td>-73.982738</td>\n",
              "      <td>40.761270</td>\n",
              "      <td>-73.991242</td>\n",
              "      <td>40.750562</td>\n",
              "      <td>2</td>\n",
              "    </tr>\n",
              "    <tr>\n",
              "      <th>3</th>\n",
              "      <td>30:42.0</td>\n",
              "      <td>7.7</td>\n",
              "      <td>2012-04-21 04:30:42 UTC</td>\n",
              "      <td>-73.987130</td>\n",
              "      <td>40.733143</td>\n",
              "      <td>-73.991567</td>\n",
              "      <td>40.758092</td>\n",
              "      <td>1</td>\n",
              "    </tr>\n",
              "    <tr>\n",
              "      <th>4</th>\n",
              "      <td>51:00.0</td>\n",
              "      <td>5.3</td>\n",
              "      <td>2010-03-09 07:51:00 UTC</td>\n",
              "      <td>-73.968095</td>\n",
              "      <td>40.768008</td>\n",
              "      <td>-73.956655</td>\n",
              "      <td>40.783762</td>\n",
              "      <td>1</td>\n",
              "    </tr>\n",
              "  </tbody>\n",
              "</table>\n",
              "</div>\n",
              "      <button class=\"colab-df-convert\" onclick=\"convertToInteractive('df-4758f4eb-bb2d-48a0-8703-0522e2cea37e')\"\n",
              "              title=\"Convert this dataframe to an interactive table.\"\n",
              "              style=\"display:none;\">\n",
              "        \n",
              "  <svg xmlns=\"http://www.w3.org/2000/svg\" height=\"24px\"viewBox=\"0 0 24 24\"\n",
              "       width=\"24px\">\n",
              "    <path d=\"M0 0h24v24H0V0z\" fill=\"none\"/>\n",
              "    <path d=\"M18.56 5.44l.94 2.06.94-2.06 2.06-.94-2.06-.94-.94-2.06-.94 2.06-2.06.94zm-11 1L8.5 8.5l.94-2.06 2.06-.94-2.06-.94L8.5 2.5l-.94 2.06-2.06.94zm10 10l.94 2.06.94-2.06 2.06-.94-2.06-.94-.94-2.06-.94 2.06-2.06.94z\"/><path d=\"M17.41 7.96l-1.37-1.37c-.4-.4-.92-.59-1.43-.59-.52 0-1.04.2-1.43.59L10.3 9.45l-7.72 7.72c-.78.78-.78 2.05 0 2.83L4 21.41c.39.39.9.59 1.41.59.51 0 1.02-.2 1.41-.59l7.78-7.78 2.81-2.81c.8-.78.8-2.07 0-2.86zM5.41 20L4 18.59l7.72-7.72 1.47 1.35L5.41 20z\"/>\n",
              "  </svg>\n",
              "      </button>\n",
              "      \n",
              "  <style>\n",
              "    .colab-df-container {\n",
              "      display:flex;\n",
              "      flex-wrap:wrap;\n",
              "      gap: 12px;\n",
              "    }\n",
              "\n",
              "    .colab-df-convert {\n",
              "      background-color: #E8F0FE;\n",
              "      border: none;\n",
              "      border-radius: 50%;\n",
              "      cursor: pointer;\n",
              "      display: none;\n",
              "      fill: #1967D2;\n",
              "      height: 32px;\n",
              "      padding: 0 0 0 0;\n",
              "      width: 32px;\n",
              "    }\n",
              "\n",
              "    .colab-df-convert:hover {\n",
              "      background-color: #E2EBFA;\n",
              "      box-shadow: 0px 1px 2px rgba(60, 64, 67, 0.3), 0px 1px 3px 1px rgba(60, 64, 67, 0.15);\n",
              "      fill: #174EA6;\n",
              "    }\n",
              "\n",
              "    [theme=dark] .colab-df-convert {\n",
              "      background-color: #3B4455;\n",
              "      fill: #D2E3FC;\n",
              "    }\n",
              "\n",
              "    [theme=dark] .colab-df-convert:hover {\n",
              "      background-color: #434B5C;\n",
              "      box-shadow: 0px 1px 3px 1px rgba(0, 0, 0, 0.15);\n",
              "      filter: drop-shadow(0px 1px 2px rgba(0, 0, 0, 0.3));\n",
              "      fill: #FFFFFF;\n",
              "    }\n",
              "  </style>\n",
              "\n",
              "      <script>\n",
              "        const buttonEl =\n",
              "          document.querySelector('#df-4758f4eb-bb2d-48a0-8703-0522e2cea37e button.colab-df-convert');\n",
              "        buttonEl.style.display =\n",
              "          google.colab.kernel.accessAllowed ? 'block' : 'none';\n",
              "\n",
              "        async function convertToInteractive(key) {\n",
              "          const element = document.querySelector('#df-4758f4eb-bb2d-48a0-8703-0522e2cea37e');\n",
              "          const dataTable =\n",
              "            await google.colab.kernel.invokeFunction('convertToInteractive',\n",
              "                                                     [key], {});\n",
              "          if (!dataTable) return;\n",
              "\n",
              "          const docLinkHtml = 'Like what you see? Visit the ' +\n",
              "            '<a target=\"_blank\" href=https://colab.research.google.com/notebooks/data_table.ipynb>data table notebook</a>'\n",
              "            + ' to learn more about interactive tables.';\n",
              "          element.innerHTML = '';\n",
              "          dataTable['output_type'] = 'display_data';\n",
              "          await google.colab.output.renderOutput(dataTable, element);\n",
              "          const docLink = document.createElement('div');\n",
              "          docLink.innerHTML = docLinkHtml;\n",
              "          element.appendChild(docLink);\n",
              "        }\n",
              "      </script>\n",
              "    </div>\n",
              "  </div>\n",
              "  "
            ]
          },
          "metadata": {},
          "execution_count": 125
        }
      ]
    },
    {
      "cell_type": "code",
      "source": [
        "df[df.columns[df.isnull().sum().values>0]].isna().sum()"
      ],
      "metadata": {
        "colab": {
          "base_uri": "https://localhost:8080/"
        },
        "id": "I-I4e8-LibZj",
        "outputId": "de4c2644-3af0-4915-c58e-d5223e6ec714"
      },
      "execution_count": 126,
      "outputs": [
        {
          "output_type": "execute_result",
          "data": {
            "text/plain": [
              "Series([], dtype: float64)"
            ]
          },
          "metadata": {},
          "execution_count": 126
        }
      ]
    },
    {
      "cell_type": "markdown",
      "source": [
        "\n",
        "\n",
        "---\n",
        "\n",
        "There is no missing values in the data.\n",
        "\n",
        "---\n",
        "\n"
      ],
      "metadata": {
        "id": "6yB0lTV4icxd"
      }
    },
    {
      "cell_type": "markdown",
      "source": [
        "## Coordinate Columns Values"
      ],
      "metadata": {
        "id": "d3ElRyElcwQM"
      }
    },
    {
      "cell_type": "markdown",
      "source": [
        "Before getting distance of rides out of coordinate columns (```'pickup_latitude```, ```pickup_longitude```, ```dropoff_latitude``` and ```dropoff_longitude```) we need to check if their values lie in range (-90, 90) degrees. Let's check descriptive statistic on these columns.\n",
        "\n",
        "---"
      ],
      "metadata": {
        "id": "FUrmndRRoaq2"
      }
    },
    {
      "cell_type": "code",
      "source": [
        "df[['pickup_latitude', 'pickup_longitude', 'dropoff_latitude', 'dropoff_longitude']].describe()"
      ],
      "metadata": {
        "colab": {
          "base_uri": "https://localhost:8080/",
          "height": 300
        },
        "id": "BNVUYzsgnroo",
        "outputId": "e3750ec0-67c3-4b54-a437-a8a3328401d0"
      },
      "execution_count": 127,
      "outputs": [
        {
          "output_type": "execute_result",
          "data": {
            "text/plain": [
              "       pickup_latitude  pickup_longitude  dropoff_latitude  dropoff_longitude\n",
              "count     1.048565e+06      1.048565e+06      1.048565e+06       1.048565e+06\n",
              "mean      3.993097e+01     -7.252729e+01      3.992496e+01      -7.252750e+01\n",
              "std       7.725744e+00      1.200783e+01      8.529585e+00       1.141154e+01\n",
              "min      -3.116285e+03     -3.377681e+03     -3.114339e+03      -3.383297e+03\n",
              "25%       4.073496e+01     -7.399207e+01      4.073406e+01      -7.399138e+01\n",
              "50%       4.075267e+01     -7.398180e+01      4.075318e+01      -7.398014e+01\n",
              "75%       4.076714e+01     -7.396711e+01      4.076812e+01      -7.396367e+01\n",
              "max       2.621628e+03      2.522271e+03      1.989728e+03       1.717003e+03"
            ],
            "text/html": [
              "\n",
              "  <div id=\"df-6c2d8298-60d1-41d3-aaaa-76601617eb42\">\n",
              "    <div class=\"colab-df-container\">\n",
              "      <div>\n",
              "<style scoped>\n",
              "    .dataframe tbody tr th:only-of-type {\n",
              "        vertical-align: middle;\n",
              "    }\n",
              "\n",
              "    .dataframe tbody tr th {\n",
              "        vertical-align: top;\n",
              "    }\n",
              "\n",
              "    .dataframe thead th {\n",
              "        text-align: right;\n",
              "    }\n",
              "</style>\n",
              "<table border=\"1\" class=\"dataframe\">\n",
              "  <thead>\n",
              "    <tr style=\"text-align: right;\">\n",
              "      <th></th>\n",
              "      <th>pickup_latitude</th>\n",
              "      <th>pickup_longitude</th>\n",
              "      <th>dropoff_latitude</th>\n",
              "      <th>dropoff_longitude</th>\n",
              "    </tr>\n",
              "  </thead>\n",
              "  <tbody>\n",
              "    <tr>\n",
              "      <th>count</th>\n",
              "      <td>1.048565e+06</td>\n",
              "      <td>1.048565e+06</td>\n",
              "      <td>1.048565e+06</td>\n",
              "      <td>1.048565e+06</td>\n",
              "    </tr>\n",
              "    <tr>\n",
              "      <th>mean</th>\n",
              "      <td>3.993097e+01</td>\n",
              "      <td>-7.252729e+01</td>\n",
              "      <td>3.992496e+01</td>\n",
              "      <td>-7.252750e+01</td>\n",
              "    </tr>\n",
              "    <tr>\n",
              "      <th>std</th>\n",
              "      <td>7.725744e+00</td>\n",
              "      <td>1.200783e+01</td>\n",
              "      <td>8.529585e+00</td>\n",
              "      <td>1.141154e+01</td>\n",
              "    </tr>\n",
              "    <tr>\n",
              "      <th>min</th>\n",
              "      <td>-3.116285e+03</td>\n",
              "      <td>-3.377681e+03</td>\n",
              "      <td>-3.114339e+03</td>\n",
              "      <td>-3.383297e+03</td>\n",
              "    </tr>\n",
              "    <tr>\n",
              "      <th>25%</th>\n",
              "      <td>4.073496e+01</td>\n",
              "      <td>-7.399207e+01</td>\n",
              "      <td>4.073406e+01</td>\n",
              "      <td>-7.399138e+01</td>\n",
              "    </tr>\n",
              "    <tr>\n",
              "      <th>50%</th>\n",
              "      <td>4.075267e+01</td>\n",
              "      <td>-7.398180e+01</td>\n",
              "      <td>4.075318e+01</td>\n",
              "      <td>-7.398014e+01</td>\n",
              "    </tr>\n",
              "    <tr>\n",
              "      <th>75%</th>\n",
              "      <td>4.076714e+01</td>\n",
              "      <td>-7.396711e+01</td>\n",
              "      <td>4.076812e+01</td>\n",
              "      <td>-7.396367e+01</td>\n",
              "    </tr>\n",
              "    <tr>\n",
              "      <th>max</th>\n",
              "      <td>2.621628e+03</td>\n",
              "      <td>2.522271e+03</td>\n",
              "      <td>1.989728e+03</td>\n",
              "      <td>1.717003e+03</td>\n",
              "    </tr>\n",
              "  </tbody>\n",
              "</table>\n",
              "</div>\n",
              "      <button class=\"colab-df-convert\" onclick=\"convertToInteractive('df-6c2d8298-60d1-41d3-aaaa-76601617eb42')\"\n",
              "              title=\"Convert this dataframe to an interactive table.\"\n",
              "              style=\"display:none;\">\n",
              "        \n",
              "  <svg xmlns=\"http://www.w3.org/2000/svg\" height=\"24px\"viewBox=\"0 0 24 24\"\n",
              "       width=\"24px\">\n",
              "    <path d=\"M0 0h24v24H0V0z\" fill=\"none\"/>\n",
              "    <path d=\"M18.56 5.44l.94 2.06.94-2.06 2.06-.94-2.06-.94-.94-2.06-.94 2.06-2.06.94zm-11 1L8.5 8.5l.94-2.06 2.06-.94-2.06-.94L8.5 2.5l-.94 2.06-2.06.94zm10 10l.94 2.06.94-2.06 2.06-.94-2.06-.94-.94-2.06-.94 2.06-2.06.94z\"/><path d=\"M17.41 7.96l-1.37-1.37c-.4-.4-.92-.59-1.43-.59-.52 0-1.04.2-1.43.59L10.3 9.45l-7.72 7.72c-.78.78-.78 2.05 0 2.83L4 21.41c.39.39.9.59 1.41.59.51 0 1.02-.2 1.41-.59l7.78-7.78 2.81-2.81c.8-.78.8-2.07 0-2.86zM5.41 20L4 18.59l7.72-7.72 1.47 1.35L5.41 20z\"/>\n",
              "  </svg>\n",
              "      </button>\n",
              "      \n",
              "  <style>\n",
              "    .colab-df-container {\n",
              "      display:flex;\n",
              "      flex-wrap:wrap;\n",
              "      gap: 12px;\n",
              "    }\n",
              "\n",
              "    .colab-df-convert {\n",
              "      background-color: #E8F0FE;\n",
              "      border: none;\n",
              "      border-radius: 50%;\n",
              "      cursor: pointer;\n",
              "      display: none;\n",
              "      fill: #1967D2;\n",
              "      height: 32px;\n",
              "      padding: 0 0 0 0;\n",
              "      width: 32px;\n",
              "    }\n",
              "\n",
              "    .colab-df-convert:hover {\n",
              "      background-color: #E2EBFA;\n",
              "      box-shadow: 0px 1px 2px rgba(60, 64, 67, 0.3), 0px 1px 3px 1px rgba(60, 64, 67, 0.15);\n",
              "      fill: #174EA6;\n",
              "    }\n",
              "\n",
              "    [theme=dark] .colab-df-convert {\n",
              "      background-color: #3B4455;\n",
              "      fill: #D2E3FC;\n",
              "    }\n",
              "\n",
              "    [theme=dark] .colab-df-convert:hover {\n",
              "      background-color: #434B5C;\n",
              "      box-shadow: 0px 1px 3px 1px rgba(0, 0, 0, 0.15);\n",
              "      filter: drop-shadow(0px 1px 2px rgba(0, 0, 0, 0.3));\n",
              "      fill: #FFFFFF;\n",
              "    }\n",
              "  </style>\n",
              "\n",
              "      <script>\n",
              "        const buttonEl =\n",
              "          document.querySelector('#df-6c2d8298-60d1-41d3-aaaa-76601617eb42 button.colab-df-convert');\n",
              "        buttonEl.style.display =\n",
              "          google.colab.kernel.accessAllowed ? 'block' : 'none';\n",
              "\n",
              "        async function convertToInteractive(key) {\n",
              "          const element = document.querySelector('#df-6c2d8298-60d1-41d3-aaaa-76601617eb42');\n",
              "          const dataTable =\n",
              "            await google.colab.kernel.invokeFunction('convertToInteractive',\n",
              "                                                     [key], {});\n",
              "          if (!dataTable) return;\n",
              "\n",
              "          const docLinkHtml = 'Like what you see? Visit the ' +\n",
              "            '<a target=\"_blank\" href=https://colab.research.google.com/notebooks/data_table.ipynb>data table notebook</a>'\n",
              "            + ' to learn more about interactive tables.';\n",
              "          element.innerHTML = '';\n",
              "          dataTable['output_type'] = 'display_data';\n",
              "          await google.colab.output.renderOutput(dataTable, element);\n",
              "          const docLink = document.createElement('div');\n",
              "          docLink.innerHTML = docLinkHtml;\n",
              "          element.appendChild(docLink);\n",
              "        }\n",
              "      </script>\n",
              "    </div>\n",
              "  </div>\n",
              "  "
            ]
          },
          "metadata": {},
          "execution_count": 127
        }
      ]
    },
    {
      "cell_type": "markdown",
      "source": [
        "\n",
        "---\n",
        "\n",
        "As we can see all coordinate columns have *min* and *max* values far away from -90 and 90 where they are supposed to be. Let's check how many entities have coordinates lower than -90 and higher than 90.\n",
        "\n",
        "---\n",
        "\n"
      ],
      "metadata": {
        "id": "dz3Mo9-WgIPo"
      }
    },
    {
      "cell_type": "code",
      "source": [
        "#concatenate parts of the data cutted accordingly to the conditions described above\n",
        "coor_df = pd.concat([df[df.pickup_latitude < - 90], df[df.pickup_latitude > 90],\n",
        "                     df[df.pickup_longitude < - 90], df[df.pickup_longitude > 90],\n",
        "                     df[df.dropoff_latitude < - 90], df[df.dropoff_latitude > 90],\n",
        "                     df[df.dropoff_longitude < - 90], df[df.dropoff_longitude > 90]\n",
        "                     ])\n",
        "coor_df = coor_df.drop_duplicates() #remove duplicated rows\n",
        "coor_df.shape"
      ],
      "metadata": {
        "colab": {
          "base_uri": "https://localhost:8080/"
        },
        "id": "RIuRbK3NEhVI",
        "outputId": "51b8d8ab-8a22-42ce-f950-dd83ec4c083c"
      },
      "execution_count": 128,
      "outputs": [
        {
          "output_type": "execute_result",
          "data": {
            "text/plain": [
              "(49, 8)"
            ]
          },
          "metadata": {},
          "execution_count": 128
        }
      ]
    },
    {
      "cell_type": "markdown",
      "source": [
        "\n",
        "\n",
        "---\n",
        "\n",
        "There are a few values in coordinate columns that do not follow the condition. These amount is not high in comparison with all entities in the data (<0.005%), I will skip these entities with dropping the whole row.\n",
        "\n",
        "---\n",
        "\n"
      ],
      "metadata": {
        "id": "FQmrGvjIg9hJ"
      }
    },
    {
      "cell_type": "code",
      "source": [
        "df.drop(index=coor_df.index.to_list(), inplace=True)\n",
        "print('df.shape: ', df.shape)\n",
        "df.head()"
      ],
      "metadata": {
        "colab": {
          "base_uri": "https://localhost:8080/",
          "height": 310
        },
        "id": "q_p0sxDZdB-6",
        "outputId": "efb9432c-a796-4c33-ebaa-0cf388d275ba"
      },
      "execution_count": 129,
      "outputs": [
        {
          "output_type": "stream",
          "name": "stdout",
          "text": [
            "df.shape:  (1048516, 8)\n"
          ]
        },
        {
          "output_type": "stream",
          "name": "stderr",
          "text": [
            "/usr/local/lib/python3.8/dist-packages/pandas/core/frame.py:4906: SettingWithCopyWarning: \n",
            "A value is trying to be set on a copy of a slice from a DataFrame\n",
            "\n",
            "See the caveats in the documentation: https://pandas.pydata.org/pandas-docs/stable/user_guide/indexing.html#returning-a-view-versus-a-copy\n",
            "  return super().drop(\n"
          ]
        },
        {
          "output_type": "execute_result",
          "data": {
            "text/plain": [
              "       key  fare_amount          pickup_datetime  pickup_longitude  \\\n",
              "0  26:21.0          4.5  2009-06-15 17:26:21 UTC        -73.844311   \n",
              "1  52:16.0         16.9  2010-01-05 16:52:16 UTC        -74.016048   \n",
              "2  35:00.0          5.7  2011-08-18 00:35:00 UTC        -73.982738   \n",
              "3  30:42.0          7.7  2012-04-21 04:30:42 UTC        -73.987130   \n",
              "4  51:00.0          5.3  2010-03-09 07:51:00 UTC        -73.968095   \n",
              "\n",
              "   pickup_latitude  dropoff_longitude  dropoff_latitude  passenger_count  \n",
              "0        40.721319         -73.841610         40.712278                1  \n",
              "1        40.711303         -73.979268         40.782004                1  \n",
              "2        40.761270         -73.991242         40.750562                2  \n",
              "3        40.733143         -73.991567         40.758092                1  \n",
              "4        40.768008         -73.956655         40.783762                1  "
            ],
            "text/html": [
              "\n",
              "  <div id=\"df-38adb15d-b038-4422-913b-a55b04f2dff2\">\n",
              "    <div class=\"colab-df-container\">\n",
              "      <div>\n",
              "<style scoped>\n",
              "    .dataframe tbody tr th:only-of-type {\n",
              "        vertical-align: middle;\n",
              "    }\n",
              "\n",
              "    .dataframe tbody tr th {\n",
              "        vertical-align: top;\n",
              "    }\n",
              "\n",
              "    .dataframe thead th {\n",
              "        text-align: right;\n",
              "    }\n",
              "</style>\n",
              "<table border=\"1\" class=\"dataframe\">\n",
              "  <thead>\n",
              "    <tr style=\"text-align: right;\">\n",
              "      <th></th>\n",
              "      <th>key</th>\n",
              "      <th>fare_amount</th>\n",
              "      <th>pickup_datetime</th>\n",
              "      <th>pickup_longitude</th>\n",
              "      <th>pickup_latitude</th>\n",
              "      <th>dropoff_longitude</th>\n",
              "      <th>dropoff_latitude</th>\n",
              "      <th>passenger_count</th>\n",
              "    </tr>\n",
              "  </thead>\n",
              "  <tbody>\n",
              "    <tr>\n",
              "      <th>0</th>\n",
              "      <td>26:21.0</td>\n",
              "      <td>4.5</td>\n",
              "      <td>2009-06-15 17:26:21 UTC</td>\n",
              "      <td>-73.844311</td>\n",
              "      <td>40.721319</td>\n",
              "      <td>-73.841610</td>\n",
              "      <td>40.712278</td>\n",
              "      <td>1</td>\n",
              "    </tr>\n",
              "    <tr>\n",
              "      <th>1</th>\n",
              "      <td>52:16.0</td>\n",
              "      <td>16.9</td>\n",
              "      <td>2010-01-05 16:52:16 UTC</td>\n",
              "      <td>-74.016048</td>\n",
              "      <td>40.711303</td>\n",
              "      <td>-73.979268</td>\n",
              "      <td>40.782004</td>\n",
              "      <td>1</td>\n",
              "    </tr>\n",
              "    <tr>\n",
              "      <th>2</th>\n",
              "      <td>35:00.0</td>\n",
              "      <td>5.7</td>\n",
              "      <td>2011-08-18 00:35:00 UTC</td>\n",
              "      <td>-73.982738</td>\n",
              "      <td>40.761270</td>\n",
              "      <td>-73.991242</td>\n",
              "      <td>40.750562</td>\n",
              "      <td>2</td>\n",
              "    </tr>\n",
              "    <tr>\n",
              "      <th>3</th>\n",
              "      <td>30:42.0</td>\n",
              "      <td>7.7</td>\n",
              "      <td>2012-04-21 04:30:42 UTC</td>\n",
              "      <td>-73.987130</td>\n",
              "      <td>40.733143</td>\n",
              "      <td>-73.991567</td>\n",
              "      <td>40.758092</td>\n",
              "      <td>1</td>\n",
              "    </tr>\n",
              "    <tr>\n",
              "      <th>4</th>\n",
              "      <td>51:00.0</td>\n",
              "      <td>5.3</td>\n",
              "      <td>2010-03-09 07:51:00 UTC</td>\n",
              "      <td>-73.968095</td>\n",
              "      <td>40.768008</td>\n",
              "      <td>-73.956655</td>\n",
              "      <td>40.783762</td>\n",
              "      <td>1</td>\n",
              "    </tr>\n",
              "  </tbody>\n",
              "</table>\n",
              "</div>\n",
              "      <button class=\"colab-df-convert\" onclick=\"convertToInteractive('df-38adb15d-b038-4422-913b-a55b04f2dff2')\"\n",
              "              title=\"Convert this dataframe to an interactive table.\"\n",
              "              style=\"display:none;\">\n",
              "        \n",
              "  <svg xmlns=\"http://www.w3.org/2000/svg\" height=\"24px\"viewBox=\"0 0 24 24\"\n",
              "       width=\"24px\">\n",
              "    <path d=\"M0 0h24v24H0V0z\" fill=\"none\"/>\n",
              "    <path d=\"M18.56 5.44l.94 2.06.94-2.06 2.06-.94-2.06-.94-.94-2.06-.94 2.06-2.06.94zm-11 1L8.5 8.5l.94-2.06 2.06-.94-2.06-.94L8.5 2.5l-.94 2.06-2.06.94zm10 10l.94 2.06.94-2.06 2.06-.94-2.06-.94-.94-2.06-.94 2.06-2.06.94z\"/><path d=\"M17.41 7.96l-1.37-1.37c-.4-.4-.92-.59-1.43-.59-.52 0-1.04.2-1.43.59L10.3 9.45l-7.72 7.72c-.78.78-.78 2.05 0 2.83L4 21.41c.39.39.9.59 1.41.59.51 0 1.02-.2 1.41-.59l7.78-7.78 2.81-2.81c.8-.78.8-2.07 0-2.86zM5.41 20L4 18.59l7.72-7.72 1.47 1.35L5.41 20z\"/>\n",
              "  </svg>\n",
              "      </button>\n",
              "      \n",
              "  <style>\n",
              "    .colab-df-container {\n",
              "      display:flex;\n",
              "      flex-wrap:wrap;\n",
              "      gap: 12px;\n",
              "    }\n",
              "\n",
              "    .colab-df-convert {\n",
              "      background-color: #E8F0FE;\n",
              "      border: none;\n",
              "      border-radius: 50%;\n",
              "      cursor: pointer;\n",
              "      display: none;\n",
              "      fill: #1967D2;\n",
              "      height: 32px;\n",
              "      padding: 0 0 0 0;\n",
              "      width: 32px;\n",
              "    }\n",
              "\n",
              "    .colab-df-convert:hover {\n",
              "      background-color: #E2EBFA;\n",
              "      box-shadow: 0px 1px 2px rgba(60, 64, 67, 0.3), 0px 1px 3px 1px rgba(60, 64, 67, 0.15);\n",
              "      fill: #174EA6;\n",
              "    }\n",
              "\n",
              "    [theme=dark] .colab-df-convert {\n",
              "      background-color: #3B4455;\n",
              "      fill: #D2E3FC;\n",
              "    }\n",
              "\n",
              "    [theme=dark] .colab-df-convert:hover {\n",
              "      background-color: #434B5C;\n",
              "      box-shadow: 0px 1px 3px 1px rgba(0, 0, 0, 0.15);\n",
              "      filter: drop-shadow(0px 1px 2px rgba(0, 0, 0, 0.3));\n",
              "      fill: #FFFFFF;\n",
              "    }\n",
              "  </style>\n",
              "\n",
              "      <script>\n",
              "        const buttonEl =\n",
              "          document.querySelector('#df-38adb15d-b038-4422-913b-a55b04f2dff2 button.colab-df-convert');\n",
              "        buttonEl.style.display =\n",
              "          google.colab.kernel.accessAllowed ? 'block' : 'none';\n",
              "\n",
              "        async function convertToInteractive(key) {\n",
              "          const element = document.querySelector('#df-38adb15d-b038-4422-913b-a55b04f2dff2');\n",
              "          const dataTable =\n",
              "            await google.colab.kernel.invokeFunction('convertToInteractive',\n",
              "                                                     [key], {});\n",
              "          if (!dataTable) return;\n",
              "\n",
              "          const docLinkHtml = 'Like what you see? Visit the ' +\n",
              "            '<a target=\"_blank\" href=https://colab.research.google.com/notebooks/data_table.ipynb>data table notebook</a>'\n",
              "            + ' to learn more about interactive tables.';\n",
              "          element.innerHTML = '';\n",
              "          dataTable['output_type'] = 'display_data';\n",
              "          await google.colab.output.renderOutput(dataTable, element);\n",
              "          const docLink = document.createElement('div');\n",
              "          docLink.innerHTML = docLinkHtml;\n",
              "          element.appendChild(docLink);\n",
              "        }\n",
              "      </script>\n",
              "    </div>\n",
              "  </div>\n",
              "  "
            ]
          },
          "metadata": {},
          "execution_count": 129
        }
      ]
    },
    {
      "cell_type": "code",
      "source": [
        "df.describe()"
      ],
      "metadata": {
        "colab": {
          "base_uri": "https://localhost:8080/",
          "height": 300
        },
        "id": "0WVUXW62jTum",
        "outputId": "6abc72dc-d231-4af1-f623-30c087df02ce"
      },
      "execution_count": 130,
      "outputs": [
        {
          "output_type": "execute_result",
          "data": {
            "text/plain": [
              "        fare_amount  pickup_longitude  pickup_latitude  dropoff_longitude  \\\n",
              "count  1.048516e+06      1.048516e+06     1.048516e+06       1.048516e+06   \n",
              "mean   1.134531e+01     -7.251788e+01     3.992727e+01      -7.251708e+01   \n",
              "std    9.819766e+00      1.039017e+01     6.086952e+00       1.039004e+01   \n",
              "min   -4.490000e+01     -8.943979e+01    -7.401659e+01      -8.680412e+01   \n",
              "25%    6.000000e+00     -7.399207e+01     4.073496e+01      -7.399138e+01   \n",
              "50%    8.500000e+00     -7.398180e+01     4.075267e+01      -7.398014e+01   \n",
              "75%    1.250000e+01     -7.396711e+01     4.076714e+01      -7.396367e+01   \n",
              "max    5.000000e+02      4.085036e+01     6.940000e+01       4.558162e+01   \n",
              "\n",
              "       dropoff_latitude  passenger_count  \n",
              "count      1.048516e+06     1.048516e+06  \n",
              "mean       3.992701e+01     1.684913e+00  \n",
              "std        6.089382e+00     1.323140e+00  \n",
              "min       -7.403520e+01     0.000000e+00  \n",
              "25%        4.073406e+01     1.000000e+00  \n",
              "50%        4.075318e+01     1.000000e+00  \n",
              "75%        4.076812e+01     2.000000e+00  \n",
              "max        8.151018e+01     2.080000e+02  "
            ],
            "text/html": [
              "\n",
              "  <div id=\"df-b6f75c46-0a30-4b34-9f2f-f914f44f97d9\">\n",
              "    <div class=\"colab-df-container\">\n",
              "      <div>\n",
              "<style scoped>\n",
              "    .dataframe tbody tr th:only-of-type {\n",
              "        vertical-align: middle;\n",
              "    }\n",
              "\n",
              "    .dataframe tbody tr th {\n",
              "        vertical-align: top;\n",
              "    }\n",
              "\n",
              "    .dataframe thead th {\n",
              "        text-align: right;\n",
              "    }\n",
              "</style>\n",
              "<table border=\"1\" class=\"dataframe\">\n",
              "  <thead>\n",
              "    <tr style=\"text-align: right;\">\n",
              "      <th></th>\n",
              "      <th>fare_amount</th>\n",
              "      <th>pickup_longitude</th>\n",
              "      <th>pickup_latitude</th>\n",
              "      <th>dropoff_longitude</th>\n",
              "      <th>dropoff_latitude</th>\n",
              "      <th>passenger_count</th>\n",
              "    </tr>\n",
              "  </thead>\n",
              "  <tbody>\n",
              "    <tr>\n",
              "      <th>count</th>\n",
              "      <td>1.048516e+06</td>\n",
              "      <td>1.048516e+06</td>\n",
              "      <td>1.048516e+06</td>\n",
              "      <td>1.048516e+06</td>\n",
              "      <td>1.048516e+06</td>\n",
              "      <td>1.048516e+06</td>\n",
              "    </tr>\n",
              "    <tr>\n",
              "      <th>mean</th>\n",
              "      <td>1.134531e+01</td>\n",
              "      <td>-7.251788e+01</td>\n",
              "      <td>3.992727e+01</td>\n",
              "      <td>-7.251708e+01</td>\n",
              "      <td>3.992701e+01</td>\n",
              "      <td>1.684913e+00</td>\n",
              "    </tr>\n",
              "    <tr>\n",
              "      <th>std</th>\n",
              "      <td>9.819766e+00</td>\n",
              "      <td>1.039017e+01</td>\n",
              "      <td>6.086952e+00</td>\n",
              "      <td>1.039004e+01</td>\n",
              "      <td>6.089382e+00</td>\n",
              "      <td>1.323140e+00</td>\n",
              "    </tr>\n",
              "    <tr>\n",
              "      <th>min</th>\n",
              "      <td>-4.490000e+01</td>\n",
              "      <td>-8.943979e+01</td>\n",
              "      <td>-7.401659e+01</td>\n",
              "      <td>-8.680412e+01</td>\n",
              "      <td>-7.403520e+01</td>\n",
              "      <td>0.000000e+00</td>\n",
              "    </tr>\n",
              "    <tr>\n",
              "      <th>25%</th>\n",
              "      <td>6.000000e+00</td>\n",
              "      <td>-7.399207e+01</td>\n",
              "      <td>4.073496e+01</td>\n",
              "      <td>-7.399138e+01</td>\n",
              "      <td>4.073406e+01</td>\n",
              "      <td>1.000000e+00</td>\n",
              "    </tr>\n",
              "    <tr>\n",
              "      <th>50%</th>\n",
              "      <td>8.500000e+00</td>\n",
              "      <td>-7.398180e+01</td>\n",
              "      <td>4.075267e+01</td>\n",
              "      <td>-7.398014e+01</td>\n",
              "      <td>4.075318e+01</td>\n",
              "      <td>1.000000e+00</td>\n",
              "    </tr>\n",
              "    <tr>\n",
              "      <th>75%</th>\n",
              "      <td>1.250000e+01</td>\n",
              "      <td>-7.396711e+01</td>\n",
              "      <td>4.076714e+01</td>\n",
              "      <td>-7.396367e+01</td>\n",
              "      <td>4.076812e+01</td>\n",
              "      <td>2.000000e+00</td>\n",
              "    </tr>\n",
              "    <tr>\n",
              "      <th>max</th>\n",
              "      <td>5.000000e+02</td>\n",
              "      <td>4.085036e+01</td>\n",
              "      <td>6.940000e+01</td>\n",
              "      <td>4.558162e+01</td>\n",
              "      <td>8.151018e+01</td>\n",
              "      <td>2.080000e+02</td>\n",
              "    </tr>\n",
              "  </tbody>\n",
              "</table>\n",
              "</div>\n",
              "      <button class=\"colab-df-convert\" onclick=\"convertToInteractive('df-b6f75c46-0a30-4b34-9f2f-f914f44f97d9')\"\n",
              "              title=\"Convert this dataframe to an interactive table.\"\n",
              "              style=\"display:none;\">\n",
              "        \n",
              "  <svg xmlns=\"http://www.w3.org/2000/svg\" height=\"24px\"viewBox=\"0 0 24 24\"\n",
              "       width=\"24px\">\n",
              "    <path d=\"M0 0h24v24H0V0z\" fill=\"none\"/>\n",
              "    <path d=\"M18.56 5.44l.94 2.06.94-2.06 2.06-.94-2.06-.94-.94-2.06-.94 2.06-2.06.94zm-11 1L8.5 8.5l.94-2.06 2.06-.94-2.06-.94L8.5 2.5l-.94 2.06-2.06.94zm10 10l.94 2.06.94-2.06 2.06-.94-2.06-.94-.94-2.06-.94 2.06-2.06.94z\"/><path d=\"M17.41 7.96l-1.37-1.37c-.4-.4-.92-.59-1.43-.59-.52 0-1.04.2-1.43.59L10.3 9.45l-7.72 7.72c-.78.78-.78 2.05 0 2.83L4 21.41c.39.39.9.59 1.41.59.51 0 1.02-.2 1.41-.59l7.78-7.78 2.81-2.81c.8-.78.8-2.07 0-2.86zM5.41 20L4 18.59l7.72-7.72 1.47 1.35L5.41 20z\"/>\n",
              "  </svg>\n",
              "      </button>\n",
              "      \n",
              "  <style>\n",
              "    .colab-df-container {\n",
              "      display:flex;\n",
              "      flex-wrap:wrap;\n",
              "      gap: 12px;\n",
              "    }\n",
              "\n",
              "    .colab-df-convert {\n",
              "      background-color: #E8F0FE;\n",
              "      border: none;\n",
              "      border-radius: 50%;\n",
              "      cursor: pointer;\n",
              "      display: none;\n",
              "      fill: #1967D2;\n",
              "      height: 32px;\n",
              "      padding: 0 0 0 0;\n",
              "      width: 32px;\n",
              "    }\n",
              "\n",
              "    .colab-df-convert:hover {\n",
              "      background-color: #E2EBFA;\n",
              "      box-shadow: 0px 1px 2px rgba(60, 64, 67, 0.3), 0px 1px 3px 1px rgba(60, 64, 67, 0.15);\n",
              "      fill: #174EA6;\n",
              "    }\n",
              "\n",
              "    [theme=dark] .colab-df-convert {\n",
              "      background-color: #3B4455;\n",
              "      fill: #D2E3FC;\n",
              "    }\n",
              "\n",
              "    [theme=dark] .colab-df-convert:hover {\n",
              "      background-color: #434B5C;\n",
              "      box-shadow: 0px 1px 3px 1px rgba(0, 0, 0, 0.15);\n",
              "      filter: drop-shadow(0px 1px 2px rgba(0, 0, 0, 0.3));\n",
              "      fill: #FFFFFF;\n",
              "    }\n",
              "  </style>\n",
              "\n",
              "      <script>\n",
              "        const buttonEl =\n",
              "          document.querySelector('#df-b6f75c46-0a30-4b34-9f2f-f914f44f97d9 button.colab-df-convert');\n",
              "        buttonEl.style.display =\n",
              "          google.colab.kernel.accessAllowed ? 'block' : 'none';\n",
              "\n",
              "        async function convertToInteractive(key) {\n",
              "          const element = document.querySelector('#df-b6f75c46-0a30-4b34-9f2f-f914f44f97d9');\n",
              "          const dataTable =\n",
              "            await google.colab.kernel.invokeFunction('convertToInteractive',\n",
              "                                                     [key], {});\n",
              "          if (!dataTable) return;\n",
              "\n",
              "          const docLinkHtml = 'Like what you see? Visit the ' +\n",
              "            '<a target=\"_blank\" href=https://colab.research.google.com/notebooks/data_table.ipynb>data table notebook</a>'\n",
              "            + ' to learn more about interactive tables.';\n",
              "          element.innerHTML = '';\n",
              "          dataTable['output_type'] = 'display_data';\n",
              "          await google.colab.output.renderOutput(dataTable, element);\n",
              "          const docLink = document.createElement('div');\n",
              "          docLink.innerHTML = docLinkHtml;\n",
              "          element.appendChild(docLink);\n",
              "        }\n",
              "      </script>\n",
              "    </div>\n",
              "  </div>\n",
              "  "
            ]
          },
          "metadata": {},
          "execution_count": 130
        }
      ]
    },
    {
      "cell_type": "markdown",
      "source": [
        "\n",
        "\n",
        "---\n",
        "All coordinates are in required range.\n",
        "\n",
        "Let's also check the data with null coordinates.\n",
        "\n",
        "---\n",
        "\n"
      ],
      "metadata": {
        "id": "qD-gfOr9YGgr"
      }
    },
    {
      "cell_type": "code",
      "source": [
        "null_coor_df = pd.concat([df[df.pickup_latitude == 0], df[df.pickup_longitude == 0],\n",
        "                          df[df.dropoff_latitude == 0], df[df.dropoff_longitude == 0]])\n",
        "                    \n",
        "null_coor_df = null_coor_df.drop_duplicates() #remove duplicated rows\n",
        "null_coor_df.shape"
      ],
      "metadata": {
        "colab": {
          "base_uri": "https://localhost:8080/"
        },
        "id": "XwcfHyVcUcVE",
        "outputId": "b67dcba6-3e52-4bbc-b2e1-1168ae6c9522"
      },
      "execution_count": 131,
      "outputs": [
        {
          "output_type": "execute_result",
          "data": {
            "text/plain": [
              "(20595, 8)"
            ]
          },
          "metadata": {},
          "execution_count": 131
        }
      ]
    },
    {
      "cell_type": "markdown",
      "source": [
        "\n",
        "\n",
        "---\n",
        "\n",
        "There are a lot of entities with zero coordinates what means that it brings us no information about the distance of particular rides and makes this entities senseless and potentially dangeroud for future model training as far as it can lead to wrong predictions. \n",
        "\n",
        "I will treat these zero values as missing values. There is no way I can find info and fill them with certain values. And although it's about 0.2% of the data I will drop them anyway to avoid wrong model training. \n",
        "\n",
        "---\n",
        "\n"
      ],
      "metadata": {
        "id": "V0G_sMZgYP-O"
      }
    },
    {
      "cell_type": "code",
      "source": [
        "df.drop(index=null_coor_df.index.to_list(), inplace=True)\n",
        "print('df.shape: ', df.shape)\n",
        "df.head()"
      ],
      "metadata": {
        "colab": {
          "base_uri": "https://localhost:8080/",
          "height": 310
        },
        "id": "i5GdR661cEKK",
        "outputId": "e255dfc8-66b9-47d5-c33f-f4f0366826b0"
      },
      "execution_count": 132,
      "outputs": [
        {
          "output_type": "stream",
          "name": "stdout",
          "text": [
            "df.shape:  (1027921, 8)\n"
          ]
        },
        {
          "output_type": "stream",
          "name": "stderr",
          "text": [
            "/usr/local/lib/python3.8/dist-packages/pandas/core/frame.py:4906: SettingWithCopyWarning: \n",
            "A value is trying to be set on a copy of a slice from a DataFrame\n",
            "\n",
            "See the caveats in the documentation: https://pandas.pydata.org/pandas-docs/stable/user_guide/indexing.html#returning-a-view-versus-a-copy\n",
            "  return super().drop(\n"
          ]
        },
        {
          "output_type": "execute_result",
          "data": {
            "text/plain": [
              "       key  fare_amount          pickup_datetime  pickup_longitude  \\\n",
              "0  26:21.0          4.5  2009-06-15 17:26:21 UTC        -73.844311   \n",
              "1  52:16.0         16.9  2010-01-05 16:52:16 UTC        -74.016048   \n",
              "2  35:00.0          5.7  2011-08-18 00:35:00 UTC        -73.982738   \n",
              "3  30:42.0          7.7  2012-04-21 04:30:42 UTC        -73.987130   \n",
              "4  51:00.0          5.3  2010-03-09 07:51:00 UTC        -73.968095   \n",
              "\n",
              "   pickup_latitude  dropoff_longitude  dropoff_latitude  passenger_count  \n",
              "0        40.721319         -73.841610         40.712278                1  \n",
              "1        40.711303         -73.979268         40.782004                1  \n",
              "2        40.761270         -73.991242         40.750562                2  \n",
              "3        40.733143         -73.991567         40.758092                1  \n",
              "4        40.768008         -73.956655         40.783762                1  "
            ],
            "text/html": [
              "\n",
              "  <div id=\"df-c5c93f12-be97-4d61-882c-c0a33e893b38\">\n",
              "    <div class=\"colab-df-container\">\n",
              "      <div>\n",
              "<style scoped>\n",
              "    .dataframe tbody tr th:only-of-type {\n",
              "        vertical-align: middle;\n",
              "    }\n",
              "\n",
              "    .dataframe tbody tr th {\n",
              "        vertical-align: top;\n",
              "    }\n",
              "\n",
              "    .dataframe thead th {\n",
              "        text-align: right;\n",
              "    }\n",
              "</style>\n",
              "<table border=\"1\" class=\"dataframe\">\n",
              "  <thead>\n",
              "    <tr style=\"text-align: right;\">\n",
              "      <th></th>\n",
              "      <th>key</th>\n",
              "      <th>fare_amount</th>\n",
              "      <th>pickup_datetime</th>\n",
              "      <th>pickup_longitude</th>\n",
              "      <th>pickup_latitude</th>\n",
              "      <th>dropoff_longitude</th>\n",
              "      <th>dropoff_latitude</th>\n",
              "      <th>passenger_count</th>\n",
              "    </tr>\n",
              "  </thead>\n",
              "  <tbody>\n",
              "    <tr>\n",
              "      <th>0</th>\n",
              "      <td>26:21.0</td>\n",
              "      <td>4.5</td>\n",
              "      <td>2009-06-15 17:26:21 UTC</td>\n",
              "      <td>-73.844311</td>\n",
              "      <td>40.721319</td>\n",
              "      <td>-73.841610</td>\n",
              "      <td>40.712278</td>\n",
              "      <td>1</td>\n",
              "    </tr>\n",
              "    <tr>\n",
              "      <th>1</th>\n",
              "      <td>52:16.0</td>\n",
              "      <td>16.9</td>\n",
              "      <td>2010-01-05 16:52:16 UTC</td>\n",
              "      <td>-74.016048</td>\n",
              "      <td>40.711303</td>\n",
              "      <td>-73.979268</td>\n",
              "      <td>40.782004</td>\n",
              "      <td>1</td>\n",
              "    </tr>\n",
              "    <tr>\n",
              "      <th>2</th>\n",
              "      <td>35:00.0</td>\n",
              "      <td>5.7</td>\n",
              "      <td>2011-08-18 00:35:00 UTC</td>\n",
              "      <td>-73.982738</td>\n",
              "      <td>40.761270</td>\n",
              "      <td>-73.991242</td>\n",
              "      <td>40.750562</td>\n",
              "      <td>2</td>\n",
              "    </tr>\n",
              "    <tr>\n",
              "      <th>3</th>\n",
              "      <td>30:42.0</td>\n",
              "      <td>7.7</td>\n",
              "      <td>2012-04-21 04:30:42 UTC</td>\n",
              "      <td>-73.987130</td>\n",
              "      <td>40.733143</td>\n",
              "      <td>-73.991567</td>\n",
              "      <td>40.758092</td>\n",
              "      <td>1</td>\n",
              "    </tr>\n",
              "    <tr>\n",
              "      <th>4</th>\n",
              "      <td>51:00.0</td>\n",
              "      <td>5.3</td>\n",
              "      <td>2010-03-09 07:51:00 UTC</td>\n",
              "      <td>-73.968095</td>\n",
              "      <td>40.768008</td>\n",
              "      <td>-73.956655</td>\n",
              "      <td>40.783762</td>\n",
              "      <td>1</td>\n",
              "    </tr>\n",
              "  </tbody>\n",
              "</table>\n",
              "</div>\n",
              "      <button class=\"colab-df-convert\" onclick=\"convertToInteractive('df-c5c93f12-be97-4d61-882c-c0a33e893b38')\"\n",
              "              title=\"Convert this dataframe to an interactive table.\"\n",
              "              style=\"display:none;\">\n",
              "        \n",
              "  <svg xmlns=\"http://www.w3.org/2000/svg\" height=\"24px\"viewBox=\"0 0 24 24\"\n",
              "       width=\"24px\">\n",
              "    <path d=\"M0 0h24v24H0V0z\" fill=\"none\"/>\n",
              "    <path d=\"M18.56 5.44l.94 2.06.94-2.06 2.06-.94-2.06-.94-.94-2.06-.94 2.06-2.06.94zm-11 1L8.5 8.5l.94-2.06 2.06-.94-2.06-.94L8.5 2.5l-.94 2.06-2.06.94zm10 10l.94 2.06.94-2.06 2.06-.94-2.06-.94-.94-2.06-.94 2.06-2.06.94z\"/><path d=\"M17.41 7.96l-1.37-1.37c-.4-.4-.92-.59-1.43-.59-.52 0-1.04.2-1.43.59L10.3 9.45l-7.72 7.72c-.78.78-.78 2.05 0 2.83L4 21.41c.39.39.9.59 1.41.59.51 0 1.02-.2 1.41-.59l7.78-7.78 2.81-2.81c.8-.78.8-2.07 0-2.86zM5.41 20L4 18.59l7.72-7.72 1.47 1.35L5.41 20z\"/>\n",
              "  </svg>\n",
              "      </button>\n",
              "      \n",
              "  <style>\n",
              "    .colab-df-container {\n",
              "      display:flex;\n",
              "      flex-wrap:wrap;\n",
              "      gap: 12px;\n",
              "    }\n",
              "\n",
              "    .colab-df-convert {\n",
              "      background-color: #E8F0FE;\n",
              "      border: none;\n",
              "      border-radius: 50%;\n",
              "      cursor: pointer;\n",
              "      display: none;\n",
              "      fill: #1967D2;\n",
              "      height: 32px;\n",
              "      padding: 0 0 0 0;\n",
              "      width: 32px;\n",
              "    }\n",
              "\n",
              "    .colab-df-convert:hover {\n",
              "      background-color: #E2EBFA;\n",
              "      box-shadow: 0px 1px 2px rgba(60, 64, 67, 0.3), 0px 1px 3px 1px rgba(60, 64, 67, 0.15);\n",
              "      fill: #174EA6;\n",
              "    }\n",
              "\n",
              "    [theme=dark] .colab-df-convert {\n",
              "      background-color: #3B4455;\n",
              "      fill: #D2E3FC;\n",
              "    }\n",
              "\n",
              "    [theme=dark] .colab-df-convert:hover {\n",
              "      background-color: #434B5C;\n",
              "      box-shadow: 0px 1px 3px 1px rgba(0, 0, 0, 0.15);\n",
              "      filter: drop-shadow(0px 1px 2px rgba(0, 0, 0, 0.3));\n",
              "      fill: #FFFFFF;\n",
              "    }\n",
              "  </style>\n",
              "\n",
              "      <script>\n",
              "        const buttonEl =\n",
              "          document.querySelector('#df-c5c93f12-be97-4d61-882c-c0a33e893b38 button.colab-df-convert');\n",
              "        buttonEl.style.display =\n",
              "          google.colab.kernel.accessAllowed ? 'block' : 'none';\n",
              "\n",
              "        async function convertToInteractive(key) {\n",
              "          const element = document.querySelector('#df-c5c93f12-be97-4d61-882c-c0a33e893b38');\n",
              "          const dataTable =\n",
              "            await google.colab.kernel.invokeFunction('convertToInteractive',\n",
              "                                                     [key], {});\n",
              "          if (!dataTable) return;\n",
              "\n",
              "          const docLinkHtml = 'Like what you see? Visit the ' +\n",
              "            '<a target=\"_blank\" href=https://colab.research.google.com/notebooks/data_table.ipynb>data table notebook</a>'\n",
              "            + ' to learn more about interactive tables.';\n",
              "          element.innerHTML = '';\n",
              "          dataTable['output_type'] = 'display_data';\n",
              "          await google.colab.output.renderOutput(dataTable, element);\n",
              "          const docLink = document.createElement('div');\n",
              "          docLink.innerHTML = docLinkHtml;\n",
              "          element.appendChild(docLink);\n",
              "        }\n",
              "      </script>\n",
              "    </div>\n",
              "  </div>\n",
              "  "
            ]
          },
          "metadata": {},
          "execution_count": 132
        }
      ]
    },
    {
      "cell_type": "code",
      "source": [
        "null_coor_df = pd.concat([df[df.pickup_latitude == 0], df[df.pickup_longitude == 0],\n",
        "                          df[df.dropoff_latitude == 0], df[df.dropoff_longitude == 0]])\n",
        "                    \n",
        "null_coor_df = null_coor_df.drop_duplicates() #remove duplicated rows\n",
        "null_coor_df.shape"
      ],
      "metadata": {
        "colab": {
          "base_uri": "https://localhost:8080/"
        },
        "id": "tSsoRSW8cd4Z",
        "outputId": "3b2b80ac-0590-485d-bbab-d896193c2362"
      },
      "execution_count": 133,
      "outputs": [
        {
          "output_type": "execute_result",
          "data": {
            "text/plain": [
              "(0, 8)"
            ]
          },
          "metadata": {},
          "execution_count": 133
        }
      ]
    },
    {
      "cell_type": "markdown",
      "source": [
        "\n",
        "\n",
        "---\n",
        "\n",
        "No entities with zero coordinates left.\n",
        "\n",
        "---\n",
        "\n"
      ],
      "metadata": {
        "id": "g1cypz46cfLT"
      }
    },
    {
      "cell_type": "markdown",
      "source": [
        "## Feature Engineering"
      ],
      "metadata": {
        "id": "U8mG3bp_MWA0"
      }
    },
    {
      "cell_type": "markdown",
      "source": [
        "Let's transform data features to make them more useful for future modeling.\n",
        "\n",
        "---"
      ],
      "metadata": {
        "id": "4Yujfe8_M8O0"
      }
    },
    {
      "cell_type": "markdown",
      "source": [
        "### Columns Dropping"
      ],
      "metadata": {
        "id": "_yj-Dtkoj75n"
      }
    },
    {
      "cell_type": "markdown",
      "source": [
        "I will drop ```key``` column as far as it's just indicator of the ride and brings no useful info for further analysis and modeling.\n",
        "\n",
        "----"
      ],
      "metadata": {
        "id": "y14SpyXkkEcH"
      }
    },
    {
      "cell_type": "code",
      "source": [
        "df.drop(columns=['key'], inplace=True) #remove key column\n",
        "print('df.shape: ', df.shape)\n",
        "df.head()"
      ],
      "metadata": {
        "colab": {
          "base_uri": "https://localhost:8080/",
          "height": 0
        },
        "id": "J-00K4NiMgQu",
        "outputId": "90ce5e63-bc6a-4be1-fae4-85270763c34a"
      },
      "execution_count": 134,
      "outputs": [
        {
          "output_type": "stream",
          "name": "stdout",
          "text": [
            "df.shape:  (1027921, 7)\n"
          ]
        },
        {
          "output_type": "stream",
          "name": "stderr",
          "text": [
            "/usr/local/lib/python3.8/dist-packages/pandas/core/frame.py:4906: SettingWithCopyWarning: \n",
            "A value is trying to be set on a copy of a slice from a DataFrame\n",
            "\n",
            "See the caveats in the documentation: https://pandas.pydata.org/pandas-docs/stable/user_guide/indexing.html#returning-a-view-versus-a-copy\n",
            "  return super().drop(\n"
          ]
        },
        {
          "output_type": "execute_result",
          "data": {
            "text/plain": [
              "   fare_amount          pickup_datetime  pickup_longitude  pickup_latitude  \\\n",
              "0          4.5  2009-06-15 17:26:21 UTC        -73.844311        40.721319   \n",
              "1         16.9  2010-01-05 16:52:16 UTC        -74.016048        40.711303   \n",
              "2          5.7  2011-08-18 00:35:00 UTC        -73.982738        40.761270   \n",
              "3          7.7  2012-04-21 04:30:42 UTC        -73.987130        40.733143   \n",
              "4          5.3  2010-03-09 07:51:00 UTC        -73.968095        40.768008   \n",
              "\n",
              "   dropoff_longitude  dropoff_latitude  passenger_count  \n",
              "0         -73.841610         40.712278                1  \n",
              "1         -73.979268         40.782004                1  \n",
              "2         -73.991242         40.750562                2  \n",
              "3         -73.991567         40.758092                1  \n",
              "4         -73.956655         40.783762                1  "
            ],
            "text/html": [
              "\n",
              "  <div id=\"df-5447c304-b268-4de9-83d6-bd949556c1da\">\n",
              "    <div class=\"colab-df-container\">\n",
              "      <div>\n",
              "<style scoped>\n",
              "    .dataframe tbody tr th:only-of-type {\n",
              "        vertical-align: middle;\n",
              "    }\n",
              "\n",
              "    .dataframe tbody tr th {\n",
              "        vertical-align: top;\n",
              "    }\n",
              "\n",
              "    .dataframe thead th {\n",
              "        text-align: right;\n",
              "    }\n",
              "</style>\n",
              "<table border=\"1\" class=\"dataframe\">\n",
              "  <thead>\n",
              "    <tr style=\"text-align: right;\">\n",
              "      <th></th>\n",
              "      <th>fare_amount</th>\n",
              "      <th>pickup_datetime</th>\n",
              "      <th>pickup_longitude</th>\n",
              "      <th>pickup_latitude</th>\n",
              "      <th>dropoff_longitude</th>\n",
              "      <th>dropoff_latitude</th>\n",
              "      <th>passenger_count</th>\n",
              "    </tr>\n",
              "  </thead>\n",
              "  <tbody>\n",
              "    <tr>\n",
              "      <th>0</th>\n",
              "      <td>4.5</td>\n",
              "      <td>2009-06-15 17:26:21 UTC</td>\n",
              "      <td>-73.844311</td>\n",
              "      <td>40.721319</td>\n",
              "      <td>-73.841610</td>\n",
              "      <td>40.712278</td>\n",
              "      <td>1</td>\n",
              "    </tr>\n",
              "    <tr>\n",
              "      <th>1</th>\n",
              "      <td>16.9</td>\n",
              "      <td>2010-01-05 16:52:16 UTC</td>\n",
              "      <td>-74.016048</td>\n",
              "      <td>40.711303</td>\n",
              "      <td>-73.979268</td>\n",
              "      <td>40.782004</td>\n",
              "      <td>1</td>\n",
              "    </tr>\n",
              "    <tr>\n",
              "      <th>2</th>\n",
              "      <td>5.7</td>\n",
              "      <td>2011-08-18 00:35:00 UTC</td>\n",
              "      <td>-73.982738</td>\n",
              "      <td>40.761270</td>\n",
              "      <td>-73.991242</td>\n",
              "      <td>40.750562</td>\n",
              "      <td>2</td>\n",
              "    </tr>\n",
              "    <tr>\n",
              "      <th>3</th>\n",
              "      <td>7.7</td>\n",
              "      <td>2012-04-21 04:30:42 UTC</td>\n",
              "      <td>-73.987130</td>\n",
              "      <td>40.733143</td>\n",
              "      <td>-73.991567</td>\n",
              "      <td>40.758092</td>\n",
              "      <td>1</td>\n",
              "    </tr>\n",
              "    <tr>\n",
              "      <th>4</th>\n",
              "      <td>5.3</td>\n",
              "      <td>2010-03-09 07:51:00 UTC</td>\n",
              "      <td>-73.968095</td>\n",
              "      <td>40.768008</td>\n",
              "      <td>-73.956655</td>\n",
              "      <td>40.783762</td>\n",
              "      <td>1</td>\n",
              "    </tr>\n",
              "  </tbody>\n",
              "</table>\n",
              "</div>\n",
              "      <button class=\"colab-df-convert\" onclick=\"convertToInteractive('df-5447c304-b268-4de9-83d6-bd949556c1da')\"\n",
              "              title=\"Convert this dataframe to an interactive table.\"\n",
              "              style=\"display:none;\">\n",
              "        \n",
              "  <svg xmlns=\"http://www.w3.org/2000/svg\" height=\"24px\"viewBox=\"0 0 24 24\"\n",
              "       width=\"24px\">\n",
              "    <path d=\"M0 0h24v24H0V0z\" fill=\"none\"/>\n",
              "    <path d=\"M18.56 5.44l.94 2.06.94-2.06 2.06-.94-2.06-.94-.94-2.06-.94 2.06-2.06.94zm-11 1L8.5 8.5l.94-2.06 2.06-.94-2.06-.94L8.5 2.5l-.94 2.06-2.06.94zm10 10l.94 2.06.94-2.06 2.06-.94-2.06-.94-.94-2.06-.94 2.06-2.06.94z\"/><path d=\"M17.41 7.96l-1.37-1.37c-.4-.4-.92-.59-1.43-.59-.52 0-1.04.2-1.43.59L10.3 9.45l-7.72 7.72c-.78.78-.78 2.05 0 2.83L4 21.41c.39.39.9.59 1.41.59.51 0 1.02-.2 1.41-.59l7.78-7.78 2.81-2.81c.8-.78.8-2.07 0-2.86zM5.41 20L4 18.59l7.72-7.72 1.47 1.35L5.41 20z\"/>\n",
              "  </svg>\n",
              "      </button>\n",
              "      \n",
              "  <style>\n",
              "    .colab-df-container {\n",
              "      display:flex;\n",
              "      flex-wrap:wrap;\n",
              "      gap: 12px;\n",
              "    }\n",
              "\n",
              "    .colab-df-convert {\n",
              "      background-color: #E8F0FE;\n",
              "      border: none;\n",
              "      border-radius: 50%;\n",
              "      cursor: pointer;\n",
              "      display: none;\n",
              "      fill: #1967D2;\n",
              "      height: 32px;\n",
              "      padding: 0 0 0 0;\n",
              "      width: 32px;\n",
              "    }\n",
              "\n",
              "    .colab-df-convert:hover {\n",
              "      background-color: #E2EBFA;\n",
              "      box-shadow: 0px 1px 2px rgba(60, 64, 67, 0.3), 0px 1px 3px 1px rgba(60, 64, 67, 0.15);\n",
              "      fill: #174EA6;\n",
              "    }\n",
              "\n",
              "    [theme=dark] .colab-df-convert {\n",
              "      background-color: #3B4455;\n",
              "      fill: #D2E3FC;\n",
              "    }\n",
              "\n",
              "    [theme=dark] .colab-df-convert:hover {\n",
              "      background-color: #434B5C;\n",
              "      box-shadow: 0px 1px 3px 1px rgba(0, 0, 0, 0.15);\n",
              "      filter: drop-shadow(0px 1px 2px rgba(0, 0, 0, 0.3));\n",
              "      fill: #FFFFFF;\n",
              "    }\n",
              "  </style>\n",
              "\n",
              "      <script>\n",
              "        const buttonEl =\n",
              "          document.querySelector('#df-5447c304-b268-4de9-83d6-bd949556c1da button.colab-df-convert');\n",
              "        buttonEl.style.display =\n",
              "          google.colab.kernel.accessAllowed ? 'block' : 'none';\n",
              "\n",
              "        async function convertToInteractive(key) {\n",
              "          const element = document.querySelector('#df-5447c304-b268-4de9-83d6-bd949556c1da');\n",
              "          const dataTable =\n",
              "            await google.colab.kernel.invokeFunction('convertToInteractive',\n",
              "                                                     [key], {});\n",
              "          if (!dataTable) return;\n",
              "\n",
              "          const docLinkHtml = 'Like what you see? Visit the ' +\n",
              "            '<a target=\"_blank\" href=https://colab.research.google.com/notebooks/data_table.ipynb>data table notebook</a>'\n",
              "            + ' to learn more about interactive tables.';\n",
              "          element.innerHTML = '';\n",
              "          dataTable['output_type'] = 'display_data';\n",
              "          await google.colab.output.renderOutput(dataTable, element);\n",
              "          const docLink = document.createElement('div');\n",
              "          docLink.innerHTML = docLinkHtml;\n",
              "          element.appendChild(docLink);\n",
              "        }\n",
              "      </script>\n",
              "    </div>\n",
              "  </div>\n",
              "  "
            ]
          },
          "metadata": {},
          "execution_count": 134
        }
      ]
    },
    {
      "cell_type": "markdown",
      "source": [
        "### Column Creating"
      ],
      "metadata": {
        "id": "JFHL1Ce7kyky"
      }
    },
    {
      "cell_type": "markdown",
      "source": [
        "#### Datetime Columns"
      ],
      "metadata": {
        "id": "0QG9S3snk6oY"
      }
    },
    {
      "cell_type": "markdown",
      "source": [
        "\n",
        "\n",
        "On next step I will parse ```pickup_datetime``` feature into several columns:\n",
        "* year\n",
        "* season\n",
        "* month_name\n",
        "* day\n",
        "* day_name\n",
        "* hour\n",
        "* rush hour (yes/no): 7am - 10 am, 3pm - 7pm\n",
        "\n",
        "By default all datetime based columns are considered as strings in pandas. So at first I will convert string to datetime data type and then extract from datetime object all information wI need.\n",
        "\n",
        "---\n",
        "\n"
      ],
      "metadata": {
        "id": "LQFxLgurhg3j"
      }
    },
    {
      "cell_type": "code",
      "source": [
        "df.pickup_datetime = pd.to_datetime(df.pickup_datetime)\n",
        "df.dtypes"
      ],
      "metadata": {
        "colab": {
          "base_uri": "https://localhost:8080/"
        },
        "id": "R8rmTbb9jF1O",
        "outputId": "1c298844-45c1-4fac-9be3-1931f83636b4"
      },
      "execution_count": 135,
      "outputs": [
        {
          "output_type": "stream",
          "name": "stderr",
          "text": [
            "/usr/local/lib/python3.8/dist-packages/pandas/core/generic.py:5516: SettingWithCopyWarning: \n",
            "A value is trying to be set on a copy of a slice from a DataFrame.\n",
            "Try using .loc[row_indexer,col_indexer] = value instead\n",
            "\n",
            "See the caveats in the documentation: https://pandas.pydata.org/pandas-docs/stable/user_guide/indexing.html#returning-a-view-versus-a-copy\n",
            "  self[name] = value\n"
          ]
        },
        {
          "output_type": "execute_result",
          "data": {
            "text/plain": [
              "fare_amount                      float64\n",
              "pickup_datetime      datetime64[ns, UTC]\n",
              "pickup_longitude                 float64\n",
              "pickup_latitude                  float64\n",
              "dropoff_longitude                float64\n",
              "dropoff_latitude                 float64\n",
              "passenger_count                    int64\n",
              "dtype: object"
            ]
          },
          "metadata": {},
          "execution_count": 135
        }
      ]
    },
    {
      "cell_type": "code",
      "source": [
        "df['year'] = df.pickup_datetime.dt.year #year\n",
        "\n",
        "#getting seasons for each entity\n",
        "seasons = ['Winter', 'Spring', 'Summer', 'Fall'] #season\n",
        "df['season'] = [seasons[i-1] for i in (df.pickup_datetime.dt.month%12// 3 + 1).values]\n",
        "\n",
        "df['month'] = df.pickup_datetime.dt.month_name() #month\n",
        "df['day'] = df.pickup_datetime.dt.day #day\n",
        "df['day_name'] = df.pickup_datetime.dt.day_name() #day name\n",
        "df['hour'] = df.pickup_datetime.dt.hour #hour\n",
        "\n",
        "#finding out if the ride was in rush hour (7am-10am, 3pm-7pm) or not\n",
        "rush_hour = []\n",
        "for i in df.hour.values:\n",
        "  if i in range(7,11):\n",
        "    rush_hour.append(1)\n",
        "  elif i in range(15,20):\n",
        "    rush_hour.append(1)\n",
        "  else:\n",
        "    rush_hour.append(0)\n",
        "df['rush_hour'] = rush_hour\n",
        "\n",
        "df.drop(columns=['pickup_datetime'], inplace=True) # drop donor column\n",
        "\n",
        "print('df.shape: ', df.shape)\n",
        "df.head()"
      ],
      "metadata": {
        "colab": {
          "base_uri": "https://localhost:8080/",
          "height": 0
        },
        "id": "oA6GBM5fkCJU",
        "outputId": "b2f1ccd2-d68b-4ed1-b2dc-3d0a4f86f74d"
      },
      "execution_count": 136,
      "outputs": [
        {
          "output_type": "stream",
          "name": "stderr",
          "text": [
            "<ipython-input-136-bc2ae203499d>:1: SettingWithCopyWarning: \n",
            "A value is trying to be set on a copy of a slice from a DataFrame.\n",
            "Try using .loc[row_indexer,col_indexer] = value instead\n",
            "\n",
            "See the caveats in the documentation: https://pandas.pydata.org/pandas-docs/stable/user_guide/indexing.html#returning-a-view-versus-a-copy\n",
            "  df['year'] = df.pickup_datetime.dt.year #year\n",
            "<ipython-input-136-bc2ae203499d>:5: SettingWithCopyWarning: \n",
            "A value is trying to be set on a copy of a slice from a DataFrame.\n",
            "Try using .loc[row_indexer,col_indexer] = value instead\n",
            "\n",
            "See the caveats in the documentation: https://pandas.pydata.org/pandas-docs/stable/user_guide/indexing.html#returning-a-view-versus-a-copy\n",
            "  df['season'] = [seasons[i-1] for i in (df.pickup_datetime.dt.month%12// 3 + 1).values]\n",
            "<ipython-input-136-bc2ae203499d>:7: SettingWithCopyWarning: \n",
            "A value is trying to be set on a copy of a slice from a DataFrame.\n",
            "Try using .loc[row_indexer,col_indexer] = value instead\n",
            "\n",
            "See the caveats in the documentation: https://pandas.pydata.org/pandas-docs/stable/user_guide/indexing.html#returning-a-view-versus-a-copy\n",
            "  df['month'] = df.pickup_datetime.dt.month_name() #month\n",
            "<ipython-input-136-bc2ae203499d>:8: SettingWithCopyWarning: \n",
            "A value is trying to be set on a copy of a slice from a DataFrame.\n",
            "Try using .loc[row_indexer,col_indexer] = value instead\n",
            "\n",
            "See the caveats in the documentation: https://pandas.pydata.org/pandas-docs/stable/user_guide/indexing.html#returning-a-view-versus-a-copy\n",
            "  df['day'] = df.pickup_datetime.dt.day #day\n",
            "<ipython-input-136-bc2ae203499d>:9: SettingWithCopyWarning: \n",
            "A value is trying to be set on a copy of a slice from a DataFrame.\n",
            "Try using .loc[row_indexer,col_indexer] = value instead\n",
            "\n",
            "See the caveats in the documentation: https://pandas.pydata.org/pandas-docs/stable/user_guide/indexing.html#returning-a-view-versus-a-copy\n",
            "  df['day_name'] = df.pickup_datetime.dt.day_name() #day name\n",
            "<ipython-input-136-bc2ae203499d>:10: SettingWithCopyWarning: \n",
            "A value is trying to be set on a copy of a slice from a DataFrame.\n",
            "Try using .loc[row_indexer,col_indexer] = value instead\n",
            "\n",
            "See the caveats in the documentation: https://pandas.pydata.org/pandas-docs/stable/user_guide/indexing.html#returning-a-view-versus-a-copy\n",
            "  df['hour'] = df.pickup_datetime.dt.hour #hour\n",
            "<ipython-input-136-bc2ae203499d>:21: SettingWithCopyWarning: \n",
            "A value is trying to be set on a copy of a slice from a DataFrame.\n",
            "Try using .loc[row_indexer,col_indexer] = value instead\n",
            "\n",
            "See the caveats in the documentation: https://pandas.pydata.org/pandas-docs/stable/user_guide/indexing.html#returning-a-view-versus-a-copy\n",
            "  df['rush_hour'] = rush_hour\n",
            "/usr/local/lib/python3.8/dist-packages/pandas/core/frame.py:4906: SettingWithCopyWarning: \n",
            "A value is trying to be set on a copy of a slice from a DataFrame\n",
            "\n",
            "See the caveats in the documentation: https://pandas.pydata.org/pandas-docs/stable/user_guide/indexing.html#returning-a-view-versus-a-copy\n",
            "  return super().drop(\n"
          ]
        },
        {
          "output_type": "stream",
          "name": "stdout",
          "text": [
            "df.shape:  (1027921, 13)\n"
          ]
        },
        {
          "output_type": "execute_result",
          "data": {
            "text/plain": [
              "   fare_amount  pickup_longitude  pickup_latitude  dropoff_longitude  \\\n",
              "0          4.5        -73.844311        40.721319         -73.841610   \n",
              "1         16.9        -74.016048        40.711303         -73.979268   \n",
              "2          5.7        -73.982738        40.761270         -73.991242   \n",
              "3          7.7        -73.987130        40.733143         -73.991567   \n",
              "4          5.3        -73.968095        40.768008         -73.956655   \n",
              "\n",
              "   dropoff_latitude  passenger_count  year  season    month  day  day_name  \\\n",
              "0         40.712278                1  2009  Summer     June   15    Monday   \n",
              "1         40.782004                1  2010  Winter  January    5   Tuesday   \n",
              "2         40.750562                2  2011  Summer   August   18  Thursday   \n",
              "3         40.758092                1  2012  Spring    April   21  Saturday   \n",
              "4         40.783762                1  2010  Spring    March    9   Tuesday   \n",
              "\n",
              "   hour  rush_hour  \n",
              "0    17          1  \n",
              "1    16          1  \n",
              "2     0          0  \n",
              "3     4          0  \n",
              "4     7          1  "
            ],
            "text/html": [
              "\n",
              "  <div id=\"df-49d48ed8-2085-4149-bb21-97ede24e81df\">\n",
              "    <div class=\"colab-df-container\">\n",
              "      <div>\n",
              "<style scoped>\n",
              "    .dataframe tbody tr th:only-of-type {\n",
              "        vertical-align: middle;\n",
              "    }\n",
              "\n",
              "    .dataframe tbody tr th {\n",
              "        vertical-align: top;\n",
              "    }\n",
              "\n",
              "    .dataframe thead th {\n",
              "        text-align: right;\n",
              "    }\n",
              "</style>\n",
              "<table border=\"1\" class=\"dataframe\">\n",
              "  <thead>\n",
              "    <tr style=\"text-align: right;\">\n",
              "      <th></th>\n",
              "      <th>fare_amount</th>\n",
              "      <th>pickup_longitude</th>\n",
              "      <th>pickup_latitude</th>\n",
              "      <th>dropoff_longitude</th>\n",
              "      <th>dropoff_latitude</th>\n",
              "      <th>passenger_count</th>\n",
              "      <th>year</th>\n",
              "      <th>season</th>\n",
              "      <th>month</th>\n",
              "      <th>day</th>\n",
              "      <th>day_name</th>\n",
              "      <th>hour</th>\n",
              "      <th>rush_hour</th>\n",
              "    </tr>\n",
              "  </thead>\n",
              "  <tbody>\n",
              "    <tr>\n",
              "      <th>0</th>\n",
              "      <td>4.5</td>\n",
              "      <td>-73.844311</td>\n",
              "      <td>40.721319</td>\n",
              "      <td>-73.841610</td>\n",
              "      <td>40.712278</td>\n",
              "      <td>1</td>\n",
              "      <td>2009</td>\n",
              "      <td>Summer</td>\n",
              "      <td>June</td>\n",
              "      <td>15</td>\n",
              "      <td>Monday</td>\n",
              "      <td>17</td>\n",
              "      <td>1</td>\n",
              "    </tr>\n",
              "    <tr>\n",
              "      <th>1</th>\n",
              "      <td>16.9</td>\n",
              "      <td>-74.016048</td>\n",
              "      <td>40.711303</td>\n",
              "      <td>-73.979268</td>\n",
              "      <td>40.782004</td>\n",
              "      <td>1</td>\n",
              "      <td>2010</td>\n",
              "      <td>Winter</td>\n",
              "      <td>January</td>\n",
              "      <td>5</td>\n",
              "      <td>Tuesday</td>\n",
              "      <td>16</td>\n",
              "      <td>1</td>\n",
              "    </tr>\n",
              "    <tr>\n",
              "      <th>2</th>\n",
              "      <td>5.7</td>\n",
              "      <td>-73.982738</td>\n",
              "      <td>40.761270</td>\n",
              "      <td>-73.991242</td>\n",
              "      <td>40.750562</td>\n",
              "      <td>2</td>\n",
              "      <td>2011</td>\n",
              "      <td>Summer</td>\n",
              "      <td>August</td>\n",
              "      <td>18</td>\n",
              "      <td>Thursday</td>\n",
              "      <td>0</td>\n",
              "      <td>0</td>\n",
              "    </tr>\n",
              "    <tr>\n",
              "      <th>3</th>\n",
              "      <td>7.7</td>\n",
              "      <td>-73.987130</td>\n",
              "      <td>40.733143</td>\n",
              "      <td>-73.991567</td>\n",
              "      <td>40.758092</td>\n",
              "      <td>1</td>\n",
              "      <td>2012</td>\n",
              "      <td>Spring</td>\n",
              "      <td>April</td>\n",
              "      <td>21</td>\n",
              "      <td>Saturday</td>\n",
              "      <td>4</td>\n",
              "      <td>0</td>\n",
              "    </tr>\n",
              "    <tr>\n",
              "      <th>4</th>\n",
              "      <td>5.3</td>\n",
              "      <td>-73.968095</td>\n",
              "      <td>40.768008</td>\n",
              "      <td>-73.956655</td>\n",
              "      <td>40.783762</td>\n",
              "      <td>1</td>\n",
              "      <td>2010</td>\n",
              "      <td>Spring</td>\n",
              "      <td>March</td>\n",
              "      <td>9</td>\n",
              "      <td>Tuesday</td>\n",
              "      <td>7</td>\n",
              "      <td>1</td>\n",
              "    </tr>\n",
              "  </tbody>\n",
              "</table>\n",
              "</div>\n",
              "      <button class=\"colab-df-convert\" onclick=\"convertToInteractive('df-49d48ed8-2085-4149-bb21-97ede24e81df')\"\n",
              "              title=\"Convert this dataframe to an interactive table.\"\n",
              "              style=\"display:none;\">\n",
              "        \n",
              "  <svg xmlns=\"http://www.w3.org/2000/svg\" height=\"24px\"viewBox=\"0 0 24 24\"\n",
              "       width=\"24px\">\n",
              "    <path d=\"M0 0h24v24H0V0z\" fill=\"none\"/>\n",
              "    <path d=\"M18.56 5.44l.94 2.06.94-2.06 2.06-.94-2.06-.94-.94-2.06-.94 2.06-2.06.94zm-11 1L8.5 8.5l.94-2.06 2.06-.94-2.06-.94L8.5 2.5l-.94 2.06-2.06.94zm10 10l.94 2.06.94-2.06 2.06-.94-2.06-.94-.94-2.06-.94 2.06-2.06.94z\"/><path d=\"M17.41 7.96l-1.37-1.37c-.4-.4-.92-.59-1.43-.59-.52 0-1.04.2-1.43.59L10.3 9.45l-7.72 7.72c-.78.78-.78 2.05 0 2.83L4 21.41c.39.39.9.59 1.41.59.51 0 1.02-.2 1.41-.59l7.78-7.78 2.81-2.81c.8-.78.8-2.07 0-2.86zM5.41 20L4 18.59l7.72-7.72 1.47 1.35L5.41 20z\"/>\n",
              "  </svg>\n",
              "      </button>\n",
              "      \n",
              "  <style>\n",
              "    .colab-df-container {\n",
              "      display:flex;\n",
              "      flex-wrap:wrap;\n",
              "      gap: 12px;\n",
              "    }\n",
              "\n",
              "    .colab-df-convert {\n",
              "      background-color: #E8F0FE;\n",
              "      border: none;\n",
              "      border-radius: 50%;\n",
              "      cursor: pointer;\n",
              "      display: none;\n",
              "      fill: #1967D2;\n",
              "      height: 32px;\n",
              "      padding: 0 0 0 0;\n",
              "      width: 32px;\n",
              "    }\n",
              "\n",
              "    .colab-df-convert:hover {\n",
              "      background-color: #E2EBFA;\n",
              "      box-shadow: 0px 1px 2px rgba(60, 64, 67, 0.3), 0px 1px 3px 1px rgba(60, 64, 67, 0.15);\n",
              "      fill: #174EA6;\n",
              "    }\n",
              "\n",
              "    [theme=dark] .colab-df-convert {\n",
              "      background-color: #3B4455;\n",
              "      fill: #D2E3FC;\n",
              "    }\n",
              "\n",
              "    [theme=dark] .colab-df-convert:hover {\n",
              "      background-color: #434B5C;\n",
              "      box-shadow: 0px 1px 3px 1px rgba(0, 0, 0, 0.15);\n",
              "      filter: drop-shadow(0px 1px 2px rgba(0, 0, 0, 0.3));\n",
              "      fill: #FFFFFF;\n",
              "    }\n",
              "  </style>\n",
              "\n",
              "      <script>\n",
              "        const buttonEl =\n",
              "          document.querySelector('#df-49d48ed8-2085-4149-bb21-97ede24e81df button.colab-df-convert');\n",
              "        buttonEl.style.display =\n",
              "          google.colab.kernel.accessAllowed ? 'block' : 'none';\n",
              "\n",
              "        async function convertToInteractive(key) {\n",
              "          const element = document.querySelector('#df-49d48ed8-2085-4149-bb21-97ede24e81df');\n",
              "          const dataTable =\n",
              "            await google.colab.kernel.invokeFunction('convertToInteractive',\n",
              "                                                     [key], {});\n",
              "          if (!dataTable) return;\n",
              "\n",
              "          const docLinkHtml = 'Like what you see? Visit the ' +\n",
              "            '<a target=\"_blank\" href=https://colab.research.google.com/notebooks/data_table.ipynb>data table notebook</a>'\n",
              "            + ' to learn more about interactive tables.';\n",
              "          element.innerHTML = '';\n",
              "          dataTable['output_type'] = 'display_data';\n",
              "          await google.colab.output.renderOutput(dataTable, element);\n",
              "          const docLink = document.createElement('div');\n",
              "          docLink.innerHTML = docLinkHtml;\n",
              "          element.appendChild(docLink);\n",
              "        }\n",
              "      </script>\n",
              "    </div>\n",
              "  </div>\n",
              "  "
            ]
          },
          "metadata": {},
          "execution_count": 136
        }
      ]
    },
    {
      "cell_type": "markdown",
      "source": [
        "#### Distance Column"
      ],
      "metadata": {
        "id": "lj7hrElAlMko"
      }
    },
    {
      "cell_type": "markdown",
      "source": [
        "\n",
        "\n",
        "One of the most important metrics influncing on the taxi ride fare is distance. To get it we will need to convert latitude and longitude of pick up and drop off into km.\n",
        "\n",
        "For this purpose I will use **Haversine (or great circle) distance** - the angular distance between two points on the surface of a sphere. The first coordinate of each point is assumed to be the latitude, the second is the longitude.\n",
        "\n",
        "If speaking on Python we can do it by defining a custom function or by using different libraries:\n",
        "* ```from geopy.distance import great_circle```\n",
        "* ```sklearn.neighbors```\n",
        "* ```from sklearn.metrics.pairwise import haversine_distances```\n",
        "\n",
        "\n",
        "In this project I will use ```geopy``` library. Let's check how it works on the first ride in the data.\n",
        "\n",
        "---\n",
        "\n"
      ],
      "metadata": {
        "id": "xzd_3PRTaroR"
      }
    },
    {
      "cell_type": "code",
      "source": [
        "coordA = [df.pickup_latitude.iloc[0], df.pickup_longitude.iloc[0]]\n",
        "coordB = [df.dropoff_latitude.iloc[0], df.dropoff_longitude.iloc[0]]\n",
        "print ('Distance is: {:.3f} km'.format(float(great_circle(coordA, coordB).kilometers)))"
      ],
      "metadata": {
        "colab": {
          "base_uri": "https://localhost:8080/"
        },
        "id": "WZiVFft7XWXS",
        "outputId": "17dfce3a-c68b-41e3-8279-3ff9424bb5db"
      },
      "execution_count": 137,
      "outputs": [
        {
          "output_type": "stream",
          "name": "stdout",
          "text": [
            "Distance is: 1.031 km\n"
          ]
        }
      ]
    },
    {
      "cell_type": "markdown",
      "source": [
        "\n",
        "\n",
        "---\n",
        "\n",
        "Now when I know how to count the distance for 1 entity I just need to put the code in loop and get the distance for each of them. Let's do it!\n",
        "\n",
        "---\n",
        "\n"
      ],
      "metadata": {
        "id": "FyWtNKJc_Gae"
      }
    },
    {
      "cell_type": "code",
      "source": [
        "distance = []\n",
        "for i in range(df.shape[0]):\n",
        "  coordA = [df.pickup_latitude.iloc[i], df.pickup_longitude.iloc[i]]\n",
        "  coordB = [df.dropoff_latitude.iloc[i], df.dropoff_longitude.iloc[i]]\n",
        "  distance.append(round(float(great_circle(coordA, coordB).kilometers), 3))\n",
        "\n",
        "df['distance'] = distance #create a column with distance for each ride\n",
        "#df.drop(columns=['pickup_longitude', 'pickup_latitude', 'dropoff_longitude', 'dropoff_latitude'], inplace=True) #drop donor columns\n",
        "\n",
        "print('df.shape: ', df.shape)\n",
        "df.head()"
      ],
      "metadata": {
        "colab": {
          "base_uri": "https://localhost:8080/",
          "height": 328
        },
        "id": "mFxkX5dHgOy8",
        "outputId": "8a4a32fa-d89b-4ae5-9239-d1f5e5392805"
      },
      "execution_count": 138,
      "outputs": [
        {
          "output_type": "stream",
          "name": "stdout",
          "text": [
            "df.shape:  (1027921, 14)\n"
          ]
        },
        {
          "output_type": "stream",
          "name": "stderr",
          "text": [
            "<ipython-input-138-4572a4506a32>:7: SettingWithCopyWarning: \n",
            "A value is trying to be set on a copy of a slice from a DataFrame.\n",
            "Try using .loc[row_indexer,col_indexer] = value instead\n",
            "\n",
            "See the caveats in the documentation: https://pandas.pydata.org/pandas-docs/stable/user_guide/indexing.html#returning-a-view-versus-a-copy\n",
            "  df['distance'] = distance #create a column with distance for each ride\n"
          ]
        },
        {
          "output_type": "execute_result",
          "data": {
            "text/plain": [
              "   fare_amount  pickup_longitude  pickup_latitude  dropoff_longitude  \\\n",
              "0          4.5        -73.844311        40.721319         -73.841610   \n",
              "1         16.9        -74.016048        40.711303         -73.979268   \n",
              "2          5.7        -73.982738        40.761270         -73.991242   \n",
              "3          7.7        -73.987130        40.733143         -73.991567   \n",
              "4          5.3        -73.968095        40.768008         -73.956655   \n",
              "\n",
              "   dropoff_latitude  passenger_count  year  season    month  day  day_name  \\\n",
              "0         40.712278                1  2009  Summer     June   15    Monday   \n",
              "1         40.782004                1  2010  Winter  January    5   Tuesday   \n",
              "2         40.750562                2  2011  Summer   August   18  Thursday   \n",
              "3         40.758092                1  2012  Spring    April   21  Saturday   \n",
              "4         40.783762                1  2010  Spring    March    9   Tuesday   \n",
              "\n",
              "   hour  rush_hour  distance  \n",
              "0    17          1     1.031  \n",
              "1    16          1     8.450  \n",
              "2     0          0     1.390  \n",
              "3     4          0     2.799  \n",
              "4     7          1     1.999  "
            ],
            "text/html": [
              "\n",
              "  <div id=\"df-5f943f02-8fd9-4fe4-990e-8bc23ba50fa6\">\n",
              "    <div class=\"colab-df-container\">\n",
              "      <div>\n",
              "<style scoped>\n",
              "    .dataframe tbody tr th:only-of-type {\n",
              "        vertical-align: middle;\n",
              "    }\n",
              "\n",
              "    .dataframe tbody tr th {\n",
              "        vertical-align: top;\n",
              "    }\n",
              "\n",
              "    .dataframe thead th {\n",
              "        text-align: right;\n",
              "    }\n",
              "</style>\n",
              "<table border=\"1\" class=\"dataframe\">\n",
              "  <thead>\n",
              "    <tr style=\"text-align: right;\">\n",
              "      <th></th>\n",
              "      <th>fare_amount</th>\n",
              "      <th>pickup_longitude</th>\n",
              "      <th>pickup_latitude</th>\n",
              "      <th>dropoff_longitude</th>\n",
              "      <th>dropoff_latitude</th>\n",
              "      <th>passenger_count</th>\n",
              "      <th>year</th>\n",
              "      <th>season</th>\n",
              "      <th>month</th>\n",
              "      <th>day</th>\n",
              "      <th>day_name</th>\n",
              "      <th>hour</th>\n",
              "      <th>rush_hour</th>\n",
              "      <th>distance</th>\n",
              "    </tr>\n",
              "  </thead>\n",
              "  <tbody>\n",
              "    <tr>\n",
              "      <th>0</th>\n",
              "      <td>4.5</td>\n",
              "      <td>-73.844311</td>\n",
              "      <td>40.721319</td>\n",
              "      <td>-73.841610</td>\n",
              "      <td>40.712278</td>\n",
              "      <td>1</td>\n",
              "      <td>2009</td>\n",
              "      <td>Summer</td>\n",
              "      <td>June</td>\n",
              "      <td>15</td>\n",
              "      <td>Monday</td>\n",
              "      <td>17</td>\n",
              "      <td>1</td>\n",
              "      <td>1.031</td>\n",
              "    </tr>\n",
              "    <tr>\n",
              "      <th>1</th>\n",
              "      <td>16.9</td>\n",
              "      <td>-74.016048</td>\n",
              "      <td>40.711303</td>\n",
              "      <td>-73.979268</td>\n",
              "      <td>40.782004</td>\n",
              "      <td>1</td>\n",
              "      <td>2010</td>\n",
              "      <td>Winter</td>\n",
              "      <td>January</td>\n",
              "      <td>5</td>\n",
              "      <td>Tuesday</td>\n",
              "      <td>16</td>\n",
              "      <td>1</td>\n",
              "      <td>8.450</td>\n",
              "    </tr>\n",
              "    <tr>\n",
              "      <th>2</th>\n",
              "      <td>5.7</td>\n",
              "      <td>-73.982738</td>\n",
              "      <td>40.761270</td>\n",
              "      <td>-73.991242</td>\n",
              "      <td>40.750562</td>\n",
              "      <td>2</td>\n",
              "      <td>2011</td>\n",
              "      <td>Summer</td>\n",
              "      <td>August</td>\n",
              "      <td>18</td>\n",
              "      <td>Thursday</td>\n",
              "      <td>0</td>\n",
              "      <td>0</td>\n",
              "      <td>1.390</td>\n",
              "    </tr>\n",
              "    <tr>\n",
              "      <th>3</th>\n",
              "      <td>7.7</td>\n",
              "      <td>-73.987130</td>\n",
              "      <td>40.733143</td>\n",
              "      <td>-73.991567</td>\n",
              "      <td>40.758092</td>\n",
              "      <td>1</td>\n",
              "      <td>2012</td>\n",
              "      <td>Spring</td>\n",
              "      <td>April</td>\n",
              "      <td>21</td>\n",
              "      <td>Saturday</td>\n",
              "      <td>4</td>\n",
              "      <td>0</td>\n",
              "      <td>2.799</td>\n",
              "    </tr>\n",
              "    <tr>\n",
              "      <th>4</th>\n",
              "      <td>5.3</td>\n",
              "      <td>-73.968095</td>\n",
              "      <td>40.768008</td>\n",
              "      <td>-73.956655</td>\n",
              "      <td>40.783762</td>\n",
              "      <td>1</td>\n",
              "      <td>2010</td>\n",
              "      <td>Spring</td>\n",
              "      <td>March</td>\n",
              "      <td>9</td>\n",
              "      <td>Tuesday</td>\n",
              "      <td>7</td>\n",
              "      <td>1</td>\n",
              "      <td>1.999</td>\n",
              "    </tr>\n",
              "  </tbody>\n",
              "</table>\n",
              "</div>\n",
              "      <button class=\"colab-df-convert\" onclick=\"convertToInteractive('df-5f943f02-8fd9-4fe4-990e-8bc23ba50fa6')\"\n",
              "              title=\"Convert this dataframe to an interactive table.\"\n",
              "              style=\"display:none;\">\n",
              "        \n",
              "  <svg xmlns=\"http://www.w3.org/2000/svg\" height=\"24px\"viewBox=\"0 0 24 24\"\n",
              "       width=\"24px\">\n",
              "    <path d=\"M0 0h24v24H0V0z\" fill=\"none\"/>\n",
              "    <path d=\"M18.56 5.44l.94 2.06.94-2.06 2.06-.94-2.06-.94-.94-2.06-.94 2.06-2.06.94zm-11 1L8.5 8.5l.94-2.06 2.06-.94-2.06-.94L8.5 2.5l-.94 2.06-2.06.94zm10 10l.94 2.06.94-2.06 2.06-.94-2.06-.94-.94-2.06-.94 2.06-2.06.94z\"/><path d=\"M17.41 7.96l-1.37-1.37c-.4-.4-.92-.59-1.43-.59-.52 0-1.04.2-1.43.59L10.3 9.45l-7.72 7.72c-.78.78-.78 2.05 0 2.83L4 21.41c.39.39.9.59 1.41.59.51 0 1.02-.2 1.41-.59l7.78-7.78 2.81-2.81c.8-.78.8-2.07 0-2.86zM5.41 20L4 18.59l7.72-7.72 1.47 1.35L5.41 20z\"/>\n",
              "  </svg>\n",
              "      </button>\n",
              "      \n",
              "  <style>\n",
              "    .colab-df-container {\n",
              "      display:flex;\n",
              "      flex-wrap:wrap;\n",
              "      gap: 12px;\n",
              "    }\n",
              "\n",
              "    .colab-df-convert {\n",
              "      background-color: #E8F0FE;\n",
              "      border: none;\n",
              "      border-radius: 50%;\n",
              "      cursor: pointer;\n",
              "      display: none;\n",
              "      fill: #1967D2;\n",
              "      height: 32px;\n",
              "      padding: 0 0 0 0;\n",
              "      width: 32px;\n",
              "    }\n",
              "\n",
              "    .colab-df-convert:hover {\n",
              "      background-color: #E2EBFA;\n",
              "      box-shadow: 0px 1px 2px rgba(60, 64, 67, 0.3), 0px 1px 3px 1px rgba(60, 64, 67, 0.15);\n",
              "      fill: #174EA6;\n",
              "    }\n",
              "\n",
              "    [theme=dark] .colab-df-convert {\n",
              "      background-color: #3B4455;\n",
              "      fill: #D2E3FC;\n",
              "    }\n",
              "\n",
              "    [theme=dark] .colab-df-convert:hover {\n",
              "      background-color: #434B5C;\n",
              "      box-shadow: 0px 1px 3px 1px rgba(0, 0, 0, 0.15);\n",
              "      filter: drop-shadow(0px 1px 2px rgba(0, 0, 0, 0.3));\n",
              "      fill: #FFFFFF;\n",
              "    }\n",
              "  </style>\n",
              "\n",
              "      <script>\n",
              "        const buttonEl =\n",
              "          document.querySelector('#df-5f943f02-8fd9-4fe4-990e-8bc23ba50fa6 button.colab-df-convert');\n",
              "        buttonEl.style.display =\n",
              "          google.colab.kernel.accessAllowed ? 'block' : 'none';\n",
              "\n",
              "        async function convertToInteractive(key) {\n",
              "          const element = document.querySelector('#df-5f943f02-8fd9-4fe4-990e-8bc23ba50fa6');\n",
              "          const dataTable =\n",
              "            await google.colab.kernel.invokeFunction('convertToInteractive',\n",
              "                                                     [key], {});\n",
              "          if (!dataTable) return;\n",
              "\n",
              "          const docLinkHtml = 'Like what you see? Visit the ' +\n",
              "            '<a target=\"_blank\" href=https://colab.research.google.com/notebooks/data_table.ipynb>data table notebook</a>'\n",
              "            + ' to learn more about interactive tables.';\n",
              "          element.innerHTML = '';\n",
              "          dataTable['output_type'] = 'display_data';\n",
              "          await google.colab.output.renderOutput(dataTable, element);\n",
              "          const docLink = document.createElement('div');\n",
              "          docLink.innerHTML = docLinkHtml;\n",
              "          element.appendChild(docLink);\n",
              "        }\n",
              "      </script>\n",
              "    </div>\n",
              "  </div>\n",
              "  "
            ]
          },
          "metadata": {},
          "execution_count": 138
        }
      ]
    },
    {
      "cell_type": "markdown",
      "source": [
        "## Pre-processing Data"
      ],
      "metadata": {
        "id": "mE3L81lgnGRy"
      }
    },
    {
      "cell_type": "markdown",
      "source": [
        "### Overview"
      ],
      "metadata": {
        "id": "KzddL50umh8p"
      }
    },
    {
      "cell_type": "markdown",
      "source": [
        "Once I've done with feature creating it's time to explore the data.\n",
        "\n",
        "---"
      ],
      "metadata": {
        "id": "w_jW2unSaK_4"
      }
    },
    {
      "cell_type": "code",
      "source": [
        "df.describe(include='all')"
      ],
      "metadata": {
        "colab": {
          "base_uri": "https://localhost:8080/",
          "height": 394
        },
        "id": "Dfz7wh2hnNa3",
        "outputId": "7e86418d-c4e6-48cb-8ba5-4b9e1a07da24"
      },
      "execution_count": 139,
      "outputs": [
        {
          "output_type": "execute_result",
          "data": {
            "text/plain": [
              "         fare_amount  pickup_longitude  pickup_latitude  dropoff_longitude  \\\n",
              "count   1.027921e+06      1.027921e+06     1.027921e+06       1.027921e+06   \n",
              "unique           NaN               NaN              NaN                NaN   \n",
              "top              NaN               NaN              NaN                NaN   \n",
              "freq             NaN               NaN              NaN                NaN   \n",
              "mean    1.133004e+01     -7.390644e+01     4.068914e+01      -7.390595e+01   \n",
              "std     9.746336e+00      2.721070e+00     2.600426e+00       2.716004e+00   \n",
              "min    -4.490000e+01     -8.061666e+01    -7.401659e+01      -8.680412e+01   \n",
              "25%     6.000000e+00     -7.399228e+01     4.073653e+01      -7.399157e+01   \n",
              "50%     8.500000e+00     -7.398208e+01     4.075336e+01      -7.398058e+01   \n",
              "75%     1.250000e+01     -7.396829e+01     4.076755e+01      -7.396528e+01   \n",
              "max     5.000000e+02      4.085036e+01     6.940000e+01       4.558162e+01   \n",
              "\n",
              "        dropoff_latitude  passenger_count          year   season    month  \\\n",
              "count       1.027921e+06     1.027921e+06  1.027921e+06  1027921  1027921   \n",
              "unique               NaN              NaN           NaN        4       12   \n",
              "top                  NaN              NaN           NaN   Spring      May   \n",
              "freq                 NaN              NaN           NaN   287226    96323   \n",
              "mean        4.068934e+01     1.685244e+00  2.011739e+03      NaN      NaN   \n",
              "std         2.601251e+00     1.307981e+00  1.862741e+00      NaN      NaN   \n",
              "min        -7.403520e+01     0.000000e+00  2.009000e+03      NaN      NaN   \n",
              "25%         4.073553e+01     1.000000e+00  2.010000e+03      NaN      NaN   \n",
              "50%         4.075386e+01     1.000000e+00  2.012000e+03      NaN      NaN   \n",
              "75%         4.076841e+01     2.000000e+00  2.013000e+03      NaN      NaN   \n",
              "max         5.578333e+01     9.000000e+00  2.015000e+03      NaN      NaN   \n",
              "\n",
              "                 day day_name          hour     rush_hour      distance  \n",
              "count   1.027921e+06  1027921  1.027921e+06  1.027921e+06  1.027921e+06  \n",
              "unique           NaN        7           NaN           NaN           NaN  \n",
              "top              NaN   Friday           NaN           NaN           NaN  \n",
              "freq             NaN   158583           NaN           NaN           NaN  \n",
              "mean    1.569820e+01      NaN  1.350912e+01  4.353185e-01  4.395170e+00  \n",
              "std     8.680878e+00      NaN  6.511469e+00  4.957989e-01  7.550311e+01  \n",
              "min     1.000000e+00      NaN  0.000000e+00  0.000000e+00  0.000000e+00  \n",
              "25%     8.000000e+00      NaN  9.000000e+00  0.000000e+00  1.254000e+00  \n",
              "50%     1.600000e+01      NaN  1.400000e+01  0.000000e+00  2.153000e+00  \n",
              "75%     2.300000e+01      NaN  1.900000e+01  1.000000e+00  3.918000e+00  \n",
              "max     3.100000e+01      NaN  2.300000e+01  1.000000e+00  1.259472e+04  "
            ],
            "text/html": [
              "\n",
              "  <div id=\"df-5f643c26-d3a7-4435-a6e9-c039d7ad4b6b\">\n",
              "    <div class=\"colab-df-container\">\n",
              "      <div>\n",
              "<style scoped>\n",
              "    .dataframe tbody tr th:only-of-type {\n",
              "        vertical-align: middle;\n",
              "    }\n",
              "\n",
              "    .dataframe tbody tr th {\n",
              "        vertical-align: top;\n",
              "    }\n",
              "\n",
              "    .dataframe thead th {\n",
              "        text-align: right;\n",
              "    }\n",
              "</style>\n",
              "<table border=\"1\" class=\"dataframe\">\n",
              "  <thead>\n",
              "    <tr style=\"text-align: right;\">\n",
              "      <th></th>\n",
              "      <th>fare_amount</th>\n",
              "      <th>pickup_longitude</th>\n",
              "      <th>pickup_latitude</th>\n",
              "      <th>dropoff_longitude</th>\n",
              "      <th>dropoff_latitude</th>\n",
              "      <th>passenger_count</th>\n",
              "      <th>year</th>\n",
              "      <th>season</th>\n",
              "      <th>month</th>\n",
              "      <th>day</th>\n",
              "      <th>day_name</th>\n",
              "      <th>hour</th>\n",
              "      <th>rush_hour</th>\n",
              "      <th>distance</th>\n",
              "    </tr>\n",
              "  </thead>\n",
              "  <tbody>\n",
              "    <tr>\n",
              "      <th>count</th>\n",
              "      <td>1.027921e+06</td>\n",
              "      <td>1.027921e+06</td>\n",
              "      <td>1.027921e+06</td>\n",
              "      <td>1.027921e+06</td>\n",
              "      <td>1.027921e+06</td>\n",
              "      <td>1.027921e+06</td>\n",
              "      <td>1.027921e+06</td>\n",
              "      <td>1027921</td>\n",
              "      <td>1027921</td>\n",
              "      <td>1.027921e+06</td>\n",
              "      <td>1027921</td>\n",
              "      <td>1.027921e+06</td>\n",
              "      <td>1.027921e+06</td>\n",
              "      <td>1.027921e+06</td>\n",
              "    </tr>\n",
              "    <tr>\n",
              "      <th>unique</th>\n",
              "      <td>NaN</td>\n",
              "      <td>NaN</td>\n",
              "      <td>NaN</td>\n",
              "      <td>NaN</td>\n",
              "      <td>NaN</td>\n",
              "      <td>NaN</td>\n",
              "      <td>NaN</td>\n",
              "      <td>4</td>\n",
              "      <td>12</td>\n",
              "      <td>NaN</td>\n",
              "      <td>7</td>\n",
              "      <td>NaN</td>\n",
              "      <td>NaN</td>\n",
              "      <td>NaN</td>\n",
              "    </tr>\n",
              "    <tr>\n",
              "      <th>top</th>\n",
              "      <td>NaN</td>\n",
              "      <td>NaN</td>\n",
              "      <td>NaN</td>\n",
              "      <td>NaN</td>\n",
              "      <td>NaN</td>\n",
              "      <td>NaN</td>\n",
              "      <td>NaN</td>\n",
              "      <td>Spring</td>\n",
              "      <td>May</td>\n",
              "      <td>NaN</td>\n",
              "      <td>Friday</td>\n",
              "      <td>NaN</td>\n",
              "      <td>NaN</td>\n",
              "      <td>NaN</td>\n",
              "    </tr>\n",
              "    <tr>\n",
              "      <th>freq</th>\n",
              "      <td>NaN</td>\n",
              "      <td>NaN</td>\n",
              "      <td>NaN</td>\n",
              "      <td>NaN</td>\n",
              "      <td>NaN</td>\n",
              "      <td>NaN</td>\n",
              "      <td>NaN</td>\n",
              "      <td>287226</td>\n",
              "      <td>96323</td>\n",
              "      <td>NaN</td>\n",
              "      <td>158583</td>\n",
              "      <td>NaN</td>\n",
              "      <td>NaN</td>\n",
              "      <td>NaN</td>\n",
              "    </tr>\n",
              "    <tr>\n",
              "      <th>mean</th>\n",
              "      <td>1.133004e+01</td>\n",
              "      <td>-7.390644e+01</td>\n",
              "      <td>4.068914e+01</td>\n",
              "      <td>-7.390595e+01</td>\n",
              "      <td>4.068934e+01</td>\n",
              "      <td>1.685244e+00</td>\n",
              "      <td>2.011739e+03</td>\n",
              "      <td>NaN</td>\n",
              "      <td>NaN</td>\n",
              "      <td>1.569820e+01</td>\n",
              "      <td>NaN</td>\n",
              "      <td>1.350912e+01</td>\n",
              "      <td>4.353185e-01</td>\n",
              "      <td>4.395170e+00</td>\n",
              "    </tr>\n",
              "    <tr>\n",
              "      <th>std</th>\n",
              "      <td>9.746336e+00</td>\n",
              "      <td>2.721070e+00</td>\n",
              "      <td>2.600426e+00</td>\n",
              "      <td>2.716004e+00</td>\n",
              "      <td>2.601251e+00</td>\n",
              "      <td>1.307981e+00</td>\n",
              "      <td>1.862741e+00</td>\n",
              "      <td>NaN</td>\n",
              "      <td>NaN</td>\n",
              "      <td>8.680878e+00</td>\n",
              "      <td>NaN</td>\n",
              "      <td>6.511469e+00</td>\n",
              "      <td>4.957989e-01</td>\n",
              "      <td>7.550311e+01</td>\n",
              "    </tr>\n",
              "    <tr>\n",
              "      <th>min</th>\n",
              "      <td>-4.490000e+01</td>\n",
              "      <td>-8.061666e+01</td>\n",
              "      <td>-7.401659e+01</td>\n",
              "      <td>-8.680412e+01</td>\n",
              "      <td>-7.403520e+01</td>\n",
              "      <td>0.000000e+00</td>\n",
              "      <td>2.009000e+03</td>\n",
              "      <td>NaN</td>\n",
              "      <td>NaN</td>\n",
              "      <td>1.000000e+00</td>\n",
              "      <td>NaN</td>\n",
              "      <td>0.000000e+00</td>\n",
              "      <td>0.000000e+00</td>\n",
              "      <td>0.000000e+00</td>\n",
              "    </tr>\n",
              "    <tr>\n",
              "      <th>25%</th>\n",
              "      <td>6.000000e+00</td>\n",
              "      <td>-7.399228e+01</td>\n",
              "      <td>4.073653e+01</td>\n",
              "      <td>-7.399157e+01</td>\n",
              "      <td>4.073553e+01</td>\n",
              "      <td>1.000000e+00</td>\n",
              "      <td>2.010000e+03</td>\n",
              "      <td>NaN</td>\n",
              "      <td>NaN</td>\n",
              "      <td>8.000000e+00</td>\n",
              "      <td>NaN</td>\n",
              "      <td>9.000000e+00</td>\n",
              "      <td>0.000000e+00</td>\n",
              "      <td>1.254000e+00</td>\n",
              "    </tr>\n",
              "    <tr>\n",
              "      <th>50%</th>\n",
              "      <td>8.500000e+00</td>\n",
              "      <td>-7.398208e+01</td>\n",
              "      <td>4.075336e+01</td>\n",
              "      <td>-7.398058e+01</td>\n",
              "      <td>4.075386e+01</td>\n",
              "      <td>1.000000e+00</td>\n",
              "      <td>2.012000e+03</td>\n",
              "      <td>NaN</td>\n",
              "      <td>NaN</td>\n",
              "      <td>1.600000e+01</td>\n",
              "      <td>NaN</td>\n",
              "      <td>1.400000e+01</td>\n",
              "      <td>0.000000e+00</td>\n",
              "      <td>2.153000e+00</td>\n",
              "    </tr>\n",
              "    <tr>\n",
              "      <th>75%</th>\n",
              "      <td>1.250000e+01</td>\n",
              "      <td>-7.396829e+01</td>\n",
              "      <td>4.076755e+01</td>\n",
              "      <td>-7.396528e+01</td>\n",
              "      <td>4.076841e+01</td>\n",
              "      <td>2.000000e+00</td>\n",
              "      <td>2.013000e+03</td>\n",
              "      <td>NaN</td>\n",
              "      <td>NaN</td>\n",
              "      <td>2.300000e+01</td>\n",
              "      <td>NaN</td>\n",
              "      <td>1.900000e+01</td>\n",
              "      <td>1.000000e+00</td>\n",
              "      <td>3.918000e+00</td>\n",
              "    </tr>\n",
              "    <tr>\n",
              "      <th>max</th>\n",
              "      <td>5.000000e+02</td>\n",
              "      <td>4.085036e+01</td>\n",
              "      <td>6.940000e+01</td>\n",
              "      <td>4.558162e+01</td>\n",
              "      <td>5.578333e+01</td>\n",
              "      <td>9.000000e+00</td>\n",
              "      <td>2.015000e+03</td>\n",
              "      <td>NaN</td>\n",
              "      <td>NaN</td>\n",
              "      <td>3.100000e+01</td>\n",
              "      <td>NaN</td>\n",
              "      <td>2.300000e+01</td>\n",
              "      <td>1.000000e+00</td>\n",
              "      <td>1.259472e+04</td>\n",
              "    </tr>\n",
              "  </tbody>\n",
              "</table>\n",
              "</div>\n",
              "      <button class=\"colab-df-convert\" onclick=\"convertToInteractive('df-5f643c26-d3a7-4435-a6e9-c039d7ad4b6b')\"\n",
              "              title=\"Convert this dataframe to an interactive table.\"\n",
              "              style=\"display:none;\">\n",
              "        \n",
              "  <svg xmlns=\"http://www.w3.org/2000/svg\" height=\"24px\"viewBox=\"0 0 24 24\"\n",
              "       width=\"24px\">\n",
              "    <path d=\"M0 0h24v24H0V0z\" fill=\"none\"/>\n",
              "    <path d=\"M18.56 5.44l.94 2.06.94-2.06 2.06-.94-2.06-.94-.94-2.06-.94 2.06-2.06.94zm-11 1L8.5 8.5l.94-2.06 2.06-.94-2.06-.94L8.5 2.5l-.94 2.06-2.06.94zm10 10l.94 2.06.94-2.06 2.06-.94-2.06-.94-.94-2.06-.94 2.06-2.06.94z\"/><path d=\"M17.41 7.96l-1.37-1.37c-.4-.4-.92-.59-1.43-.59-.52 0-1.04.2-1.43.59L10.3 9.45l-7.72 7.72c-.78.78-.78 2.05 0 2.83L4 21.41c.39.39.9.59 1.41.59.51 0 1.02-.2 1.41-.59l7.78-7.78 2.81-2.81c.8-.78.8-2.07 0-2.86zM5.41 20L4 18.59l7.72-7.72 1.47 1.35L5.41 20z\"/>\n",
              "  </svg>\n",
              "      </button>\n",
              "      \n",
              "  <style>\n",
              "    .colab-df-container {\n",
              "      display:flex;\n",
              "      flex-wrap:wrap;\n",
              "      gap: 12px;\n",
              "    }\n",
              "\n",
              "    .colab-df-convert {\n",
              "      background-color: #E8F0FE;\n",
              "      border: none;\n",
              "      border-radius: 50%;\n",
              "      cursor: pointer;\n",
              "      display: none;\n",
              "      fill: #1967D2;\n",
              "      height: 32px;\n",
              "      padding: 0 0 0 0;\n",
              "      width: 32px;\n",
              "    }\n",
              "\n",
              "    .colab-df-convert:hover {\n",
              "      background-color: #E2EBFA;\n",
              "      box-shadow: 0px 1px 2px rgba(60, 64, 67, 0.3), 0px 1px 3px 1px rgba(60, 64, 67, 0.15);\n",
              "      fill: #174EA6;\n",
              "    }\n",
              "\n",
              "    [theme=dark] .colab-df-convert {\n",
              "      background-color: #3B4455;\n",
              "      fill: #D2E3FC;\n",
              "    }\n",
              "\n",
              "    [theme=dark] .colab-df-convert:hover {\n",
              "      background-color: #434B5C;\n",
              "      box-shadow: 0px 1px 3px 1px rgba(0, 0, 0, 0.15);\n",
              "      filter: drop-shadow(0px 1px 2px rgba(0, 0, 0, 0.3));\n",
              "      fill: #FFFFFF;\n",
              "    }\n",
              "  </style>\n",
              "\n",
              "      <script>\n",
              "        const buttonEl =\n",
              "          document.querySelector('#df-5f643c26-d3a7-4435-a6e9-c039d7ad4b6b button.colab-df-convert');\n",
              "        buttonEl.style.display =\n",
              "          google.colab.kernel.accessAllowed ? 'block' : 'none';\n",
              "\n",
              "        async function convertToInteractive(key) {\n",
              "          const element = document.querySelector('#df-5f643c26-d3a7-4435-a6e9-c039d7ad4b6b');\n",
              "          const dataTable =\n",
              "            await google.colab.kernel.invokeFunction('convertToInteractive',\n",
              "                                                     [key], {});\n",
              "          if (!dataTable) return;\n",
              "\n",
              "          const docLinkHtml = 'Like what you see? Visit the ' +\n",
              "            '<a target=\"_blank\" href=https://colab.research.google.com/notebooks/data_table.ipynb>data table notebook</a>'\n",
              "            + ' to learn more about interactive tables.';\n",
              "          element.innerHTML = '';\n",
              "          dataTable['output_type'] = 'display_data';\n",
              "          await google.colab.output.renderOutput(dataTable, element);\n",
              "          const docLink = document.createElement('div');\n",
              "          docLink.innerHTML = docLinkHtml;\n",
              "          element.appendChild(docLink);\n",
              "        }\n",
              "      </script>\n",
              "    </div>\n",
              "  </div>\n",
              "  "
            ]
          },
          "metadata": {},
          "execution_count": 139
        }
      ]
    },
    {
      "cell_type": "markdown",
      "source": [
        "---\n",
        "\n",
        "**Notes:** \n",
        "* target column ```fare_amount```: *min* value is negative. That means that some entities in the data has negative price for taxi ride what is an obvious error and can lead to wrong training of the model\n",
        "* ```passenger_count``` column *min* is zero and *max* is 9 passengers both of which are impossible\n",
        "* ```distance``` column: *min* value is zero what is senseless and can be considered as missing values\n",
        "\n",
        "**Conclusion:** closely observe\n",
        "* ```fare_amount``` column to deal with negative values\n",
        "* ```passenger_count``` column to check that number of passengers per cab is realistic\n",
        "* ```distance``` column to check for zero values\n",
        "\n",
        "---"
      ],
      "metadata": {
        "id": "RHLrUCQmnYEc"
      }
    },
    {
      "cell_type": "markdown",
      "source": [
        "### Target Feature Values"
      ],
      "metadata": {
        "id": "aWm_TC3IYMn6"
      }
    },
    {
      "cell_type": "markdown",
      "source": [
        "\n",
        "As it was mentioned earlier, we need to get rid of negative values in the target column ```fare_amount```. We also should check if there is any zero values in the target column as far as it brings no info for the future model and can be counted and treated as missing values.\n",
        "\n",
        "\n",
        "---"
      ],
      "metadata": {
        "id": "4DWrQ78oYZ-q"
      }
    },
    {
      "cell_type": "code",
      "source": [
        "df.fare_amount.describe()"
      ],
      "metadata": {
        "colab": {
          "base_uri": "https://localhost:8080/"
        },
        "id": "K0m1u-byYiZ8",
        "outputId": "fde96693-be11-41c5-be22-bc168675460a"
      },
      "execution_count": 140,
      "outputs": [
        {
          "output_type": "execute_result",
          "data": {
            "text/plain": [
              "count    1.027921e+06\n",
              "mean     1.133004e+01\n",
              "std      9.746336e+00\n",
              "min     -4.490000e+01\n",
              "25%      6.000000e+00\n",
              "50%      8.500000e+00\n",
              "75%      1.250000e+01\n",
              "max      5.000000e+02\n",
              "Name: fare_amount, dtype: float64"
            ]
          },
          "metadata": {},
          "execution_count": 140
        }
      ]
    },
    {
      "cell_type": "code",
      "source": [
        "df[df.fare_amount<=0].shape #amount of negative and zero values for fare_amount column"
      ],
      "metadata": {
        "colab": {
          "base_uri": "https://localhost:8080/"
        },
        "id": "uG0CUlw7ctB9",
        "outputId": "84e1d3e8-3207-4ac8-ea2c-6d2b52381a12"
      },
      "execution_count": 141,
      "outputs": [
        {
          "output_type": "execute_result",
          "data": {
            "text/plain": [
              "(60, 14)"
            ]
          },
          "metadata": {},
          "execution_count": 141
        }
      ]
    },
    {
      "cell_type": "markdown",
      "source": [
        "---\n",
        "\n",
        "As we can see there are some negative and zero values in ```fare_amount``` column. These amount is not high in comparison with all entities in the data (~0.006%), I will skip these entities with dropping the whole row.\n",
        "\n",
        "---"
      ],
      "metadata": {
        "id": "HW3CCjh7eCKl"
      }
    },
    {
      "cell_type": "code",
      "source": [
        "df = df[df.fare_amount>0]\n",
        "print('df.shape: ', df.shape)\n",
        "df.head()"
      ],
      "metadata": {
        "colab": {
          "base_uri": "https://localhost:8080/",
          "height": 224
        },
        "id": "ZRsJEG9idzy6",
        "outputId": "7afba3af-1922-4d28-b131-493620fabe8a"
      },
      "execution_count": 142,
      "outputs": [
        {
          "output_type": "stream",
          "name": "stdout",
          "text": [
            "df.shape:  (1027861, 14)\n"
          ]
        },
        {
          "output_type": "execute_result",
          "data": {
            "text/plain": [
              "   fare_amount  pickup_longitude  pickup_latitude  dropoff_longitude  \\\n",
              "0          4.5        -73.844311        40.721319         -73.841610   \n",
              "1         16.9        -74.016048        40.711303         -73.979268   \n",
              "2          5.7        -73.982738        40.761270         -73.991242   \n",
              "3          7.7        -73.987130        40.733143         -73.991567   \n",
              "4          5.3        -73.968095        40.768008         -73.956655   \n",
              "\n",
              "   dropoff_latitude  passenger_count  year  season    month  day  day_name  \\\n",
              "0         40.712278                1  2009  Summer     June   15    Monday   \n",
              "1         40.782004                1  2010  Winter  January    5   Tuesday   \n",
              "2         40.750562                2  2011  Summer   August   18  Thursday   \n",
              "3         40.758092                1  2012  Spring    April   21  Saturday   \n",
              "4         40.783762                1  2010  Spring    March    9   Tuesday   \n",
              "\n",
              "   hour  rush_hour  distance  \n",
              "0    17          1     1.031  \n",
              "1    16          1     8.450  \n",
              "2     0          0     1.390  \n",
              "3     4          0     2.799  \n",
              "4     7          1     1.999  "
            ],
            "text/html": [
              "\n",
              "  <div id=\"df-1e68aaf1-190d-45b3-bab0-b38f8b9f4a15\">\n",
              "    <div class=\"colab-df-container\">\n",
              "      <div>\n",
              "<style scoped>\n",
              "    .dataframe tbody tr th:only-of-type {\n",
              "        vertical-align: middle;\n",
              "    }\n",
              "\n",
              "    .dataframe tbody tr th {\n",
              "        vertical-align: top;\n",
              "    }\n",
              "\n",
              "    .dataframe thead th {\n",
              "        text-align: right;\n",
              "    }\n",
              "</style>\n",
              "<table border=\"1\" class=\"dataframe\">\n",
              "  <thead>\n",
              "    <tr style=\"text-align: right;\">\n",
              "      <th></th>\n",
              "      <th>fare_amount</th>\n",
              "      <th>pickup_longitude</th>\n",
              "      <th>pickup_latitude</th>\n",
              "      <th>dropoff_longitude</th>\n",
              "      <th>dropoff_latitude</th>\n",
              "      <th>passenger_count</th>\n",
              "      <th>year</th>\n",
              "      <th>season</th>\n",
              "      <th>month</th>\n",
              "      <th>day</th>\n",
              "      <th>day_name</th>\n",
              "      <th>hour</th>\n",
              "      <th>rush_hour</th>\n",
              "      <th>distance</th>\n",
              "    </tr>\n",
              "  </thead>\n",
              "  <tbody>\n",
              "    <tr>\n",
              "      <th>0</th>\n",
              "      <td>4.5</td>\n",
              "      <td>-73.844311</td>\n",
              "      <td>40.721319</td>\n",
              "      <td>-73.841610</td>\n",
              "      <td>40.712278</td>\n",
              "      <td>1</td>\n",
              "      <td>2009</td>\n",
              "      <td>Summer</td>\n",
              "      <td>June</td>\n",
              "      <td>15</td>\n",
              "      <td>Monday</td>\n",
              "      <td>17</td>\n",
              "      <td>1</td>\n",
              "      <td>1.031</td>\n",
              "    </tr>\n",
              "    <tr>\n",
              "      <th>1</th>\n",
              "      <td>16.9</td>\n",
              "      <td>-74.016048</td>\n",
              "      <td>40.711303</td>\n",
              "      <td>-73.979268</td>\n",
              "      <td>40.782004</td>\n",
              "      <td>1</td>\n",
              "      <td>2010</td>\n",
              "      <td>Winter</td>\n",
              "      <td>January</td>\n",
              "      <td>5</td>\n",
              "      <td>Tuesday</td>\n",
              "      <td>16</td>\n",
              "      <td>1</td>\n",
              "      <td>8.450</td>\n",
              "    </tr>\n",
              "    <tr>\n",
              "      <th>2</th>\n",
              "      <td>5.7</td>\n",
              "      <td>-73.982738</td>\n",
              "      <td>40.761270</td>\n",
              "      <td>-73.991242</td>\n",
              "      <td>40.750562</td>\n",
              "      <td>2</td>\n",
              "      <td>2011</td>\n",
              "      <td>Summer</td>\n",
              "      <td>August</td>\n",
              "      <td>18</td>\n",
              "      <td>Thursday</td>\n",
              "      <td>0</td>\n",
              "      <td>0</td>\n",
              "      <td>1.390</td>\n",
              "    </tr>\n",
              "    <tr>\n",
              "      <th>3</th>\n",
              "      <td>7.7</td>\n",
              "      <td>-73.987130</td>\n",
              "      <td>40.733143</td>\n",
              "      <td>-73.991567</td>\n",
              "      <td>40.758092</td>\n",
              "      <td>1</td>\n",
              "      <td>2012</td>\n",
              "      <td>Spring</td>\n",
              "      <td>April</td>\n",
              "      <td>21</td>\n",
              "      <td>Saturday</td>\n",
              "      <td>4</td>\n",
              "      <td>0</td>\n",
              "      <td>2.799</td>\n",
              "    </tr>\n",
              "    <tr>\n",
              "      <th>4</th>\n",
              "      <td>5.3</td>\n",
              "      <td>-73.968095</td>\n",
              "      <td>40.768008</td>\n",
              "      <td>-73.956655</td>\n",
              "      <td>40.783762</td>\n",
              "      <td>1</td>\n",
              "      <td>2010</td>\n",
              "      <td>Spring</td>\n",
              "      <td>March</td>\n",
              "      <td>9</td>\n",
              "      <td>Tuesday</td>\n",
              "      <td>7</td>\n",
              "      <td>1</td>\n",
              "      <td>1.999</td>\n",
              "    </tr>\n",
              "  </tbody>\n",
              "</table>\n",
              "</div>\n",
              "      <button class=\"colab-df-convert\" onclick=\"convertToInteractive('df-1e68aaf1-190d-45b3-bab0-b38f8b9f4a15')\"\n",
              "              title=\"Convert this dataframe to an interactive table.\"\n",
              "              style=\"display:none;\">\n",
              "        \n",
              "  <svg xmlns=\"http://www.w3.org/2000/svg\" height=\"24px\"viewBox=\"0 0 24 24\"\n",
              "       width=\"24px\">\n",
              "    <path d=\"M0 0h24v24H0V0z\" fill=\"none\"/>\n",
              "    <path d=\"M18.56 5.44l.94 2.06.94-2.06 2.06-.94-2.06-.94-.94-2.06-.94 2.06-2.06.94zm-11 1L8.5 8.5l.94-2.06 2.06-.94-2.06-.94L8.5 2.5l-.94 2.06-2.06.94zm10 10l.94 2.06.94-2.06 2.06-.94-2.06-.94-.94-2.06-.94 2.06-2.06.94z\"/><path d=\"M17.41 7.96l-1.37-1.37c-.4-.4-.92-.59-1.43-.59-.52 0-1.04.2-1.43.59L10.3 9.45l-7.72 7.72c-.78.78-.78 2.05 0 2.83L4 21.41c.39.39.9.59 1.41.59.51 0 1.02-.2 1.41-.59l7.78-7.78 2.81-2.81c.8-.78.8-2.07 0-2.86zM5.41 20L4 18.59l7.72-7.72 1.47 1.35L5.41 20z\"/>\n",
              "  </svg>\n",
              "      </button>\n",
              "      \n",
              "  <style>\n",
              "    .colab-df-container {\n",
              "      display:flex;\n",
              "      flex-wrap:wrap;\n",
              "      gap: 12px;\n",
              "    }\n",
              "\n",
              "    .colab-df-convert {\n",
              "      background-color: #E8F0FE;\n",
              "      border: none;\n",
              "      border-radius: 50%;\n",
              "      cursor: pointer;\n",
              "      display: none;\n",
              "      fill: #1967D2;\n",
              "      height: 32px;\n",
              "      padding: 0 0 0 0;\n",
              "      width: 32px;\n",
              "    }\n",
              "\n",
              "    .colab-df-convert:hover {\n",
              "      background-color: #E2EBFA;\n",
              "      box-shadow: 0px 1px 2px rgba(60, 64, 67, 0.3), 0px 1px 3px 1px rgba(60, 64, 67, 0.15);\n",
              "      fill: #174EA6;\n",
              "    }\n",
              "\n",
              "    [theme=dark] .colab-df-convert {\n",
              "      background-color: #3B4455;\n",
              "      fill: #D2E3FC;\n",
              "    }\n",
              "\n",
              "    [theme=dark] .colab-df-convert:hover {\n",
              "      background-color: #434B5C;\n",
              "      box-shadow: 0px 1px 3px 1px rgba(0, 0, 0, 0.15);\n",
              "      filter: drop-shadow(0px 1px 2px rgba(0, 0, 0, 0.3));\n",
              "      fill: #FFFFFF;\n",
              "    }\n",
              "  </style>\n",
              "\n",
              "      <script>\n",
              "        const buttonEl =\n",
              "          document.querySelector('#df-1e68aaf1-190d-45b3-bab0-b38f8b9f4a15 button.colab-df-convert');\n",
              "        buttonEl.style.display =\n",
              "          google.colab.kernel.accessAllowed ? 'block' : 'none';\n",
              "\n",
              "        async function convertToInteractive(key) {\n",
              "          const element = document.querySelector('#df-1e68aaf1-190d-45b3-bab0-b38f8b9f4a15');\n",
              "          const dataTable =\n",
              "            await google.colab.kernel.invokeFunction('convertToInteractive',\n",
              "                                                     [key], {});\n",
              "          if (!dataTable) return;\n",
              "\n",
              "          const docLinkHtml = 'Like what you see? Visit the ' +\n",
              "            '<a target=\"_blank\" href=https://colab.research.google.com/notebooks/data_table.ipynb>data table notebook</a>'\n",
              "            + ' to learn more about interactive tables.';\n",
              "          element.innerHTML = '';\n",
              "          dataTable['output_type'] = 'display_data';\n",
              "          await google.colab.output.renderOutput(dataTable, element);\n",
              "          const docLink = document.createElement('div');\n",
              "          docLink.innerHTML = docLinkHtml;\n",
              "          element.appendChild(docLink);\n",
              "        }\n",
              "      </script>\n",
              "    </div>\n",
              "  </div>\n",
              "  "
            ]
          },
          "metadata": {},
          "execution_count": 142
        }
      ]
    },
    {
      "cell_type": "code",
      "source": [
        "df[df.fare_amount<=0].shape"
      ],
      "metadata": {
        "colab": {
          "base_uri": "https://localhost:8080/"
        },
        "id": "Vey93OaYgkeI",
        "outputId": "fbe1d4a7-baa2-42ca-816d-e82aa07229e7"
      },
      "execution_count": 143,
      "outputs": [
        {
          "output_type": "execute_result",
          "data": {
            "text/plain": [
              "(0, 14)"
            ]
          },
          "metadata": {},
          "execution_count": 143
        }
      ]
    },
    {
      "cell_type": "markdown",
      "source": [
        "\n",
        "\n",
        "---\n",
        "\n",
        "No entities with negative or null ride price left.\n",
        "\n",
        "\n",
        "---\n",
        "\n"
      ],
      "metadata": {
        "id": "h4sax7Bidnk9"
      }
    },
    {
      "cell_type": "code",
      "source": [
        "df.fare_amount.describe()"
      ],
      "metadata": {
        "colab": {
          "base_uri": "https://localhost:8080/"
        },
        "id": "YLhhIgTUfH0j",
        "outputId": "e1c0259d-533f-4024-e00e-05157e5e2058"
      },
      "execution_count": 144,
      "outputs": [
        {
          "output_type": "execute_result",
          "data": {
            "text/plain": [
              "count    1.027861e+06\n",
              "mean     1.133091e+01\n",
              "std      9.745803e+00\n",
              "min      1.000000e-02\n",
              "25%      6.000000e+00\n",
              "50%      8.500000e+00\n",
              "75%      1.250000e+01\n",
              "max      5.000000e+02\n",
              "Name: fare_amount, dtype: float64"
            ]
          },
          "metadata": {},
          "execution_count": 144
        }
      ]
    },
    {
      "cell_type": "markdown",
      "source": [
        "\n",
        "\n",
        "---\n",
        "\n",
        "Now *min* of ```fare_amount``` is $0.01 what is still pretty low and seems erroneous. \n",
        "\n",
        "---\n",
        "\n"
      ],
      "metadata": {
        "id": "3hhV6_8Bffh3"
      }
    },
    {
      "cell_type": "code",
      "source": [
        "df[df.fare_amount<1]"
      ],
      "metadata": {
        "colab": {
          "base_uri": "https://localhost:8080/",
          "height": 332
        },
        "id": "TM2m4BlLfPXo",
        "outputId": "ef1ca97b-0d5d-4797-b522-6b48cbb13674"
      },
      "execution_count": 145,
      "outputs": [
        {
          "output_type": "execute_result",
          "data": {
            "text/plain": [
              "         fare_amount  pickup_longitude  pickup_latitude  dropoff_longitude  \\\n",
              "2780            0.01        -73.939041        40.713963         -73.941673   \n",
              "90010           0.01        -73.980331        40.770535         -73.981911   \n",
              "194168          0.01        -73.890549        40.719757         -73.842293   \n",
              "217966          0.01        -73.997398        40.725941         -73.997421   \n",
              "281140          0.01        -73.757896        40.927608         -73.757896   \n",
              "671865          0.01        -73.980535        40.779988         -73.970821   \n",
              "843937          0.01        -73.996124        40.753342         -73.998871   \n",
              "1030274         0.01        -73.972466        40.786537         -73.972473   \n",
              "1046329         0.01        -73.977928        40.783142         -73.977936   \n",
              "\n",
              "         dropoff_latitude  passenger_count  year  season     month  day  \\\n",
              "2780            40.713997                1  2015  Spring       May    1   \n",
              "90010           40.771503                1  2015  Winter  February   19   \n",
              "194168          40.668804                2  2015  Winter  February   27   \n",
              "217966          40.725983                1  2015  Winter   January   14   \n",
              "281140          40.927605                1  2015  Spring     April   13   \n",
              "671865          40.793403                1  2010  Winter  February    2   \n",
              "843937          40.755047                1  2015  Spring     March   29   \n",
              "1030274         40.786541                1  2015  Spring     March   17   \n",
              "1046329         40.783180                2  2015  Winter   January    5   \n",
              "\n",
              "          day_name  hour  rush_hour  distance  \n",
              "2780        Friday    15          1     0.222  \n",
              "90010     Thursday     6          0     0.171  \n",
              "194168      Friday    15          1     6.975  \n",
              "217966   Wednesday    16          1     0.005  \n",
              "281140      Monday    21          0     0.000  \n",
              "671865     Tuesday    17          1     1.701  \n",
              "843937      Sunday    10          1     0.299  \n",
              "1030274    Tuesday    23          0     0.001  \n",
              "1046329     Monday    21          0     0.004  "
            ],
            "text/html": [
              "\n",
              "  <div id=\"df-b43ba2cb-ad44-4b78-a0a1-b0105d6a641a\">\n",
              "    <div class=\"colab-df-container\">\n",
              "      <div>\n",
              "<style scoped>\n",
              "    .dataframe tbody tr th:only-of-type {\n",
              "        vertical-align: middle;\n",
              "    }\n",
              "\n",
              "    .dataframe tbody tr th {\n",
              "        vertical-align: top;\n",
              "    }\n",
              "\n",
              "    .dataframe thead th {\n",
              "        text-align: right;\n",
              "    }\n",
              "</style>\n",
              "<table border=\"1\" class=\"dataframe\">\n",
              "  <thead>\n",
              "    <tr style=\"text-align: right;\">\n",
              "      <th></th>\n",
              "      <th>fare_amount</th>\n",
              "      <th>pickup_longitude</th>\n",
              "      <th>pickup_latitude</th>\n",
              "      <th>dropoff_longitude</th>\n",
              "      <th>dropoff_latitude</th>\n",
              "      <th>passenger_count</th>\n",
              "      <th>year</th>\n",
              "      <th>season</th>\n",
              "      <th>month</th>\n",
              "      <th>day</th>\n",
              "      <th>day_name</th>\n",
              "      <th>hour</th>\n",
              "      <th>rush_hour</th>\n",
              "      <th>distance</th>\n",
              "    </tr>\n",
              "  </thead>\n",
              "  <tbody>\n",
              "    <tr>\n",
              "      <th>2780</th>\n",
              "      <td>0.01</td>\n",
              "      <td>-73.939041</td>\n",
              "      <td>40.713963</td>\n",
              "      <td>-73.941673</td>\n",
              "      <td>40.713997</td>\n",
              "      <td>1</td>\n",
              "      <td>2015</td>\n",
              "      <td>Spring</td>\n",
              "      <td>May</td>\n",
              "      <td>1</td>\n",
              "      <td>Friday</td>\n",
              "      <td>15</td>\n",
              "      <td>1</td>\n",
              "      <td>0.222</td>\n",
              "    </tr>\n",
              "    <tr>\n",
              "      <th>90010</th>\n",
              "      <td>0.01</td>\n",
              "      <td>-73.980331</td>\n",
              "      <td>40.770535</td>\n",
              "      <td>-73.981911</td>\n",
              "      <td>40.771503</td>\n",
              "      <td>1</td>\n",
              "      <td>2015</td>\n",
              "      <td>Winter</td>\n",
              "      <td>February</td>\n",
              "      <td>19</td>\n",
              "      <td>Thursday</td>\n",
              "      <td>6</td>\n",
              "      <td>0</td>\n",
              "      <td>0.171</td>\n",
              "    </tr>\n",
              "    <tr>\n",
              "      <th>194168</th>\n",
              "      <td>0.01</td>\n",
              "      <td>-73.890549</td>\n",
              "      <td>40.719757</td>\n",
              "      <td>-73.842293</td>\n",
              "      <td>40.668804</td>\n",
              "      <td>2</td>\n",
              "      <td>2015</td>\n",
              "      <td>Winter</td>\n",
              "      <td>February</td>\n",
              "      <td>27</td>\n",
              "      <td>Friday</td>\n",
              "      <td>15</td>\n",
              "      <td>1</td>\n",
              "      <td>6.975</td>\n",
              "    </tr>\n",
              "    <tr>\n",
              "      <th>217966</th>\n",
              "      <td>0.01</td>\n",
              "      <td>-73.997398</td>\n",
              "      <td>40.725941</td>\n",
              "      <td>-73.997421</td>\n",
              "      <td>40.725983</td>\n",
              "      <td>1</td>\n",
              "      <td>2015</td>\n",
              "      <td>Winter</td>\n",
              "      <td>January</td>\n",
              "      <td>14</td>\n",
              "      <td>Wednesday</td>\n",
              "      <td>16</td>\n",
              "      <td>1</td>\n",
              "      <td>0.005</td>\n",
              "    </tr>\n",
              "    <tr>\n",
              "      <th>281140</th>\n",
              "      <td>0.01</td>\n",
              "      <td>-73.757896</td>\n",
              "      <td>40.927608</td>\n",
              "      <td>-73.757896</td>\n",
              "      <td>40.927605</td>\n",
              "      <td>1</td>\n",
              "      <td>2015</td>\n",
              "      <td>Spring</td>\n",
              "      <td>April</td>\n",
              "      <td>13</td>\n",
              "      <td>Monday</td>\n",
              "      <td>21</td>\n",
              "      <td>0</td>\n",
              "      <td>0.000</td>\n",
              "    </tr>\n",
              "    <tr>\n",
              "      <th>671865</th>\n",
              "      <td>0.01</td>\n",
              "      <td>-73.980535</td>\n",
              "      <td>40.779988</td>\n",
              "      <td>-73.970821</td>\n",
              "      <td>40.793403</td>\n",
              "      <td>1</td>\n",
              "      <td>2010</td>\n",
              "      <td>Winter</td>\n",
              "      <td>February</td>\n",
              "      <td>2</td>\n",
              "      <td>Tuesday</td>\n",
              "      <td>17</td>\n",
              "      <td>1</td>\n",
              "      <td>1.701</td>\n",
              "    </tr>\n",
              "    <tr>\n",
              "      <th>843937</th>\n",
              "      <td>0.01</td>\n",
              "      <td>-73.996124</td>\n",
              "      <td>40.753342</td>\n",
              "      <td>-73.998871</td>\n",
              "      <td>40.755047</td>\n",
              "      <td>1</td>\n",
              "      <td>2015</td>\n",
              "      <td>Spring</td>\n",
              "      <td>March</td>\n",
              "      <td>29</td>\n",
              "      <td>Sunday</td>\n",
              "      <td>10</td>\n",
              "      <td>1</td>\n",
              "      <td>0.299</td>\n",
              "    </tr>\n",
              "    <tr>\n",
              "      <th>1030274</th>\n",
              "      <td>0.01</td>\n",
              "      <td>-73.972466</td>\n",
              "      <td>40.786537</td>\n",
              "      <td>-73.972473</td>\n",
              "      <td>40.786541</td>\n",
              "      <td>1</td>\n",
              "      <td>2015</td>\n",
              "      <td>Spring</td>\n",
              "      <td>March</td>\n",
              "      <td>17</td>\n",
              "      <td>Tuesday</td>\n",
              "      <td>23</td>\n",
              "      <td>0</td>\n",
              "      <td>0.001</td>\n",
              "    </tr>\n",
              "    <tr>\n",
              "      <th>1046329</th>\n",
              "      <td>0.01</td>\n",
              "      <td>-73.977928</td>\n",
              "      <td>40.783142</td>\n",
              "      <td>-73.977936</td>\n",
              "      <td>40.783180</td>\n",
              "      <td>2</td>\n",
              "      <td>2015</td>\n",
              "      <td>Winter</td>\n",
              "      <td>January</td>\n",
              "      <td>5</td>\n",
              "      <td>Monday</td>\n",
              "      <td>21</td>\n",
              "      <td>0</td>\n",
              "      <td>0.004</td>\n",
              "    </tr>\n",
              "  </tbody>\n",
              "</table>\n",
              "</div>\n",
              "      <button class=\"colab-df-convert\" onclick=\"convertToInteractive('df-b43ba2cb-ad44-4b78-a0a1-b0105d6a641a')\"\n",
              "              title=\"Convert this dataframe to an interactive table.\"\n",
              "              style=\"display:none;\">\n",
              "        \n",
              "  <svg xmlns=\"http://www.w3.org/2000/svg\" height=\"24px\"viewBox=\"0 0 24 24\"\n",
              "       width=\"24px\">\n",
              "    <path d=\"M0 0h24v24H0V0z\" fill=\"none\"/>\n",
              "    <path d=\"M18.56 5.44l.94 2.06.94-2.06 2.06-.94-2.06-.94-.94-2.06-.94 2.06-2.06.94zm-11 1L8.5 8.5l.94-2.06 2.06-.94-2.06-.94L8.5 2.5l-.94 2.06-2.06.94zm10 10l.94 2.06.94-2.06 2.06-.94-2.06-.94-.94-2.06-.94 2.06-2.06.94z\"/><path d=\"M17.41 7.96l-1.37-1.37c-.4-.4-.92-.59-1.43-.59-.52 0-1.04.2-1.43.59L10.3 9.45l-7.72 7.72c-.78.78-.78 2.05 0 2.83L4 21.41c.39.39.9.59 1.41.59.51 0 1.02-.2 1.41-.59l7.78-7.78 2.81-2.81c.8-.78.8-2.07 0-2.86zM5.41 20L4 18.59l7.72-7.72 1.47 1.35L5.41 20z\"/>\n",
              "  </svg>\n",
              "      </button>\n",
              "      \n",
              "  <style>\n",
              "    .colab-df-container {\n",
              "      display:flex;\n",
              "      flex-wrap:wrap;\n",
              "      gap: 12px;\n",
              "    }\n",
              "\n",
              "    .colab-df-convert {\n",
              "      background-color: #E8F0FE;\n",
              "      border: none;\n",
              "      border-radius: 50%;\n",
              "      cursor: pointer;\n",
              "      display: none;\n",
              "      fill: #1967D2;\n",
              "      height: 32px;\n",
              "      padding: 0 0 0 0;\n",
              "      width: 32px;\n",
              "    }\n",
              "\n",
              "    .colab-df-convert:hover {\n",
              "      background-color: #E2EBFA;\n",
              "      box-shadow: 0px 1px 2px rgba(60, 64, 67, 0.3), 0px 1px 3px 1px rgba(60, 64, 67, 0.15);\n",
              "      fill: #174EA6;\n",
              "    }\n",
              "\n",
              "    [theme=dark] .colab-df-convert {\n",
              "      background-color: #3B4455;\n",
              "      fill: #D2E3FC;\n",
              "    }\n",
              "\n",
              "    [theme=dark] .colab-df-convert:hover {\n",
              "      background-color: #434B5C;\n",
              "      box-shadow: 0px 1px 3px 1px rgba(0, 0, 0, 0.15);\n",
              "      filter: drop-shadow(0px 1px 2px rgba(0, 0, 0, 0.3));\n",
              "      fill: #FFFFFF;\n",
              "    }\n",
              "  </style>\n",
              "\n",
              "      <script>\n",
              "        const buttonEl =\n",
              "          document.querySelector('#df-b43ba2cb-ad44-4b78-a0a1-b0105d6a641a button.colab-df-convert');\n",
              "        buttonEl.style.display =\n",
              "          google.colab.kernel.accessAllowed ? 'block' : 'none';\n",
              "\n",
              "        async function convertToInteractive(key) {\n",
              "          const element = document.querySelector('#df-b43ba2cb-ad44-4b78-a0a1-b0105d6a641a');\n",
              "          const dataTable =\n",
              "            await google.colab.kernel.invokeFunction('convertToInteractive',\n",
              "                                                     [key], {});\n",
              "          if (!dataTable) return;\n",
              "\n",
              "          const docLinkHtml = 'Like what you see? Visit the ' +\n",
              "            '<a target=\"_blank\" href=https://colab.research.google.com/notebooks/data_table.ipynb>data table notebook</a>'\n",
              "            + ' to learn more about interactive tables.';\n",
              "          element.innerHTML = '';\n",
              "          dataTable['output_type'] = 'display_data';\n",
              "          await google.colab.output.renderOutput(dataTable, element);\n",
              "          const docLink = document.createElement('div');\n",
              "          docLink.innerHTML = docLinkHtml;\n",
              "          element.appendChild(docLink);\n",
              "        }\n",
              "      </script>\n",
              "    </div>\n",
              "  </div>\n",
              "  "
            ]
          },
          "metadata": {},
          "execution_count": 145
        }
      ]
    },
    {
      "cell_type": "markdown",
      "source": [
        "\n",
        "\n",
        "---\n",
        "\n",
        "There are also not so many entities with this ```fare_amount``` < $1, so I will drop them as well.\n",
        "\n",
        "---\n",
        "\n"
      ],
      "metadata": {
        "id": "uqNuyRwzgfFF"
      }
    },
    {
      "cell_type": "code",
      "source": [
        "df.drop(index=df[df.fare_amount<1].index.to_list(), inplace=True)\n",
        "print('df.shape: ', df.shape)\n",
        "df.head()"
      ],
      "metadata": {
        "colab": {
          "base_uri": "https://localhost:8080/",
          "height": 224
        },
        "id": "01YjJpTFguxq",
        "outputId": "21866f0d-046b-4f5b-ab05-0d1166a8e1e8"
      },
      "execution_count": 146,
      "outputs": [
        {
          "output_type": "stream",
          "name": "stdout",
          "text": [
            "df.shape:  (1027852, 14)\n"
          ]
        },
        {
          "output_type": "execute_result",
          "data": {
            "text/plain": [
              "   fare_amount  pickup_longitude  pickup_latitude  dropoff_longitude  \\\n",
              "0          4.5        -73.844311        40.721319         -73.841610   \n",
              "1         16.9        -74.016048        40.711303         -73.979268   \n",
              "2          5.7        -73.982738        40.761270         -73.991242   \n",
              "3          7.7        -73.987130        40.733143         -73.991567   \n",
              "4          5.3        -73.968095        40.768008         -73.956655   \n",
              "\n",
              "   dropoff_latitude  passenger_count  year  season    month  day  day_name  \\\n",
              "0         40.712278                1  2009  Summer     June   15    Monday   \n",
              "1         40.782004                1  2010  Winter  January    5   Tuesday   \n",
              "2         40.750562                2  2011  Summer   August   18  Thursday   \n",
              "3         40.758092                1  2012  Spring    April   21  Saturday   \n",
              "4         40.783762                1  2010  Spring    March    9   Tuesday   \n",
              "\n",
              "   hour  rush_hour  distance  \n",
              "0    17          1     1.031  \n",
              "1    16          1     8.450  \n",
              "2     0          0     1.390  \n",
              "3     4          0     2.799  \n",
              "4     7          1     1.999  "
            ],
            "text/html": [
              "\n",
              "  <div id=\"df-b8cf7258-a885-4108-9235-16043b7cc2cc\">\n",
              "    <div class=\"colab-df-container\">\n",
              "      <div>\n",
              "<style scoped>\n",
              "    .dataframe tbody tr th:only-of-type {\n",
              "        vertical-align: middle;\n",
              "    }\n",
              "\n",
              "    .dataframe tbody tr th {\n",
              "        vertical-align: top;\n",
              "    }\n",
              "\n",
              "    .dataframe thead th {\n",
              "        text-align: right;\n",
              "    }\n",
              "</style>\n",
              "<table border=\"1\" class=\"dataframe\">\n",
              "  <thead>\n",
              "    <tr style=\"text-align: right;\">\n",
              "      <th></th>\n",
              "      <th>fare_amount</th>\n",
              "      <th>pickup_longitude</th>\n",
              "      <th>pickup_latitude</th>\n",
              "      <th>dropoff_longitude</th>\n",
              "      <th>dropoff_latitude</th>\n",
              "      <th>passenger_count</th>\n",
              "      <th>year</th>\n",
              "      <th>season</th>\n",
              "      <th>month</th>\n",
              "      <th>day</th>\n",
              "      <th>day_name</th>\n",
              "      <th>hour</th>\n",
              "      <th>rush_hour</th>\n",
              "      <th>distance</th>\n",
              "    </tr>\n",
              "  </thead>\n",
              "  <tbody>\n",
              "    <tr>\n",
              "      <th>0</th>\n",
              "      <td>4.5</td>\n",
              "      <td>-73.844311</td>\n",
              "      <td>40.721319</td>\n",
              "      <td>-73.841610</td>\n",
              "      <td>40.712278</td>\n",
              "      <td>1</td>\n",
              "      <td>2009</td>\n",
              "      <td>Summer</td>\n",
              "      <td>June</td>\n",
              "      <td>15</td>\n",
              "      <td>Monday</td>\n",
              "      <td>17</td>\n",
              "      <td>1</td>\n",
              "      <td>1.031</td>\n",
              "    </tr>\n",
              "    <tr>\n",
              "      <th>1</th>\n",
              "      <td>16.9</td>\n",
              "      <td>-74.016048</td>\n",
              "      <td>40.711303</td>\n",
              "      <td>-73.979268</td>\n",
              "      <td>40.782004</td>\n",
              "      <td>1</td>\n",
              "      <td>2010</td>\n",
              "      <td>Winter</td>\n",
              "      <td>January</td>\n",
              "      <td>5</td>\n",
              "      <td>Tuesday</td>\n",
              "      <td>16</td>\n",
              "      <td>1</td>\n",
              "      <td>8.450</td>\n",
              "    </tr>\n",
              "    <tr>\n",
              "      <th>2</th>\n",
              "      <td>5.7</td>\n",
              "      <td>-73.982738</td>\n",
              "      <td>40.761270</td>\n",
              "      <td>-73.991242</td>\n",
              "      <td>40.750562</td>\n",
              "      <td>2</td>\n",
              "      <td>2011</td>\n",
              "      <td>Summer</td>\n",
              "      <td>August</td>\n",
              "      <td>18</td>\n",
              "      <td>Thursday</td>\n",
              "      <td>0</td>\n",
              "      <td>0</td>\n",
              "      <td>1.390</td>\n",
              "    </tr>\n",
              "    <tr>\n",
              "      <th>3</th>\n",
              "      <td>7.7</td>\n",
              "      <td>-73.987130</td>\n",
              "      <td>40.733143</td>\n",
              "      <td>-73.991567</td>\n",
              "      <td>40.758092</td>\n",
              "      <td>1</td>\n",
              "      <td>2012</td>\n",
              "      <td>Spring</td>\n",
              "      <td>April</td>\n",
              "      <td>21</td>\n",
              "      <td>Saturday</td>\n",
              "      <td>4</td>\n",
              "      <td>0</td>\n",
              "      <td>2.799</td>\n",
              "    </tr>\n",
              "    <tr>\n",
              "      <th>4</th>\n",
              "      <td>5.3</td>\n",
              "      <td>-73.968095</td>\n",
              "      <td>40.768008</td>\n",
              "      <td>-73.956655</td>\n",
              "      <td>40.783762</td>\n",
              "      <td>1</td>\n",
              "      <td>2010</td>\n",
              "      <td>Spring</td>\n",
              "      <td>March</td>\n",
              "      <td>9</td>\n",
              "      <td>Tuesday</td>\n",
              "      <td>7</td>\n",
              "      <td>1</td>\n",
              "      <td>1.999</td>\n",
              "    </tr>\n",
              "  </tbody>\n",
              "</table>\n",
              "</div>\n",
              "      <button class=\"colab-df-convert\" onclick=\"convertToInteractive('df-b8cf7258-a885-4108-9235-16043b7cc2cc')\"\n",
              "              title=\"Convert this dataframe to an interactive table.\"\n",
              "              style=\"display:none;\">\n",
              "        \n",
              "  <svg xmlns=\"http://www.w3.org/2000/svg\" height=\"24px\"viewBox=\"0 0 24 24\"\n",
              "       width=\"24px\">\n",
              "    <path d=\"M0 0h24v24H0V0z\" fill=\"none\"/>\n",
              "    <path d=\"M18.56 5.44l.94 2.06.94-2.06 2.06-.94-2.06-.94-.94-2.06-.94 2.06-2.06.94zm-11 1L8.5 8.5l.94-2.06 2.06-.94-2.06-.94L8.5 2.5l-.94 2.06-2.06.94zm10 10l.94 2.06.94-2.06 2.06-.94-2.06-.94-.94-2.06-.94 2.06-2.06.94z\"/><path d=\"M17.41 7.96l-1.37-1.37c-.4-.4-.92-.59-1.43-.59-.52 0-1.04.2-1.43.59L10.3 9.45l-7.72 7.72c-.78.78-.78 2.05 0 2.83L4 21.41c.39.39.9.59 1.41.59.51 0 1.02-.2 1.41-.59l7.78-7.78 2.81-2.81c.8-.78.8-2.07 0-2.86zM5.41 20L4 18.59l7.72-7.72 1.47 1.35L5.41 20z\"/>\n",
              "  </svg>\n",
              "      </button>\n",
              "      \n",
              "  <style>\n",
              "    .colab-df-container {\n",
              "      display:flex;\n",
              "      flex-wrap:wrap;\n",
              "      gap: 12px;\n",
              "    }\n",
              "\n",
              "    .colab-df-convert {\n",
              "      background-color: #E8F0FE;\n",
              "      border: none;\n",
              "      border-radius: 50%;\n",
              "      cursor: pointer;\n",
              "      display: none;\n",
              "      fill: #1967D2;\n",
              "      height: 32px;\n",
              "      padding: 0 0 0 0;\n",
              "      width: 32px;\n",
              "    }\n",
              "\n",
              "    .colab-df-convert:hover {\n",
              "      background-color: #E2EBFA;\n",
              "      box-shadow: 0px 1px 2px rgba(60, 64, 67, 0.3), 0px 1px 3px 1px rgba(60, 64, 67, 0.15);\n",
              "      fill: #174EA6;\n",
              "    }\n",
              "\n",
              "    [theme=dark] .colab-df-convert {\n",
              "      background-color: #3B4455;\n",
              "      fill: #D2E3FC;\n",
              "    }\n",
              "\n",
              "    [theme=dark] .colab-df-convert:hover {\n",
              "      background-color: #434B5C;\n",
              "      box-shadow: 0px 1px 3px 1px rgba(0, 0, 0, 0.15);\n",
              "      filter: drop-shadow(0px 1px 2px rgba(0, 0, 0, 0.3));\n",
              "      fill: #FFFFFF;\n",
              "    }\n",
              "  </style>\n",
              "\n",
              "      <script>\n",
              "        const buttonEl =\n",
              "          document.querySelector('#df-b8cf7258-a885-4108-9235-16043b7cc2cc button.colab-df-convert');\n",
              "        buttonEl.style.display =\n",
              "          google.colab.kernel.accessAllowed ? 'block' : 'none';\n",
              "\n",
              "        async function convertToInteractive(key) {\n",
              "          const element = document.querySelector('#df-b8cf7258-a885-4108-9235-16043b7cc2cc');\n",
              "          const dataTable =\n",
              "            await google.colab.kernel.invokeFunction('convertToInteractive',\n",
              "                                                     [key], {});\n",
              "          if (!dataTable) return;\n",
              "\n",
              "          const docLinkHtml = 'Like what you see? Visit the ' +\n",
              "            '<a target=\"_blank\" href=https://colab.research.google.com/notebooks/data_table.ipynb>data table notebook</a>'\n",
              "            + ' to learn more about interactive tables.';\n",
              "          element.innerHTML = '';\n",
              "          dataTable['output_type'] = 'display_data';\n",
              "          await google.colab.output.renderOutput(dataTable, element);\n",
              "          const docLink = document.createElement('div');\n",
              "          docLink.innerHTML = docLinkHtml;\n",
              "          element.appendChild(docLink);\n",
              "        }\n",
              "      </script>\n",
              "    </div>\n",
              "  </div>\n",
              "  "
            ]
          },
          "metadata": {},
          "execution_count": 146
        }
      ]
    },
    {
      "cell_type": "code",
      "source": [
        "df.fare_amount.describe()"
      ],
      "metadata": {
        "colab": {
          "base_uri": "https://localhost:8080/"
        },
        "id": "JrVXddU5g2Y5",
        "outputId": "b4041ebe-a860-4e5d-b08d-58a907e660c8"
      },
      "execution_count": 147,
      "outputs": [
        {
          "output_type": "execute_result",
          "data": {
            "text/plain": [
              "count    1.027852e+06\n",
              "mean     1.133101e+01\n",
              "std      9.745788e+00\n",
              "min      2.500000e+00\n",
              "25%      6.000000e+00\n",
              "50%      8.500000e+00\n",
              "75%      1.250000e+01\n",
              "max      5.000000e+02\n",
              "Name: fare_amount, dtype: float64"
            ]
          },
          "metadata": {},
          "execution_count": 147
        }
      ]
    },
    {
      "cell_type": "markdown",
      "source": [
        "\n",
        "\n",
        "---\n",
        "\n",
        "Finally, ```fare_amount```  *min* looks realistic.\n",
        "\n",
        "---\n",
        "\n",
        "\n",
        "\n"
      ],
      "metadata": {
        "id": "o0f8XMZIg4pF"
      }
    },
    {
      "cell_type": "markdown",
      "source": [
        "### Passenger_count Feature Values"
      ],
      "metadata": {
        "id": "4S67Ob0OAujq"
      }
    },
    {
      "cell_type": "markdown",
      "source": [
        "Let's check how many unique values ```passenger_count``` column has.\n",
        "\n",
        "---"
      ],
      "metadata": {
        "id": "kvRREE8LA9xG"
      }
    },
    {
      "cell_type": "code",
      "source": [
        "df.passenger_count.unique()"
      ],
      "metadata": {
        "colab": {
          "base_uri": "https://localhost:8080/"
        },
        "id": "_lsbK5ZNA-nw",
        "outputId": "dc11ff6f-2dec-4b20-e631-ed060cf9b0aa"
      },
      "execution_count": 148,
      "outputs": [
        {
          "output_type": "execute_result",
          "data": {
            "text/plain": [
              "array([1, 2, 3, 6, 5, 4, 0, 9])"
            ]
          },
          "metadata": {},
          "execution_count": 148
        }
      ]
    },
    {
      "cell_type": "markdown",
      "source": [
        "---\n",
        "\n",
        "With assumption that the largest car that can work in taxi is a mini van with 6 possible passengers, I can determine that ```passenger_count``` column should have values in range (1,6).\n",
        "\n",
        "As shown the data has 2 additional number of passengers: 0 and 9. Let's see how many entities have these values.\n",
        "\n",
        "---"
      ],
      "metadata": {
        "id": "majvBB5pBUX3"
      }
    },
    {
      "cell_type": "code",
      "source": [
        "print('0 passengers: {}\\n9 passengers: {}'.format(df[df.passenger_count==0].shape[0], df[df.passenger_count==9].shape[0]))"
      ],
      "metadata": {
        "colab": {
          "base_uri": "https://localhost:8080/"
        },
        "id": "3Gz6KD3vCi7E",
        "outputId": "6a80401e-2457-48b1-cf26-2839656bd173"
      },
      "execution_count": 149,
      "outputs": [
        {
          "output_type": "stream",
          "name": "stdout",
          "text": [
            "0 passengers: 3639\n",
            "9 passengers: 1\n"
          ]
        }
      ]
    },
    {
      "cell_type": "markdown",
      "source": [
        "\n",
        "\n",
        "\n",
        "---\n",
        "\n",
        "As shown there are just 1 entity with more passengers than 6, we can drop this entity.\n",
        "\n",
        "But there are a lot entities with 0 passengers. As long as taxi ride can't be without a passenger, we will place 1 passenger to each of those rides.\n",
        "\n",
        "---\n",
        "\n"
      ],
      "metadata": {
        "id": "8W6GOg6KC_3i"
      }
    },
    {
      "cell_type": "code",
      "source": [
        "df = df[df.passenger_count<7] #drop rows with passenger_count > 6\n",
        "df.passenger_count.replace(0,1, inplace=True) #replacing 0 with 1\n",
        "\n",
        "print('df.shape: ', df.shape)\n",
        "df.head()"
      ],
      "metadata": {
        "colab": {
          "base_uri": "https://localhost:8080/",
          "height": 310
        },
        "id": "a-tIZNOhDnNx",
        "outputId": "802172c2-018a-4a53-ecb0-b3da02f219eb"
      },
      "execution_count": 150,
      "outputs": [
        {
          "output_type": "stream",
          "name": "stdout",
          "text": [
            "df.shape:  (1027851, 14)\n"
          ]
        },
        {
          "output_type": "stream",
          "name": "stderr",
          "text": [
            "/usr/local/lib/python3.8/dist-packages/pandas/core/generic.py:6619: SettingWithCopyWarning: \n",
            "A value is trying to be set on a copy of a slice from a DataFrame\n",
            "\n",
            "See the caveats in the documentation: https://pandas.pydata.org/pandas-docs/stable/user_guide/indexing.html#returning-a-view-versus-a-copy\n",
            "  return self._update_inplace(result)\n"
          ]
        },
        {
          "output_type": "execute_result",
          "data": {
            "text/plain": [
              "   fare_amount  pickup_longitude  pickup_latitude  dropoff_longitude  \\\n",
              "0          4.5        -73.844311        40.721319         -73.841610   \n",
              "1         16.9        -74.016048        40.711303         -73.979268   \n",
              "2          5.7        -73.982738        40.761270         -73.991242   \n",
              "3          7.7        -73.987130        40.733143         -73.991567   \n",
              "4          5.3        -73.968095        40.768008         -73.956655   \n",
              "\n",
              "   dropoff_latitude  passenger_count  year  season    month  day  day_name  \\\n",
              "0         40.712278                1  2009  Summer     June   15    Monday   \n",
              "1         40.782004                1  2010  Winter  January    5   Tuesday   \n",
              "2         40.750562                2  2011  Summer   August   18  Thursday   \n",
              "3         40.758092                1  2012  Spring    April   21  Saturday   \n",
              "4         40.783762                1  2010  Spring    March    9   Tuesday   \n",
              "\n",
              "   hour  rush_hour  distance  \n",
              "0    17          1     1.031  \n",
              "1    16          1     8.450  \n",
              "2     0          0     1.390  \n",
              "3     4          0     2.799  \n",
              "4     7          1     1.999  "
            ],
            "text/html": [
              "\n",
              "  <div id=\"df-f83e3abd-f745-4195-ade7-827d8fb98830\">\n",
              "    <div class=\"colab-df-container\">\n",
              "      <div>\n",
              "<style scoped>\n",
              "    .dataframe tbody tr th:only-of-type {\n",
              "        vertical-align: middle;\n",
              "    }\n",
              "\n",
              "    .dataframe tbody tr th {\n",
              "        vertical-align: top;\n",
              "    }\n",
              "\n",
              "    .dataframe thead th {\n",
              "        text-align: right;\n",
              "    }\n",
              "</style>\n",
              "<table border=\"1\" class=\"dataframe\">\n",
              "  <thead>\n",
              "    <tr style=\"text-align: right;\">\n",
              "      <th></th>\n",
              "      <th>fare_amount</th>\n",
              "      <th>pickup_longitude</th>\n",
              "      <th>pickup_latitude</th>\n",
              "      <th>dropoff_longitude</th>\n",
              "      <th>dropoff_latitude</th>\n",
              "      <th>passenger_count</th>\n",
              "      <th>year</th>\n",
              "      <th>season</th>\n",
              "      <th>month</th>\n",
              "      <th>day</th>\n",
              "      <th>day_name</th>\n",
              "      <th>hour</th>\n",
              "      <th>rush_hour</th>\n",
              "      <th>distance</th>\n",
              "    </tr>\n",
              "  </thead>\n",
              "  <tbody>\n",
              "    <tr>\n",
              "      <th>0</th>\n",
              "      <td>4.5</td>\n",
              "      <td>-73.844311</td>\n",
              "      <td>40.721319</td>\n",
              "      <td>-73.841610</td>\n",
              "      <td>40.712278</td>\n",
              "      <td>1</td>\n",
              "      <td>2009</td>\n",
              "      <td>Summer</td>\n",
              "      <td>June</td>\n",
              "      <td>15</td>\n",
              "      <td>Monday</td>\n",
              "      <td>17</td>\n",
              "      <td>1</td>\n",
              "      <td>1.031</td>\n",
              "    </tr>\n",
              "    <tr>\n",
              "      <th>1</th>\n",
              "      <td>16.9</td>\n",
              "      <td>-74.016048</td>\n",
              "      <td>40.711303</td>\n",
              "      <td>-73.979268</td>\n",
              "      <td>40.782004</td>\n",
              "      <td>1</td>\n",
              "      <td>2010</td>\n",
              "      <td>Winter</td>\n",
              "      <td>January</td>\n",
              "      <td>5</td>\n",
              "      <td>Tuesday</td>\n",
              "      <td>16</td>\n",
              "      <td>1</td>\n",
              "      <td>8.450</td>\n",
              "    </tr>\n",
              "    <tr>\n",
              "      <th>2</th>\n",
              "      <td>5.7</td>\n",
              "      <td>-73.982738</td>\n",
              "      <td>40.761270</td>\n",
              "      <td>-73.991242</td>\n",
              "      <td>40.750562</td>\n",
              "      <td>2</td>\n",
              "      <td>2011</td>\n",
              "      <td>Summer</td>\n",
              "      <td>August</td>\n",
              "      <td>18</td>\n",
              "      <td>Thursday</td>\n",
              "      <td>0</td>\n",
              "      <td>0</td>\n",
              "      <td>1.390</td>\n",
              "    </tr>\n",
              "    <tr>\n",
              "      <th>3</th>\n",
              "      <td>7.7</td>\n",
              "      <td>-73.987130</td>\n",
              "      <td>40.733143</td>\n",
              "      <td>-73.991567</td>\n",
              "      <td>40.758092</td>\n",
              "      <td>1</td>\n",
              "      <td>2012</td>\n",
              "      <td>Spring</td>\n",
              "      <td>April</td>\n",
              "      <td>21</td>\n",
              "      <td>Saturday</td>\n",
              "      <td>4</td>\n",
              "      <td>0</td>\n",
              "      <td>2.799</td>\n",
              "    </tr>\n",
              "    <tr>\n",
              "      <th>4</th>\n",
              "      <td>5.3</td>\n",
              "      <td>-73.968095</td>\n",
              "      <td>40.768008</td>\n",
              "      <td>-73.956655</td>\n",
              "      <td>40.783762</td>\n",
              "      <td>1</td>\n",
              "      <td>2010</td>\n",
              "      <td>Spring</td>\n",
              "      <td>March</td>\n",
              "      <td>9</td>\n",
              "      <td>Tuesday</td>\n",
              "      <td>7</td>\n",
              "      <td>1</td>\n",
              "      <td>1.999</td>\n",
              "    </tr>\n",
              "  </tbody>\n",
              "</table>\n",
              "</div>\n",
              "      <button class=\"colab-df-convert\" onclick=\"convertToInteractive('df-f83e3abd-f745-4195-ade7-827d8fb98830')\"\n",
              "              title=\"Convert this dataframe to an interactive table.\"\n",
              "              style=\"display:none;\">\n",
              "        \n",
              "  <svg xmlns=\"http://www.w3.org/2000/svg\" height=\"24px\"viewBox=\"0 0 24 24\"\n",
              "       width=\"24px\">\n",
              "    <path d=\"M0 0h24v24H0V0z\" fill=\"none\"/>\n",
              "    <path d=\"M18.56 5.44l.94 2.06.94-2.06 2.06-.94-2.06-.94-.94-2.06-.94 2.06-2.06.94zm-11 1L8.5 8.5l.94-2.06 2.06-.94-2.06-.94L8.5 2.5l-.94 2.06-2.06.94zm10 10l.94 2.06.94-2.06 2.06-.94-2.06-.94-.94-2.06-.94 2.06-2.06.94z\"/><path d=\"M17.41 7.96l-1.37-1.37c-.4-.4-.92-.59-1.43-.59-.52 0-1.04.2-1.43.59L10.3 9.45l-7.72 7.72c-.78.78-.78 2.05 0 2.83L4 21.41c.39.39.9.59 1.41.59.51 0 1.02-.2 1.41-.59l7.78-7.78 2.81-2.81c.8-.78.8-2.07 0-2.86zM5.41 20L4 18.59l7.72-7.72 1.47 1.35L5.41 20z\"/>\n",
              "  </svg>\n",
              "      </button>\n",
              "      \n",
              "  <style>\n",
              "    .colab-df-container {\n",
              "      display:flex;\n",
              "      flex-wrap:wrap;\n",
              "      gap: 12px;\n",
              "    }\n",
              "\n",
              "    .colab-df-convert {\n",
              "      background-color: #E8F0FE;\n",
              "      border: none;\n",
              "      border-radius: 50%;\n",
              "      cursor: pointer;\n",
              "      display: none;\n",
              "      fill: #1967D2;\n",
              "      height: 32px;\n",
              "      padding: 0 0 0 0;\n",
              "      width: 32px;\n",
              "    }\n",
              "\n",
              "    .colab-df-convert:hover {\n",
              "      background-color: #E2EBFA;\n",
              "      box-shadow: 0px 1px 2px rgba(60, 64, 67, 0.3), 0px 1px 3px 1px rgba(60, 64, 67, 0.15);\n",
              "      fill: #174EA6;\n",
              "    }\n",
              "\n",
              "    [theme=dark] .colab-df-convert {\n",
              "      background-color: #3B4455;\n",
              "      fill: #D2E3FC;\n",
              "    }\n",
              "\n",
              "    [theme=dark] .colab-df-convert:hover {\n",
              "      background-color: #434B5C;\n",
              "      box-shadow: 0px 1px 3px 1px rgba(0, 0, 0, 0.15);\n",
              "      filter: drop-shadow(0px 1px 2px rgba(0, 0, 0, 0.3));\n",
              "      fill: #FFFFFF;\n",
              "    }\n",
              "  </style>\n",
              "\n",
              "      <script>\n",
              "        const buttonEl =\n",
              "          document.querySelector('#df-f83e3abd-f745-4195-ade7-827d8fb98830 button.colab-df-convert');\n",
              "        buttonEl.style.display =\n",
              "          google.colab.kernel.accessAllowed ? 'block' : 'none';\n",
              "\n",
              "        async function convertToInteractive(key) {\n",
              "          const element = document.querySelector('#df-f83e3abd-f745-4195-ade7-827d8fb98830');\n",
              "          const dataTable =\n",
              "            await google.colab.kernel.invokeFunction('convertToInteractive',\n",
              "                                                     [key], {});\n",
              "          if (!dataTable) return;\n",
              "\n",
              "          const docLinkHtml = 'Like what you see? Visit the ' +\n",
              "            '<a target=\"_blank\" href=https://colab.research.google.com/notebooks/data_table.ipynb>data table notebook</a>'\n",
              "            + ' to learn more about interactive tables.';\n",
              "          element.innerHTML = '';\n",
              "          dataTable['output_type'] = 'display_data';\n",
              "          await google.colab.output.renderOutput(dataTable, element);\n",
              "          const docLink = document.createElement('div');\n",
              "          docLink.innerHTML = docLinkHtml;\n",
              "          element.appendChild(docLink);\n",
              "        }\n",
              "      </script>\n",
              "    </div>\n",
              "  </div>\n",
              "  "
            ]
          },
          "metadata": {},
          "execution_count": 150
        }
      ]
    },
    {
      "cell_type": "code",
      "source": [
        "df.passenger_count.describe()"
      ],
      "metadata": {
        "colab": {
          "base_uri": "https://localhost:8080/"
        },
        "id": "mS8eH1bADgEy",
        "outputId": "01197ad0-f970-459c-a13d-8ce6e3cd73d8"
      },
      "execution_count": 151,
      "outputs": [
        {
          "output_type": "execute_result",
          "data": {
            "text/plain": [
              "count    1.027851e+06\n",
              "mean     1.688790e+00\n",
              "std      1.304756e+00\n",
              "min      1.000000e+00\n",
              "25%      1.000000e+00\n",
              "50%      1.000000e+00\n",
              "75%      2.000000e+00\n",
              "max      6.000000e+00\n",
              "Name: passenger_count, dtype: float64"
            ]
          },
          "metadata": {},
          "execution_count": 151
        }
      ]
    },
    {
      "cell_type": "markdown",
      "source": [
        "\n",
        "\n",
        "---\n",
        "\n",
        "```passenger_count``` column has *min* 1 passenger and *max* 6 passengers.\n",
        "\n",
        "---\n",
        "\n"
      ],
      "metadata": {
        "id": "hY3oWvhfEShX"
      }
    },
    {
      "cell_type": "markdown",
      "source": [
        "### Distance Feature Values"
      ],
      "metadata": {
        "id": "OfgTx8Nbrf5V"
      }
    },
    {
      "cell_type": "code",
      "source": [
        "df.distance.describe()"
      ],
      "metadata": {
        "colab": {
          "base_uri": "https://localhost:8080/"
        },
        "id": "CKnQxDlof072",
        "outputId": "3ce14efe-b96e-440b-81a4-a16e52898a7c"
      },
      "execution_count": 152,
      "outputs": [
        {
          "output_type": "execute_result",
          "data": {
            "text/plain": [
              "count    1.027851e+06\n",
              "mean     4.395349e+00\n",
              "std      7.550567e+01\n",
              "min      0.000000e+00\n",
              "25%      1.254000e+00\n",
              "50%      2.153000e+00\n",
              "75%      3.918000e+00\n",
              "max      1.259472e+04\n",
              "Name: distance, dtype: float64"
            ]
          },
          "metadata": {},
          "execution_count": 152
        }
      ]
    },
    {
      "cell_type": "markdown",
      "source": [
        "\n",
        "\n",
        "---\n",
        "\n",
        "As we can see *min* of ```distance``` column is zero. What makes me think there are some mistaken coordinates in the data which shouldn't be used in model training. That's why I will drop entities connected with them.\n",
        "\n",
        "\n",
        "---\n",
        "\n"
      ],
      "metadata": {
        "id": "4GAiJA9chrxF"
      }
    },
    {
      "cell_type": "code",
      "source": [
        "df[df.distance==0].shape"
      ],
      "metadata": {
        "colab": {
          "base_uri": "https://localhost:8080/"
        },
        "id": "ExmiXa-FwlSF",
        "outputId": "bdff5fa1-3cc0-424d-d793-ffc8fd927fa9"
      },
      "execution_count": 153,
      "outputs": [
        {
          "output_type": "execute_result",
          "data": {
            "text/plain": [
              "(11494, 14)"
            ]
          },
          "metadata": {},
          "execution_count": 153
        }
      ]
    },
    {
      "cell_type": "code",
      "source": [
        "df[df.distance==0][['fare_amount', 'distance']].head()"
      ],
      "metadata": {
        "colab": {
          "base_uri": "https://localhost:8080/",
          "height": 206
        },
        "id": "Xtuy4EKTv4N5",
        "outputId": "b6a42afc-5a25-4167-f550-79a6f9bc26db"
      },
      "execution_count": 154,
      "outputs": [
        {
          "output_type": "execute_result",
          "data": {
            "text/plain": [
              "     fare_amount  distance\n",
              "105         52.0       0.0\n",
              "191          6.5       0.0\n",
              "270          7.5       0.0\n",
              "290          6.9       0.0\n",
              "396         12.0       0.0"
            ],
            "text/html": [
              "\n",
              "  <div id=\"df-15df8df6-6c8d-4525-9a4c-a40fca87ce69\">\n",
              "    <div class=\"colab-df-container\">\n",
              "      <div>\n",
              "<style scoped>\n",
              "    .dataframe tbody tr th:only-of-type {\n",
              "        vertical-align: middle;\n",
              "    }\n",
              "\n",
              "    .dataframe tbody tr th {\n",
              "        vertical-align: top;\n",
              "    }\n",
              "\n",
              "    .dataframe thead th {\n",
              "        text-align: right;\n",
              "    }\n",
              "</style>\n",
              "<table border=\"1\" class=\"dataframe\">\n",
              "  <thead>\n",
              "    <tr style=\"text-align: right;\">\n",
              "      <th></th>\n",
              "      <th>fare_amount</th>\n",
              "      <th>distance</th>\n",
              "    </tr>\n",
              "  </thead>\n",
              "  <tbody>\n",
              "    <tr>\n",
              "      <th>105</th>\n",
              "      <td>52.0</td>\n",
              "      <td>0.0</td>\n",
              "    </tr>\n",
              "    <tr>\n",
              "      <th>191</th>\n",
              "      <td>6.5</td>\n",
              "      <td>0.0</td>\n",
              "    </tr>\n",
              "    <tr>\n",
              "      <th>270</th>\n",
              "      <td>7.5</td>\n",
              "      <td>0.0</td>\n",
              "    </tr>\n",
              "    <tr>\n",
              "      <th>290</th>\n",
              "      <td>6.9</td>\n",
              "      <td>0.0</td>\n",
              "    </tr>\n",
              "    <tr>\n",
              "      <th>396</th>\n",
              "      <td>12.0</td>\n",
              "      <td>0.0</td>\n",
              "    </tr>\n",
              "  </tbody>\n",
              "</table>\n",
              "</div>\n",
              "      <button class=\"colab-df-convert\" onclick=\"convertToInteractive('df-15df8df6-6c8d-4525-9a4c-a40fca87ce69')\"\n",
              "              title=\"Convert this dataframe to an interactive table.\"\n",
              "              style=\"display:none;\">\n",
              "        \n",
              "  <svg xmlns=\"http://www.w3.org/2000/svg\" height=\"24px\"viewBox=\"0 0 24 24\"\n",
              "       width=\"24px\">\n",
              "    <path d=\"M0 0h24v24H0V0z\" fill=\"none\"/>\n",
              "    <path d=\"M18.56 5.44l.94 2.06.94-2.06 2.06-.94-2.06-.94-.94-2.06-.94 2.06-2.06.94zm-11 1L8.5 8.5l.94-2.06 2.06-.94-2.06-.94L8.5 2.5l-.94 2.06-2.06.94zm10 10l.94 2.06.94-2.06 2.06-.94-2.06-.94-.94-2.06-.94 2.06-2.06.94z\"/><path d=\"M17.41 7.96l-1.37-1.37c-.4-.4-.92-.59-1.43-.59-.52 0-1.04.2-1.43.59L10.3 9.45l-7.72 7.72c-.78.78-.78 2.05 0 2.83L4 21.41c.39.39.9.59 1.41.59.51 0 1.02-.2 1.41-.59l7.78-7.78 2.81-2.81c.8-.78.8-2.07 0-2.86zM5.41 20L4 18.59l7.72-7.72 1.47 1.35L5.41 20z\"/>\n",
              "  </svg>\n",
              "      </button>\n",
              "      \n",
              "  <style>\n",
              "    .colab-df-container {\n",
              "      display:flex;\n",
              "      flex-wrap:wrap;\n",
              "      gap: 12px;\n",
              "    }\n",
              "\n",
              "    .colab-df-convert {\n",
              "      background-color: #E8F0FE;\n",
              "      border: none;\n",
              "      border-radius: 50%;\n",
              "      cursor: pointer;\n",
              "      display: none;\n",
              "      fill: #1967D2;\n",
              "      height: 32px;\n",
              "      padding: 0 0 0 0;\n",
              "      width: 32px;\n",
              "    }\n",
              "\n",
              "    .colab-df-convert:hover {\n",
              "      background-color: #E2EBFA;\n",
              "      box-shadow: 0px 1px 2px rgba(60, 64, 67, 0.3), 0px 1px 3px 1px rgba(60, 64, 67, 0.15);\n",
              "      fill: #174EA6;\n",
              "    }\n",
              "\n",
              "    [theme=dark] .colab-df-convert {\n",
              "      background-color: #3B4455;\n",
              "      fill: #D2E3FC;\n",
              "    }\n",
              "\n",
              "    [theme=dark] .colab-df-convert:hover {\n",
              "      background-color: #434B5C;\n",
              "      box-shadow: 0px 1px 3px 1px rgba(0, 0, 0, 0.15);\n",
              "      filter: drop-shadow(0px 1px 2px rgba(0, 0, 0, 0.3));\n",
              "      fill: #FFFFFF;\n",
              "    }\n",
              "  </style>\n",
              "\n",
              "      <script>\n",
              "        const buttonEl =\n",
              "          document.querySelector('#df-15df8df6-6c8d-4525-9a4c-a40fca87ce69 button.colab-df-convert');\n",
              "        buttonEl.style.display =\n",
              "          google.colab.kernel.accessAllowed ? 'block' : 'none';\n",
              "\n",
              "        async function convertToInteractive(key) {\n",
              "          const element = document.querySelector('#df-15df8df6-6c8d-4525-9a4c-a40fca87ce69');\n",
              "          const dataTable =\n",
              "            await google.colab.kernel.invokeFunction('convertToInteractive',\n",
              "                                                     [key], {});\n",
              "          if (!dataTable) return;\n",
              "\n",
              "          const docLinkHtml = 'Like what you see? Visit the ' +\n",
              "            '<a target=\"_blank\" href=https://colab.research.google.com/notebooks/data_table.ipynb>data table notebook</a>'\n",
              "            + ' to learn more about interactive tables.';\n",
              "          element.innerHTML = '';\n",
              "          dataTable['output_type'] = 'display_data';\n",
              "          await google.colab.output.renderOutput(dataTable, element);\n",
              "          const docLink = document.createElement('div');\n",
              "          docLink.innerHTML = docLinkHtml;\n",
              "          element.appendChild(docLink);\n",
              "        }\n",
              "      </script>\n",
              "    </div>\n",
              "  </div>\n",
              "  "
            ]
          },
          "metadata": {},
          "execution_count": 154
        }
      ]
    },
    {
      "cell_type": "markdown",
      "source": [
        "\n",
        "\n",
        "---\n",
        "\n",
        "As shown there are rides with zero distance but not zero fare amount. That's why I can make an assumption that data was colllected not correctly. As long as I can't get info to fill these gaps from any source and this can influent future model I will drop the whole entity connected to particular zero (about 1.1% of the data).\n",
        "\n",
        "---\n",
        "\n"
      ],
      "metadata": {
        "id": "7KKSYTB9waxG"
      }
    },
    {
      "cell_type": "code",
      "source": [
        "df = df[df.distance > 0]\n",
        "print('df.shape: ', df.shape)\n",
        "df.head()"
      ],
      "metadata": {
        "colab": {
          "base_uri": "https://localhost:8080/",
          "height": 224
        },
        "id": "c8m23jLev7c7",
        "outputId": "f31f53ba-c59d-4a94-f9f0-c1f8b2dacd44"
      },
      "execution_count": 157,
      "outputs": [
        {
          "output_type": "stream",
          "name": "stdout",
          "text": [
            "df.shape:  (1016357, 14)\n"
          ]
        },
        {
          "output_type": "execute_result",
          "data": {
            "text/plain": [
              "   fare_amount  pickup_longitude  pickup_latitude  dropoff_longitude  \\\n",
              "0          4.5        -73.844311        40.721319         -73.841610   \n",
              "1         16.9        -74.016048        40.711303         -73.979268   \n",
              "2          5.7        -73.982738        40.761270         -73.991242   \n",
              "3          7.7        -73.987130        40.733143         -73.991567   \n",
              "4          5.3        -73.968095        40.768008         -73.956655   \n",
              "\n",
              "   dropoff_latitude  passenger_count  year  season    month  day  day_name  \\\n",
              "0         40.712278                1  2009  Summer     June   15    Monday   \n",
              "1         40.782004                1  2010  Winter  January    5   Tuesday   \n",
              "2         40.750562                2  2011  Summer   August   18  Thursday   \n",
              "3         40.758092                1  2012  Spring    April   21  Saturday   \n",
              "4         40.783762                1  2010  Spring    March    9   Tuesday   \n",
              "\n",
              "   hour  rush_hour  distance  \n",
              "0    17          1     1.031  \n",
              "1    16          1     8.450  \n",
              "2     0          0     1.390  \n",
              "3     4          0     2.799  \n",
              "4     7          1     1.999  "
            ],
            "text/html": [
              "\n",
              "  <div id=\"df-af8445c9-61a8-463f-8443-2719eb9d4ab3\">\n",
              "    <div class=\"colab-df-container\">\n",
              "      <div>\n",
              "<style scoped>\n",
              "    .dataframe tbody tr th:only-of-type {\n",
              "        vertical-align: middle;\n",
              "    }\n",
              "\n",
              "    .dataframe tbody tr th {\n",
              "        vertical-align: top;\n",
              "    }\n",
              "\n",
              "    .dataframe thead th {\n",
              "        text-align: right;\n",
              "    }\n",
              "</style>\n",
              "<table border=\"1\" class=\"dataframe\">\n",
              "  <thead>\n",
              "    <tr style=\"text-align: right;\">\n",
              "      <th></th>\n",
              "      <th>fare_amount</th>\n",
              "      <th>pickup_longitude</th>\n",
              "      <th>pickup_latitude</th>\n",
              "      <th>dropoff_longitude</th>\n",
              "      <th>dropoff_latitude</th>\n",
              "      <th>passenger_count</th>\n",
              "      <th>year</th>\n",
              "      <th>season</th>\n",
              "      <th>month</th>\n",
              "      <th>day</th>\n",
              "      <th>day_name</th>\n",
              "      <th>hour</th>\n",
              "      <th>rush_hour</th>\n",
              "      <th>distance</th>\n",
              "    </tr>\n",
              "  </thead>\n",
              "  <tbody>\n",
              "    <tr>\n",
              "      <th>0</th>\n",
              "      <td>4.5</td>\n",
              "      <td>-73.844311</td>\n",
              "      <td>40.721319</td>\n",
              "      <td>-73.841610</td>\n",
              "      <td>40.712278</td>\n",
              "      <td>1</td>\n",
              "      <td>2009</td>\n",
              "      <td>Summer</td>\n",
              "      <td>June</td>\n",
              "      <td>15</td>\n",
              "      <td>Monday</td>\n",
              "      <td>17</td>\n",
              "      <td>1</td>\n",
              "      <td>1.031</td>\n",
              "    </tr>\n",
              "    <tr>\n",
              "      <th>1</th>\n",
              "      <td>16.9</td>\n",
              "      <td>-74.016048</td>\n",
              "      <td>40.711303</td>\n",
              "      <td>-73.979268</td>\n",
              "      <td>40.782004</td>\n",
              "      <td>1</td>\n",
              "      <td>2010</td>\n",
              "      <td>Winter</td>\n",
              "      <td>January</td>\n",
              "      <td>5</td>\n",
              "      <td>Tuesday</td>\n",
              "      <td>16</td>\n",
              "      <td>1</td>\n",
              "      <td>8.450</td>\n",
              "    </tr>\n",
              "    <tr>\n",
              "      <th>2</th>\n",
              "      <td>5.7</td>\n",
              "      <td>-73.982738</td>\n",
              "      <td>40.761270</td>\n",
              "      <td>-73.991242</td>\n",
              "      <td>40.750562</td>\n",
              "      <td>2</td>\n",
              "      <td>2011</td>\n",
              "      <td>Summer</td>\n",
              "      <td>August</td>\n",
              "      <td>18</td>\n",
              "      <td>Thursday</td>\n",
              "      <td>0</td>\n",
              "      <td>0</td>\n",
              "      <td>1.390</td>\n",
              "    </tr>\n",
              "    <tr>\n",
              "      <th>3</th>\n",
              "      <td>7.7</td>\n",
              "      <td>-73.987130</td>\n",
              "      <td>40.733143</td>\n",
              "      <td>-73.991567</td>\n",
              "      <td>40.758092</td>\n",
              "      <td>1</td>\n",
              "      <td>2012</td>\n",
              "      <td>Spring</td>\n",
              "      <td>April</td>\n",
              "      <td>21</td>\n",
              "      <td>Saturday</td>\n",
              "      <td>4</td>\n",
              "      <td>0</td>\n",
              "      <td>2.799</td>\n",
              "    </tr>\n",
              "    <tr>\n",
              "      <th>4</th>\n",
              "      <td>5.3</td>\n",
              "      <td>-73.968095</td>\n",
              "      <td>40.768008</td>\n",
              "      <td>-73.956655</td>\n",
              "      <td>40.783762</td>\n",
              "      <td>1</td>\n",
              "      <td>2010</td>\n",
              "      <td>Spring</td>\n",
              "      <td>March</td>\n",
              "      <td>9</td>\n",
              "      <td>Tuesday</td>\n",
              "      <td>7</td>\n",
              "      <td>1</td>\n",
              "      <td>1.999</td>\n",
              "    </tr>\n",
              "  </tbody>\n",
              "</table>\n",
              "</div>\n",
              "      <button class=\"colab-df-convert\" onclick=\"convertToInteractive('df-af8445c9-61a8-463f-8443-2719eb9d4ab3')\"\n",
              "              title=\"Convert this dataframe to an interactive table.\"\n",
              "              style=\"display:none;\">\n",
              "        \n",
              "  <svg xmlns=\"http://www.w3.org/2000/svg\" height=\"24px\"viewBox=\"0 0 24 24\"\n",
              "       width=\"24px\">\n",
              "    <path d=\"M0 0h24v24H0V0z\" fill=\"none\"/>\n",
              "    <path d=\"M18.56 5.44l.94 2.06.94-2.06 2.06-.94-2.06-.94-.94-2.06-.94 2.06-2.06.94zm-11 1L8.5 8.5l.94-2.06 2.06-.94-2.06-.94L8.5 2.5l-.94 2.06-2.06.94zm10 10l.94 2.06.94-2.06 2.06-.94-2.06-.94-.94-2.06-.94 2.06-2.06.94z\"/><path d=\"M17.41 7.96l-1.37-1.37c-.4-.4-.92-.59-1.43-.59-.52 0-1.04.2-1.43.59L10.3 9.45l-7.72 7.72c-.78.78-.78 2.05 0 2.83L4 21.41c.39.39.9.59 1.41.59.51 0 1.02-.2 1.41-.59l7.78-7.78 2.81-2.81c.8-.78.8-2.07 0-2.86zM5.41 20L4 18.59l7.72-7.72 1.47 1.35L5.41 20z\"/>\n",
              "  </svg>\n",
              "      </button>\n",
              "      \n",
              "  <style>\n",
              "    .colab-df-container {\n",
              "      display:flex;\n",
              "      flex-wrap:wrap;\n",
              "      gap: 12px;\n",
              "    }\n",
              "\n",
              "    .colab-df-convert {\n",
              "      background-color: #E8F0FE;\n",
              "      border: none;\n",
              "      border-radius: 50%;\n",
              "      cursor: pointer;\n",
              "      display: none;\n",
              "      fill: #1967D2;\n",
              "      height: 32px;\n",
              "      padding: 0 0 0 0;\n",
              "      width: 32px;\n",
              "    }\n",
              "\n",
              "    .colab-df-convert:hover {\n",
              "      background-color: #E2EBFA;\n",
              "      box-shadow: 0px 1px 2px rgba(60, 64, 67, 0.3), 0px 1px 3px 1px rgba(60, 64, 67, 0.15);\n",
              "      fill: #174EA6;\n",
              "    }\n",
              "\n",
              "    [theme=dark] .colab-df-convert {\n",
              "      background-color: #3B4455;\n",
              "      fill: #D2E3FC;\n",
              "    }\n",
              "\n",
              "    [theme=dark] .colab-df-convert:hover {\n",
              "      background-color: #434B5C;\n",
              "      box-shadow: 0px 1px 3px 1px rgba(0, 0, 0, 0.15);\n",
              "      filter: drop-shadow(0px 1px 2px rgba(0, 0, 0, 0.3));\n",
              "      fill: #FFFFFF;\n",
              "    }\n",
              "  </style>\n",
              "\n",
              "      <script>\n",
              "        const buttonEl =\n",
              "          document.querySelector('#df-af8445c9-61a8-463f-8443-2719eb9d4ab3 button.colab-df-convert');\n",
              "        buttonEl.style.display =\n",
              "          google.colab.kernel.accessAllowed ? 'block' : 'none';\n",
              "\n",
              "        async function convertToInteractive(key) {\n",
              "          const element = document.querySelector('#df-af8445c9-61a8-463f-8443-2719eb9d4ab3');\n",
              "          const dataTable =\n",
              "            await google.colab.kernel.invokeFunction('convertToInteractive',\n",
              "                                                     [key], {});\n",
              "          if (!dataTable) return;\n",
              "\n",
              "          const docLinkHtml = 'Like what you see? Visit the ' +\n",
              "            '<a target=\"_blank\" href=https://colab.research.google.com/notebooks/data_table.ipynb>data table notebook</a>'\n",
              "            + ' to learn more about interactive tables.';\n",
              "          element.innerHTML = '';\n",
              "          dataTable['output_type'] = 'display_data';\n",
              "          await google.colab.output.renderOutput(dataTable, element);\n",
              "          const docLink = document.createElement('div');\n",
              "          docLink.innerHTML = docLinkHtml;\n",
              "          element.appendChild(docLink);\n",
              "        }\n",
              "      </script>\n",
              "    </div>\n",
              "  </div>\n",
              "  "
            ]
          },
          "metadata": {},
          "execution_count": 157
        }
      ]
    },
    {
      "cell_type": "code",
      "source": [
        "df.distance.describe()"
      ],
      "metadata": {
        "colab": {
          "base_uri": "https://localhost:8080/"
        },
        "id": "iqmn-DgXxguP",
        "outputId": "8614c9e2-c291-4c5a-98ec-b16367043df8"
      },
      "execution_count": 158,
      "outputs": [
        {
          "output_type": "execute_result",
          "data": {
            "text/plain": [
              "count    1.016357e+06\n",
              "mean     4.445057e+00\n",
              "std      7.592996e+01\n",
              "min      1.000000e-03\n",
              "25%      1.279000e+00\n",
              "50%      2.179000e+00\n",
              "75%      3.951000e+00\n",
              "max      1.259472e+04\n",
              "Name: distance, dtype: float64"
            ]
          },
          "metadata": {},
          "execution_count": 158
        }
      ]
    },
    {
      "cell_type": "markdown",
      "source": [
        "\n",
        "\n",
        "---\n",
        "\n",
        "*min* value is still pretty low (1 meter). Taxi ride with distance less than at least 100m  doesn't make sense and seems erroneous. And as tradition, I will drop these entities (~0.2%).\n",
        "\n",
        "---\n",
        "\n"
      ],
      "metadata": {
        "id": "MrE4Sc0ck07S"
      }
    },
    {
      "cell_type": "code",
      "source": [
        "df[df.distance<0.01].shape"
      ],
      "metadata": {
        "colab": {
          "base_uri": "https://localhost:8080/"
        },
        "id": "L9t2c4jT8uMx",
        "outputId": "339d2149-e804-47b4-8c69-b4017edd3038"
      },
      "execution_count": 159,
      "outputs": [
        {
          "output_type": "execute_result",
          "data": {
            "text/plain": [
              "(1958, 14)"
            ]
          },
          "metadata": {},
          "execution_count": 159
        }
      ]
    },
    {
      "cell_type": "code",
      "source": [
        "df.drop(index=df[df.distance<0.01].index.to_list(), inplace=True)\n",
        "print('df.shape: ', df.shape)\n",
        "df.head()"
      ],
      "metadata": {
        "colab": {
          "base_uri": "https://localhost:8080/",
          "height": 224
        },
        "id": "TEYIW7GQlqd9",
        "outputId": "d23f65a2-0b3d-46e7-ba18-0bc93b0dd4f3"
      },
      "execution_count": 160,
      "outputs": [
        {
          "output_type": "stream",
          "name": "stdout",
          "text": [
            "df.shape:  (1014399, 14)\n"
          ]
        },
        {
          "output_type": "execute_result",
          "data": {
            "text/plain": [
              "   fare_amount  pickup_longitude  pickup_latitude  dropoff_longitude  \\\n",
              "0          4.5        -73.844311        40.721319         -73.841610   \n",
              "1         16.9        -74.016048        40.711303         -73.979268   \n",
              "2          5.7        -73.982738        40.761270         -73.991242   \n",
              "3          7.7        -73.987130        40.733143         -73.991567   \n",
              "4          5.3        -73.968095        40.768008         -73.956655   \n",
              "\n",
              "   dropoff_latitude  passenger_count  year  season    month  day  day_name  \\\n",
              "0         40.712278                1  2009  Summer     June   15    Monday   \n",
              "1         40.782004                1  2010  Winter  January    5   Tuesday   \n",
              "2         40.750562                2  2011  Summer   August   18  Thursday   \n",
              "3         40.758092                1  2012  Spring    April   21  Saturday   \n",
              "4         40.783762                1  2010  Spring    March    9   Tuesday   \n",
              "\n",
              "   hour  rush_hour  distance  \n",
              "0    17          1     1.031  \n",
              "1    16          1     8.450  \n",
              "2     0          0     1.390  \n",
              "3     4          0     2.799  \n",
              "4     7          1     1.999  "
            ],
            "text/html": [
              "\n",
              "  <div id=\"df-45065fd8-7607-4cb9-bc2c-5867cee78234\">\n",
              "    <div class=\"colab-df-container\">\n",
              "      <div>\n",
              "<style scoped>\n",
              "    .dataframe tbody tr th:only-of-type {\n",
              "        vertical-align: middle;\n",
              "    }\n",
              "\n",
              "    .dataframe tbody tr th {\n",
              "        vertical-align: top;\n",
              "    }\n",
              "\n",
              "    .dataframe thead th {\n",
              "        text-align: right;\n",
              "    }\n",
              "</style>\n",
              "<table border=\"1\" class=\"dataframe\">\n",
              "  <thead>\n",
              "    <tr style=\"text-align: right;\">\n",
              "      <th></th>\n",
              "      <th>fare_amount</th>\n",
              "      <th>pickup_longitude</th>\n",
              "      <th>pickup_latitude</th>\n",
              "      <th>dropoff_longitude</th>\n",
              "      <th>dropoff_latitude</th>\n",
              "      <th>passenger_count</th>\n",
              "      <th>year</th>\n",
              "      <th>season</th>\n",
              "      <th>month</th>\n",
              "      <th>day</th>\n",
              "      <th>day_name</th>\n",
              "      <th>hour</th>\n",
              "      <th>rush_hour</th>\n",
              "      <th>distance</th>\n",
              "    </tr>\n",
              "  </thead>\n",
              "  <tbody>\n",
              "    <tr>\n",
              "      <th>0</th>\n",
              "      <td>4.5</td>\n",
              "      <td>-73.844311</td>\n",
              "      <td>40.721319</td>\n",
              "      <td>-73.841610</td>\n",
              "      <td>40.712278</td>\n",
              "      <td>1</td>\n",
              "      <td>2009</td>\n",
              "      <td>Summer</td>\n",
              "      <td>June</td>\n",
              "      <td>15</td>\n",
              "      <td>Monday</td>\n",
              "      <td>17</td>\n",
              "      <td>1</td>\n",
              "      <td>1.031</td>\n",
              "    </tr>\n",
              "    <tr>\n",
              "      <th>1</th>\n",
              "      <td>16.9</td>\n",
              "      <td>-74.016048</td>\n",
              "      <td>40.711303</td>\n",
              "      <td>-73.979268</td>\n",
              "      <td>40.782004</td>\n",
              "      <td>1</td>\n",
              "      <td>2010</td>\n",
              "      <td>Winter</td>\n",
              "      <td>January</td>\n",
              "      <td>5</td>\n",
              "      <td>Tuesday</td>\n",
              "      <td>16</td>\n",
              "      <td>1</td>\n",
              "      <td>8.450</td>\n",
              "    </tr>\n",
              "    <tr>\n",
              "      <th>2</th>\n",
              "      <td>5.7</td>\n",
              "      <td>-73.982738</td>\n",
              "      <td>40.761270</td>\n",
              "      <td>-73.991242</td>\n",
              "      <td>40.750562</td>\n",
              "      <td>2</td>\n",
              "      <td>2011</td>\n",
              "      <td>Summer</td>\n",
              "      <td>August</td>\n",
              "      <td>18</td>\n",
              "      <td>Thursday</td>\n",
              "      <td>0</td>\n",
              "      <td>0</td>\n",
              "      <td>1.390</td>\n",
              "    </tr>\n",
              "    <tr>\n",
              "      <th>3</th>\n",
              "      <td>7.7</td>\n",
              "      <td>-73.987130</td>\n",
              "      <td>40.733143</td>\n",
              "      <td>-73.991567</td>\n",
              "      <td>40.758092</td>\n",
              "      <td>1</td>\n",
              "      <td>2012</td>\n",
              "      <td>Spring</td>\n",
              "      <td>April</td>\n",
              "      <td>21</td>\n",
              "      <td>Saturday</td>\n",
              "      <td>4</td>\n",
              "      <td>0</td>\n",
              "      <td>2.799</td>\n",
              "    </tr>\n",
              "    <tr>\n",
              "      <th>4</th>\n",
              "      <td>5.3</td>\n",
              "      <td>-73.968095</td>\n",
              "      <td>40.768008</td>\n",
              "      <td>-73.956655</td>\n",
              "      <td>40.783762</td>\n",
              "      <td>1</td>\n",
              "      <td>2010</td>\n",
              "      <td>Spring</td>\n",
              "      <td>March</td>\n",
              "      <td>9</td>\n",
              "      <td>Tuesday</td>\n",
              "      <td>7</td>\n",
              "      <td>1</td>\n",
              "      <td>1.999</td>\n",
              "    </tr>\n",
              "  </tbody>\n",
              "</table>\n",
              "</div>\n",
              "      <button class=\"colab-df-convert\" onclick=\"convertToInteractive('df-45065fd8-7607-4cb9-bc2c-5867cee78234')\"\n",
              "              title=\"Convert this dataframe to an interactive table.\"\n",
              "              style=\"display:none;\">\n",
              "        \n",
              "  <svg xmlns=\"http://www.w3.org/2000/svg\" height=\"24px\"viewBox=\"0 0 24 24\"\n",
              "       width=\"24px\">\n",
              "    <path d=\"M0 0h24v24H0V0z\" fill=\"none\"/>\n",
              "    <path d=\"M18.56 5.44l.94 2.06.94-2.06 2.06-.94-2.06-.94-.94-2.06-.94 2.06-2.06.94zm-11 1L8.5 8.5l.94-2.06 2.06-.94-2.06-.94L8.5 2.5l-.94 2.06-2.06.94zm10 10l.94 2.06.94-2.06 2.06-.94-2.06-.94-.94-2.06-.94 2.06-2.06.94z\"/><path d=\"M17.41 7.96l-1.37-1.37c-.4-.4-.92-.59-1.43-.59-.52 0-1.04.2-1.43.59L10.3 9.45l-7.72 7.72c-.78.78-.78 2.05 0 2.83L4 21.41c.39.39.9.59 1.41.59.51 0 1.02-.2 1.41-.59l7.78-7.78 2.81-2.81c.8-.78.8-2.07 0-2.86zM5.41 20L4 18.59l7.72-7.72 1.47 1.35L5.41 20z\"/>\n",
              "  </svg>\n",
              "      </button>\n",
              "      \n",
              "  <style>\n",
              "    .colab-df-container {\n",
              "      display:flex;\n",
              "      flex-wrap:wrap;\n",
              "      gap: 12px;\n",
              "    }\n",
              "\n",
              "    .colab-df-convert {\n",
              "      background-color: #E8F0FE;\n",
              "      border: none;\n",
              "      border-radius: 50%;\n",
              "      cursor: pointer;\n",
              "      display: none;\n",
              "      fill: #1967D2;\n",
              "      height: 32px;\n",
              "      padding: 0 0 0 0;\n",
              "      width: 32px;\n",
              "    }\n",
              "\n",
              "    .colab-df-convert:hover {\n",
              "      background-color: #E2EBFA;\n",
              "      box-shadow: 0px 1px 2px rgba(60, 64, 67, 0.3), 0px 1px 3px 1px rgba(60, 64, 67, 0.15);\n",
              "      fill: #174EA6;\n",
              "    }\n",
              "\n",
              "    [theme=dark] .colab-df-convert {\n",
              "      background-color: #3B4455;\n",
              "      fill: #D2E3FC;\n",
              "    }\n",
              "\n",
              "    [theme=dark] .colab-df-convert:hover {\n",
              "      background-color: #434B5C;\n",
              "      box-shadow: 0px 1px 3px 1px rgba(0, 0, 0, 0.15);\n",
              "      filter: drop-shadow(0px 1px 2px rgba(0, 0, 0, 0.3));\n",
              "      fill: #FFFFFF;\n",
              "    }\n",
              "  </style>\n",
              "\n",
              "      <script>\n",
              "        const buttonEl =\n",
              "          document.querySelector('#df-45065fd8-7607-4cb9-bc2c-5867cee78234 button.colab-df-convert');\n",
              "        buttonEl.style.display =\n",
              "          google.colab.kernel.accessAllowed ? 'block' : 'none';\n",
              "\n",
              "        async function convertToInteractive(key) {\n",
              "          const element = document.querySelector('#df-45065fd8-7607-4cb9-bc2c-5867cee78234');\n",
              "          const dataTable =\n",
              "            await google.colab.kernel.invokeFunction('convertToInteractive',\n",
              "                                                     [key], {});\n",
              "          if (!dataTable) return;\n",
              "\n",
              "          const docLinkHtml = 'Like what you see? Visit the ' +\n",
              "            '<a target=\"_blank\" href=https://colab.research.google.com/notebooks/data_table.ipynb>data table notebook</a>'\n",
              "            + ' to learn more about interactive tables.';\n",
              "          element.innerHTML = '';\n",
              "          dataTable['output_type'] = 'display_data';\n",
              "          await google.colab.output.renderOutput(dataTable, element);\n",
              "          const docLink = document.createElement('div');\n",
              "          docLink.innerHTML = docLinkHtml;\n",
              "          element.appendChild(docLink);\n",
              "        }\n",
              "      </script>\n",
              "    </div>\n",
              "  </div>\n",
              "  "
            ]
          },
          "metadata": {},
          "execution_count": 160
        }
      ]
    },
    {
      "cell_type": "code",
      "source": [
        "df.distance.describe()"
      ],
      "metadata": {
        "colab": {
          "base_uri": "https://localhost:8080/"
        },
        "id": "4pJzSG9882Ns",
        "outputId": "2259cd2f-c59e-44ae-b5a8-1e18aa2e2ffd"
      },
      "execution_count": 161,
      "outputs": [
        {
          "output_type": "execute_result",
          "data": {
            "text/plain": [
              "count    1.014399e+06\n",
              "mean     4.453630e+00\n",
              "std      7.600296e+01\n",
              "min      1.000000e-02\n",
              "25%      1.284000e+00\n",
              "50%      2.183000e+00\n",
              "75%      3.957000e+00\n",
              "max      1.259472e+04\n",
              "Name: distance, dtype: float64"
            ]
          },
          "metadata": {},
          "execution_count": 161
        }
      ]
    },
    {
      "cell_type": "markdown",
      "source": [
        "\n",
        "\n",
        "---\n",
        "\n",
        "Finally, *min* distance of the ride looks realistic.\n",
        "\n",
        "---\n",
        "\n"
      ],
      "metadata": {
        "id": "aK3DYDBcxlOg"
      }
    },
    {
      "cell_type": "markdown",
      "source": [
        "### Duplicates"
      ],
      "metadata": {
        "id": "HBESl0YlNo8A"
      }
    },
    {
      "cell_type": "markdown",
      "source": [
        "\n",
        "Also to avoid false influence on the result by same data, let's check it on duplicates.\n",
        "\n",
        "---"
      ],
      "metadata": {
        "id": "DGH3t1VXNvhx"
      }
    },
    {
      "cell_type": "code",
      "source": [
        "df.nunique() #Count number of distinct elements in specified axis"
      ],
      "metadata": {
        "colab": {
          "base_uri": "https://localhost:8080/"
        },
        "id": "Z70_ago2O1AX",
        "outputId": "50c83294-11c5-49b5-f623-3fa25ae313a6"
      },
      "execution_count": 162,
      "outputs": [
        {
          "output_type": "execute_result",
          "data": {
            "text/plain": [
              "fare_amount            2040\n",
              "pickup_longitude     112334\n",
              "pickup_latitude      144825\n",
              "dropoff_longitude    134276\n",
              "dropoff_latitude     172330\n",
              "passenger_count           6\n",
              "year                      7\n",
              "season                    4\n",
              "month                    12\n",
              "day                      31\n",
              "day_name                  7\n",
              "hour                     24\n",
              "rush_hour                 2\n",
              "distance              23700\n",
              "dtype: int64"
            ]
          },
          "metadata": {},
          "execution_count": 162
        }
      ]
    },
    {
      "cell_type": "code",
      "source": [
        "df.duplicated().sum() #count sum of  boolean Series denoting duplicate rows"
      ],
      "metadata": {
        "colab": {
          "base_uri": "https://localhost:8080/"
        },
        "id": "d-6e3GQsPYT1",
        "outputId": "ea909fed-121b-4cdc-ab19-f45af4559c26"
      },
      "execution_count": 163,
      "outputs": [
        {
          "output_type": "execute_result",
          "data": {
            "text/plain": [
              "0"
            ]
          },
          "metadata": {},
          "execution_count": 163
        }
      ]
    },
    {
      "cell_type": "markdown",
      "source": [
        "\n",
        "\n",
        "---\n",
        "\n",
        "There is no duplicated rows in the data.\n",
        "\n",
        "---\n",
        "\n"
      ],
      "metadata": {
        "id": "fFtPpbohQIa9"
      }
    },
    {
      "cell_type": "markdown",
      "source": [
        "# Eploratory Data Analysis & Feature Selection"
      ],
      "metadata": {
        "id": "LrPw_G6eoMto"
      }
    },
    {
      "cell_type": "markdown",
      "source": [
        "## Overview"
      ],
      "metadata": {
        "id": "KoYsh78q5kaW"
      }
    },
    {
      "cell_type": "code",
      "source": [
        "df.describe(include='all')"
      ],
      "metadata": {
        "colab": {
          "base_uri": "https://localhost:8080/",
          "height": 394
        },
        "id": "kOcJo0nJCU_8",
        "outputId": "0966a0b3-21ee-4af9-daff-7b178ad3c523"
      },
      "execution_count": 167,
      "outputs": [
        {
          "output_type": "execute_result",
          "data": {
            "text/plain": [
              "         fare_amount  pickup_longitude  pickup_latitude  dropoff_longitude  \\\n",
              "count   1.014399e+06      1.014399e+06     1.014399e+06       1.014399e+06   \n",
              "unique           NaN               NaN              NaN                NaN   \n",
              "top              NaN               NaN              NaN                NaN   \n",
              "freq             NaN               NaN              NaN                NaN   \n",
              "mean    1.130262e+01     -7.390709e+01     4.068909e+01      -7.390661e+01   \n",
              "std     9.504164e+00      2.718510e+00     2.603051e+00       2.713371e+00   \n",
              "min     2.500000e+00     -8.061666e+01    -7.401659e+01      -8.680412e+01   \n",
              "25%     6.000000e+00     -7.399228e+01     4.073657e+01      -7.399157e+01   \n",
              "50%     8.500000e+00     -7.398211e+01     4.075339e+01      -7.398062e+01   \n",
              "75%     1.250000e+01     -7.396847e+01     4.076756e+01      -7.396550e+01   \n",
              "max     4.950000e+02      4.085036e+01     6.940000e+01       4.558162e+01   \n",
              "\n",
              "        dropoff_latitude  passenger_count          year   season    month  \\\n",
              "count       1.014399e+06     1.014399e+06  1.014399e+06  1014399  1014399   \n",
              "unique               NaN              NaN           NaN        4       12   \n",
              "top                  NaN              NaN           NaN   Spring      May   \n",
              "freq                 NaN              NaN           NaN   283496    95079   \n",
              "mean        4.068929e+01     1.689383e+00  2.011745e+03      NaN      NaN   \n",
              "std         2.603886e+00     1.305015e+00  1.863616e+00      NaN      NaN   \n",
              "min        -7.403520e+01     1.000000e+00  2.009000e+03      NaN      NaN   \n",
              "25%         4.073558e+01     1.000000e+00  2.010000e+03      NaN      NaN   \n",
              "50%         4.075389e+01     1.000000e+00  2.012000e+03      NaN      NaN   \n",
              "75%         4.076841e+01     2.000000e+00  2.013000e+03      NaN      NaN   \n",
              "max         5.578333e+01     6.000000e+00  2.015000e+03      NaN      NaN   \n",
              "\n",
              "                 day day_name          hour     rush_hour      distance  \n",
              "count   1.014399e+06  1014399  1.014399e+06  1.014399e+06  1.014399e+06  \n",
              "unique           NaN        7           NaN           NaN           NaN  \n",
              "top              NaN   Friday           NaN           NaN           NaN  \n",
              "freq             NaN   156478           NaN           NaN           NaN  \n",
              "mean    1.569615e+01      NaN  1.351210e+01  4.352824e-01  4.453630e+00  \n",
              "std     8.681410e+00      NaN  6.511199e+00  4.957942e-01  7.600296e+01  \n",
              "min     1.000000e+00      NaN  0.000000e+00  0.000000e+00  1.000000e-02  \n",
              "25%     8.000000e+00      NaN  9.000000e+00  0.000000e+00  1.284000e+00  \n",
              "50%     1.600000e+01      NaN  1.400000e+01  0.000000e+00  2.183000e+00  \n",
              "75%     2.300000e+01      NaN  1.900000e+01  1.000000e+00  3.957000e+00  \n",
              "max     3.100000e+01      NaN  2.300000e+01  1.000000e+00  1.259472e+04  "
            ],
            "text/html": [
              "\n",
              "  <div id=\"df-cdd6a9e0-71ad-4a73-b8d4-35eac7e35075\">\n",
              "    <div class=\"colab-df-container\">\n",
              "      <div>\n",
              "<style scoped>\n",
              "    .dataframe tbody tr th:only-of-type {\n",
              "        vertical-align: middle;\n",
              "    }\n",
              "\n",
              "    .dataframe tbody tr th {\n",
              "        vertical-align: top;\n",
              "    }\n",
              "\n",
              "    .dataframe thead th {\n",
              "        text-align: right;\n",
              "    }\n",
              "</style>\n",
              "<table border=\"1\" class=\"dataframe\">\n",
              "  <thead>\n",
              "    <tr style=\"text-align: right;\">\n",
              "      <th></th>\n",
              "      <th>fare_amount</th>\n",
              "      <th>pickup_longitude</th>\n",
              "      <th>pickup_latitude</th>\n",
              "      <th>dropoff_longitude</th>\n",
              "      <th>dropoff_latitude</th>\n",
              "      <th>passenger_count</th>\n",
              "      <th>year</th>\n",
              "      <th>season</th>\n",
              "      <th>month</th>\n",
              "      <th>day</th>\n",
              "      <th>day_name</th>\n",
              "      <th>hour</th>\n",
              "      <th>rush_hour</th>\n",
              "      <th>distance</th>\n",
              "    </tr>\n",
              "  </thead>\n",
              "  <tbody>\n",
              "    <tr>\n",
              "      <th>count</th>\n",
              "      <td>1.014399e+06</td>\n",
              "      <td>1.014399e+06</td>\n",
              "      <td>1.014399e+06</td>\n",
              "      <td>1.014399e+06</td>\n",
              "      <td>1.014399e+06</td>\n",
              "      <td>1.014399e+06</td>\n",
              "      <td>1.014399e+06</td>\n",
              "      <td>1014399</td>\n",
              "      <td>1014399</td>\n",
              "      <td>1.014399e+06</td>\n",
              "      <td>1014399</td>\n",
              "      <td>1.014399e+06</td>\n",
              "      <td>1.014399e+06</td>\n",
              "      <td>1.014399e+06</td>\n",
              "    </tr>\n",
              "    <tr>\n",
              "      <th>unique</th>\n",
              "      <td>NaN</td>\n",
              "      <td>NaN</td>\n",
              "      <td>NaN</td>\n",
              "      <td>NaN</td>\n",
              "      <td>NaN</td>\n",
              "      <td>NaN</td>\n",
              "      <td>NaN</td>\n",
              "      <td>4</td>\n",
              "      <td>12</td>\n",
              "      <td>NaN</td>\n",
              "      <td>7</td>\n",
              "      <td>NaN</td>\n",
              "      <td>NaN</td>\n",
              "      <td>NaN</td>\n",
              "    </tr>\n",
              "    <tr>\n",
              "      <th>top</th>\n",
              "      <td>NaN</td>\n",
              "      <td>NaN</td>\n",
              "      <td>NaN</td>\n",
              "      <td>NaN</td>\n",
              "      <td>NaN</td>\n",
              "      <td>NaN</td>\n",
              "      <td>NaN</td>\n",
              "      <td>Spring</td>\n",
              "      <td>May</td>\n",
              "      <td>NaN</td>\n",
              "      <td>Friday</td>\n",
              "      <td>NaN</td>\n",
              "      <td>NaN</td>\n",
              "      <td>NaN</td>\n",
              "    </tr>\n",
              "    <tr>\n",
              "      <th>freq</th>\n",
              "      <td>NaN</td>\n",
              "      <td>NaN</td>\n",
              "      <td>NaN</td>\n",
              "      <td>NaN</td>\n",
              "      <td>NaN</td>\n",
              "      <td>NaN</td>\n",
              "      <td>NaN</td>\n",
              "      <td>283496</td>\n",
              "      <td>95079</td>\n",
              "      <td>NaN</td>\n",
              "      <td>156478</td>\n",
              "      <td>NaN</td>\n",
              "      <td>NaN</td>\n",
              "      <td>NaN</td>\n",
              "    </tr>\n",
              "    <tr>\n",
              "      <th>mean</th>\n",
              "      <td>1.130262e+01</td>\n",
              "      <td>-7.390709e+01</td>\n",
              "      <td>4.068909e+01</td>\n",
              "      <td>-7.390661e+01</td>\n",
              "      <td>4.068929e+01</td>\n",
              "      <td>1.689383e+00</td>\n",
              "      <td>2.011745e+03</td>\n",
              "      <td>NaN</td>\n",
              "      <td>NaN</td>\n",
              "      <td>1.569615e+01</td>\n",
              "      <td>NaN</td>\n",
              "      <td>1.351210e+01</td>\n",
              "      <td>4.352824e-01</td>\n",
              "      <td>4.453630e+00</td>\n",
              "    </tr>\n",
              "    <tr>\n",
              "      <th>std</th>\n",
              "      <td>9.504164e+00</td>\n",
              "      <td>2.718510e+00</td>\n",
              "      <td>2.603051e+00</td>\n",
              "      <td>2.713371e+00</td>\n",
              "      <td>2.603886e+00</td>\n",
              "      <td>1.305015e+00</td>\n",
              "      <td>1.863616e+00</td>\n",
              "      <td>NaN</td>\n",
              "      <td>NaN</td>\n",
              "      <td>8.681410e+00</td>\n",
              "      <td>NaN</td>\n",
              "      <td>6.511199e+00</td>\n",
              "      <td>4.957942e-01</td>\n",
              "      <td>7.600296e+01</td>\n",
              "    </tr>\n",
              "    <tr>\n",
              "      <th>min</th>\n",
              "      <td>2.500000e+00</td>\n",
              "      <td>-8.061666e+01</td>\n",
              "      <td>-7.401659e+01</td>\n",
              "      <td>-8.680412e+01</td>\n",
              "      <td>-7.403520e+01</td>\n",
              "      <td>1.000000e+00</td>\n",
              "      <td>2.009000e+03</td>\n",
              "      <td>NaN</td>\n",
              "      <td>NaN</td>\n",
              "      <td>1.000000e+00</td>\n",
              "      <td>NaN</td>\n",
              "      <td>0.000000e+00</td>\n",
              "      <td>0.000000e+00</td>\n",
              "      <td>1.000000e-02</td>\n",
              "    </tr>\n",
              "    <tr>\n",
              "      <th>25%</th>\n",
              "      <td>6.000000e+00</td>\n",
              "      <td>-7.399228e+01</td>\n",
              "      <td>4.073657e+01</td>\n",
              "      <td>-7.399157e+01</td>\n",
              "      <td>4.073558e+01</td>\n",
              "      <td>1.000000e+00</td>\n",
              "      <td>2.010000e+03</td>\n",
              "      <td>NaN</td>\n",
              "      <td>NaN</td>\n",
              "      <td>8.000000e+00</td>\n",
              "      <td>NaN</td>\n",
              "      <td>9.000000e+00</td>\n",
              "      <td>0.000000e+00</td>\n",
              "      <td>1.284000e+00</td>\n",
              "    </tr>\n",
              "    <tr>\n",
              "      <th>50%</th>\n",
              "      <td>8.500000e+00</td>\n",
              "      <td>-7.398211e+01</td>\n",
              "      <td>4.075339e+01</td>\n",
              "      <td>-7.398062e+01</td>\n",
              "      <td>4.075389e+01</td>\n",
              "      <td>1.000000e+00</td>\n",
              "      <td>2.012000e+03</td>\n",
              "      <td>NaN</td>\n",
              "      <td>NaN</td>\n",
              "      <td>1.600000e+01</td>\n",
              "      <td>NaN</td>\n",
              "      <td>1.400000e+01</td>\n",
              "      <td>0.000000e+00</td>\n",
              "      <td>2.183000e+00</td>\n",
              "    </tr>\n",
              "    <tr>\n",
              "      <th>75%</th>\n",
              "      <td>1.250000e+01</td>\n",
              "      <td>-7.396847e+01</td>\n",
              "      <td>4.076756e+01</td>\n",
              "      <td>-7.396550e+01</td>\n",
              "      <td>4.076841e+01</td>\n",
              "      <td>2.000000e+00</td>\n",
              "      <td>2.013000e+03</td>\n",
              "      <td>NaN</td>\n",
              "      <td>NaN</td>\n",
              "      <td>2.300000e+01</td>\n",
              "      <td>NaN</td>\n",
              "      <td>1.900000e+01</td>\n",
              "      <td>1.000000e+00</td>\n",
              "      <td>3.957000e+00</td>\n",
              "    </tr>\n",
              "    <tr>\n",
              "      <th>max</th>\n",
              "      <td>4.950000e+02</td>\n",
              "      <td>4.085036e+01</td>\n",
              "      <td>6.940000e+01</td>\n",
              "      <td>4.558162e+01</td>\n",
              "      <td>5.578333e+01</td>\n",
              "      <td>6.000000e+00</td>\n",
              "      <td>2.015000e+03</td>\n",
              "      <td>NaN</td>\n",
              "      <td>NaN</td>\n",
              "      <td>3.100000e+01</td>\n",
              "      <td>NaN</td>\n",
              "      <td>2.300000e+01</td>\n",
              "      <td>1.000000e+00</td>\n",
              "      <td>1.259472e+04</td>\n",
              "    </tr>\n",
              "  </tbody>\n",
              "</table>\n",
              "</div>\n",
              "      <button class=\"colab-df-convert\" onclick=\"convertToInteractive('df-cdd6a9e0-71ad-4a73-b8d4-35eac7e35075')\"\n",
              "              title=\"Convert this dataframe to an interactive table.\"\n",
              "              style=\"display:none;\">\n",
              "        \n",
              "  <svg xmlns=\"http://www.w3.org/2000/svg\" height=\"24px\"viewBox=\"0 0 24 24\"\n",
              "       width=\"24px\">\n",
              "    <path d=\"M0 0h24v24H0V0z\" fill=\"none\"/>\n",
              "    <path d=\"M18.56 5.44l.94 2.06.94-2.06 2.06-.94-2.06-.94-.94-2.06-.94 2.06-2.06.94zm-11 1L8.5 8.5l.94-2.06 2.06-.94-2.06-.94L8.5 2.5l-.94 2.06-2.06.94zm10 10l.94 2.06.94-2.06 2.06-.94-2.06-.94-.94-2.06-.94 2.06-2.06.94z\"/><path d=\"M17.41 7.96l-1.37-1.37c-.4-.4-.92-.59-1.43-.59-.52 0-1.04.2-1.43.59L10.3 9.45l-7.72 7.72c-.78.78-.78 2.05 0 2.83L4 21.41c.39.39.9.59 1.41.59.51 0 1.02-.2 1.41-.59l7.78-7.78 2.81-2.81c.8-.78.8-2.07 0-2.86zM5.41 20L4 18.59l7.72-7.72 1.47 1.35L5.41 20z\"/>\n",
              "  </svg>\n",
              "      </button>\n",
              "      \n",
              "  <style>\n",
              "    .colab-df-container {\n",
              "      display:flex;\n",
              "      flex-wrap:wrap;\n",
              "      gap: 12px;\n",
              "    }\n",
              "\n",
              "    .colab-df-convert {\n",
              "      background-color: #E8F0FE;\n",
              "      border: none;\n",
              "      border-radius: 50%;\n",
              "      cursor: pointer;\n",
              "      display: none;\n",
              "      fill: #1967D2;\n",
              "      height: 32px;\n",
              "      padding: 0 0 0 0;\n",
              "      width: 32px;\n",
              "    }\n",
              "\n",
              "    .colab-df-convert:hover {\n",
              "      background-color: #E2EBFA;\n",
              "      box-shadow: 0px 1px 2px rgba(60, 64, 67, 0.3), 0px 1px 3px 1px rgba(60, 64, 67, 0.15);\n",
              "      fill: #174EA6;\n",
              "    }\n",
              "\n",
              "    [theme=dark] .colab-df-convert {\n",
              "      background-color: #3B4455;\n",
              "      fill: #D2E3FC;\n",
              "    }\n",
              "\n",
              "    [theme=dark] .colab-df-convert:hover {\n",
              "      background-color: #434B5C;\n",
              "      box-shadow: 0px 1px 3px 1px rgba(0, 0, 0, 0.15);\n",
              "      filter: drop-shadow(0px 1px 2px rgba(0, 0, 0, 0.3));\n",
              "      fill: #FFFFFF;\n",
              "    }\n",
              "  </style>\n",
              "\n",
              "      <script>\n",
              "        const buttonEl =\n",
              "          document.querySelector('#df-cdd6a9e0-71ad-4a73-b8d4-35eac7e35075 button.colab-df-convert');\n",
              "        buttonEl.style.display =\n",
              "          google.colab.kernel.accessAllowed ? 'block' : 'none';\n",
              "\n",
              "        async function convertToInteractive(key) {\n",
              "          const element = document.querySelector('#df-cdd6a9e0-71ad-4a73-b8d4-35eac7e35075');\n",
              "          const dataTable =\n",
              "            await google.colab.kernel.invokeFunction('convertToInteractive',\n",
              "                                                     [key], {});\n",
              "          if (!dataTable) return;\n",
              "\n",
              "          const docLinkHtml = 'Like what you see? Visit the ' +\n",
              "            '<a target=\"_blank\" href=https://colab.research.google.com/notebooks/data_table.ipynb>data table notebook</a>'\n",
              "            + ' to learn more about interactive tables.';\n",
              "          element.innerHTML = '';\n",
              "          dataTable['output_type'] = 'display_data';\n",
              "          await google.colab.output.renderOutput(dataTable, element);\n",
              "          const docLink = document.createElement('div');\n",
              "          docLink.innerHTML = docLinkHtml;\n",
              "          element.appendChild(docLink);\n",
              "        }\n",
              "      </script>\n",
              "    </div>\n",
              "  </div>\n",
              "  "
            ]
          },
          "metadata": {},
          "execution_count": 167
        }
      ]
    },
    {
      "cell_type": "code",
      "source": [
        "df.dtypes"
      ],
      "metadata": {
        "colab": {
          "base_uri": "https://localhost:8080/"
        },
        "id": "uumC65hUC6Lg",
        "outputId": "6e13b5df-4263-4a23-b962-215956e21d33"
      },
      "execution_count": 165,
      "outputs": [
        {
          "output_type": "execute_result",
          "data": {
            "text/plain": [
              "fare_amount          float64\n",
              "pickup_longitude     float64\n",
              "pickup_latitude      float64\n",
              "dropoff_longitude    float64\n",
              "dropoff_latitude     float64\n",
              "passenger_count        int64\n",
              "year                   int64\n",
              "season                object\n",
              "month                 object\n",
              "day                    int64\n",
              "day_name              object\n",
              "hour                   int64\n",
              "rush_hour              int64\n",
              "distance             float64\n",
              "dtype: object"
            ]
          },
          "metadata": {},
          "execution_count": 165
        }
      ]
    },
    {
      "cell_type": "code",
      "source": [
        "df.isnull().sum()"
      ],
      "metadata": {
        "colab": {
          "base_uri": "https://localhost:8080/"
        },
        "id": "OGXrJAbeHjyE",
        "outputId": "7a98d02d-ba09-4ae6-fd46-aa7235982fa0"
      },
      "execution_count": 166,
      "outputs": [
        {
          "output_type": "execute_result",
          "data": {
            "text/plain": [
              "fare_amount          0\n",
              "pickup_longitude     0\n",
              "pickup_latitude      0\n",
              "dropoff_longitude    0\n",
              "dropoff_latitude     0\n",
              "passenger_count      0\n",
              "year                 0\n",
              "season               0\n",
              "month                0\n",
              "day                  0\n",
              "day_name             0\n",
              "hour                 0\n",
              "rush_hour            0\n",
              "distance             0\n",
              "dtype: int64"
            ]
          },
          "metadata": {},
          "execution_count": 166
        }
      ]
    },
    {
      "cell_type": "markdown",
      "source": [
        "\n",
        "\n",
        "---\n",
        "\n",
        "We don't have missing values in the data, but there are still categorical data. Before converting it to format acceptable by the ML algorithms, we need to select feature that we are going to use to train the model. For this purpose let's have a look on each feature closely.\n",
        "\n",
        "---\n",
        "\n"
      ],
      "metadata": {
        "id": "tyFGEmhFH5pI"
      }
    },
    {
      "cell_type": "markdown",
      "source": [
        "## Summorize Data"
      ],
      "metadata": {
        "id": "AeNwgF3VA8c9"
      }
    },
    {
      "cell_type": "markdown",
      "source": [
        "### Target Feature"
      ],
      "metadata": {
        "id": "vMGJGXJjmLCA"
      }
    },
    {
      "cell_type": "markdown",
      "source": [
        "Let's check distribution of ```fare_amount```. For this I will create 2 plots: distribution plot and boxplot.\n",
        "\n",
        "---"
      ],
      "metadata": {
        "id": "o2JmyiLLeIjC"
      }
    },
    {
      "cell_type": "code",
      "source": [
        "plt.figure(figsize=(10,7))\n",
        "\n",
        "plt.subplot(221) #distribution\n",
        "sns.distplot(df['fare_amount'])\n",
        "plt.xlabel('Fare Amount', size=12, fontweight='bold')\n",
        "plt.ylabel('Density', fontweight='bold')\n",
        "plt.title('Distribution of Fare Amount', fontweight='bold')\n",
        "\n",
        "plt.subplot(222)\n",
        "sns.boxplot(x='fare_amount', data=df, color='pink', showmeans=True, \n",
        "            meanprops={\"marker\":\"o\", \"markerfacecolor\":\"Red\", \"markeredgecolor\":\"black\",\"markersize\":\"10\"})\n",
        "plt.title('Boxplot of Fare Amount', fontweight='bold')\n",
        "plt.xlabel('Fare Amount', size=12, fontweight='bold')\n",
        "\n",
        "plt.show()"
      ],
      "metadata": {
        "colab": {
          "base_uri": "https://localhost:8080/",
          "height": 309
        },
        "id": "P1wYHUzRmOtx",
        "outputId": "802e2519-98eb-4b22-bbb6-6a01b6d72011"
      },
      "execution_count": 201,
      "outputs": [
        {
          "output_type": "stream",
          "name": "stderr",
          "text": [
            "/usr/local/lib/python3.8/dist-packages/seaborn/distributions.py:2619: FutureWarning: `distplot` is a deprecated function and will be removed in a future version. Please adapt your code to use either `displot` (a figure-level function with similar flexibility) or `histplot` (an axes-level function for histograms).\n",
            "  warnings.warn(msg, FutureWarning)\n"
          ]
        },
        {
          "output_type": "display_data",
          "data": {
            "text/plain": [
              "<Figure size 720x504 with 2 Axes>"
            ],
            "image/png": "[encoded data removed]"
          },
          "metadata": {
            "needs_background": "light"
          }
        }
      ]
    },
    {
      "cell_type": "markdown",
      "source": [
        "\n",
        "\n",
        "---\n",
        "\n",
        "As we can see on plots data is highly right skewed and have lots of outliers which can deceive the training process of ML models, resulting in less accurate models and eventually bad performance. To avoid this I will drop outliers.\n",
        "\n",
        "For this I need to count outliers boundary - edge after with the value can be considered as outlier. As it was mentioned the data is highly right skewed that's why I need to count just upper extreme boundary:\n",
        "\n",
        "```Interquartile Range(IQR) = Q3(75th percentile) - Q1(25th percentile)```\n",
        "\n",
        "```Upper Boundary = Third Quartile(Q3/75th percentile) + (3* IQR)```\n",
        "\n",
        "\n",
        "---\n",
        "\n"
      ],
      "metadata": {
        "id": "-H_JDMfRecYn"
      }
    },
    {
      "cell_type": "code",
      "source": [
        "IQR = df.fare_amount.quantile(0.75) - df.fare_amount.quantile(0.25)\n",
        "boundary = df.fare_amount.quantile(0.75) + 3*IQR\n",
        "print('Upper boundary is $', boundary)"
      ],
      "metadata": {
        "colab": {
          "base_uri": "https://localhost:8080/"
        },
        "id": "if7_zJFSfPJ0",
        "outputId": "3775ac8f-c738-4671-d76f-068b58bf798e"
      },
      "execution_count": 202,
      "outputs": [
        {
          "output_type": "stream",
          "name": "stdout",
          "text": [
            "Upper boundary is $ 32.0\n"
          ]
        }
      ]
    },
    {
      "cell_type": "code",
      "source": [
        "df[df.fare_amount>boundary].shape"
      ],
      "metadata": {
        "colab": {
          "base_uri": "https://localhost:8080/"
        },
        "id": "BLvTLD9YfQDq",
        "outputId": "4bd5658d-de40-4bae-8431-9f1e7a027d3d"
      },
      "execution_count": 203,
      "outputs": [
        {
          "output_type": "execute_result",
          "data": {
            "text/plain": [
              "(43574, 14)"
            ]
          },
          "metadata": {},
          "execution_count": 203
        }
      ]
    },
    {
      "cell_type": "markdown",
      "source": [
        "\n",
        "\n",
        "---\n",
        "\n",
        "About 4% of data can be counted as outliers what is acceptable for this project. I will drop these entities.\n",
        "\n",
        "\n",
        "---\n",
        "\n"
      ],
      "metadata": {
        "id": "im6vLgubfa10"
      }
    },
    {
      "cell_type": "code",
      "source": [
        "df = df[df.fare_amount<boundary]\n",
        "print('df.shape: ',df.shape)"
      ],
      "metadata": {
        "colab": {
          "base_uri": "https://localhost:8080/"
        },
        "id": "BpcmsmWdfTbj",
        "outputId": "ebfd6a8a-9804-4de6-a1f5-03055e5d9791"
      },
      "execution_count": 204,
      "outputs": [
        {
          "output_type": "stream",
          "name": "stdout",
          "text": [
            "df.shape:  (970388, 14)\n"
          ]
        }
      ]
    },
    {
      "cell_type": "code",
      "source": [
        "plt.figure(figsize=(10,7))\n",
        "\n",
        "plt.subplot(221) #distribution\n",
        "sns.distplot(df['fare_amount'])\n",
        "plt.xlabel('Fare Amount', size=12, fontweight='bold')\n",
        "plt.ylabel('Density', fontweight='bold')\n",
        "plt.title('Distribution of Fare Amount', fontweight='bold')\n",
        "\n",
        "plt.subplot(222)\n",
        "sns.boxplot(x='fare_amount', data=df, color='pink', showmeans=True, \n",
        "            meanprops={\"marker\":\"o\", \"markerfacecolor\":\"White\", \"markeredgecolor\":\"black\",\"markersize\":\"10\"})\n",
        "plt.title('Boxplot of Fare Amount', fontweight='bold')\n",
        "plt.xlabel('Fare Amount', size=12, fontweight='bold')\n",
        "\n",
        "\n",
        "plt.show()"
      ],
      "metadata": {
        "colab": {
          "base_uri": "https://localhost:8080/",
          "height": 309
        },
        "id": "WQFu_uiUgExq",
        "outputId": "6c1244e4-1a48-47bc-ed86-83c5ea3aab60"
      },
      "execution_count": 205,
      "outputs": [
        {
          "output_type": "stream",
          "name": "stderr",
          "text": [
            "/usr/local/lib/python3.8/dist-packages/seaborn/distributions.py:2619: FutureWarning: `distplot` is a deprecated function and will be removed in a future version. Please adapt your code to use either `displot` (a figure-level function with similar flexibility) or `histplot` (an axes-level function for histograms).\n",
            "  warnings.warn(msg, FutureWarning)\n"
          ]
        },
        {
          "output_type": "display_data",
          "data": {
            "text/plain": [
              "<Figure size 720x504 with 2 Axes>"
            ],
            "image/png": "[encoded data removed]"
          },
          "metadata": {
            "needs_background": "light"
          }
        }
      ]
    },
    {
      "cell_type": "markdown",
      "source": [
        "---\n",
        "\n",
        "```fare_amount``` distribution looks more realistic now. Data is still a bit skewed, but it's acceptable.\n",
        "\n",
        "---"
      ],
      "metadata": {
        "id": "-grhWvTQf9A3"
      }
    },
    {
      "cell_type": "markdown",
      "source": [
        "### Coordinate Columnns"
      ],
      "metadata": {
        "id": "A6N0JP-lnYMt"
      }
    },
    {
      "cell_type": "markdown",
      "source": [
        "Let's check distributions of coordinate columns.\n",
        "\n",
        "---"
      ],
      "metadata": {
        "id": "-rqCWWadnkcP"
      }
    },
    {
      "cell_type": "code",
      "source": [
        "plt.figure(figsize=(7,7))\n",
        "\n",
        "coor_cols = ['pickup_latitude', 'pickup_longitude', 'dropoff_latitude', 'dropoff_longitude']\n",
        "colors=['red', 'blue']\n",
        "\n",
        "for i in range (4):\n",
        "  plt.subplot(221+i) \n",
        "  sns.distplot(df[coor_cols[i]], color=colors[i%2])\n",
        "  plt.xticks(rotation=45)\n",
        "  plt.title('Distribution of {}'.format(coor_cols[i]), fontweight='bold')\n",
        "  plt.xlabel('{}'.format(coor_cols[i]), size=12, fontweight='bold')\n",
        "  plt.ylabel('Density', fontweight='bold')\n",
        "\n",
        "plt.tight_layout() #to avoid overlay\n",
        "plt.show()"
      ],
      "metadata": {
        "colab": {
          "base_uri": "https://localhost:8080/",
          "height": 672
        },
        "id": "k_4pTO2ewFxe",
        "outputId": "e9e26cf2-e01f-4f06-d9ab-73a92a8804dc"
      },
      "execution_count": 206,
      "outputs": [
        {
          "output_type": "stream",
          "name": "stderr",
          "text": [
            "/usr/local/lib/python3.8/dist-packages/seaborn/distributions.py:2619: FutureWarning: `distplot` is a deprecated function and will be removed in a future version. Please adapt your code to use either `displot` (a figure-level function with similar flexibility) or `histplot` (an axes-level function for histograms).\n",
            "  warnings.warn(msg, FutureWarning)\n",
            "/usr/local/lib/python3.8/dist-packages/seaborn/distributions.py:2619: FutureWarning: `distplot` is a deprecated function and will be removed in a future version. Please adapt your code to use either `displot` (a figure-level function with similar flexibility) or `histplot` (an axes-level function for histograms).\n",
            "  warnings.warn(msg, FutureWarning)\n",
            "/usr/local/lib/python3.8/dist-packages/seaborn/distributions.py:2619: FutureWarning: `distplot` is a deprecated function and will be removed in a future version. Please adapt your code to use either `displot` (a figure-level function with similar flexibility) or `histplot` (an axes-level function for histograms).\n",
            "  warnings.warn(msg, FutureWarning)\n",
            "/usr/local/lib/python3.8/dist-packages/seaborn/distributions.py:2619: FutureWarning: `distplot` is a deprecated function and will be removed in a future version. Please adapt your code to use either `displot` (a figure-level function with similar flexibility) or `histplot` (an axes-level function for histograms).\n",
            "  warnings.warn(msg, FutureWarning)\n"
          ]
        },
        {
          "output_type": "display_data",
          "data": {
            "text/plain": [
              "<Figure size 720x504 with 4 Axes>"
            ],
            "image/png": "[encoded data removed]"
          },
          "metadata": {
            "needs_background": "light"
          }
        }
      ]
    },
    {
      "cell_type": "markdown",
      "source": [
        "\n",
        "\n",
        "\n",
        "---\n",
        "\n",
        "As we can see each coordinate column has extreme values which we need to get rid of.\n",
        "\n",
        "---\n",
        "\n"
      ],
      "metadata": {
        "id": "LpyDSI6lpgLS"
      }
    },
    {
      "cell_type": "code",
      "source": [
        "print('Column name: min [lower boundary, upper boundary] max')\n",
        "for var in coor_cols:\n",
        "  IQR = df[var].quantile(0.75) - df[var].quantile(0.25)\n",
        "  low_boundary = df[var].quantile(0.75) - 3*IQR\n",
        "  up_boundary = df[var].quantile(0.75) + 3*IQR\n",
        "  print('{}: {:.3f} [{:.3f}, {:.3f}] {:.3f}'.format(var, df[var].min(), low_boundary, up_boundary, df[var].max()))"
      ],
      "metadata": {
        "colab": {
          "base_uri": "https://localhost:8080/"
        },
        "id": "zX6rUZYJracg",
        "outputId": "66fa61c6-2ffb-4b1a-d299-82665c2d4b9d"
      },
      "execution_count": 207,
      "outputs": [
        {
          "output_type": "stream",
          "name": "stdout",
          "text": [
            "Column name: min [lower boundary, upper boundary] max\n",
            "pickup_latitude: -74.017 [40.677, 40.858] 69.400\n",
            "pickup_longitude: -80.617 [-74.038, -73.901] 40.813\n",
            "dropoff_latitude: -74.017 [40.673, 40.864] 55.783\n",
            "dropoff_longitude: -86.804 [-74.042, -73.892] 40.851\n"
          ]
        }
      ]
    },
    {
      "cell_type": "markdown",
      "source": [
        "\n",
        "\n",
        "---\n",
        "\n",
        "Let's drop all entities with outliers in coordinate columns.\n",
        "\n",
        "---\n",
        "\n"
      ],
      "metadata": {
        "id": "R2G-z14Svgb6"
      }
    },
    {
      "cell_type": "code",
      "source": [
        "df = df.loc[(df.pickup_latitude > 40.677) & (df.pickup_latitude < 40.858)]\n",
        "df = df.loc[(df.pickup_longitude > -74.038) & (df.pickup_longitude < -73.901)]\n",
        "df = df.loc[(df.dropoff_latitude > 40.673) & (df.dropoff_latitude < 40.864)]\n",
        "df = df.loc[(df.dropoff_longitude > -74.042) & (df.dropoff_longitude < -73.892)]\n",
        "print('df.shape: ', df.shape)"
      ],
      "metadata": {
        "colab": {
          "base_uri": "https://localhost:8080/"
        },
        "id": "3X0udz76tM1P",
        "outputId": "e6da3857-ba3f-4546-db18-46987e7662f2"
      },
      "execution_count": 208,
      "outputs": [
        {
          "output_type": "stream",
          "name": "stdout",
          "text": [
            "df.shape:  (928029, 14)\n"
          ]
        }
      ]
    },
    {
      "cell_type": "code",
      "source": [
        "plt.figure(figsize=(7,7))\n",
        "\n",
        "coor_cols = ['pickup_latitude', 'pickup_longitude', 'dropoff_latitude', 'dropoff_longitude']\n",
        "colors=['red', 'blue']\n",
        "\n",
        "for i in range (4):\n",
        "  plt.subplot(221+i) \n",
        "  sns.distplot(df[coor_cols[i]], color=colors[i%2], bins=100)\n",
        "  plt.xticks(rotation=45)\n",
        "  plt.title('Distribution of {}'.format(coor_cols[i]), fontweight='bold')\n",
        "  plt.xlabel('{}'.format(coor_cols[i]), size=12, fontweight='bold')\n",
        "  plt.ylabel('Density', fontweight='bold')\n",
        "\n",
        "plt.tight_layout() #to avoid overlay\n",
        "plt.show()"
      ],
      "metadata": {
        "colab": {
          "base_uri": "https://localhost:8080/",
          "height": 672
        },
        "id": "uRVt7xkLybwJ",
        "outputId": "32fe2b46-52c7-478e-f952-fac17846de0c"
      },
      "execution_count": 211,
      "outputs": [
        {
          "output_type": "stream",
          "name": "stderr",
          "text": [
            "/usr/local/lib/python3.8/dist-packages/seaborn/distributions.py:2619: FutureWarning: `distplot` is a deprecated function and will be removed in a future version. Please adapt your code to use either `displot` (a figure-level function with similar flexibility) or `histplot` (an axes-level function for histograms).\n",
            "  warnings.warn(msg, FutureWarning)\n",
            "/usr/local/lib/python3.8/dist-packages/seaborn/distributions.py:2619: FutureWarning: `distplot` is a deprecated function and will be removed in a future version. Please adapt your code to use either `displot` (a figure-level function with similar flexibility) or `histplot` (an axes-level function for histograms).\n",
            "  warnings.warn(msg, FutureWarning)\n",
            "/usr/local/lib/python3.8/dist-packages/seaborn/distributions.py:2619: FutureWarning: `distplot` is a deprecated function and will be removed in a future version. Please adapt your code to use either `displot` (a figure-level function with similar flexibility) or `histplot` (an axes-level function for histograms).\n",
            "  warnings.warn(msg, FutureWarning)\n",
            "/usr/local/lib/python3.8/dist-packages/seaborn/distributions.py:2619: FutureWarning: `distplot` is a deprecated function and will be removed in a future version. Please adapt your code to use either `displot` (a figure-level function with similar flexibility) or `histplot` (an axes-level function for histograms).\n",
            "  warnings.warn(msg, FutureWarning)\n"
          ]
        },
        {
          "output_type": "display_data",
          "data": {
            "text/plain": [
              "<Figure size 504x504 with 4 Axes>"
            ],
            "image/png": "[encoded data removed]"
          },
          "metadata": {
            "needs_background": "light"
          }
        }
      ]
    },
    {
      "cell_type": "markdown",
      "source": [
        "\n",
        "\n",
        "---\n",
        "\n",
        "Now coordinate columns are close to normally ditribution.\n",
        "\n",
        "---\n",
        "\n",
        "\n",
        "\n"
      ],
      "metadata": {
        "id": "9UcAB_4ezJZx"
      }
    },
    {
      "cell_type": "markdown",
      "source": [
        "###Passenger_count column\n"
      ],
      "metadata": {
        "id": "nCQNyNAPeACU"
      }
    },
    {
      "cell_type": "code",
      "source": [
        "df.passenger_count.value_counts()"
      ],
      "metadata": {
        "colab": {
          "base_uri": "https://localhost:8080/"
        },
        "id": "uyd6EAqMXqR3",
        "outputId": "1f5eafc0-bee1-40a1-f398-13d1ea12a399"
      },
      "execution_count": 212,
      "outputs": [
        {
          "output_type": "execute_result",
          "data": {
            "text/plain": [
              "1    646222\n",
              "2    136457\n",
              "5     65095\n",
              "3     40762\n",
              "4     19958\n",
              "6     19535\n",
              "Name: passenger_count, dtype: int64"
            ]
          },
          "metadata": {},
          "execution_count": 212
        }
      ]
    },
    {
      "cell_type": "code",
      "source": [
        "#passenger_count distribution\n",
        "plt.figure(figsize=(20,10))\n",
        "\n",
        "plt.subplot(221)\n",
        "sns.countplot(x='passenger_count', data=df)\n",
        "plt.title('Frequency Distribution of Passenger Count', fontweight='bold')\n",
        "plt.xlabel('No of Passengers', size=12, fontweight='bold')\n",
        "plt.ylabel('Frequency', fontweight='bold')\n",
        "\n",
        "plt.subplot(222)\n",
        "sns.boxplot(x='passenger_count', data=df, color='pink', showmeans=True, \n",
        "            meanprops={\"marker\":\"o\", \"markerfacecolor\":\"Red\", \"markeredgecolor\":\"black\",\"markersize\":\"10\"})\n",
        "plt.title('Boxplot of Passenger Count', fontweight='bold')\n",
        "plt.xlabel('No of Passengers', size=12, fontweight='bold')\n",
        "\n",
        "\n",
        "plt.show()"
      ],
      "metadata": {
        "colab": {
          "base_uri": "https://localhost:8080/",
          "height": 328
        },
        "id": "gU9CwTvteO1e",
        "outputId": "ff45d21a-6821-46a9-d6b2-1f075c154f90"
      },
      "execution_count": 213,
      "outputs": [
        {
          "output_type": "display_data",
          "data": {
            "text/plain": [
              "<Figure size 1440x720 with 2 Axes>"
            ],
            "image/png": "[encoded data removed]"
          },
          "metadata": {
            "needs_background": "light"
          }
        }
      ]
    },
    {
      "cell_type": "markdown",
      "source": [
        "\n",
        "\n",
        "---\n",
        "\n",
        "**Notes:** \n",
        "* majority of rides are made by 1 passenger\n",
        "* rides with 4 and more passengers could be counted as outliers\n",
        "\n",
        "---\n",
        "\n"
      ],
      "metadata": {
        "id": "XVN72t4zgmuq"
      }
    },
    {
      "cell_type": "markdown",
      "source": [
        "### Datetime columns"
      ],
      "metadata": {
        "id": "uZKq3luNK0Yn"
      }
    },
    {
      "cell_type": "code",
      "source": [
        "plt.figure(figsize=(22, 10))\n",
        "\n",
        "datetime_cols = ['year', 'season', 'month', 'day_name', 'day', 'hour']\n",
        "orders = [None, ['Winter', 'Spring', 'Summer', 'Fall'], \n",
        "          ['January', \"February\", 'March', 'April', 'May', 'June', 'July', 'August', 'September', 'October', 'November', 'December'],\n",
        "          ['Monday', 'Tuesday', 'Wednesday', 'Thursday', 'Friday', 'Saturday', 'Sunday'], None, None]\n",
        "\n",
        "for i in range(6):\n",
        "  plt.subplot(331+i)\n",
        "  sns.countplot(x=df[datetime_cols[i]], order=orders[i])\n",
        "  plt.title('Number of pick ups per {}'.format(datetime_cols[i]), fontweight='bold')\n",
        "  plt.xlabel('{}'.format(datetime_cols[i]), size=12, fontweight='bold')\n",
        "  plt.xticks(rotation=45)\n",
        "  plt.ylabel('Total number of pick ups', fontweight='bold')\n",
        "\n",
        "plt.tight_layout() #to avoid overlay\n",
        "plt.show()"
      ],
      "metadata": {
        "colab": {
          "base_uri": "https://localhost:8080/",
          "height": 542
        },
        "id": "2sCpRGmZ1XFD",
        "outputId": "b688e465-5756-4dc0-bfa4-cd9528359038"
      },
      "execution_count": 217,
      "outputs": [
        {
          "output_type": "display_data",
          "data": {
            "text/plain": [
              "<Figure size 1584x720 with 6 Axes>"
            ],
            "image/png": "[encoded data removed]"
          },
          "metadata": {
            "needs_background": "light"
          }
        }
      ]
    },
    {
      "cell_type": "code",
      "source": [
        "df[df.year==2015]['season'].value_counts()"
      ],
      "metadata": {
        "colab": {
          "base_uri": "https://localhost:8080/"
        },
        "id": "IQ5yWZvjM7gi",
        "outputId": "918f98db-d6a9-4ddb-dd2e-ab526d0b4d2d"
      },
      "execution_count": 218,
      "outputs": [
        {
          "output_type": "execute_result",
          "data": {
            "text/plain": [
              "Spring    33048\n",
              "Winter    21130\n",
              "Summer    10447\n",
              "Name: season, dtype: int64"
            ]
          },
          "metadata": {},
          "execution_count": 218
        }
      ]
    },
    {
      "cell_type": "markdown",
      "source": [
        "\n",
        "\n",
        "---\n",
        "\n",
        "**Notes:**\n",
        "* decrease of rides in 2015 is explained by lack of data for particular year (info about just 3/4 of the year exists)\n",
        "* in spring people take taxi rides more often\n",
        "* number of pick ups in first half of the year is higher than in the 2nd one\n",
        "* number of taxi rides made on Sunday and Monday is less than other days with peak on Friday\n",
        "* by the end of the month taxi usage decreases\n",
        "* morning rush hour (7am-10am) has much less taxi demand than expected, the highest number of pick ups is at evening (after 7pm)\n",
        "\n",
        "---\n",
        "\n"
      ],
      "metadata": {
        "id": "WwNUPZPqXEgN"
      }
    },
    {
      "cell_type": "markdown",
      "source": [
        "### Distance Column"
      ],
      "metadata": {
        "id": "8l3ZnlIfha-S"
      }
    },
    {
      "cell_type": "markdown",
      "source": [
        "Let's check distribution of ```distance```. For this I will create 2 plots: distribution plot and boxplot.\n",
        "\n",
        "---"
      ],
      "metadata": {
        "id": "XNybjYqI21VJ"
      }
    },
    {
      "cell_type": "code",
      "source": [
        "plt.figure(figsize=(10,7))\n",
        "\n",
        "plt.subplot(221) #distribution\n",
        "sns.distplot(df['distance'])\n",
        "plt.xlabel('Distance', size=12, fontweight='bold')\n",
        "plt.ylabel('Density', fontweight='bold')\n",
        "plt.title('Distribution of Distance', fontweight='bold')\n",
        "\n",
        "plt.subplot(222)\n",
        "sns.boxplot(x='distance', data=df, color='pink', showmeans=True, \n",
        "            meanprops={\"marker\":\"o\", \"markerfacecolor\":\"Red\", \"markeredgecolor\":\"black\",\"markersize\":\"10\"})\n",
        "plt.title('Boxplot of Distance', fontweight='bold')\n",
        "plt.xlabel('Distance', size=12, fontweight='bold')\n",
        "\n",
        "plt.show()"
      ],
      "metadata": {
        "colab": {
          "base_uri": "https://localhost:8080/",
          "height": 309
        },
        "id": "txCGtVY224PH",
        "outputId": "1546e5b0-acfd-4595-e5a3-f7c7140eb645"
      },
      "execution_count": 219,
      "outputs": [
        {
          "output_type": "stream",
          "name": "stderr",
          "text": [
            "/usr/local/lib/python3.8/dist-packages/seaborn/distributions.py:2619: FutureWarning: `distplot` is a deprecated function and will be removed in a future version. Please adapt your code to use either `displot` (a figure-level function with similar flexibility) or `histplot` (an axes-level function for histograms).\n",
            "  warnings.warn(msg, FutureWarning)\n"
          ]
        },
        {
          "output_type": "display_data",
          "data": {
            "text/plain": [
              "<Figure size 720x504 with 2 Axes>"
            ],
            "image/png": "[encoded data removed]"
          },
          "metadata": {
            "needs_background": "light"
          }
        }
      ]
    },
    {
      "cell_type": "markdown",
      "source": [
        "---\n",
        "\n",
        "\n",
        "Distribution of ```distance`` is skewed. Let's cut outliers (~0.5%)\n",
        "\n",
        "---"
      ],
      "metadata": {
        "id": "VX2chRM_hjxh"
      }
    },
    {
      "cell_type": "code",
      "source": [
        "IQR = df.distance.quantile(0.75) - df.distance.quantile(0.25)\n",
        "boundary = df.distance.quantile(0.75) + 3*IQR\n",
        "print('Upper boundary is {:.2f}m'.format(boundary))"
      ],
      "metadata": {
        "colab": {
          "base_uri": "https://localhost:8080/"
        },
        "id": "9AfL_50I3R-e",
        "outputId": "a5b19ddd-7042-475d-b4c0-4e71979575c6"
      },
      "execution_count": 223,
      "outputs": [
        {
          "output_type": "stream",
          "name": "stdout",
          "text": [
            "Upper boundary is 9.85m\n"
          ]
        }
      ]
    },
    {
      "cell_type": "code",
      "source": [
        "df = df[df.distance<=boundary]\n",
        "print('df.shape: ', df.shape)\n",
        "df.head()"
      ],
      "metadata": {
        "colab": {
          "base_uri": "https://localhost:8080/",
          "height": 224
        },
        "id": "GZt2sT2k3rO5",
        "outputId": "ea45370d-5b41-473a-f755-96c839e627dc"
      },
      "execution_count": 227,
      "outputs": [
        {
          "output_type": "stream",
          "name": "stdout",
          "text": [
            "df.shape:  (922322, 14)\n"
          ]
        },
        {
          "output_type": "execute_result",
          "data": {
            "text/plain": [
              "   fare_amount  pickup_longitude  pickup_latitude  dropoff_longitude  \\\n",
              "1         16.9        -74.016048        40.711303         -73.979268   \n",
              "2          5.7        -73.982738        40.761270         -73.991242   \n",
              "3          7.7        -73.987130        40.733143         -73.991567   \n",
              "4          5.3        -73.968095        40.768008         -73.956655   \n",
              "5         12.1        -74.000964        40.731630         -73.972892   \n",
              "\n",
              "   dropoff_latitude  passenger_count  year  season    month  day  day_name  \\\n",
              "1         40.782004                1  2010  Winter  January    5   Tuesday   \n",
              "2         40.750562                2  2011  Summer   August   18  Thursday   \n",
              "3         40.758092                1  2012  Spring    April   21  Saturday   \n",
              "4         40.783762                1  2010  Spring    March    9   Tuesday   \n",
              "5         40.758233                1  2011  Winter  January    6  Thursday   \n",
              "\n",
              "   hour  rush_hour  distance  \n",
              "1    16          1     8.450  \n",
              "2     0          0     1.390  \n",
              "3     4          0     2.799  \n",
              "4     7          1     1.999  \n",
              "5     9          1     3.787  "
            ],
            "text/html": [
              "\n",
              "  <div id=\"df-3e1f9a18-c6d2-4364-82c2-7fc9e9d9c00a\">\n",
              "    <div class=\"colab-df-container\">\n",
              "      <div>\n",
              "<style scoped>\n",
              "    .dataframe tbody tr th:only-of-type {\n",
              "        vertical-align: middle;\n",
              "    }\n",
              "\n",
              "    .dataframe tbody tr th {\n",
              "        vertical-align: top;\n",
              "    }\n",
              "\n",
              "    .dataframe thead th {\n",
              "        text-align: right;\n",
              "    }\n",
              "</style>\n",
              "<table border=\"1\" class=\"dataframe\">\n",
              "  <thead>\n",
              "    <tr style=\"text-align: right;\">\n",
              "      <th></th>\n",
              "      <th>fare_amount</th>\n",
              "      <th>pickup_longitude</th>\n",
              "      <th>pickup_latitude</th>\n",
              "      <th>dropoff_longitude</th>\n",
              "      <th>dropoff_latitude</th>\n",
              "      <th>passenger_count</th>\n",
              "      <th>year</th>\n",
              "      <th>season</th>\n",
              "      <th>month</th>\n",
              "      <th>day</th>\n",
              "      <th>day_name</th>\n",
              "      <th>hour</th>\n",
              "      <th>rush_hour</th>\n",
              "      <th>distance</th>\n",
              "    </tr>\n",
              "  </thead>\n",
              "  <tbody>\n",
              "    <tr>\n",
              "      <th>1</th>\n",
              "      <td>16.9</td>\n",
              "      <td>-74.016048</td>\n",
              "      <td>40.711303</td>\n",
              "      <td>-73.979268</td>\n",
              "      <td>40.782004</td>\n",
              "      <td>1</td>\n",
              "      <td>2010</td>\n",
              "      <td>Winter</td>\n",
              "      <td>January</td>\n",
              "      <td>5</td>\n",
              "      <td>Tuesday</td>\n",
              "      <td>16</td>\n",
              "      <td>1</td>\n",
              "      <td>8.450</td>\n",
              "    </tr>\n",
              "    <tr>\n",
              "      <th>2</th>\n",
              "      <td>5.7</td>\n",
              "      <td>-73.982738</td>\n",
              "      <td>40.761270</td>\n",
              "      <td>-73.991242</td>\n",
              "      <td>40.750562</td>\n",
              "      <td>2</td>\n",
              "      <td>2011</td>\n",
              "      <td>Summer</td>\n",
              "      <td>August</td>\n",
              "      <td>18</td>\n",
              "      <td>Thursday</td>\n",
              "      <td>0</td>\n",
              "      <td>0</td>\n",
              "      <td>1.390</td>\n",
              "    </tr>\n",
              "    <tr>\n",
              "      <th>3</th>\n",
              "      <td>7.7</td>\n",
              "      <td>-73.987130</td>\n",
              "      <td>40.733143</td>\n",
              "      <td>-73.991567</td>\n",
              "      <td>40.758092</td>\n",
              "      <td>1</td>\n",
              "      <td>2012</td>\n",
              "      <td>Spring</td>\n",
              "      <td>April</td>\n",
              "      <td>21</td>\n",
              "      <td>Saturday</td>\n",
              "      <td>4</td>\n",
              "      <td>0</td>\n",
              "      <td>2.799</td>\n",
              "    </tr>\n",
              "    <tr>\n",
              "      <th>4</th>\n",
              "      <td>5.3</td>\n",
              "      <td>-73.968095</td>\n",
              "      <td>40.768008</td>\n",
              "      <td>-73.956655</td>\n",
              "      <td>40.783762</td>\n",
              "      <td>1</td>\n",
              "      <td>2010</td>\n",
              "      <td>Spring</td>\n",
              "      <td>March</td>\n",
              "      <td>9</td>\n",
              "      <td>Tuesday</td>\n",
              "      <td>7</td>\n",
              "      <td>1</td>\n",
              "      <td>1.999</td>\n",
              "    </tr>\n",
              "    <tr>\n",
              "      <th>5</th>\n",
              "      <td>12.1</td>\n",
              "      <td>-74.000964</td>\n",
              "      <td>40.731630</td>\n",
              "      <td>-73.972892</td>\n",
              "      <td>40.758233</td>\n",
              "      <td>1</td>\n",
              "      <td>2011</td>\n",
              "      <td>Winter</td>\n",
              "      <td>January</td>\n",
              "      <td>6</td>\n",
              "      <td>Thursday</td>\n",
              "      <td>9</td>\n",
              "      <td>1</td>\n",
              "      <td>3.787</td>\n",
              "    </tr>\n",
              "  </tbody>\n",
              "</table>\n",
              "</div>\n",
              "      <button class=\"colab-df-convert\" onclick=\"convertToInteractive('df-3e1f9a18-c6d2-4364-82c2-7fc9e9d9c00a')\"\n",
              "              title=\"Convert this dataframe to an interactive table.\"\n",
              "              style=\"display:none;\">\n",
              "        \n",
              "  <svg xmlns=\"http://www.w3.org/2000/svg\" height=\"24px\"viewBox=\"0 0 24 24\"\n",
              "       width=\"24px\">\n",
              "    <path d=\"M0 0h24v24H0V0z\" fill=\"none\"/>\n",
              "    <path d=\"M18.56 5.44l.94 2.06.94-2.06 2.06-.94-2.06-.94-.94-2.06-.94 2.06-2.06.94zm-11 1L8.5 8.5l.94-2.06 2.06-.94-2.06-.94L8.5 2.5l-.94 2.06-2.06.94zm10 10l.94 2.06.94-2.06 2.06-.94-2.06-.94-.94-2.06-.94 2.06-2.06.94z\"/><path d=\"M17.41 7.96l-1.37-1.37c-.4-.4-.92-.59-1.43-.59-.52 0-1.04.2-1.43.59L10.3 9.45l-7.72 7.72c-.78.78-.78 2.05 0 2.83L4 21.41c.39.39.9.59 1.41.59.51 0 1.02-.2 1.41-.59l7.78-7.78 2.81-2.81c.8-.78.8-2.07 0-2.86zM5.41 20L4 18.59l7.72-7.72 1.47 1.35L5.41 20z\"/>\n",
              "  </svg>\n",
              "      </button>\n",
              "      \n",
              "  <style>\n",
              "    .colab-df-container {\n",
              "      display:flex;\n",
              "      flex-wrap:wrap;\n",
              "      gap: 12px;\n",
              "    }\n",
              "\n",
              "    .colab-df-convert {\n",
              "      background-color: #E8F0FE;\n",
              "      border: none;\n",
              "      border-radius: 50%;\n",
              "      cursor: pointer;\n",
              "      display: none;\n",
              "      fill: #1967D2;\n",
              "      height: 32px;\n",
              "      padding: 0 0 0 0;\n",
              "      width: 32px;\n",
              "    }\n",
              "\n",
              "    .colab-df-convert:hover {\n",
              "      background-color: #E2EBFA;\n",
              "      box-shadow: 0px 1px 2px rgba(60, 64, 67, 0.3), 0px 1px 3px 1px rgba(60, 64, 67, 0.15);\n",
              "      fill: #174EA6;\n",
              "    }\n",
              "\n",
              "    [theme=dark] .colab-df-convert {\n",
              "      background-color: #3B4455;\n",
              "      fill: #D2E3FC;\n",
              "    }\n",
              "\n",
              "    [theme=dark] .colab-df-convert:hover {\n",
              "      background-color: #434B5C;\n",
              "      box-shadow: 0px 1px 3px 1px rgba(0, 0, 0, 0.15);\n",
              "      filter: drop-shadow(0px 1px 2px rgba(0, 0, 0, 0.3));\n",
              "      fill: #FFFFFF;\n",
              "    }\n",
              "  </style>\n",
              "\n",
              "      <script>\n",
              "        const buttonEl =\n",
              "          document.querySelector('#df-3e1f9a18-c6d2-4364-82c2-7fc9e9d9c00a button.colab-df-convert');\n",
              "        buttonEl.style.display =\n",
              "          google.colab.kernel.accessAllowed ? 'block' : 'none';\n",
              "\n",
              "        async function convertToInteractive(key) {\n",
              "          const element = document.querySelector('#df-3e1f9a18-c6d2-4364-82c2-7fc9e9d9c00a');\n",
              "          const dataTable =\n",
              "            await google.colab.kernel.invokeFunction('convertToInteractive',\n",
              "                                                     [key], {});\n",
              "          if (!dataTable) return;\n",
              "\n",
              "          const docLinkHtml = 'Like what you see? Visit the ' +\n",
              "            '<a target=\"_blank\" href=https://colab.research.google.com/notebooks/data_table.ipynb>data table notebook</a>'\n",
              "            + ' to learn more about interactive tables.';\n",
              "          element.innerHTML = '';\n",
              "          dataTable['output_type'] = 'display_data';\n",
              "          await google.colab.output.renderOutput(dataTable, element);\n",
              "          const docLink = document.createElement('div');\n",
              "          docLink.innerHTML = docLinkHtml;\n",
              "          element.appendChild(docLink);\n",
              "        }\n",
              "      </script>\n",
              "    </div>\n",
              "  </div>\n",
              "  "
            ]
          },
          "metadata": {},
          "execution_count": 227
        }
      ]
    },
    {
      "cell_type": "markdown",
      "source": [
        "## Data Relationship"
      ],
      "metadata": {
        "id": "r6iCiO9al_Mg"
      }
    },
    {
      "cell_type": "code",
      "source": [
        "df = pd.read_csv('https://raw.githubusercontent.com/pe44enka/TaxiFarePrediction/master/data/clean_train.csv')\n",
        "print('df.shape: ', df.shape)\n",
        "df.head()"
      ],
      "metadata": {
        "id": "DQ5Y7Wrh5dSG"
      },
      "execution_count": null,
      "outputs": []
    },
    {
      "cell_type": "markdown",
      "source": [
        "### Passenger Count vs Datetime columns"
      ],
      "metadata": {
        "id": "HlASDKEK0CNB"
      }
    },
    {
      "cell_type": "code",
      "source": [
        "plt.figure(figsize=(20,10))\n",
        "\n",
        "#year\n",
        "plt.subplot(331)\n",
        "sns.barplot(x='year', y='passenger_count', data=df)\n",
        "plt.title('Passenger Count per Year', fontweight='bold')\n",
        "plt.xlabel('Year', size=12, fontweight='bold')\n",
        "plt.ylabel('Passenger Count', fontweight='bold')\n",
        "\n",
        "#season\n",
        "plt.subplot(332)\n",
        "sns.barplot(x='season', y='passenger_count', data=df, order=['Winter', 'Spring', 'Summer', 'Fall'])\n",
        "plt.title('Passenger Count per Season', fontweight='bold')\n",
        "plt.xlabel('Season', size=12, fontweight='bold')\n",
        "plt.ylabel('Passenger Count', fontweight='bold')\n",
        "\n",
        "#month\n",
        "plt.subplot(333)\n",
        "sns.barplot(x='month', y='passenger_count', data=df, order=['January', \"February\", 'March', 'April', 'May', 'June', 'July', 'August', 'September', 'October', 'November', 'December'])\n",
        "plt.title('Passenger Count per Month', fontweight='bold')\n",
        "plt.xlabel('month', size=12, fontweight='bold')\n",
        "plt.ylabel('Passenger Count', fontweight='bold')\n",
        "plt.xticks(rotation=45)\n",
        "\n",
        "#day\n",
        "plt.subplot(334)\n",
        "sns.barplot(x='day', y='passenger_count', data=df)\n",
        "plt.title('Passenger Count per Date', fontweight='bold')\n",
        "plt.xlabel('Date', size=12, fontweight='bold')\n",
        "plt.ylabel('Passenger Count', fontweight='bold')\n",
        "\n",
        "#day_name\n",
        "plt.subplot(335)\n",
        "sns.barplot(x='day_name', y='passenger_count', data=df, order=['Monday', 'Tuesday', 'Wednesday', 'Thursday', 'Friday', 'Saturday', 'Sunday'])\n",
        "plt.title('Passenger Count per Week Day', fontweight='bold')\n",
        "plt.xlabel('Week Day', size=12, fontweight='bold')\n",
        "plt.ylabel('Passenger Count', fontweight='bold')\n",
        "\n",
        "#hour\n",
        "plt.subplot(336)\n",
        "sns.barplot(x='hour', y='passenger_count', data=df)\n",
        "plt.title('Passenger Count per Hour', fontweight='bold')\n",
        "plt.xlabel('Hour', size=12, fontweight='bold')\n",
        "plt.ylabel('Passenger Count', fontweight='bold')\n",
        "\n",
        "plt.tight_layout() #to avoid overlay\n",
        "plt.show()"
      ],
      "metadata": {
        "id": "sJKjwFcxz8Qs"
      },
      "execution_count": null,
      "outputs": []
    },
    {
      "cell_type": "markdown",
      "source": [
        "### Target Feature"
      ],
      "metadata": {
        "id": "RBQ_UqOKhGOb"
      }
    },
    {
      "cell_type": "markdown",
      "source": [
        "#### Fare Amount vs Datetime Columns"
      ],
      "metadata": {
        "id": "dXU7fX_tlU1o"
      }
    },
    {
      "cell_type": "code",
      "source": [
        "plt.figure(figsize=(20,10))\n",
        "\n",
        "#year\n",
        "plt.subplot(331)\n",
        "sns.barplot(x='year', y='fare_amount', data=df)\n",
        "plt.title('Fare Amount per Year', fontweight='bold')\n",
        "plt.xlabel('Year', size=12, fontweight='bold')\n",
        "plt.ylabel('Fare amount', fontweight='bold')\n",
        "\n",
        "#season\n",
        "plt.subplot(332)\n",
        "sns.barplot(x='season', y='fare_amount', data=df, order=['Winter', 'Spring', 'Summer', 'Fall'])\n",
        "plt.title('Fare Amount per Season', fontweight='bold')\n",
        "plt.xlabel('Season', size=12, fontweight='bold')\n",
        "plt.ylabel('Fare amount', fontweight='bold')\n",
        "\n",
        "#month\n",
        "plt.subplot(333)\n",
        "sns.barplot(x='month', y='fare_amount', data=df, order=['January', \"February\", 'March', 'April', 'May', 'June', 'July', 'August', 'September', 'October', 'November', 'December'])\n",
        "plt.title('Fare Amount per Month', fontweight='bold')\n",
        "plt.xlabel('month', size=12, fontweight='bold')\n",
        "plt.ylabel('Fare amount', fontweight='bold')\n",
        "plt.xticks(rotation=45)\n",
        "\n",
        "#day\n",
        "plt.subplot(334)\n",
        "sns.barplot(x='day', y='fare_amount', data=df)\n",
        "plt.title('Fare Amount per Date', fontweight='bold')\n",
        "plt.xlabel('Date', size=12, fontweight='bold')\n",
        "plt.ylabel('Fare amount', fontweight='bold')\n",
        "\n",
        "#day_name\n",
        "plt.subplot(335)\n",
        "sns.barplot(x='day_name', y='fare_amount', data=df, order=['Monday', 'Tuesday', 'Wednesday', 'Thursday', 'Friday', 'Saturday', 'Sunday'])\n",
        "plt.title('Fare Amount per Week Day', fontweight='bold')\n",
        "plt.xlabel('Week Day', size=12, fontweight='bold')\n",
        "plt.ylabel('Fare amount', fontweight='bold')\n",
        "\n",
        "#hour\n",
        "plt.subplot(336)\n",
        "sns.barplot(x='hour', y='fare_amount', data=df)\n",
        "plt.title('Fare Amount per Hour', fontweight='bold')\n",
        "plt.xlabel('Hour', size=12, fontweight='bold')\n",
        "plt.ylabel('Fare amount', fontweight='bold')\n",
        "\n",
        "plt.tight_layout() #to avoid overlay\n",
        "plt.show()"
      ],
      "metadata": {
        "colab": {
          "base_uri": "https://localhost:8080/",
          "height": 504
        },
        "id": "GFIaFu8Wlpl4",
        "outputId": "194dbe7d-51eb-4e3a-950b-d6f09edffdd9"
      },
      "execution_count": 364,
      "outputs": [
        {
          "output_type": "display_data",
          "data": {
            "text/plain": [
              "<Figure size 1440x720 with 6 Axes>"
            ],
            "image/png": "[encoded data removed]"
          },
          "metadata": {
            "needs_background": "light"
          }
        }
      ]
    },
    {
      "cell_type": "markdown",
      "source": [
        "\n",
        "\n",
        "---\n",
        "\n",
        "**Notes:** \n",
        "* fare amount increases through years, there is relatively big jump in prices between 2012 and 2013\n",
        "* there is nearly no difference in fare amount between seasons\n",
        "* there are some fluctuations in price between months\n",
        "\n",
        "---\n",
        "\n"
      ],
      "metadata": {
        "id": "HX2J_pryl8y-"
      }
    },
    {
      "cell_type": "code",
      "source": [],
      "metadata": {
        "id": "Op15VsadnzNL"
      },
      "execution_count": null,
      "outputs": []
    },
    {
      "cell_type": "markdown",
      "source": [
        "#### Fare Amount vs Passengers Count"
      ],
      "metadata": {
        "id": "LBzTYnX7hxl-"
      }
    },
    {
      "cell_type": "code",
      "source": [
        "plt.figure(figsize=(10,5))\n",
        "sns.boxplot(x='passenger_count', y='fare_amount', data=df)\n",
        "plt.title('Boxplot of Fare Amount per No of Passengers', fontweight='bold')\n",
        "plt.xlabel('No of Passengers', size=12, fontweight='bold')\n",
        "plt.ylabel('Fare amount', fontweight='bold')\n",
        "\n",
        "plt.show()"
      ],
      "metadata": {
        "colab": {
          "base_uri": "https://localhost:8080/",
          "height": 353
        },
        "id": "d-mkFXGvjOrp",
        "outputId": "152fc84b-fdd6-47fd-e90c-59d6d0b42f56"
      },
      "execution_count": 330,
      "outputs": [
        {
          "output_type": "display_data",
          "data": {
            "text/plain": [
              "<Figure size 720x360 with 1 Axes>"
            ],
            "image/png": "[encoded data removed]"
          },
          "metadata": {
            "needs_background": "light"
          }
        }
      ]
    },
    {
      "cell_type": "markdown",
      "source": [
        "\n",
        "\n",
        "---\n",
        "\n",
        "Let's have closer look by cutting majority of outliers.\n",
        "\n",
        "---\n",
        "\n"
      ],
      "metadata": {
        "id": "hiUDUrJEjTNc"
      }
    },
    {
      "cell_type": "code",
      "source": [
        "plt.figure(figsize=(10,7))\n",
        "sns.boxplot(x='passenger_count', y='fare_amount', data=df[df.fare_amount<24], showmeans=True, \n",
        "            meanprops={\"marker\":\"o\", \"markerfacecolor\":\"White\", \"markeredgecolor\":\"black\",\"markersize\":\"10\"})\n",
        "plt.title('Boxplot of Fare Amount per No of Passengers', fontweight='bold')\n",
        "plt.xlabel('No of Passengers', size=12, fontweight='bold')\n",
        "plt.ylabel('Fare amount', fontweight='bold')\n",
        "\n",
        "plt.show()"
      ],
      "metadata": {
        "colab": {
          "base_uri": "https://localhost:8080/",
          "height": 461
        },
        "id": "Za1u1ahdectO",
        "outputId": "aba7f677-6eb7-434a-9ee7-b2708f54ee43"
      },
      "execution_count": 318,
      "outputs": [
        {
          "output_type": "display_data",
          "data": {
            "text/plain": [
              "<Figure size 720x504 with 1 Axes>"
            ],
            "image/png": "[encoded data removed]"
          },
          "metadata": {
            "needs_background": "light"
          }
        }
      ]
    },
    {
      "cell_type": "markdown",
      "source": [
        "\n",
        "\n",
        "---\n",
        "\n",
        "**Note:** the mean fare amount as slightly higher when number of passengers is 6. But the total number of rides with 6 passengers are pretty low in comparison with other number of passengers.\n",
        "\n",
        "**Conclusion:** there is no significant variation of taxi fare between passenger number.\n",
        "\n",
        "---\n",
        "\n"
      ],
      "metadata": {
        "id": "Dn6moa29h_Dc"
      }
    },
    {
      "cell_type": "code",
      "source": [],
      "metadata": {
        "id": "isodbVXkhc7m"
      },
      "execution_count": null,
      "outputs": []
    },
    {
      "cell_type": "markdown",
      "source": [
        "# Results"
      ],
      "metadata": {
        "id": "FfEZmjoRynlg"
      }
    },
    {
      "cell_type": "markdown",
      "source": [
        "\n",
        "\n",
        "While analyzing I dropped some data. Let's check how much.\n",
        "\n",
        "---\n",
        "\n"
      ],
      "metadata": {
        "id": "aerSwSPlysDf"
      }
    },
    {
      "cell_type": "code",
      "source": [
        "percent = 100-(df.shape[0]*100/raw_df.shape[0])\n",
        "print('Cleaning process dicreased data on {:.2f}%'.format(percent))"
      ],
      "metadata": {
        "colab": {
          "base_uri": "https://localhost:8080/"
        },
        "id": "MC5X2RP0zdeV",
        "outputId": "76dc6d8a-38cd-468e-8144-345a5132439a"
      },
      "execution_count": 60,
      "outputs": [
        {
          "output_type": "stream",
          "name": "stdout",
          "text": [
            "Cleaning process dicreased data on 4.27%\n"
          ]
        }
      ]
    },
    {
      "cell_type": "markdown",
      "source": [
        "\n",
        "\n",
        "---\n",
        "\n",
        "With all my data manipulation I lost less than 5% of data. But at the same time I got clean data to train future model. So it's acceptable for this project, but probably not acceptable for another one.\n",
        "\n",
        "---\n",
        "\n"
      ],
      "metadata": {
        "id": "_gd1YOfq0BtB"
      }
    },
    {
      "cell_type": "markdown",
      "source": [
        "After finishing process of cleaning data let's save the result to avoid repeating the whole thing in the future.\n",
        "\n",
        "---"
      ],
      "metadata": {
        "id": "N09obIIPnfJe"
      }
    },
    {
      "cell_type": "markdown",
      "source": [
        "## Save Clean Data"
      ],
      "metadata": {
        "id": "eo4KZRnWnEzp"
      }
    },
    {
      "cell_type": "code",
      "source": [
        "#save df\n",
        "df.to_csv('clean_train.csv', index=False)"
      ],
      "metadata": {
        "id": "j0m2GOxYlsbc"
      },
      "execution_count": 230,
      "outputs": []
    },
    {
      "cell_type": "markdown",
      "source": [
        "## Feature Extracting Function"
      ],
      "metadata": {
        "id": "xmFhHgqD4SDf"
      }
    },
    {
      "cell_type": "markdown",
      "source": [
        "After creating and training model we will have to apply it on the test data to get predictions. To do so we will need to convert test data  to the same format as we did with train data. For this purpose lets create a function that will do it for us:\n",
        "* drop ```key``` column\n",
        "* convert ```pickup_datetime``` into datetime data type\n",
        "* create ```year```, ```season```, ```month```, ```day```, ```day_name```, ```hour```, ```rush_hour``` out of ```pickup_datetime```\n",
        "* create ```distance``` column out of coordinate columns\n",
        "\n",
        "---"
      ],
      "metadata": {
        "id": "Av4sLyFB4aqp"
      }
    },
    {
      "cell_type": "code",
      "source": [
        "def clean_data(df):\n",
        "\n",
        "  df.drop(columns = ['key'], inplace=True) #drop key column\n",
        "\n",
        "  df.pickup_datetime = pd.to_datetime(df.pickup_datetime) #convert dtype to datetime\n",
        "\n",
        "  #creating year, season, month, day, day_name, hour columns\n",
        "  df['year'] = df.pickup_datetime.dt.year #year\n",
        "  seasons = ['Winter', 'Spring', 'Summer', 'Fall'] \n",
        "  df['season'] = [seasons[i-1] for i in (df.pickup_datetime.dt.month%12// 3 + 1).values] #season\n",
        "  df['month'] = df.pickup_datetime.dt.month_name() #month\n",
        "  df['day'] = df.pickup_datetime.dt.day #day\n",
        "  df['day_name'] = df.pickup_datetime.dt.day_name() #day name\n",
        "  df['hour'] = df.pickup_datetime.dt.hour #hour\n",
        "  \n",
        "  #creating rush hour column\n",
        "  rush_hour = []\n",
        "  for i in df.hour.values:\n",
        "    if i in range(7,11):\n",
        "      rush_hour.append(1)\n",
        "    elif i in range(15,20):\n",
        "      rush_hour.append(1)\n",
        "    else:\n",
        "      rush_hour.append(0)\n",
        "  df['rush_hour'] = rush_hour # rush hour\n",
        "  \n",
        "  df.drop(columns=['pickup_datetime'], inplace=True) # drop donor pickup_datetime column\n",
        "\n",
        "  #creating distance column\n",
        "  distance = []\n",
        "  for i in range(df.shape[0]):\n",
        "    coordA = [df.pickup_latitude.iloc[i], df.pickup_longitude.iloc[i]]\n",
        "    coordB = [df.dropoff_latitude.iloc[i], df.dropoff_longitude.iloc[i]]\n",
        "    distance.append(round(float(great_circle(coordA, coordB).kilometers), 3))  \n",
        "  df['distance'] = distance #create a column with distance for each ride\n",
        "  \n",
        "  df.drop(columns=['pickup_longitude', 'pickup_latitude', 'dropoff_longitude', 'dropoff_latitude'], inplace=True) #drop donor columns\n",
        "\n",
        "  return df"
      ],
      "metadata": {
        "id": "3Mx5rjaS5P82"
      },
      "execution_count": 215,
      "outputs": []
    }
  ]
}